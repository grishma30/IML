{
 "cells": [
  {
   "cell_type": "code",
   "execution_count": null,
   "id": "0210befe",
   "metadata": {
    "_cell_guid": "b1076dfc-b9ad-4769-8c92-a6c4dae69d19",
    "_uuid": "8f2839f25d086af736a60e9eeb907d3b93b6e0e5",
    "execution": {
     "iopub.execute_input": "2023-11-05T05:59:37.173539Z",
     "iopub.status.busy": "2023-11-05T05:59:37.173129Z",
     "iopub.status.idle": "2023-11-05T05:59:37.846437Z",
     "shell.execute_reply": "2023-11-05T05:59:37.844907Z",
     "shell.execute_reply.started": "2023-11-05T05:59:37.173506Z"
    },
    "papermill": {
     "duration": 0.002282,
     "end_time": "2023-11-08T06:14:02.704553",
     "exception": false,
     "start_time": "2023-11-08T06:14:02.702271",
     "status": "completed"
    },
    "tags": []
   },
   "outputs": [],
   "source": [
    " "
   ]
  },
  {
   "cell_type": "code",
   "execution_count": 1,
   "id": "ff9f04ce",
   "metadata": {
    "execution": {
     "iopub.execute_input": "2023-11-08T06:14:02.710056Z",
     "iopub.status.busy": "2023-11-08T06:14:02.709464Z",
     "iopub.status.idle": "2023-11-08T06:14:04.555686Z",
     "shell.execute_reply": "2023-11-08T06:14:04.554807Z"
    },
    "papermill": {
     "duration": 1.851868,
     "end_time": "2023-11-08T06:14:04.558205",
     "exception": false,
     "start_time": "2023-11-08T06:14:02.706337",
     "status": "completed"
    },
    "tags": []
   },
   "outputs": [
    {
     "name": "stdout",
     "output_type": "stream",
     "text": [
      "Confusion Matrix:\n",
      "[[20  0  0]\n",
      " [ 0 10  1]\n",
      " [ 0  1 13]]\n",
      "\n",
      "Classification Report:\n",
      "              precision    recall  f1-score   support\n",
      "\n",
      "           0       1.00      1.00      1.00        20\n",
      "           1       0.91      0.91      0.91        11\n",
      "           2       0.93      0.93      0.93        14\n",
      "\n",
      "    accuracy                           0.96        45\n",
      "   macro avg       0.95      0.95      0.95        45\n",
      "weighted avg       0.96      0.96      0.96        45\n",
      "\n"
     ]
    }
   ],
   "source": [
    "from sklearn import datasets\n",
    "from sklearn.model_selection import train_test_split\n",
    "from sklearn.preprocessing import StandardScaler\n",
    "from sklearn.neighbors import KNeighborsClassifier\n",
    "from sklearn.metrics import classification_report, confusion_matrix\n",
    "\n",
    "# Load iris dataset\n",
    "iris = datasets.load_iris()\n",
    "X = iris.data\n",
    "y = iris.target\n",
    "\n",
    "# Split dataset into training set and test set\n",
    "X_train, X_test, y_train, y_test = train_test_split(X, y, test_size=0.3) # 70% training and 30% testing\n",
    "\n",
    "# Feature scaling\n",
    "scaler = StandardScaler()\n",
    "scaler.fit(X_train)\n",
    "\n",
    "X_train = scaler.transform(X_train)\n",
    "X_test = scaler.transform(X_test)\n",
    "\n",
    "# Iniialize the model with k=5\n",
    "k = 5\n",
    "knn = KNeighborsClassifier(n_neighbors=k)\n",
    "\n",
    "# Train the model\n",
    "knn.fit(X_train, y_train)\n",
    "\n",
    "# Predict the response for the test dataset\n",
    "y_pred = knn.predict(X_test)\n",
    "\n",
    "# Print confusion matrix and classification report\n",
    "print(\"Confusion Matrix:\")\n",
    "print(confusion_matrix(y_test, y_pred))\n",
    "print(\"\\nClassification Report:\")\n",
    "print(classification_report(y_test, y_pred))"
   ]
  },
  {
   "cell_type": "code",
   "execution_count": null,
   "id": "130dfca5",
   "metadata": {
    "papermill": {
     "duration": 0.001434,
     "end_time": "2023-11-08T06:14:04.561637",
     "exception": false,
     "start_time": "2023-11-08T06:14:04.560203",
     "status": "completed"
    },
    "tags": []
   },
   "outputs": [],
   "source": []
  },
  {
   "cell_type": "code",
   "execution_count": null,
   "id": "dbd7f8c3",
   "metadata": {
    "papermill": {
     "duration": 0.001359,
     "end_time": "2023-11-08T06:14:04.564567",
     "exception": false,
     "start_time": "2023-11-08T06:14:04.563208",
     "status": "completed"
    },
    "tags": []
   },
   "outputs": [],
   "source": []
  }
 ],
 "metadata": {
  "kernelspec": {
   "display_name": "Python 3",
   "language": "python",
   "name": "python3"
  },
  "language_info": {
   "codemirror_mode": {
    "name": "ipython",
    "version": 3
   },
   "file_extension": ".py",
   "mimetype": "text/x-python",
   "name": "python",
   "nbconvert_exporter": "python",
   "pygments_lexer": "ipython3",
   "version": "3.10.12"
  },
  "papermill": {
   "default_parameters": {},
   "duration": 5.336933,
   "end_time": "2023-11-08T06:14:05.086581",
   "environment_variables": {},
   "exception": null,
   "input_path": "__notebook__.ipynb",
   "output_path": "__notebook__.ipynb",
   "parameters": {},
   "start_time": "2023-11-08T06:13:59.749648",
   "version": "2.4.0"
  }
 },
 "nbformat": 4,
 "nbformat_minor": 5
}
