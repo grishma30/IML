{
 "cells": [
  {
   "cell_type": "markdown",
   "id": "b8bc3a15",
   "metadata": {
    "_cell_guid": "b1076dfc-b9ad-4769-8c92-a6c4dae69d19",
    "_uuid": "8f2839f25d086af736a60e9eeb907d3b93b6e0e5",
    "execution": {
     "iopub.execute_input": "2023-11-05T14:07:43.933394Z",
     "iopub.status.busy": "2023-11-05T14:07:43.932942Z",
     "iopub.status.idle": "2023-11-05T14:07:43.970169Z",
     "shell.execute_reply": "2023-11-05T14:07:43.969096Z",
     "shell.execute_reply.started": "2023-11-05T14:07:43.933355Z"
    },
    "papermill": {
     "duration": 0.022186,
     "end_time": "2023-11-06T07:14:42.042680",
     "exception": false,
     "start_time": "2023-11-06T07:14:42.020494",
     "status": "completed"
    },
    "tags": []
   },
   "source": [
    "# **CAR PRICE PREDICATION**\n",
    "\n",
    "This dataset contains information about used cars.\n",
    "This data can be used for a lot of purposes such as price prediction to exemplify the use of linear regression in Machine Learning.\n",
    "The columns in the given dataset are as follows:\n",
    "\n",
    "1.name\n",
    "2.year\n",
    "3.selling_price\n",
    "4.km_driven\n",
    "5.fuel\n",
    "6.seller_type\n",
    "7.transmission\n",
    "8.Owner\n",
    "\n",
    "\n"
   ]
  },
  {
   "cell_type": "code",
   "execution_count": 1,
   "id": "12250dbb",
   "metadata": {
    "execution": {
     "iopub.execute_input": "2023-11-06T07:14:42.089786Z",
     "iopub.status.busy": "2023-11-06T07:14:42.089324Z",
     "iopub.status.idle": "2023-11-06T07:14:42.100909Z",
     "shell.execute_reply": "2023-11-06T07:14:42.099875Z"
    },
    "papermill": {
     "duration": 0.037603,
     "end_time": "2023-11-06T07:14:42.103350",
     "exception": false,
     "start_time": "2023-11-06T07:14:42.065747",
     "status": "completed"
    },
    "tags": []
   },
   "outputs": [],
   "source": [
    "import warnings\n",
    "\n",
    "warnings.filterwarnings(\"ignore\")"
   ]
  },
  {
   "cell_type": "code",
   "execution_count": 2,
   "id": "9a188088",
   "metadata": {
    "execution": {
     "iopub.execute_input": "2023-11-06T07:14:42.149590Z",
     "iopub.status.busy": "2023-11-06T07:14:42.148900Z",
     "iopub.status.idle": "2023-11-06T07:14:42.590588Z",
     "shell.execute_reply": "2023-11-06T07:14:42.589294Z"
    },
    "papermill": {
     "duration": 0.468584,
     "end_time": "2023-11-06T07:14:42.593800",
     "exception": false,
     "start_time": "2023-11-06T07:14:42.125216",
     "status": "completed"
    },
    "tags": []
   },
   "outputs": [],
   "source": [
    "import pandas as pd\n",
    "\n",
    "data = pd.read_csv('/kaggle/input/car-data/cardata.csv');"
   ]
  },
  {
   "cell_type": "markdown",
   "id": "77eee00a",
   "metadata": {
    "papermill": {
     "duration": 0.021572,
     "end_time": "2023-11-06T07:14:42.637817",
     "exception": false,
     "start_time": "2023-11-06T07:14:42.616245",
     "status": "completed"
    },
    "tags": []
   },
   "source": [
    "1.  Display the first 5  rows of data set"
   ]
  },
  {
   "cell_type": "code",
   "execution_count": 3,
   "id": "b7f47ebe",
   "metadata": {
    "execution": {
     "iopub.execute_input": "2023-11-06T07:14:42.683860Z",
     "iopub.status.busy": "2023-11-06T07:14:42.683412Z",
     "iopub.status.idle": "2023-11-06T07:14:42.713514Z",
     "shell.execute_reply": "2023-11-06T07:14:42.712369Z"
    },
    "papermill": {
     "duration": 0.056245,
     "end_time": "2023-11-06T07:14:42.716240",
     "exception": false,
     "start_time": "2023-11-06T07:14:42.659995",
     "status": "completed"
    },
    "tags": []
   },
   "outputs": [
    {
     "data": {
      "text/html": [
       "<div>\n",
       "<style scoped>\n",
       "    .dataframe tbody tr th:only-of-type {\n",
       "        vertical-align: middle;\n",
       "    }\n",
       "\n",
       "    .dataframe tbody tr th {\n",
       "        vertical-align: top;\n",
       "    }\n",
       "\n",
       "    .dataframe thead th {\n",
       "        text-align: right;\n",
       "    }\n",
       "</style>\n",
       "<table border=\"1\" class=\"dataframe\">\n",
       "  <thead>\n",
       "    <tr style=\"text-align: right;\">\n",
       "      <th></th>\n",
       "      <th>Car_Name</th>\n",
       "      <th>Year</th>\n",
       "      <th>Selling_Price</th>\n",
       "      <th>Present_Price</th>\n",
       "      <th>Kms_Driven</th>\n",
       "      <th>Fuel_Type</th>\n",
       "      <th>Seller_Type</th>\n",
       "      <th>Transmission</th>\n",
       "      <th>Owner</th>\n",
       "    </tr>\n",
       "  </thead>\n",
       "  <tbody>\n",
       "    <tr>\n",
       "      <th>0</th>\n",
       "      <td>ritz</td>\n",
       "      <td>2014</td>\n",
       "      <td>3.35</td>\n",
       "      <td>5.59</td>\n",
       "      <td>27000</td>\n",
       "      <td>Petrol</td>\n",
       "      <td>Dealer</td>\n",
       "      <td>Manual</td>\n",
       "      <td>0</td>\n",
       "    </tr>\n",
       "    <tr>\n",
       "      <th>1</th>\n",
       "      <td>sx4</td>\n",
       "      <td>2013</td>\n",
       "      <td>4.75</td>\n",
       "      <td>9.54</td>\n",
       "      <td>43000</td>\n",
       "      <td>Diesel</td>\n",
       "      <td>Dealer</td>\n",
       "      <td>Manual</td>\n",
       "      <td>0</td>\n",
       "    </tr>\n",
       "    <tr>\n",
       "      <th>2</th>\n",
       "      <td>ciaz</td>\n",
       "      <td>2017</td>\n",
       "      <td>7.25</td>\n",
       "      <td>9.85</td>\n",
       "      <td>6900</td>\n",
       "      <td>Petrol</td>\n",
       "      <td>Dealer</td>\n",
       "      <td>Manual</td>\n",
       "      <td>0</td>\n",
       "    </tr>\n",
       "    <tr>\n",
       "      <th>3</th>\n",
       "      <td>wagon r</td>\n",
       "      <td>2011</td>\n",
       "      <td>2.85</td>\n",
       "      <td>4.15</td>\n",
       "      <td>5200</td>\n",
       "      <td>Petrol</td>\n",
       "      <td>Dealer</td>\n",
       "      <td>Manual</td>\n",
       "      <td>0</td>\n",
       "    </tr>\n",
       "    <tr>\n",
       "      <th>4</th>\n",
       "      <td>swift</td>\n",
       "      <td>2014</td>\n",
       "      <td>4.60</td>\n",
       "      <td>6.87</td>\n",
       "      <td>42450</td>\n",
       "      <td>Diesel</td>\n",
       "      <td>Dealer</td>\n",
       "      <td>Manual</td>\n",
       "      <td>0</td>\n",
       "    </tr>\n",
       "  </tbody>\n",
       "</table>\n",
       "</div>"
      ],
      "text/plain": [
       "  Car_Name  Year  Selling_Price  Present_Price  Kms_Driven Fuel_Type  \\\n",
       "0     ritz  2014           3.35           5.59       27000    Petrol   \n",
       "1      sx4  2013           4.75           9.54       43000    Diesel   \n",
       "2     ciaz  2017           7.25           9.85        6900    Petrol   \n",
       "3  wagon r  2011           2.85           4.15        5200    Petrol   \n",
       "4    swift  2014           4.60           6.87       42450    Diesel   \n",
       "\n",
       "  Seller_Type Transmission  Owner  \n",
       "0      Dealer       Manual      0  \n",
       "1      Dealer       Manual      0  \n",
       "2      Dealer       Manual      0  \n",
       "3      Dealer       Manual      0  \n",
       "4      Dealer       Manual      0  "
      ]
     },
     "execution_count": 3,
     "metadata": {},
     "output_type": "execute_result"
    }
   ],
   "source": [
    "data.head()"
   ]
  },
  {
   "cell_type": "markdown",
   "id": "51fc26f5",
   "metadata": {
    "papermill": {
     "duration": 0.028825,
     "end_time": "2023-11-06T07:14:42.768167",
     "exception": false,
     "start_time": "2023-11-06T07:14:42.739342",
     "status": "completed"
    },
    "tags": []
   },
   "source": [
    "2. Display the last 5 rows of dataset"
   ]
  },
  {
   "cell_type": "code",
   "execution_count": 4,
   "id": "d0bd5834",
   "metadata": {
    "execution": {
     "iopub.execute_input": "2023-11-06T07:14:42.828957Z",
     "iopub.status.busy": "2023-11-06T07:14:42.828020Z",
     "iopub.status.idle": "2023-11-06T07:14:42.846834Z",
     "shell.execute_reply": "2023-11-06T07:14:42.845674Z"
    },
    "papermill": {
     "duration": 0.050954,
     "end_time": "2023-11-06T07:14:42.850185",
     "exception": false,
     "start_time": "2023-11-06T07:14:42.799231",
     "status": "completed"
    },
    "tags": []
   },
   "outputs": [
    {
     "data": {
      "text/html": [
       "<div>\n",
       "<style scoped>\n",
       "    .dataframe tbody tr th:only-of-type {\n",
       "        vertical-align: middle;\n",
       "    }\n",
       "\n",
       "    .dataframe tbody tr th {\n",
       "        vertical-align: top;\n",
       "    }\n",
       "\n",
       "    .dataframe thead th {\n",
       "        text-align: right;\n",
       "    }\n",
       "</style>\n",
       "<table border=\"1\" class=\"dataframe\">\n",
       "  <thead>\n",
       "    <tr style=\"text-align: right;\">\n",
       "      <th></th>\n",
       "      <th>Car_Name</th>\n",
       "      <th>Year</th>\n",
       "      <th>Selling_Price</th>\n",
       "      <th>Present_Price</th>\n",
       "      <th>Kms_Driven</th>\n",
       "      <th>Fuel_Type</th>\n",
       "      <th>Seller_Type</th>\n",
       "      <th>Transmission</th>\n",
       "      <th>Owner</th>\n",
       "    </tr>\n",
       "  </thead>\n",
       "  <tbody>\n",
       "    <tr>\n",
       "      <th>296</th>\n",
       "      <td>city</td>\n",
       "      <td>2016</td>\n",
       "      <td>9.50</td>\n",
       "      <td>11.6</td>\n",
       "      <td>33988</td>\n",
       "      <td>Diesel</td>\n",
       "      <td>Dealer</td>\n",
       "      <td>Manual</td>\n",
       "      <td>0</td>\n",
       "    </tr>\n",
       "    <tr>\n",
       "      <th>297</th>\n",
       "      <td>brio</td>\n",
       "      <td>2015</td>\n",
       "      <td>4.00</td>\n",
       "      <td>5.9</td>\n",
       "      <td>60000</td>\n",
       "      <td>Petrol</td>\n",
       "      <td>Dealer</td>\n",
       "      <td>Manual</td>\n",
       "      <td>0</td>\n",
       "    </tr>\n",
       "    <tr>\n",
       "      <th>298</th>\n",
       "      <td>city</td>\n",
       "      <td>2009</td>\n",
       "      <td>3.35</td>\n",
       "      <td>11.0</td>\n",
       "      <td>87934</td>\n",
       "      <td>Petrol</td>\n",
       "      <td>Dealer</td>\n",
       "      <td>Manual</td>\n",
       "      <td>0</td>\n",
       "    </tr>\n",
       "    <tr>\n",
       "      <th>299</th>\n",
       "      <td>city</td>\n",
       "      <td>2017</td>\n",
       "      <td>11.50</td>\n",
       "      <td>12.5</td>\n",
       "      <td>9000</td>\n",
       "      <td>Diesel</td>\n",
       "      <td>Dealer</td>\n",
       "      <td>Manual</td>\n",
       "      <td>0</td>\n",
       "    </tr>\n",
       "    <tr>\n",
       "      <th>300</th>\n",
       "      <td>brio</td>\n",
       "      <td>2016</td>\n",
       "      <td>5.30</td>\n",
       "      <td>5.9</td>\n",
       "      <td>5464</td>\n",
       "      <td>Petrol</td>\n",
       "      <td>Dealer</td>\n",
       "      <td>Manual</td>\n",
       "      <td>0</td>\n",
       "    </tr>\n",
       "  </tbody>\n",
       "</table>\n",
       "</div>"
      ],
      "text/plain": [
       "    Car_Name  Year  Selling_Price  Present_Price  Kms_Driven Fuel_Type  \\\n",
       "296     city  2016           9.50           11.6       33988    Diesel   \n",
       "297     brio  2015           4.00            5.9       60000    Petrol   \n",
       "298     city  2009           3.35           11.0       87934    Petrol   \n",
       "299     city  2017          11.50           12.5        9000    Diesel   \n",
       "300     brio  2016           5.30            5.9        5464    Petrol   \n",
       "\n",
       "    Seller_Type Transmission  Owner  \n",
       "296      Dealer       Manual      0  \n",
       "297      Dealer       Manual      0  \n",
       "298      Dealer       Manual      0  \n",
       "299      Dealer       Manual      0  \n",
       "300      Dealer       Manual      0  "
      ]
     },
     "execution_count": 4,
     "metadata": {},
     "output_type": "execute_result"
    }
   ],
   "source": [
    "data.tail()"
   ]
  },
  {
   "cell_type": "markdown",
   "id": "40b08af3",
   "metadata": {
    "papermill": {
     "duration": 0.030838,
     "end_time": "2023-11-06T07:14:42.913855",
     "exception": false,
     "start_time": "2023-11-06T07:14:42.883017",
     "status": "completed"
    },
    "tags": []
   },
   "source": []
  },
  {
   "cell_type": "markdown",
   "id": "9cdc9b57",
   "metadata": {
    "papermill": {
     "duration": 0.087534,
     "end_time": "2023-11-06T07:14:43.024256",
     "exception": false,
     "start_time": "2023-11-06T07:14:42.936722",
     "status": "completed"
    },
    "tags": []
   },
   "source": [
    "3. find the shape of our daraset ( number of rows and number of columns )"
   ]
  },
  {
   "cell_type": "code",
   "execution_count": 5,
   "id": "1986e381",
   "metadata": {
    "execution": {
     "iopub.execute_input": "2023-11-06T07:14:43.078532Z",
     "iopub.status.busy": "2023-11-06T07:14:43.077534Z",
     "iopub.status.idle": "2023-11-06T07:14:43.085159Z",
     "shell.execute_reply": "2023-11-06T07:14:43.084167Z"
    },
    "papermill": {
     "duration": 0.036274,
     "end_time": "2023-11-06T07:14:43.087653",
     "exception": false,
     "start_time": "2023-11-06T07:14:43.051379",
     "status": "completed"
    },
    "tags": []
   },
   "outputs": [
    {
     "data": {
      "text/plain": [
       "(301, 9)"
      ]
     },
     "execution_count": 5,
     "metadata": {},
     "output_type": "execute_result"
    }
   ],
   "source": [
    "data.shape"
   ]
  },
  {
   "cell_type": "code",
   "execution_count": 6,
   "id": "fc0e47d4",
   "metadata": {
    "execution": {
     "iopub.execute_input": "2023-11-06T07:14:43.136932Z",
     "iopub.status.busy": "2023-11-06T07:14:43.135986Z",
     "iopub.status.idle": "2023-11-06T07:14:43.143102Z",
     "shell.execute_reply": "2023-11-06T07:14:43.142015Z"
    },
    "papermill": {
     "duration": 0.034538,
     "end_time": "2023-11-06T07:14:43.145524",
     "exception": false,
     "start_time": "2023-11-06T07:14:43.110986",
     "status": "completed"
    },
    "tags": []
   },
   "outputs": [
    {
     "name": "stdout",
     "output_type": "stream",
     "text": [
      "number of rows  301\n",
      "number of coloumns  9\n"
     ]
    }
   ],
   "source": [
    "print(\"number of rows \",data.shape[0])\n",
    "print(\"number of coloumns \",data.shape[1])"
   ]
  },
  {
   "cell_type": "markdown",
   "id": "d667ece0",
   "metadata": {
    "papermill": {
     "duration": 0.027209,
     "end_time": "2023-11-06T07:14:43.196748",
     "exception": false,
     "start_time": "2023-11-06T07:14:43.169539",
     "status": "completed"
    },
    "tags": []
   },
   "source": []
  },
  {
   "cell_type": "markdown",
   "id": "5de0b511",
   "metadata": {
    "papermill": {
     "duration": 0.029854,
     "end_time": "2023-11-06T07:14:43.253029",
     "exception": false,
     "start_time": "2023-11-06T07:14:43.223175",
     "status": "completed"
    },
    "tags": []
   },
   "source": [
    "4.  get information about the dataset like total number of rows total number of column data type of each collumn and memory requirement "
   ]
  },
  {
   "cell_type": "code",
   "execution_count": 7,
   "id": "f52dbd5b",
   "metadata": {
    "execution": {
     "iopub.execute_input": "2023-11-06T07:14:43.302794Z",
     "iopub.status.busy": "2023-11-06T07:14:43.301968Z",
     "iopub.status.idle": "2023-11-06T07:14:43.335212Z",
     "shell.execute_reply": "2023-11-06T07:14:43.334286Z"
    },
    "papermill": {
     "duration": 0.061471,
     "end_time": "2023-11-06T07:14:43.338589",
     "exception": false,
     "start_time": "2023-11-06T07:14:43.277118",
     "status": "completed"
    },
    "tags": []
   },
   "outputs": [
    {
     "name": "stdout",
     "output_type": "stream",
     "text": [
      "<class 'pandas.core.frame.DataFrame'>\n",
      "RangeIndex: 301 entries, 0 to 300\n",
      "Data columns (total 9 columns):\n",
      " #   Column         Non-Null Count  Dtype  \n",
      "---  ------         --------------  -----  \n",
      " 0   Car_Name       301 non-null    object \n",
      " 1   Year           301 non-null    int64  \n",
      " 2   Selling_Price  301 non-null    float64\n",
      " 3   Present_Price  301 non-null    float64\n",
      " 4   Kms_Driven     301 non-null    int64  \n",
      " 5   Fuel_Type      301 non-null    object \n",
      " 6   Seller_Type    301 non-null    object \n",
      " 7   Transmission   301 non-null    object \n",
      " 8   Owner          301 non-null    int64  \n",
      "dtypes: float64(2), int64(3), object(4)\n",
      "memory usage: 21.3+ KB\n"
     ]
    }
   ],
   "source": [
    "data.info()"
   ]
  },
  {
   "cell_type": "markdown",
   "id": "6dffe7d1",
   "metadata": {
    "papermill": {
     "duration": 0.023365,
     "end_time": "2023-11-06T07:14:43.394926",
     "exception": false,
     "start_time": "2023-11-06T07:14:43.371561",
     "status": "completed"
    },
    "tags": []
   },
   "source": []
  },
  {
   "cell_type": "markdown",
   "id": "bbdb860d",
   "metadata": {
    "papermill": {
     "duration": 0.023436,
     "end_time": "2023-11-06T07:14:43.442119",
     "exception": false,
     "start_time": "2023-11-06T07:14:43.418683",
     "status": "completed"
    },
    "tags": []
   },
   "source": [
    "5. Check the null values in dataset"
   ]
  },
  {
   "cell_type": "code",
   "execution_count": 8,
   "id": "b27ea7f2",
   "metadata": {
    "execution": {
     "iopub.execute_input": "2023-11-06T07:14:43.491950Z",
     "iopub.status.busy": "2023-11-06T07:14:43.490802Z",
     "iopub.status.idle": "2023-11-06T07:14:43.500777Z",
     "shell.execute_reply": "2023-11-06T07:14:43.499735Z"
    },
    "papermill": {
     "duration": 0.036978,
     "end_time": "2023-11-06T07:14:43.503083",
     "exception": false,
     "start_time": "2023-11-06T07:14:43.466105",
     "status": "completed"
    },
    "tags": []
   },
   "outputs": [
    {
     "data": {
      "text/plain": [
       "Car_Name         0\n",
       "Year             0\n",
       "Selling_Price    0\n",
       "Present_Price    0\n",
       "Kms_Driven       0\n",
       "Fuel_Type        0\n",
       "Seller_Type      0\n",
       "Transmission     0\n",
       "Owner            0\n",
       "dtype: int64"
      ]
     },
     "execution_count": 8,
     "metadata": {},
     "output_type": "execute_result"
    }
   ],
   "source": [
    "data.isnull().sum()"
   ]
  },
  {
   "cell_type": "markdown",
   "id": "61d4ea20",
   "metadata": {
    "papermill": {
     "duration": 0.023191,
     "end_time": "2023-11-06T07:14:43.550150",
     "exception": false,
     "start_time": "2023-11-06T07:14:43.526959",
     "status": "completed"
    },
    "tags": []
   },
   "source": []
  },
  {
   "cell_type": "markdown",
   "id": "80599f63",
   "metadata": {
    "papermill": {
     "duration": 0.023295,
     "end_time": "2023-11-06T07:14:43.596772",
     "exception": false,
     "start_time": "2023-11-06T07:14:43.573477",
     "status": "completed"
    },
    "tags": []
   },
   "source": [
    "6. get overall statistic about the dataset"
   ]
  },
  {
   "cell_type": "code",
   "execution_count": 9,
   "id": "c5100c90",
   "metadata": {
    "execution": {
     "iopub.execute_input": "2023-11-06T07:14:43.648125Z",
     "iopub.status.busy": "2023-11-06T07:14:43.647315Z",
     "iopub.status.idle": "2023-11-06T07:14:43.677699Z",
     "shell.execute_reply": "2023-11-06T07:14:43.676841Z"
    },
    "papermill": {
     "duration": 0.058814,
     "end_time": "2023-11-06T07:14:43.680415",
     "exception": false,
     "start_time": "2023-11-06T07:14:43.621601",
     "status": "completed"
    },
    "tags": []
   },
   "outputs": [
    {
     "data": {
      "text/html": [
       "<div>\n",
       "<style scoped>\n",
       "    .dataframe tbody tr th:only-of-type {\n",
       "        vertical-align: middle;\n",
       "    }\n",
       "\n",
       "    .dataframe tbody tr th {\n",
       "        vertical-align: top;\n",
       "    }\n",
       "\n",
       "    .dataframe thead th {\n",
       "        text-align: right;\n",
       "    }\n",
       "</style>\n",
       "<table border=\"1\" class=\"dataframe\">\n",
       "  <thead>\n",
       "    <tr style=\"text-align: right;\">\n",
       "      <th></th>\n",
       "      <th>Year</th>\n",
       "      <th>Selling_Price</th>\n",
       "      <th>Present_Price</th>\n",
       "      <th>Kms_Driven</th>\n",
       "      <th>Owner</th>\n",
       "    </tr>\n",
       "  </thead>\n",
       "  <tbody>\n",
       "    <tr>\n",
       "      <th>count</th>\n",
       "      <td>301.000000</td>\n",
       "      <td>301.000000</td>\n",
       "      <td>301.000000</td>\n",
       "      <td>301.000000</td>\n",
       "      <td>301.000000</td>\n",
       "    </tr>\n",
       "    <tr>\n",
       "      <th>mean</th>\n",
       "      <td>2013.627907</td>\n",
       "      <td>4.661296</td>\n",
       "      <td>7.628472</td>\n",
       "      <td>36947.205980</td>\n",
       "      <td>0.043189</td>\n",
       "    </tr>\n",
       "    <tr>\n",
       "      <th>std</th>\n",
       "      <td>2.891554</td>\n",
       "      <td>5.082812</td>\n",
       "      <td>8.644115</td>\n",
       "      <td>38886.883882</td>\n",
       "      <td>0.247915</td>\n",
       "    </tr>\n",
       "    <tr>\n",
       "      <th>min</th>\n",
       "      <td>2003.000000</td>\n",
       "      <td>0.100000</td>\n",
       "      <td>0.320000</td>\n",
       "      <td>500.000000</td>\n",
       "      <td>0.000000</td>\n",
       "    </tr>\n",
       "    <tr>\n",
       "      <th>25%</th>\n",
       "      <td>2012.000000</td>\n",
       "      <td>0.900000</td>\n",
       "      <td>1.200000</td>\n",
       "      <td>15000.000000</td>\n",
       "      <td>0.000000</td>\n",
       "    </tr>\n",
       "    <tr>\n",
       "      <th>50%</th>\n",
       "      <td>2014.000000</td>\n",
       "      <td>3.600000</td>\n",
       "      <td>6.400000</td>\n",
       "      <td>32000.000000</td>\n",
       "      <td>0.000000</td>\n",
       "    </tr>\n",
       "    <tr>\n",
       "      <th>75%</th>\n",
       "      <td>2016.000000</td>\n",
       "      <td>6.000000</td>\n",
       "      <td>9.900000</td>\n",
       "      <td>48767.000000</td>\n",
       "      <td>0.000000</td>\n",
       "    </tr>\n",
       "    <tr>\n",
       "      <th>max</th>\n",
       "      <td>2018.000000</td>\n",
       "      <td>35.000000</td>\n",
       "      <td>92.600000</td>\n",
       "      <td>500000.000000</td>\n",
       "      <td>3.000000</td>\n",
       "    </tr>\n",
       "  </tbody>\n",
       "</table>\n",
       "</div>"
      ],
      "text/plain": [
       "              Year  Selling_Price  Present_Price     Kms_Driven       Owner\n",
       "count   301.000000     301.000000     301.000000     301.000000  301.000000\n",
       "mean   2013.627907       4.661296       7.628472   36947.205980    0.043189\n",
       "std       2.891554       5.082812       8.644115   38886.883882    0.247915\n",
       "min    2003.000000       0.100000       0.320000     500.000000    0.000000\n",
       "25%    2012.000000       0.900000       1.200000   15000.000000    0.000000\n",
       "50%    2014.000000       3.600000       6.400000   32000.000000    0.000000\n",
       "75%    2016.000000       6.000000       9.900000   48767.000000    0.000000\n",
       "max    2018.000000      35.000000      92.600000  500000.000000    3.000000"
      ]
     },
     "execution_count": 9,
     "metadata": {},
     "output_type": "execute_result"
    }
   ],
   "source": [
    "data.describe()"
   ]
  },
  {
   "cell_type": "markdown",
   "id": "897dd9de",
   "metadata": {
    "papermill": {
     "duration": 0.023986,
     "end_time": "2023-11-06T07:14:43.734191",
     "exception": false,
     "start_time": "2023-11-06T07:14:43.710205",
     "status": "completed"
    },
    "tags": []
   },
   "source": [
    "7. Data preprocessing"
   ]
  },
  {
   "cell_type": "code",
   "execution_count": 10,
   "id": "f1d0525e",
   "metadata": {
    "execution": {
     "iopub.execute_input": "2023-11-06T07:14:43.786132Z",
     "iopub.status.busy": "2023-11-06T07:14:43.785017Z",
     "iopub.status.idle": "2023-11-06T07:14:43.801814Z",
     "shell.execute_reply": "2023-11-06T07:14:43.800674Z"
    },
    "papermill": {
     "duration": 0.045567,
     "end_time": "2023-11-06T07:14:43.804466",
     "exception": false,
     "start_time": "2023-11-06T07:14:43.758899",
     "status": "completed"
    },
    "tags": []
   },
   "outputs": [
    {
     "data": {
      "text/html": [
       "<div>\n",
       "<style scoped>\n",
       "    .dataframe tbody tr th:only-of-type {\n",
       "        vertical-align: middle;\n",
       "    }\n",
       "\n",
       "    .dataframe tbody tr th {\n",
       "        vertical-align: top;\n",
       "    }\n",
       "\n",
       "    .dataframe thead th {\n",
       "        text-align: right;\n",
       "    }\n",
       "</style>\n",
       "<table border=\"1\" class=\"dataframe\">\n",
       "  <thead>\n",
       "    <tr style=\"text-align: right;\">\n",
       "      <th></th>\n",
       "      <th>Car_Name</th>\n",
       "      <th>Year</th>\n",
       "      <th>Selling_Price</th>\n",
       "      <th>Present_Price</th>\n",
       "      <th>Kms_Driven</th>\n",
       "      <th>Fuel_Type</th>\n",
       "      <th>Seller_Type</th>\n",
       "      <th>Transmission</th>\n",
       "      <th>Owner</th>\n",
       "    </tr>\n",
       "  </thead>\n",
       "  <tbody>\n",
       "    <tr>\n",
       "      <th>0</th>\n",
       "      <td>ritz</td>\n",
       "      <td>2014</td>\n",
       "      <td>3.35</td>\n",
       "      <td>5.59</td>\n",
       "      <td>27000</td>\n",
       "      <td>Petrol</td>\n",
       "      <td>Dealer</td>\n",
       "      <td>Manual</td>\n",
       "      <td>0</td>\n",
       "    </tr>\n",
       "  </tbody>\n",
       "</table>\n",
       "</div>"
      ],
      "text/plain": [
       "  Car_Name  Year  Selling_Price  Present_Price  Kms_Driven Fuel_Type  \\\n",
       "0     ritz  2014           3.35           5.59       27000    Petrol   \n",
       "\n",
       "  Seller_Type Transmission  Owner  \n",
       "0      Dealer       Manual      0  "
      ]
     },
     "execution_count": 10,
     "metadata": {},
     "output_type": "execute_result"
    }
   ],
   "source": [
    "data.head(1)"
   ]
  },
  {
   "cell_type": "code",
   "execution_count": 11,
   "id": "f67caef9",
   "metadata": {
    "execution": {
     "iopub.execute_input": "2023-11-06T07:14:43.856218Z",
     "iopub.status.busy": "2023-11-06T07:14:43.855412Z",
     "iopub.status.idle": "2023-11-06T07:14:43.860309Z",
     "shell.execute_reply": "2023-11-06T07:14:43.859496Z"
    },
    "papermill": {
     "duration": 0.033486,
     "end_time": "2023-11-06T07:14:43.862726",
     "exception": false,
     "start_time": "2023-11-06T07:14:43.829240",
     "status": "completed"
    },
    "tags": []
   },
   "outputs": [],
   "source": [
    "import datetime"
   ]
  },
  {
   "cell_type": "code",
   "execution_count": 12,
   "id": "ac4ea2c5",
   "metadata": {
    "execution": {
     "iopub.execute_input": "2023-11-06T07:14:43.912531Z",
     "iopub.status.busy": "2023-11-06T07:14:43.911890Z",
     "iopub.status.idle": "2023-11-06T07:14:43.930009Z",
     "shell.execute_reply": "2023-11-06T07:14:43.929090Z"
    },
    "papermill": {
     "duration": 0.046303,
     "end_time": "2023-11-06T07:14:43.932774",
     "exception": false,
     "start_time": "2023-11-06T07:14:43.886471",
     "status": "completed"
    },
    "tags": []
   },
   "outputs": [],
   "source": [
    "date_time = datetime.datetime.now()"
   ]
  },
  {
   "cell_type": "code",
   "execution_count": 13,
   "id": "8be90b5f",
   "metadata": {
    "execution": {
     "iopub.execute_input": "2023-11-06T07:14:43.986862Z",
     "iopub.status.busy": "2023-11-06T07:14:43.986442Z",
     "iopub.status.idle": "2023-11-06T07:14:43.992569Z",
     "shell.execute_reply": "2023-11-06T07:14:43.991704Z"
    },
    "papermill": {
     "duration": 0.037445,
     "end_time": "2023-11-06T07:14:43.995178",
     "exception": false,
     "start_time": "2023-11-06T07:14:43.957733",
     "status": "completed"
    },
    "tags": []
   },
   "outputs": [],
   "source": [
    "data['Age'] = date_time.year - data['Year']"
   ]
  },
  {
   "cell_type": "code",
   "execution_count": 14,
   "id": "cb2b5b04",
   "metadata": {
    "execution": {
     "iopub.execute_input": "2023-11-06T07:14:44.045583Z",
     "iopub.status.busy": "2023-11-06T07:14:44.044778Z",
     "iopub.status.idle": "2023-11-06T07:14:44.061083Z",
     "shell.execute_reply": "2023-11-06T07:14:44.059941Z"
    },
    "papermill": {
     "duration": 0.044004,
     "end_time": "2023-11-06T07:14:44.063514",
     "exception": false,
     "start_time": "2023-11-06T07:14:44.019510",
     "status": "completed"
    },
    "tags": []
   },
   "outputs": [
    {
     "data": {
      "text/html": [
       "<div>\n",
       "<style scoped>\n",
       "    .dataframe tbody tr th:only-of-type {\n",
       "        vertical-align: middle;\n",
       "    }\n",
       "\n",
       "    .dataframe tbody tr th {\n",
       "        vertical-align: top;\n",
       "    }\n",
       "\n",
       "    .dataframe thead th {\n",
       "        text-align: right;\n",
       "    }\n",
       "</style>\n",
       "<table border=\"1\" class=\"dataframe\">\n",
       "  <thead>\n",
       "    <tr style=\"text-align: right;\">\n",
       "      <th></th>\n",
       "      <th>Car_Name</th>\n",
       "      <th>Year</th>\n",
       "      <th>Selling_Price</th>\n",
       "      <th>Present_Price</th>\n",
       "      <th>Kms_Driven</th>\n",
       "      <th>Fuel_Type</th>\n",
       "      <th>Seller_Type</th>\n",
       "      <th>Transmission</th>\n",
       "      <th>Owner</th>\n",
       "      <th>Age</th>\n",
       "    </tr>\n",
       "  </thead>\n",
       "  <tbody>\n",
       "    <tr>\n",
       "      <th>0</th>\n",
       "      <td>ritz</td>\n",
       "      <td>2014</td>\n",
       "      <td>3.35</td>\n",
       "      <td>5.59</td>\n",
       "      <td>27000</td>\n",
       "      <td>Petrol</td>\n",
       "      <td>Dealer</td>\n",
       "      <td>Manual</td>\n",
       "      <td>0</td>\n",
       "      <td>9</td>\n",
       "    </tr>\n",
       "    <tr>\n",
       "      <th>1</th>\n",
       "      <td>sx4</td>\n",
       "      <td>2013</td>\n",
       "      <td>4.75</td>\n",
       "      <td>9.54</td>\n",
       "      <td>43000</td>\n",
       "      <td>Diesel</td>\n",
       "      <td>Dealer</td>\n",
       "      <td>Manual</td>\n",
       "      <td>0</td>\n",
       "      <td>10</td>\n",
       "    </tr>\n",
       "    <tr>\n",
       "      <th>2</th>\n",
       "      <td>ciaz</td>\n",
       "      <td>2017</td>\n",
       "      <td>7.25</td>\n",
       "      <td>9.85</td>\n",
       "      <td>6900</td>\n",
       "      <td>Petrol</td>\n",
       "      <td>Dealer</td>\n",
       "      <td>Manual</td>\n",
       "      <td>0</td>\n",
       "      <td>6</td>\n",
       "    </tr>\n",
       "    <tr>\n",
       "      <th>3</th>\n",
       "      <td>wagon r</td>\n",
       "      <td>2011</td>\n",
       "      <td>2.85</td>\n",
       "      <td>4.15</td>\n",
       "      <td>5200</td>\n",
       "      <td>Petrol</td>\n",
       "      <td>Dealer</td>\n",
       "      <td>Manual</td>\n",
       "      <td>0</td>\n",
       "      <td>12</td>\n",
       "    </tr>\n",
       "    <tr>\n",
       "      <th>4</th>\n",
       "      <td>swift</td>\n",
       "      <td>2014</td>\n",
       "      <td>4.60</td>\n",
       "      <td>6.87</td>\n",
       "      <td>42450</td>\n",
       "      <td>Diesel</td>\n",
       "      <td>Dealer</td>\n",
       "      <td>Manual</td>\n",
       "      <td>0</td>\n",
       "      <td>9</td>\n",
       "    </tr>\n",
       "  </tbody>\n",
       "</table>\n",
       "</div>"
      ],
      "text/plain": [
       "  Car_Name  Year  Selling_Price  Present_Price  Kms_Driven Fuel_Type  \\\n",
       "0     ritz  2014           3.35           5.59       27000    Petrol   \n",
       "1      sx4  2013           4.75           9.54       43000    Diesel   \n",
       "2     ciaz  2017           7.25           9.85        6900    Petrol   \n",
       "3  wagon r  2011           2.85           4.15        5200    Petrol   \n",
       "4    swift  2014           4.60           6.87       42450    Diesel   \n",
       "\n",
       "  Seller_Type Transmission  Owner  Age  \n",
       "0      Dealer       Manual      0    9  \n",
       "1      Dealer       Manual      0   10  \n",
       "2      Dealer       Manual      0    6  \n",
       "3      Dealer       Manual      0   12  \n",
       "4      Dealer       Manual      0    9  "
      ]
     },
     "execution_count": 14,
     "metadata": {},
     "output_type": "execute_result"
    }
   ],
   "source": [
    "data.head()"
   ]
  },
  {
   "cell_type": "code",
   "execution_count": 15,
   "id": "d410e8e8",
   "metadata": {
    "execution": {
     "iopub.execute_input": "2023-11-06T07:14:44.114119Z",
     "iopub.status.busy": "2023-11-06T07:14:44.113312Z",
     "iopub.status.idle": "2023-11-06T07:14:44.123868Z",
     "shell.execute_reply": "2023-11-06T07:14:44.122695Z"
    },
    "papermill": {
     "duration": 0.039161,
     "end_time": "2023-11-06T07:14:44.126653",
     "exception": false,
     "start_time": "2023-11-06T07:14:44.087492",
     "status": "completed"
    },
    "tags": []
   },
   "outputs": [],
   "source": [
    "data.drop('Year' , axis = 1 , inplace = True)"
   ]
  },
  {
   "cell_type": "code",
   "execution_count": 16,
   "id": "c2994ad1",
   "metadata": {
    "execution": {
     "iopub.execute_input": "2023-11-06T07:14:44.177240Z",
     "iopub.status.busy": "2023-11-06T07:14:44.176862Z",
     "iopub.status.idle": "2023-11-06T07:14:44.193066Z",
     "shell.execute_reply": "2023-11-06T07:14:44.191941Z"
    },
    "papermill": {
     "duration": 0.044543,
     "end_time": "2023-11-06T07:14:44.195229",
     "exception": false,
     "start_time": "2023-11-06T07:14:44.150686",
     "status": "completed"
    },
    "tags": []
   },
   "outputs": [
    {
     "data": {
      "text/html": [
       "<div>\n",
       "<style scoped>\n",
       "    .dataframe tbody tr th:only-of-type {\n",
       "        vertical-align: middle;\n",
       "    }\n",
       "\n",
       "    .dataframe tbody tr th {\n",
       "        vertical-align: top;\n",
       "    }\n",
       "\n",
       "    .dataframe thead th {\n",
       "        text-align: right;\n",
       "    }\n",
       "</style>\n",
       "<table border=\"1\" class=\"dataframe\">\n",
       "  <thead>\n",
       "    <tr style=\"text-align: right;\">\n",
       "      <th></th>\n",
       "      <th>Car_Name</th>\n",
       "      <th>Selling_Price</th>\n",
       "      <th>Present_Price</th>\n",
       "      <th>Kms_Driven</th>\n",
       "      <th>Fuel_Type</th>\n",
       "      <th>Seller_Type</th>\n",
       "      <th>Transmission</th>\n",
       "      <th>Owner</th>\n",
       "      <th>Age</th>\n",
       "    </tr>\n",
       "  </thead>\n",
       "  <tbody>\n",
       "    <tr>\n",
       "      <th>0</th>\n",
       "      <td>ritz</td>\n",
       "      <td>3.35</td>\n",
       "      <td>5.59</td>\n",
       "      <td>27000</td>\n",
       "      <td>Petrol</td>\n",
       "      <td>Dealer</td>\n",
       "      <td>Manual</td>\n",
       "      <td>0</td>\n",
       "      <td>9</td>\n",
       "    </tr>\n",
       "    <tr>\n",
       "      <th>1</th>\n",
       "      <td>sx4</td>\n",
       "      <td>4.75</td>\n",
       "      <td>9.54</td>\n",
       "      <td>43000</td>\n",
       "      <td>Diesel</td>\n",
       "      <td>Dealer</td>\n",
       "      <td>Manual</td>\n",
       "      <td>0</td>\n",
       "      <td>10</td>\n",
       "    </tr>\n",
       "    <tr>\n",
       "      <th>2</th>\n",
       "      <td>ciaz</td>\n",
       "      <td>7.25</td>\n",
       "      <td>9.85</td>\n",
       "      <td>6900</td>\n",
       "      <td>Petrol</td>\n",
       "      <td>Dealer</td>\n",
       "      <td>Manual</td>\n",
       "      <td>0</td>\n",
       "      <td>6</td>\n",
       "    </tr>\n",
       "    <tr>\n",
       "      <th>3</th>\n",
       "      <td>wagon r</td>\n",
       "      <td>2.85</td>\n",
       "      <td>4.15</td>\n",
       "      <td>5200</td>\n",
       "      <td>Petrol</td>\n",
       "      <td>Dealer</td>\n",
       "      <td>Manual</td>\n",
       "      <td>0</td>\n",
       "      <td>12</td>\n",
       "    </tr>\n",
       "    <tr>\n",
       "      <th>4</th>\n",
       "      <td>swift</td>\n",
       "      <td>4.60</td>\n",
       "      <td>6.87</td>\n",
       "      <td>42450</td>\n",
       "      <td>Diesel</td>\n",
       "      <td>Dealer</td>\n",
       "      <td>Manual</td>\n",
       "      <td>0</td>\n",
       "      <td>9</td>\n",
       "    </tr>\n",
       "  </tbody>\n",
       "</table>\n",
       "</div>"
      ],
      "text/plain": [
       "  Car_Name  Selling_Price  Present_Price  Kms_Driven Fuel_Type Seller_Type  \\\n",
       "0     ritz           3.35           5.59       27000    Petrol      Dealer   \n",
       "1      sx4           4.75           9.54       43000    Diesel      Dealer   \n",
       "2     ciaz           7.25           9.85        6900    Petrol      Dealer   \n",
       "3  wagon r           2.85           4.15        5200    Petrol      Dealer   \n",
       "4    swift           4.60           6.87       42450    Diesel      Dealer   \n",
       "\n",
       "  Transmission  Owner  Age  \n",
       "0       Manual      0    9  \n",
       "1       Manual      0   10  \n",
       "2       Manual      0    6  \n",
       "3       Manual      0   12  \n",
       "4       Manual      0    9  "
      ]
     },
     "execution_count": 16,
     "metadata": {},
     "output_type": "execute_result"
    }
   ],
   "source": [
    "data.head()"
   ]
  },
  {
   "cell_type": "markdown",
   "id": "01f2c6a1",
   "metadata": {
    "papermill": {
     "duration": 0.024694,
     "end_time": "2023-11-06T07:14:44.244267",
     "exception": false,
     "start_time": "2023-11-06T07:14:44.219573",
     "status": "completed"
    },
    "tags": []
   },
   "source": []
  },
  {
   "cell_type": "markdown",
   "id": "b9aeaa2a",
   "metadata": {
    "papermill": {
     "duration": 0.024747,
     "end_time": "2023-11-06T07:14:44.294183",
     "exception": false,
     "start_time": "2023-11-06T07:14:44.269436",
     "status": "completed"
    },
    "tags": []
   },
   "source": [
    " outlier remover"
   ]
  },
  {
   "cell_type": "code",
   "execution_count": 17,
   "id": "4b9ab308",
   "metadata": {
    "execution": {
     "iopub.execute_input": "2023-11-06T07:14:44.346999Z",
     "iopub.status.busy": "2023-11-06T07:14:44.346554Z",
     "iopub.status.idle": "2023-11-06T07:14:46.060545Z",
     "shell.execute_reply": "2023-11-06T07:14:46.059501Z"
    },
    "papermill": {
     "duration": 1.744601,
     "end_time": "2023-11-06T07:14:46.063792",
     "exception": false,
     "start_time": "2023-11-06T07:14:44.319191",
     "status": "completed"
    },
    "tags": []
   },
   "outputs": [],
   "source": [
    "import seaborn as sns\n",
    "import matplotlib.pyplot as plt"
   ]
  },
  {
   "cell_type": "code",
   "execution_count": 18,
   "id": "e89850cc",
   "metadata": {
    "execution": {
     "iopub.execute_input": "2023-11-06T07:14:46.114469Z",
     "iopub.status.busy": "2023-11-06T07:14:46.114090Z",
     "iopub.status.idle": "2023-11-06T07:14:46.387318Z",
     "shell.execute_reply": "2023-11-06T07:14:46.386191Z"
    },
    "papermill": {
     "duration": 0.302362,
     "end_time": "2023-11-06T07:14:46.390290",
     "exception": false,
     "start_time": "2023-11-06T07:14:46.087928",
     "status": "completed"
    },
    "tags": []
   },
   "outputs": [
    {
     "name": "stdout",
     "output_type": "stream",
     "text": [
      "(301, 9)\n"
     ]
    },
    {
     "data": {
      "text/plain": [
       "<Axes: >"
      ]
     },
     "execution_count": 18,
     "metadata": {},
     "output_type": "execute_result"
    },
    {
     "data": {
      "image/png": "[encoded data removed]",
      "text/plain": [
       "<Figure size 640x480 with 1 Axes>"
      ]
     },
     "metadata": {},
     "output_type": "display_data"
    }
   ],
   "source": [
    "print(data.shape)\n",
    "sns.boxplot(data['Selling_Price'])\n"
   ]
  },
  {
   "cell_type": "code",
   "execution_count": 19,
   "id": "bd1843ef",
   "metadata": {
    "execution": {
     "iopub.execute_input": "2023-11-06T07:14:46.442116Z",
     "iopub.status.busy": "2023-11-06T07:14:46.441708Z",
     "iopub.status.idle": "2023-11-06T07:14:46.453833Z",
     "shell.execute_reply": "2023-11-06T07:14:46.452614Z"
    },
    "papermill": {
     "duration": 0.042247,
     "end_time": "2023-11-06T07:14:46.457255",
     "exception": false,
     "start_time": "2023-11-06T07:14:46.415008",
     "status": "completed"
    },
    "tags": []
   },
   "outputs": [
    {
     "data": {
      "text/plain": [
       "[35.0,\n",
       " 33.0,\n",
       " 23.5,\n",
       " 23.0,\n",
       " 23.0,\n",
       " 23.0,\n",
       " 20.75,\n",
       " 19.99,\n",
       " 19.75,\n",
       " 18.75,\n",
       " 18.0,\n",
       " 17.0,\n",
       " 16.0,\n",
       " 14.9,\n",
       " 14.73,\n",
       " 14.5,\n",
       " 14.25,\n",
       " 12.9,\n",
       " 12.5,\n",
       " 11.75,\n",
       " 11.5,\n",
       " 11.45,\n",
       " 11.25,\n",
       " 11.25,\n",
       " 11.25,\n",
       " 10.9,\n",
       " 10.25,\n",
       " 10.11,\n",
       " 9.7,\n",
       " 9.65,\n",
       " 9.5,\n",
       " 9.25,\n",
       " 9.25,\n",
       " 9.25,\n",
       " 9.15,\n",
       " 9.1,\n",
       " 8.99,\n",
       " 8.75,\n",
       " 8.65,\n",
       " 8.55,\n",
       " 8.5,\n",
       " 8.4,\n",
       " 8.4,\n",
       " 8.35,\n",
       " 8.25,\n",
       " 8.25,\n",
       " 7.9,\n",
       " 7.75,\n",
       " 7.75,\n",
       " 7.75,\n",
       " 7.5,\n",
       " 7.5,\n",
       " 7.5,\n",
       " 7.45,\n",
       " 7.45,\n",
       " 7.45,\n",
       " 7.4,\n",
       " 7.25,\n",
       " 7.25,\n",
       " 7.2,\n",
       " 7.05,\n",
       " 6.95,\n",
       " 6.85,\n",
       " 6.75,\n",
       " 6.7,\n",
       " 6.6,\n",
       " 6.5,\n",
       " 6.5,\n",
       " 6.45,\n",
       " 6.4,\n",
       " 6.25,\n",
       " 6.25,\n",
       " 6.15,\n",
       " 6.1,\n",
       " 6.0,\n",
       " 6.0,\n",
       " 6.0,\n",
       " 6.0,\n",
       " 5.95,\n",
       " 5.95,\n",
       " 5.9,\n",
       " 5.85,\n",
       " 5.85,\n",
       " 5.8,\n",
       " 5.75,\n",
       " 5.75,\n",
       " 5.65,\n",
       " 5.5,\n",
       " 5.5,\n",
       " 5.5,\n",
       " 5.5,\n",
       " 5.5,\n",
       " 5.4,\n",
       " 5.4,\n",
       " 5.35,\n",
       " 5.3,\n",
       " 5.3,\n",
       " 5.25,\n",
       " 5.25,\n",
       " 5.25,\n",
       " 5.25,\n",
       " 5.25,\n",
       " 5.25,\n",
       " 5.25,\n",
       " 5.2,\n",
       " 5.15,\n",
       " 5.11,\n",
       " 5.0,\n",
       " 4.95,\n",
       " 4.95,\n",
       " 4.9,\n",
       " 4.9,\n",
       " 4.85,\n",
       " 4.8,\n",
       " 4.8,\n",
       " 4.75,\n",
       " 4.75,\n",
       " 4.75,\n",
       " 4.75,\n",
       " 4.75,\n",
       " 4.75,\n",
       " 4.65,\n",
       " 4.6,\n",
       " 4.5,\n",
       " 4.5,\n",
       " 4.5,\n",
       " 4.5,\n",
       " 4.5,\n",
       " 4.5,\n",
       " 4.5,\n",
       " 4.4,\n",
       " 4.4,\n",
       " 4.4,\n",
       " 4.35,\n",
       " 4.15,\n",
       " 4.1,\n",
       " 4.1,\n",
       " 4.0,\n",
       " 4.0,\n",
       " 4.0,\n",
       " 4.0,\n",
       " 4.0,\n",
       " 3.95,\n",
       " 3.95,\n",
       " 3.9,\n",
       " 3.9,\n",
       " 3.8,\n",
       " 3.75,\n",
       " 3.75,\n",
       " 3.65,\n",
       " 3.6,\n",
       " 3.51,\n",
       " 3.5,\n",
       " 3.5,\n",
       " 3.49,\n",
       " 3.45,\n",
       " 3.35,\n",
       " 3.35,\n",
       " 3.25,\n",
       " 3.25,\n",
       " 3.25,\n",
       " 3.15,\n",
       " 3.1,\n",
       " 3.1,\n",
       " 3.1,\n",
       " 3.1,\n",
       " 3.0,\n",
       " 3.0,\n",
       " 3.0,\n",
       " 3.0,\n",
       " 2.95,\n",
       " 2.95,\n",
       " 2.9,\n",
       " 2.9,\n",
       " 2.9,\n",
       " 2.85,\n",
       " 2.85,\n",
       " 2.85,\n",
       " 2.75,\n",
       " 2.75,\n",
       " 2.7,\n",
       " 2.65,\n",
       " 2.65,\n",
       " 2.65,\n",
       " 2.55,\n",
       " 2.55,\n",
       " 2.5,\n",
       " 2.5,\n",
       " 2.35,\n",
       " 2.25,\n",
       " 2.25,\n",
       " 2.25,\n",
       " 2.1,\n",
       " 2.0,\n",
       " 1.95,\n",
       " 1.95,\n",
       " 1.75,\n",
       " 1.7,\n",
       " 1.65,\n",
       " 1.5,\n",
       " 1.45,\n",
       " 1.35,\n",
       " 1.35,\n",
       " 1.35,\n",
       " 1.25,\n",
       " 1.25,\n",
       " 1.2,\n",
       " 1.2,\n",
       " 1.2,\n",
       " 1.15,\n",
       " 1.15,\n",
       " 1.15,\n",
       " 1.15,\n",
       " 1.11,\n",
       " 1.1,\n",
       " 1.1,\n",
       " 1.1,\n",
       " 1.05,\n",
       " 1.05,\n",
       " 1.05,\n",
       " 1.05,\n",
       " 1.05,\n",
       " 1.0,\n",
       " 0.95,\n",
       " 0.9,\n",
       " 0.9,\n",
       " 0.8,\n",
       " 0.78,\n",
       " 0.75,\n",
       " 0.75,\n",
       " 0.75,\n",
       " 0.75,\n",
       " 0.72,\n",
       " 0.65,\n",
       " 0.65,\n",
       " 0.65,\n",
       " 0.65,\n",
       " 0.6,\n",
       " 0.6,\n",
       " 0.6,\n",
       " 0.6,\n",
       " 0.6,\n",
       " 0.6,\n",
       " 0.6,\n",
       " 0.6,\n",
       " 0.55,\n",
       " 0.55,\n",
       " 0.52,\n",
       " 0.51,\n",
       " 0.5,\n",
       " 0.5,\n",
       " 0.5,\n",
       " 0.5,\n",
       " 0.5,\n",
       " 0.48,\n",
       " 0.48,\n",
       " 0.48,\n",
       " 0.48,\n",
       " 0.45,\n",
       " 0.45,\n",
       " 0.45,\n",
       " 0.45,\n",
       " 0.45,\n",
       " 0.45,\n",
       " 0.45,\n",
       " 0.45,\n",
       " 0.42,\n",
       " 0.42,\n",
       " 0.4,\n",
       " 0.4,\n",
       " 0.4,\n",
       " 0.4,\n",
       " 0.4,\n",
       " 0.38,\n",
       " 0.38,\n",
       " 0.35,\n",
       " 0.35,\n",
       " 0.35,\n",
       " 0.35,\n",
       " 0.31,\n",
       " 0.3,\n",
       " 0.3,\n",
       " 0.3,\n",
       " 0.27,\n",
       " 0.25,\n",
       " 0.25,\n",
       " 0.25,\n",
       " 0.25,\n",
       " 0.25,\n",
       " 0.2,\n",
       " 0.2,\n",
       " 0.2,\n",
       " 0.2,\n",
       " 0.2,\n",
       " 0.2,\n",
       " 0.18,\n",
       " 0.17,\n",
       " 0.16,\n",
       " 0.15,\n",
       " 0.12,\n",
       " 0.1]"
      ]
     },
     "execution_count": 19,
     "metadata": {},
     "output_type": "execute_result"
    }
   ],
   "source": [
    "sorted(data['Selling_Price'],reverse = True)"
   ]
  },
  {
   "cell_type": "code",
   "execution_count": 20,
   "id": "0ae34ef2",
   "metadata": {
    "execution": {
     "iopub.execute_input": "2023-11-06T07:14:46.510095Z",
     "iopub.status.busy": "2023-11-06T07:14:46.509687Z",
     "iopub.status.idle": "2023-11-06T07:14:46.516309Z",
     "shell.execute_reply": "2023-11-06T07:14:46.515444Z"
    },
    "papermill": {
     "duration": 0.035341,
     "end_time": "2023-11-06T07:14:46.518473",
     "exception": false,
     "start_time": "2023-11-06T07:14:46.483132",
     "status": "completed"
    },
    "tags": []
   },
   "outputs": [],
   "source": [
    "data= data[~(data['Selling_Price']>=33.0) & (data['Selling_Price']<=35.0)]"
   ]
  },
  {
   "cell_type": "code",
   "execution_count": 21,
   "id": "960541bd",
   "metadata": {
    "execution": {
     "iopub.execute_input": "2023-11-06T07:14:46.571028Z",
     "iopub.status.busy": "2023-11-06T07:14:46.570572Z",
     "iopub.status.idle": "2023-11-06T07:14:46.578035Z",
     "shell.execute_reply": "2023-11-06T07:14:46.576816Z"
    },
    "papermill": {
     "duration": 0.036961,
     "end_time": "2023-11-06T07:14:46.580658",
     "exception": false,
     "start_time": "2023-11-06T07:14:46.543697",
     "status": "completed"
    },
    "tags": []
   },
   "outputs": [
    {
     "data": {
      "text/plain": [
       "(299, 9)"
      ]
     },
     "execution_count": 21,
     "metadata": {},
     "output_type": "execute_result"
    }
   ],
   "source": [
    "data.shape"
   ]
  },
  {
   "cell_type": "code",
   "execution_count": null,
   "id": "d8b6e2ce",
   "metadata": {
    "papermill": {
     "duration": 0.025365,
     "end_time": "2023-11-06T07:14:46.633792",
     "exception": false,
     "start_time": "2023-11-06T07:14:46.608427",
     "status": "completed"
    },
    "tags": []
   },
   "outputs": [],
   "source": []
  },
  {
   "cell_type": "markdown",
   "id": "be26c4ee",
   "metadata": {
    "papermill": {
     "duration": 0.028568,
     "end_time": "2023-11-06T07:14:46.687781",
     "exception": false,
     "start_time": "2023-11-06T07:14:46.659213",
     "status": "completed"
    },
    "tags": []
   },
   "source": []
  },
  {
   "cell_type": "markdown",
   "id": "55b639aa",
   "metadata": {
    "papermill": {
     "duration": 0.027541,
     "end_time": "2023-11-06T07:14:46.745878",
     "exception": false,
     "start_time": "2023-11-06T07:14:46.718337",
     "status": "completed"
    },
    "tags": []
   },
   "source": [
    "Encoding the categorical columns"
   ]
  },
  {
   "cell_type": "code",
   "execution_count": 22,
   "id": "6be82402",
   "metadata": {
    "execution": {
     "iopub.execute_input": "2023-11-06T07:14:46.799593Z",
     "iopub.status.busy": "2023-11-06T07:14:46.798826Z",
     "iopub.status.idle": "2023-11-06T07:14:46.814162Z",
     "shell.execute_reply": "2023-11-06T07:14:46.812735Z"
    },
    "papermill": {
     "duration": 0.046252,
     "end_time": "2023-11-06T07:14:46.817512",
     "exception": false,
     "start_time": "2023-11-06T07:14:46.771260",
     "status": "completed"
    },
    "tags": []
   },
   "outputs": [
    {
     "data": {
      "text/html": [
       "<div>\n",
       "<style scoped>\n",
       "    .dataframe tbody tr th:only-of-type {\n",
       "        vertical-align: middle;\n",
       "    }\n",
       "\n",
       "    .dataframe tbody tr th {\n",
       "        vertical-align: top;\n",
       "    }\n",
       "\n",
       "    .dataframe thead th {\n",
       "        text-align: right;\n",
       "    }\n",
       "</style>\n",
       "<table border=\"1\" class=\"dataframe\">\n",
       "  <thead>\n",
       "    <tr style=\"text-align: right;\">\n",
       "      <th></th>\n",
       "      <th>Car_Name</th>\n",
       "      <th>Selling_Price</th>\n",
       "      <th>Present_Price</th>\n",
       "      <th>Kms_Driven</th>\n",
       "      <th>Fuel_Type</th>\n",
       "      <th>Seller_Type</th>\n",
       "      <th>Transmission</th>\n",
       "      <th>Owner</th>\n",
       "      <th>Age</th>\n",
       "    </tr>\n",
       "  </thead>\n",
       "  <tbody>\n",
       "    <tr>\n",
       "      <th>0</th>\n",
       "      <td>ritz</td>\n",
       "      <td>3.35</td>\n",
       "      <td>5.59</td>\n",
       "      <td>27000</td>\n",
       "      <td>Petrol</td>\n",
       "      <td>Dealer</td>\n",
       "      <td>Manual</td>\n",
       "      <td>0</td>\n",
       "      <td>9</td>\n",
       "    </tr>\n",
       "  </tbody>\n",
       "</table>\n",
       "</div>"
      ],
      "text/plain": [
       "  Car_Name  Selling_Price  Present_Price  Kms_Driven Fuel_Type Seller_Type  \\\n",
       "0     ritz           3.35           5.59       27000    Petrol      Dealer   \n",
       "\n",
       "  Transmission  Owner  Age  \n",
       "0       Manual      0    9  "
      ]
     },
     "execution_count": 22,
     "metadata": {},
     "output_type": "execute_result"
    }
   ],
   "source": [
    "data.head(1)"
   ]
  },
  {
   "cell_type": "code",
   "execution_count": 23,
   "id": "f11abf5c",
   "metadata": {
    "execution": {
     "iopub.execute_input": "2023-11-06T07:14:46.887473Z",
     "iopub.status.busy": "2023-11-06T07:14:46.886455Z",
     "iopub.status.idle": "2023-11-06T07:14:46.897344Z",
     "shell.execute_reply": "2023-11-06T07:14:46.896174Z"
    },
    "papermill": {
     "duration": 0.051055,
     "end_time": "2023-11-06T07:14:46.900637",
     "exception": false,
     "start_time": "2023-11-06T07:14:46.849582",
     "status": "completed"
    },
    "tags": []
   },
   "outputs": [
    {
     "data": {
      "text/plain": [
       "array(['Petrol', 'Diesel', 'CNG'], dtype=object)"
      ]
     },
     "execution_count": 23,
     "metadata": {},
     "output_type": "execute_result"
    }
   ],
   "source": [
    "data['Fuel_Type'].unique()"
   ]
  },
  {
   "cell_type": "code",
   "execution_count": 24,
   "id": "2fe01792",
   "metadata": {
    "execution": {
     "iopub.execute_input": "2023-11-06T07:14:46.964854Z",
     "iopub.status.busy": "2023-11-06T07:14:46.964115Z",
     "iopub.status.idle": "2023-11-06T07:14:46.971035Z",
     "shell.execute_reply": "2023-11-06T07:14:46.970080Z"
    },
    "papermill": {
     "duration": 0.039036,
     "end_time": "2023-11-06T07:14:46.973445",
     "exception": false,
     "start_time": "2023-11-06T07:14:46.934409",
     "status": "completed"
    },
    "tags": []
   },
   "outputs": [],
   "source": [
    "data['Fuel_Type'] = data['Fuel_Type'].map({'Petrol':0,'Diesel':1,'CNG':2})"
   ]
  },
  {
   "cell_type": "code",
   "execution_count": 25,
   "id": "33b74015",
   "metadata": {
    "execution": {
     "iopub.execute_input": "2023-11-06T07:14:47.028156Z",
     "iopub.status.busy": "2023-11-06T07:14:47.027476Z",
     "iopub.status.idle": "2023-11-06T07:14:47.036163Z",
     "shell.execute_reply": "2023-11-06T07:14:47.035050Z"
    },
    "papermill": {
     "duration": 0.038389,
     "end_time": "2023-11-06T07:14:47.038410",
     "exception": false,
     "start_time": "2023-11-06T07:14:47.000021",
     "status": "completed"
    },
    "tags": []
   },
   "outputs": [
    {
     "data": {
      "text/plain": [
       "array([0, 1, 2])"
      ]
     },
     "execution_count": 25,
     "metadata": {},
     "output_type": "execute_result"
    }
   ],
   "source": [
    "data['Fuel_Type'].unique()"
   ]
  },
  {
   "cell_type": "code",
   "execution_count": 26,
   "id": "238cf260",
   "metadata": {
    "execution": {
     "iopub.execute_input": "2023-11-06T07:14:47.093893Z",
     "iopub.status.busy": "2023-11-06T07:14:47.093459Z",
     "iopub.status.idle": "2023-11-06T07:14:47.102436Z",
     "shell.execute_reply": "2023-11-06T07:14:47.101101Z"
    },
    "papermill": {
     "duration": 0.041463,
     "end_time": "2023-11-06T07:14:47.106428",
     "exception": false,
     "start_time": "2023-11-06T07:14:47.064965",
     "status": "completed"
    },
    "tags": []
   },
   "outputs": [
    {
     "data": {
      "text/plain": [
       "array(['Dealer', 'Individual'], dtype=object)"
      ]
     },
     "execution_count": 26,
     "metadata": {},
     "output_type": "execute_result"
    }
   ],
   "source": [
    "data['Seller_Type'].unique()"
   ]
  },
  {
   "cell_type": "code",
   "execution_count": 27,
   "id": "7bbc90ad",
   "metadata": {
    "execution": {
     "iopub.execute_input": "2023-11-06T07:14:47.175917Z",
     "iopub.status.busy": "2023-11-06T07:14:47.175499Z",
     "iopub.status.idle": "2023-11-06T07:14:47.181993Z",
     "shell.execute_reply": "2023-11-06T07:14:47.181049Z"
    },
    "papermill": {
     "duration": 0.039401,
     "end_time": "2023-11-06T07:14:47.184154",
     "exception": false,
     "start_time": "2023-11-06T07:14:47.144753",
     "status": "completed"
    },
    "tags": []
   },
   "outputs": [],
   "source": [
    "data['Seller_Type'] = data['Seller_Type'].map({'Dealer':0,'Individual':1})"
   ]
  },
  {
   "cell_type": "code",
   "execution_count": 28,
   "id": "2eb0071c",
   "metadata": {
    "execution": {
     "iopub.execute_input": "2023-11-06T07:14:47.238511Z",
     "iopub.status.busy": "2023-11-06T07:14:47.237825Z",
     "iopub.status.idle": "2023-11-06T07:14:47.244484Z",
     "shell.execute_reply": "2023-11-06T07:14:47.243362Z"
    },
    "papermill": {
     "duration": 0.036473,
     "end_time": "2023-11-06T07:14:47.246837",
     "exception": false,
     "start_time": "2023-11-06T07:14:47.210364",
     "status": "completed"
    },
    "tags": []
   },
   "outputs": [
    {
     "data": {
      "text/plain": [
       "array([0, 1])"
      ]
     },
     "execution_count": 28,
     "metadata": {},
     "output_type": "execute_result"
    }
   ],
   "source": [
    "data['Seller_Type'].unique()"
   ]
  },
  {
   "cell_type": "code",
   "execution_count": 29,
   "id": "e2047eb6",
   "metadata": {
    "execution": {
     "iopub.execute_input": "2023-11-06T07:14:47.301281Z",
     "iopub.status.busy": "2023-11-06T07:14:47.300843Z",
     "iopub.status.idle": "2023-11-06T07:14:47.309248Z",
     "shell.execute_reply": "2023-11-06T07:14:47.307718Z"
    },
    "papermill": {
     "duration": 0.038636,
     "end_time": "2023-11-06T07:14:47.311915",
     "exception": false,
     "start_time": "2023-11-06T07:14:47.273279",
     "status": "completed"
    },
    "tags": []
   },
   "outputs": [
    {
     "data": {
      "text/plain": [
       "array(['Manual', 'Automatic'], dtype=object)"
      ]
     },
     "execution_count": 29,
     "metadata": {},
     "output_type": "execute_result"
    }
   ],
   "source": [
    "data['Transmission'].unique()"
   ]
  },
  {
   "cell_type": "code",
   "execution_count": 30,
   "id": "aafb8c02",
   "metadata": {
    "execution": {
     "iopub.execute_input": "2023-11-06T07:14:47.367312Z",
     "iopub.status.busy": "2023-11-06T07:14:47.366315Z",
     "iopub.status.idle": "2023-11-06T07:14:47.374190Z",
     "shell.execute_reply": "2023-11-06T07:14:47.373010Z"
    },
    "papermill": {
     "duration": 0.038618,
     "end_time": "2023-11-06T07:14:47.376969",
     "exception": false,
     "start_time": "2023-11-06T07:14:47.338351",
     "status": "completed"
    },
    "tags": []
   },
   "outputs": [],
   "source": [
    "data['Transmission'] = data['Transmission'].map({'Manual':0,'Automatic':1})"
   ]
  },
  {
   "cell_type": "code",
   "execution_count": 31,
   "id": "ecf36c7c",
   "metadata": {
    "execution": {
     "iopub.execute_input": "2023-11-06T07:14:47.432525Z",
     "iopub.status.busy": "2023-11-06T07:14:47.431746Z",
     "iopub.status.idle": "2023-11-06T07:14:47.439218Z",
     "shell.execute_reply": "2023-11-06T07:14:47.438261Z"
    },
    "papermill": {
     "duration": 0.038066,
     "end_time": "2023-11-06T07:14:47.441547",
     "exception": false,
     "start_time": "2023-11-06T07:14:47.403481",
     "status": "completed"
    },
    "tags": []
   },
   "outputs": [
    {
     "data": {
      "text/plain": [
       "array([0, 1])"
      ]
     },
     "execution_count": 31,
     "metadata": {},
     "output_type": "execute_result"
    }
   ],
   "source": [
    "data['Transmission'].unique()"
   ]
  },
  {
   "cell_type": "code",
   "execution_count": 32,
   "id": "58bcb323",
   "metadata": {
    "execution": {
     "iopub.execute_input": "2023-11-06T07:14:47.496995Z",
     "iopub.status.busy": "2023-11-06T07:14:47.496068Z",
     "iopub.status.idle": "2023-11-06T07:14:47.513124Z",
     "shell.execute_reply": "2023-11-06T07:14:47.512299Z"
    },
    "papermill": {
     "duration": 0.047274,
     "end_time": "2023-11-06T07:14:47.515545",
     "exception": false,
     "start_time": "2023-11-06T07:14:47.468271",
     "status": "completed"
    },
    "tags": []
   },
   "outputs": [
    {
     "data": {
      "text/html": [
       "<div>\n",
       "<style scoped>\n",
       "    .dataframe tbody tr th:only-of-type {\n",
       "        vertical-align: middle;\n",
       "    }\n",
       "\n",
       "    .dataframe tbody tr th {\n",
       "        vertical-align: top;\n",
       "    }\n",
       "\n",
       "    .dataframe thead th {\n",
       "        text-align: right;\n",
       "    }\n",
       "</style>\n",
       "<table border=\"1\" class=\"dataframe\">\n",
       "  <thead>\n",
       "    <tr style=\"text-align: right;\">\n",
       "      <th></th>\n",
       "      <th>Car_Name</th>\n",
       "      <th>Selling_Price</th>\n",
       "      <th>Present_Price</th>\n",
       "      <th>Kms_Driven</th>\n",
       "      <th>Fuel_Type</th>\n",
       "      <th>Seller_Type</th>\n",
       "      <th>Transmission</th>\n",
       "      <th>Owner</th>\n",
       "      <th>Age</th>\n",
       "    </tr>\n",
       "  </thead>\n",
       "  <tbody>\n",
       "    <tr>\n",
       "      <th>0</th>\n",
       "      <td>ritz</td>\n",
       "      <td>3.35</td>\n",
       "      <td>5.59</td>\n",
       "      <td>27000</td>\n",
       "      <td>0</td>\n",
       "      <td>0</td>\n",
       "      <td>0</td>\n",
       "      <td>0</td>\n",
       "      <td>9</td>\n",
       "    </tr>\n",
       "    <tr>\n",
       "      <th>1</th>\n",
       "      <td>sx4</td>\n",
       "      <td>4.75</td>\n",
       "      <td>9.54</td>\n",
       "      <td>43000</td>\n",
       "      <td>1</td>\n",
       "      <td>0</td>\n",
       "      <td>0</td>\n",
       "      <td>0</td>\n",
       "      <td>10</td>\n",
       "    </tr>\n",
       "    <tr>\n",
       "      <th>2</th>\n",
       "      <td>ciaz</td>\n",
       "      <td>7.25</td>\n",
       "      <td>9.85</td>\n",
       "      <td>6900</td>\n",
       "      <td>0</td>\n",
       "      <td>0</td>\n",
       "      <td>0</td>\n",
       "      <td>0</td>\n",
       "      <td>6</td>\n",
       "    </tr>\n",
       "    <tr>\n",
       "      <th>3</th>\n",
       "      <td>wagon r</td>\n",
       "      <td>2.85</td>\n",
       "      <td>4.15</td>\n",
       "      <td>5200</td>\n",
       "      <td>0</td>\n",
       "      <td>0</td>\n",
       "      <td>0</td>\n",
       "      <td>0</td>\n",
       "      <td>12</td>\n",
       "    </tr>\n",
       "    <tr>\n",
       "      <th>4</th>\n",
       "      <td>swift</td>\n",
       "      <td>4.60</td>\n",
       "      <td>6.87</td>\n",
       "      <td>42450</td>\n",
       "      <td>1</td>\n",
       "      <td>0</td>\n",
       "      <td>0</td>\n",
       "      <td>0</td>\n",
       "      <td>9</td>\n",
       "    </tr>\n",
       "  </tbody>\n",
       "</table>\n",
       "</div>"
      ],
      "text/plain": [
       "  Car_Name  Selling_Price  Present_Price  Kms_Driven  Fuel_Type  Seller_Type  \\\n",
       "0     ritz           3.35           5.59       27000          0            0   \n",
       "1      sx4           4.75           9.54       43000          1            0   \n",
       "2     ciaz           7.25           9.85        6900          0            0   \n",
       "3  wagon r           2.85           4.15        5200          0            0   \n",
       "4    swift           4.60           6.87       42450          1            0   \n",
       "\n",
       "   Transmission  Owner  Age  \n",
       "0             0      0    9  \n",
       "1             0      0   10  \n",
       "2             0      0    6  \n",
       "3             0      0   12  \n",
       "4             0      0    9  "
      ]
     },
     "execution_count": 32,
     "metadata": {},
     "output_type": "execute_result"
    }
   ],
   "source": [
    "data.head()"
   ]
  },
  {
   "cell_type": "markdown",
   "id": "2b8d982a",
   "metadata": {
    "papermill": {
     "duration": 0.027265,
     "end_time": "2023-11-06T07:14:47.569351",
     "exception": false,
     "start_time": "2023-11-06T07:14:47.542086",
     "status": "completed"
    },
    "tags": []
   },
   "source": []
  },
  {
   "cell_type": "markdown",
   "id": "6c518b44",
   "metadata": {
    "papermill": {
     "duration": 0.026848,
     "end_time": "2023-11-06T07:14:47.623053",
     "exception": false,
     "start_time": "2023-11-06T07:14:47.596205",
     "status": "completed"
    },
    "tags": []
   },
   "source": [
    "8. store feature matrix in x and response(target) in vectore y "
   ]
  },
  {
   "cell_type": "code",
   "execution_count": 33,
   "id": "ed705f9c",
   "metadata": {
    "execution": {
     "iopub.execute_input": "2023-11-06T07:14:47.679880Z",
     "iopub.status.busy": "2023-11-06T07:14:47.679414Z",
     "iopub.status.idle": "2023-11-06T07:14:47.685643Z",
     "shell.execute_reply": "2023-11-06T07:14:47.684724Z"
    },
    "papermill": {
     "duration": 0.037991,
     "end_time": "2023-11-06T07:14:47.688060",
     "exception": false,
     "start_time": "2023-11-06T07:14:47.650069",
     "status": "completed"
    },
    "tags": []
   },
   "outputs": [],
   "source": [
    "x = data.drop(['Car_Name','Selling_Price'],axis = 1)\n",
    "y = data[\"Selling_Price\"]"
   ]
  },
  {
   "cell_type": "code",
   "execution_count": 34,
   "id": "40107b9d",
   "metadata": {
    "execution": {
     "iopub.execute_input": "2023-11-06T07:14:47.749490Z",
     "iopub.status.busy": "2023-11-06T07:14:47.748821Z",
     "iopub.status.idle": "2023-11-06T07:14:47.758593Z",
     "shell.execute_reply": "2023-11-06T07:14:47.757465Z"
    },
    "papermill": {
     "duration": 0.042305,
     "end_time": "2023-11-06T07:14:47.761152",
     "exception": false,
     "start_time": "2023-11-06T07:14:47.718847",
     "status": "completed"
    },
    "tags": []
   },
   "outputs": [
    {
     "data": {
      "text/plain": [
       "0       3.35\n",
       "1       4.75\n",
       "2       7.25\n",
       "3       2.85\n",
       "4       4.60\n",
       "       ...  \n",
       "296     9.50\n",
       "297     4.00\n",
       "298     3.35\n",
       "299    11.50\n",
       "300     5.30\n",
       "Name: Selling_Price, Length: 299, dtype: float64"
      ]
     },
     "execution_count": 34,
     "metadata": {},
     "output_type": "execute_result"
    }
   ],
   "source": [
    "y"
   ]
  },
  {
   "cell_type": "markdown",
   "id": "d9a2caa4",
   "metadata": {
    "papermill": {
     "duration": 0.028081,
     "end_time": "2023-11-06T07:14:47.817541",
     "exception": false,
     "start_time": "2023-11-06T07:14:47.789460",
     "status": "completed"
    },
    "tags": []
   },
   "source": [
    "9. splitting the dataset into traing or test dataset"
   ]
  },
  {
   "cell_type": "code",
   "execution_count": 35,
   "id": "e7c81caa",
   "metadata": {
    "execution": {
     "iopub.execute_input": "2023-11-06T07:14:47.875599Z",
     "iopub.status.busy": "2023-11-06T07:14:47.874458Z",
     "iopub.status.idle": "2023-11-06T07:14:48.162861Z",
     "shell.execute_reply": "2023-11-06T07:14:48.161461Z"
    },
    "papermill": {
     "duration": 0.321328,
     "end_time": "2023-11-06T07:14:48.166047",
     "exception": false,
     "start_time": "2023-11-06T07:14:47.844719",
     "status": "completed"
    },
    "tags": []
   },
   "outputs": [],
   "source": [
    "from sklearn.model_selection import train_test_split"
   ]
  },
  {
   "cell_type": "code",
   "execution_count": 36,
   "id": "c98fc74b",
   "metadata": {
    "execution": {
     "iopub.execute_input": "2023-11-06T07:14:48.222119Z",
     "iopub.status.busy": "2023-11-06T07:14:48.221708Z",
     "iopub.status.idle": "2023-11-06T07:14:48.230222Z",
     "shell.execute_reply": "2023-11-06T07:14:48.229184Z"
    },
    "papermill": {
     "duration": 0.039755,
     "end_time": "2023-11-06T07:14:48.233236",
     "exception": false,
     "start_time": "2023-11-06T07:14:48.193481",
     "status": "completed"
    },
    "tags": []
   },
   "outputs": [],
   "source": [
    "x_train,x_test,y_train,y_test = train_test_split(x,y,test_size=0.20,random_state=42)"
   ]
  },
  {
   "cell_type": "markdown",
   "id": "b39bafb3",
   "metadata": {
    "papermill": {
     "duration": 0.026576,
     "end_time": "2023-11-06T07:14:48.287018",
     "exception": false,
     "start_time": "2023-11-06T07:14:48.260442",
     "status": "completed"
    },
    "tags": []
   },
   "source": [
    "10. import the models "
   ]
  },
  {
   "cell_type": "code",
   "execution_count": 37,
   "id": "4977dc19",
   "metadata": {
    "execution": {
     "iopub.execute_input": "2023-11-06T07:14:48.342900Z",
     "iopub.status.busy": "2023-11-06T07:14:48.342486Z",
     "iopub.status.idle": "2023-11-06T07:14:48.946458Z",
     "shell.execute_reply": "2023-11-06T07:14:48.945490Z"
    },
    "papermill": {
     "duration": 0.635388,
     "end_time": "2023-11-06T07:14:48.949439",
     "exception": false,
     "start_time": "2023-11-06T07:14:48.314051",
     "status": "completed"
    },
    "tags": []
   },
   "outputs": [],
   "source": [
    "from sklearn.linear_model import LinearRegression\n",
    "from sklearn.ensemble import RandomForestRegressor\n",
    "from sklearn.ensemble import GradientBoostingRegressor\n",
    "from xgboost import XGBRegressor"
   ]
  },
  {
   "cell_type": "markdown",
   "id": "b85b24b6",
   "metadata": {
    "papermill": {
     "duration": 0.027159,
     "end_time": "2023-11-06T07:14:49.004435",
     "exception": false,
     "start_time": "2023-11-06T07:14:48.977276",
     "status": "completed"
    },
    "tags": []
   },
   "source": []
  },
  {
   "cell_type": "markdown",
   "id": "4b6c49d3",
   "metadata": {
    "papermill": {
     "duration": 0.027835,
     "end_time": "2023-11-06T07:14:49.060225",
     "exception": false,
     "start_time": "2023-11-06T07:14:49.032390",
     "status": "completed"
    },
    "tags": []
   },
   "source": [
    "11. model traing"
   ]
  },
  {
   "cell_type": "code",
   "execution_count": 38,
   "id": "2b914463",
   "metadata": {
    "execution": {
     "iopub.execute_input": "2023-11-06T07:14:49.119031Z",
     "iopub.status.busy": "2023-11-06T07:14:49.118647Z",
     "iopub.status.idle": "2023-11-06T07:14:49.591108Z",
     "shell.execute_reply": "2023-11-06T07:14:49.590032Z"
    },
    "papermill": {
     "duration": 0.505282,
     "end_time": "2023-11-06T07:14:49.593917",
     "exception": false,
     "start_time": "2023-11-06T07:14:49.088635",
     "status": "completed"
    },
    "tags": []
   },
   "outputs": [
    {
     "data": {
      "text/html": [
       "<style>#sk-container-id-1 {color: black;background-color: white;}#sk-container-id-1 pre{padding: 0;}#sk-container-id-1 div.sk-toggleable {background-color: white;}#sk-container-id-1 label.sk-toggleable__label {cursor: pointer;display: block;width: 100%;margin-bottom: 0;padding: 0.3em;box-sizing: border-box;text-align: center;}#sk-container-id-1 label.sk-toggleable__label-arrow:before {content: \"▸\";float: left;margin-right: 0.25em;color: #696969;}#sk-container-id-1 label.sk-toggleable__label-arrow:hover:before {color: black;}#sk-container-id-1 div.sk-estimator:hover label.sk-toggleable__label-arrow:before {color: black;}#sk-container-id-1 div.sk-toggleable__content {max-height: 0;max-width: 0;overflow: hidden;text-align: left;background-color: #f0f8ff;}#sk-container-id-1 div.sk-toggleable__content pre {margin: 0.2em;color: black;border-radius: 0.25em;background-color: #f0f8ff;}#sk-container-id-1 input.sk-toggleable__control:checked~div.sk-toggleable__content {max-height: 200px;max-width: 100%;overflow: auto;}#sk-container-id-1 input.sk-toggleable__control:checked~label.sk-toggleable__label-arrow:before {content: \"▾\";}#sk-container-id-1 div.sk-estimator input.sk-toggleable__control:checked~label.sk-toggleable__label {background-color: #d4ebff;}#sk-container-id-1 div.sk-label input.sk-toggleable__control:checked~label.sk-toggleable__label {background-color: #d4ebff;}#sk-container-id-1 input.sk-hidden--visually {border: 0;clip: rect(1px 1px 1px 1px);clip: rect(1px, 1px, 1px, 1px);height: 1px;margin: -1px;overflow: hidden;padding: 0;position: absolute;width: 1px;}#sk-container-id-1 div.sk-estimator {font-family: monospace;background-color: #f0f8ff;border: 1px dotted black;border-radius: 0.25em;box-sizing: border-box;margin-bottom: 0.5em;}#sk-container-id-1 div.sk-estimator:hover {background-color: #d4ebff;}#sk-container-id-1 div.sk-parallel-item::after {content: \"\";width: 100%;border-bottom: 1px solid gray;flex-grow: 1;}#sk-container-id-1 div.sk-label:hover label.sk-toggleable__label {background-color: #d4ebff;}#sk-container-id-1 div.sk-serial::before {content: \"\";position: absolute;border-left: 1px solid gray;box-sizing: border-box;top: 0;bottom: 0;left: 50%;z-index: 0;}#sk-container-id-1 div.sk-serial {display: flex;flex-direction: column;align-items: center;background-color: white;padding-right: 0.2em;padding-left: 0.2em;position: relative;}#sk-container-id-1 div.sk-item {position: relative;z-index: 1;}#sk-container-id-1 div.sk-parallel {display: flex;align-items: stretch;justify-content: center;background-color: white;position: relative;}#sk-container-id-1 div.sk-item::before, #sk-container-id-1 div.sk-parallel-item::before {content: \"\";position: absolute;border-left: 1px solid gray;box-sizing: border-box;top: 0;bottom: 0;left: 50%;z-index: -1;}#sk-container-id-1 div.sk-parallel-item {display: flex;flex-direction: column;z-index: 1;position: relative;background-color: white;}#sk-container-id-1 div.sk-parallel-item:first-child::after {align-self: flex-end;width: 50%;}#sk-container-id-1 div.sk-parallel-item:last-child::after {align-self: flex-start;width: 50%;}#sk-container-id-1 div.sk-parallel-item:only-child::after {width: 0;}#sk-container-id-1 div.sk-dashed-wrapped {border: 1px dashed gray;margin: 0 0.4em 0.5em 0.4em;box-sizing: border-box;padding-bottom: 0.4em;background-color: white;}#sk-container-id-1 div.sk-label label {font-family: monospace;font-weight: bold;display: inline-block;line-height: 1.2em;}#sk-container-id-1 div.sk-label-container {text-align: center;}#sk-container-id-1 div.sk-container {/* jupyter's `normalize.less` sets `[hidden] { display: none; }` but bootstrap.min.css set `[hidden] { display: none !important; }` so we also need the `!important` here to be able to override the default hidden behavior on the sphinx rendered scikit-learn.org. See: https://github.com/scikit-learn/scikit-learn/issues/21755 */display: inline-block !important;position: relative;}#sk-container-id-1 div.sk-text-repr-fallback {display: none;}</style><div id=\"sk-container-id-1\" class=\"sk-top-container\"><div class=\"sk-text-repr-fallback\"><pre>XGBRegressor(base_score=None, booster=None, callbacks=None,\n",
       "             colsample_bylevel=None, colsample_bynode=None,\n",
       "             colsample_bytree=None, early_stopping_rounds=None,\n",
       "             enable_categorical=False, eval_metric=None, feature_types=None,\n",
       "             gamma=None, gpu_id=None, grow_policy=None, importance_type=None,\n",
       "             interaction_constraints=None, learning_rate=None, max_bin=None,\n",
       "             max_cat_threshold=None, max_cat_to_onehot=None,\n",
       "             max_delta_step=None, max_depth=None, max_leaves=None,\n",
       "             min_child_weight=None, missing=nan, monotone_constraints=None,\n",
       "             n_estimators=100, n_jobs=None, num_parallel_tree=None,\n",
       "             predictor=None, random_state=None, ...)</pre><b>In a Jupyter environment, please rerun this cell to show the HTML representation or trust the notebook. <br />On GitHub, the HTML representation is unable to render, please try loading this page with nbviewer.org.</b></div><div class=\"sk-container\" hidden><div class=\"sk-item\"><div class=\"sk-estimator sk-toggleable\"><input class=\"sk-toggleable__control sk-hidden--visually\" id=\"sk-estimator-id-1\" type=\"checkbox\" checked><label for=\"sk-estimator-id-1\" class=\"sk-toggleable__label sk-toggleable__label-arrow\">XGBRegressor</label><div class=\"sk-toggleable__content\"><pre>XGBRegressor(base_score=None, booster=None, callbacks=None,\n",
       "             colsample_bylevel=None, colsample_bynode=None,\n",
       "             colsample_bytree=None, early_stopping_rounds=None,\n",
       "             enable_categorical=False, eval_metric=None, feature_types=None,\n",
       "             gamma=None, gpu_id=None, grow_policy=None, importance_type=None,\n",
       "             interaction_constraints=None, learning_rate=None, max_bin=None,\n",
       "             max_cat_threshold=None, max_cat_to_onehot=None,\n",
       "             max_delta_step=None, max_depth=None, max_leaves=None,\n",
       "             min_child_weight=None, missing=nan, monotone_constraints=None,\n",
       "             n_estimators=100, n_jobs=None, num_parallel_tree=None,\n",
       "             predictor=None, random_state=None, ...)</pre></div></div></div></div></div>"
      ],
      "text/plain": [
       "XGBRegressor(base_score=None, booster=None, callbacks=None,\n",
       "             colsample_bylevel=None, colsample_bynode=None,\n",
       "             colsample_bytree=None, early_stopping_rounds=None,\n",
       "             enable_categorical=False, eval_metric=None, feature_types=None,\n",
       "             gamma=None, gpu_id=None, grow_policy=None, importance_type=None,\n",
       "             interaction_constraints=None, learning_rate=None, max_bin=None,\n",
       "             max_cat_threshold=None, max_cat_to_onehot=None,\n",
       "             max_delta_step=None, max_depth=None, max_leaves=None,\n",
       "             min_child_weight=None, missing=nan, monotone_constraints=None,\n",
       "             n_estimators=100, n_jobs=None, num_parallel_tree=None,\n",
       "             predictor=None, random_state=None, ...)"
      ]
     },
     "execution_count": 38,
     "metadata": {},
     "output_type": "execute_result"
    }
   ],
   "source": [
    "lr = LinearRegression()\n",
    "lr.fit(x_train,y_train)\n",
    "\n",
    "rf =  RandomForestRegressor()\n",
    "rf.fit(x_train,y_train)\n",
    "\n",
    "xgb =  GradientBoostingRegressor()\n",
    "xgb.fit(x_train,y_train)\n",
    "\n",
    "xg = XGBRegressor()\n",
    "xg.fit(x_train,y_train)"
   ]
  },
  {
   "cell_type": "markdown",
   "id": "1b1ad19d",
   "metadata": {
    "papermill": {
     "duration": 0.027128,
     "end_time": "2023-11-06T07:14:49.648506",
     "exception": false,
     "start_time": "2023-11-06T07:14:49.621378",
     "status": "completed"
    },
    "tags": []
   },
   "source": []
  },
  {
   "cell_type": "markdown",
   "id": "cc2bcdb6",
   "metadata": {
    "papermill": {
     "duration": 0.027001,
     "end_time": "2023-11-06T07:14:49.703365",
     "exception": false,
     "start_time": "2023-11-06T07:14:49.676364",
     "status": "completed"
    },
    "tags": []
   },
   "source": [
    "12. predication on  test data"
   ]
  },
  {
   "cell_type": "code",
   "execution_count": 39,
   "id": "8f4bb802",
   "metadata": {
    "execution": {
     "iopub.execute_input": "2023-11-06T07:14:49.763970Z",
     "iopub.status.busy": "2023-11-06T07:14:49.762728Z",
     "iopub.status.idle": "2023-11-06T07:14:49.796553Z",
     "shell.execute_reply": "2023-11-06T07:14:49.795626Z"
    },
    "papermill": {
     "duration": 0.066486,
     "end_time": "2023-11-06T07:14:49.799716",
     "exception": false,
     "start_time": "2023-11-06T07:14:49.733230",
     "status": "completed"
    },
    "tags": []
   },
   "outputs": [],
   "source": [
    "y_pred1 = lr.predict(x_test)\n",
    "y_pred2 = rf.predict(x_test)\n",
    "y_pred3 = xgb.predict(x_test)\n",
    "y_pred4 = xg.predict(x_test)"
   ]
  },
  {
   "cell_type": "markdown",
   "id": "03a80f9a",
   "metadata": {
    "papermill": {
     "duration": 0.027309,
     "end_time": "2023-11-06T07:14:49.855785",
     "exception": false,
     "start_time": "2023-11-06T07:14:49.828476",
     "status": "completed"
    },
    "tags": []
   },
   "source": []
  },
  {
   "cell_type": "markdown",
   "id": "4cec1f96",
   "metadata": {
    "papermill": {
     "duration": 0.028112,
     "end_time": "2023-11-06T07:14:49.912559",
     "exception": false,
     "start_time": "2023-11-06T07:14:49.884447",
     "status": "completed"
    },
    "tags": []
   },
   "source": [
    "13. Evaluating the algorithm"
   ]
  },
  {
   "cell_type": "code",
   "execution_count": 40,
   "id": "fb56230a",
   "metadata": {
    "execution": {
     "iopub.execute_input": "2023-11-06T07:14:49.970526Z",
     "iopub.status.busy": "2023-11-06T07:14:49.970079Z",
     "iopub.status.idle": "2023-11-06T07:14:49.975108Z",
     "shell.execute_reply": "2023-11-06T07:14:49.973937Z"
    },
    "papermill": {
     "duration": 0.036772,
     "end_time": "2023-11-06T07:14:49.977581",
     "exception": false,
     "start_time": "2023-11-06T07:14:49.940809",
     "status": "completed"
    },
    "tags": []
   },
   "outputs": [],
   "source": [
    "from sklearn import metrics"
   ]
  },
  {
   "cell_type": "code",
   "execution_count": 41,
   "id": "bdb42276",
   "metadata": {
    "execution": {
     "iopub.execute_input": "2023-11-06T07:14:50.034825Z",
     "iopub.status.busy": "2023-11-06T07:14:50.033964Z",
     "iopub.status.idle": "2023-11-06T07:14:50.042171Z",
     "shell.execute_reply": "2023-11-06T07:14:50.040925Z"
    },
    "papermill": {
     "duration": 0.039844,
     "end_time": "2023-11-06T07:14:50.044740",
     "exception": false,
     "start_time": "2023-11-06T07:14:50.004896",
     "status": "completed"
    },
    "tags": []
   },
   "outputs": [],
   "source": [
    "#Accuracy\n",
    "\n",
    "score1 = metrics.r2_score(y_test,y_pred1)*100\n",
    "score2 = metrics.r2_score(y_test,y_pred2)*100\n",
    "score3 = metrics.r2_score(y_test,y_pred3)*100\n",
    "score4 = metrics.r2_score(y_test,y_pred4)*100\n"
   ]
  },
  {
   "cell_type": "code",
   "execution_count": 42,
   "id": "401d0c83",
   "metadata": {
    "execution": {
     "iopub.execute_input": "2023-11-06T07:14:50.102058Z",
     "iopub.status.busy": "2023-11-06T07:14:50.101640Z",
     "iopub.status.idle": "2023-11-06T07:14:50.107168Z",
     "shell.execute_reply": "2023-11-06T07:14:50.105992Z"
    },
    "papermill": {
     "duration": 0.037966,
     "end_time": "2023-11-06T07:14:50.110840",
     "exception": false,
     "start_time": "2023-11-06T07:14:50.072874",
     "status": "completed"
    },
    "tags": []
   },
   "outputs": [
    {
     "name": "stdout",
     "output_type": "stream",
     "text": [
      "67.90884983129405 73.98718821843144 88.25970275252354 88.64839405756888\n"
     ]
    }
   ],
   "source": [
    "print(score1,score2,score3,score4)"
   ]
  },
  {
   "cell_type": "code",
   "execution_count": 43,
   "id": "047a6491",
   "metadata": {
    "execution": {
     "iopub.execute_input": "2023-11-06T07:14:50.168422Z",
     "iopub.status.busy": "2023-11-06T07:14:50.168018Z",
     "iopub.status.idle": "2023-11-06T07:14:50.175018Z",
     "shell.execute_reply": "2023-11-06T07:14:50.173774Z"
    },
    "papermill": {
     "duration": 0.039145,
     "end_time": "2023-11-06T07:14:50.177434",
     "exception": false,
     "start_time": "2023-11-06T07:14:50.138289",
     "status": "completed"
    },
    "tags": []
   },
   "outputs": [],
   "source": [
    "final_data = pd.DataFrame({'Models': ['LR','RF','GBR','XG'],\"R2_SCORE\":[score1,score2,score3,score4]})"
   ]
  },
  {
   "cell_type": "code",
   "execution_count": 44,
   "id": "4a5ef2a4",
   "metadata": {
    "execution": {
     "iopub.execute_input": "2023-11-06T07:14:50.234575Z",
     "iopub.status.busy": "2023-11-06T07:14:50.234165Z",
     "iopub.status.idle": "2023-11-06T07:14:50.245421Z",
     "shell.execute_reply": "2023-11-06T07:14:50.244099Z"
    },
    "papermill": {
     "duration": 0.042945,
     "end_time": "2023-11-06T07:14:50.247977",
     "exception": false,
     "start_time": "2023-11-06T07:14:50.205032",
     "status": "completed"
    },
    "tags": []
   },
   "outputs": [
    {
     "data": {
      "text/html": [
       "<div>\n",
       "<style scoped>\n",
       "    .dataframe tbody tr th:only-of-type {\n",
       "        vertical-align: middle;\n",
       "    }\n",
       "\n",
       "    .dataframe tbody tr th {\n",
       "        vertical-align: top;\n",
       "    }\n",
       "\n",
       "    .dataframe thead th {\n",
       "        text-align: right;\n",
       "    }\n",
       "</style>\n",
       "<table border=\"1\" class=\"dataframe\">\n",
       "  <thead>\n",
       "    <tr style=\"text-align: right;\">\n",
       "      <th></th>\n",
       "      <th>Models</th>\n",
       "      <th>R2_SCORE</th>\n",
       "    </tr>\n",
       "  </thead>\n",
       "  <tbody>\n",
       "    <tr>\n",
       "      <th>0</th>\n",
       "      <td>LR</td>\n",
       "      <td>67.908850</td>\n",
       "    </tr>\n",
       "    <tr>\n",
       "      <th>1</th>\n",
       "      <td>RF</td>\n",
       "      <td>73.987188</td>\n",
       "    </tr>\n",
       "    <tr>\n",
       "      <th>2</th>\n",
       "      <td>GBR</td>\n",
       "      <td>88.259703</td>\n",
       "    </tr>\n",
       "    <tr>\n",
       "      <th>3</th>\n",
       "      <td>XG</td>\n",
       "      <td>88.648394</td>\n",
       "    </tr>\n",
       "  </tbody>\n",
       "</table>\n",
       "</div>"
      ],
      "text/plain": [
       "  Models   R2_SCORE\n",
       "0     LR  67.908850\n",
       "1     RF  73.987188\n",
       "2    GBR  88.259703\n",
       "3     XG  88.648394"
      ]
     },
     "execution_count": 44,
     "metadata": {},
     "output_type": "execute_result"
    }
   ],
   "source": [
    "final_data"
   ]
  },
  {
   "cell_type": "code",
   "execution_count": 45,
   "id": "ad8db2c7",
   "metadata": {
    "execution": {
     "iopub.execute_input": "2023-11-06T07:14:50.307183Z",
     "iopub.status.busy": "2023-11-06T07:14:50.306775Z",
     "iopub.status.idle": "2023-11-06T07:14:50.560729Z",
     "shell.execute_reply": "2023-11-06T07:14:50.559536Z"
    },
    "papermill": {
     "duration": 0.286485,
     "end_time": "2023-11-06T07:14:50.563436",
     "exception": false,
     "start_time": "2023-11-06T07:14:50.276951",
     "status": "completed"
    },
    "tags": []
   },
   "outputs": [
    {
     "data": {
      "text/plain": [
       "<Axes: xlabel='Models', ylabel='R2_SCORE'>"
      ]
     },
     "execution_count": 45,
     "metadata": {},
     "output_type": "execute_result"
    },
    {
     "data": {
      "image/png": "[encoded data removed]",
      "text/plain": [
       "<Figure size 640x480 with 1 Axes>"
      ]
     },
     "metadata": {},
     "output_type": "display_data"
    }
   ],
   "source": [
    "import seaborn as sns\n",
    "sns.barplot(x=final_data['Models'],y=final_data['R2_SCORE'])"
   ]
  },
  {
   "cell_type": "markdown",
   "id": "61dbdfb4",
   "metadata": {
    "papermill": {
     "duration": 0.028399,
     "end_time": "2023-11-06T07:14:50.620751",
     "exception": false,
     "start_time": "2023-11-06T07:14:50.592352",
     "status": "completed"
    },
    "tags": []
   },
   "source": []
  },
  {
   "cell_type": "markdown",
   "id": "7e284cc3",
   "metadata": {
    "papermill": {
     "duration": 0.029312,
     "end_time": "2023-11-06T07:14:50.678814",
     "exception": false,
     "start_time": "2023-11-06T07:14:50.649502",
     "status": "completed"
    },
    "tags": []
   },
   "source": [
    "14. save the model"
   ]
  },
  {
   "cell_type": "code",
   "execution_count": 46,
   "id": "a77fbc15",
   "metadata": {
    "execution": {
     "iopub.execute_input": "2023-11-06T07:14:50.742773Z",
     "iopub.status.busy": "2023-11-06T07:14:50.742355Z",
     "iopub.status.idle": "2023-11-06T07:14:50.835627Z",
     "shell.execute_reply": "2023-11-06T07:14:50.834487Z"
    },
    "papermill": {
     "duration": 0.131338,
     "end_time": "2023-11-06T07:14:50.838828",
     "exception": false,
     "start_time": "2023-11-06T07:14:50.707490",
     "status": "completed"
    },
    "tags": []
   },
   "outputs": [],
   "source": [
    "xg = XGBRegressor()\n",
    "xg_final = xg.fit(x,y)"
   ]
  },
  {
   "cell_type": "code",
   "execution_count": 47,
   "id": "09d64c3b",
   "metadata": {
    "execution": {
     "iopub.execute_input": "2023-11-06T07:14:50.899171Z",
     "iopub.status.busy": "2023-11-06T07:14:50.898775Z",
     "iopub.status.idle": "2023-11-06T07:14:50.903496Z",
     "shell.execute_reply": "2023-11-06T07:14:50.902402Z"
    },
    "papermill": {
     "duration": 0.036824,
     "end_time": "2023-11-06T07:14:50.905892",
     "exception": false,
     "start_time": "2023-11-06T07:14:50.869068",
     "status": "completed"
    },
    "tags": []
   },
   "outputs": [],
   "source": [
    "import joblib"
   ]
  },
  {
   "cell_type": "code",
   "execution_count": 48,
   "id": "70ca39b3",
   "metadata": {
    "execution": {
     "iopub.execute_input": "2023-11-06T07:14:50.964879Z",
     "iopub.status.busy": "2023-11-06T07:14:50.963563Z",
     "iopub.status.idle": "2023-11-06T07:14:50.979046Z",
     "shell.execute_reply": "2023-11-06T07:14:50.978074Z"
    },
    "papermill": {
     "duration": 0.047746,
     "end_time": "2023-11-06T07:14:50.981933",
     "exception": false,
     "start_time": "2023-11-06T07:14:50.934187",
     "status": "completed"
    },
    "tags": []
   },
   "outputs": [
    {
     "data": {
      "text/plain": [
       "['car_price_predictor']"
      ]
     },
     "execution_count": 48,
     "metadata": {},
     "output_type": "execute_result"
    }
   ],
   "source": [
    "joblib.dump(xg_final,'car_price_predictor')"
   ]
  },
  {
   "cell_type": "code",
   "execution_count": 49,
   "id": "57379772",
   "metadata": {
    "execution": {
     "iopub.execute_input": "2023-11-06T07:14:51.041230Z",
     "iopub.status.busy": "2023-11-06T07:14:51.040714Z",
     "iopub.status.idle": "2023-11-06T07:14:51.049943Z",
     "shell.execute_reply": "2023-11-06T07:14:51.049036Z"
    },
    "papermill": {
     "duration": 0.043688,
     "end_time": "2023-11-06T07:14:51.054630",
     "exception": false,
     "start_time": "2023-11-06T07:14:51.010942",
     "status": "completed"
    },
    "tags": []
   },
   "outputs": [],
   "source": [
    "model = joblib.load('car_price_predictor')"
   ]
  },
  {
   "cell_type": "markdown",
   "id": "a07af9ab",
   "metadata": {
    "papermill": {
     "duration": 0.028664,
     "end_time": "2023-11-06T07:14:51.113172",
     "exception": false,
     "start_time": "2023-11-06T07:14:51.084508",
     "status": "completed"
    },
    "tags": []
   },
   "source": []
  },
  {
   "cell_type": "markdown",
   "id": "7b0a2a7f",
   "metadata": {
    "papermill": {
     "duration": 0.028728,
     "end_time": "2023-11-06T07:14:51.170321",
     "exception": false,
     "start_time": "2023-11-06T07:14:51.141593",
     "status": "completed"
    },
    "tags": []
   },
   "source": [
    "15. predicat on new data"
   ]
  },
  {
   "cell_type": "code",
   "execution_count": 50,
   "id": "8d277d2d",
   "metadata": {
    "execution": {
     "iopub.execute_input": "2023-11-06T07:14:51.229592Z",
     "iopub.status.busy": "2023-11-06T07:14:51.229176Z",
     "iopub.status.idle": "2023-11-06T07:14:51.235929Z",
     "shell.execute_reply": "2023-11-06T07:14:51.235022Z"
    },
    "papermill": {
     "duration": 0.038545,
     "end_time": "2023-11-06T07:14:51.238136",
     "exception": false,
     "start_time": "2023-11-06T07:14:51.199591",
     "status": "completed"
    },
    "tags": []
   },
   "outputs": [],
   "source": [
    "import pandas as pd\n",
    "\n",
    "data_new = pd.DataFrame({\n",
    "    'Present_Price':5.59,\n",
    "    'Kms_Driven':27000,\n",
    "    'Fuel_Type':0,\n",
    "    'Seller_Type':0,\n",
    "    'Transmission':0,\n",
    "    'Owner':0,\n",
    "    'Age':8\n",
    "},index=[0])"
   ]
  },
  {
   "cell_type": "code",
   "execution_count": 51,
   "id": "1f8d6045",
   "metadata": {
    "execution": {
     "iopub.execute_input": "2023-11-06T07:14:51.297553Z",
     "iopub.status.busy": "2023-11-06T07:14:51.296799Z",
     "iopub.status.idle": "2023-11-06T07:14:51.311622Z",
     "shell.execute_reply": "2023-11-06T07:14:51.310640Z"
    },
    "papermill": {
     "duration": 0.047847,
     "end_time": "2023-11-06T07:14:51.314540",
     "exception": false,
     "start_time": "2023-11-06T07:14:51.266693",
     "status": "completed"
    },
    "tags": []
   },
   "outputs": [
    {
     "name": "stdout",
     "output_type": "stream",
     "text": [
      "99.99878414621973\n"
     ]
    }
   ],
   "source": [
    "model.predict(data_new)\n",
    "print(model.score(x,y)*100)\n"
   ]
  },
  {
   "cell_type": "code",
   "execution_count": null,
   "id": "199b0721",
   "metadata": {
    "papermill": {
     "duration": 0.028503,
     "end_time": "2023-11-06T07:14:51.373547",
     "exception": false,
     "start_time": "2023-11-06T07:14:51.345044",
     "status": "completed"
    },
    "tags": []
   },
   "outputs": [],
   "source": []
  }
 ],
 "metadata": {
  "kernelspec": {
   "display_name": "Python 3",
   "language": "python",
   "name": "python3"
  },
  "language_info": {
   "codemirror_mode": {
    "name": "ipython",
    "version": 3
   },
   "file_extension": ".py",
   "mimetype": "text/x-python",
   "name": "python",
   "nbconvert_exporter": "python",
   "pygments_lexer": "ipython3",
   "version": "3.10.12"
  },
  "papermill": {
   "default_parameters": {},
   "duration": 13.872208,
   "end_time": "2023-11-06T07:14:52.124117",
   "environment_variables": {},
   "exception": null,
   "input_path": "__notebook__.ipynb",
   "output_path": "__notebook__.ipynb",
   "parameters": {},
   "start_time": "2023-11-06T07:14:38.251909",
   "version": "2.4.0"
  }
 },
 "nbformat": 4,
 "nbformat_minor": 5
}
