{
 "cells": [
  {
   "cell_type": "markdown",
   "id": "05bc40f2",
   "metadata": {
    "_cell_guid": "b1076dfc-b9ad-4769-8c92-a6c4dae69d19",
    "_uuid": "8f2839f25d086af736a60e9eeb907d3b93b6e0e5",
    "execution": {
     "iopub.execute_input": "2023-11-05T14:07:43.933394Z",
     "iopub.status.busy": "2023-11-05T14:07:43.932942Z",
     "iopub.status.idle": "2023-11-05T14:07:43.970169Z",
     "shell.execute_reply": "2023-11-05T14:07:43.969096Z",
     "shell.execute_reply.started": "2023-11-05T14:07:43.933355Z"
    },
    "papermill": {
     "duration": 0.023081,
     "end_time": "2023-11-05T16:37:54.067968",
     "exception": false,
     "start_time": "2023-11-05T16:37:54.044887",
     "status": "completed"
    },
    "tags": []
   },
   "source": [
    "# **CAR PRICE PREDICATION**\n",
    "\n",
    "This dataset contains information about used cars.\n",
    "This data can be used for a lot of purposes such as price prediction to exemplify the use of linear regression in Machine Learning.\n",
    "The columns in the given dataset are as follows:\n",
    "\n",
    "1.name\n",
    "2.year\n",
    "3.selling_price\n",
    "4.km_driven\n",
    "5.fuel\n",
    "6.seller_type\n",
    "7.transmission\n",
    "8.Owner\n",
    "\n",
    "\n"
   ]
  },
  {
   "cell_type": "code",
   "execution_count": 1,
   "id": "7d463cd5",
   "metadata": {
    "execution": {
     "iopub.execute_input": "2023-11-05T16:37:54.113504Z",
     "iopub.status.busy": "2023-11-05T16:37:54.112513Z",
     "iopub.status.idle": "2023-11-05T16:37:54.124219Z",
     "shell.execute_reply": "2023-11-05T16:37:54.123357Z"
    },
    "papermill": {
     "duration": 0.036852,
     "end_time": "2023-11-05T16:37:54.126420",
     "exception": false,
     "start_time": "2023-11-05T16:37:54.089568",
     "status": "completed"
    },
    "tags": []
   },
   "outputs": [],
   "source": [
    "import warnings\n",
    "warnings.filterwarnings(\"ignore\")"
   ]
  },
  {
   "cell_type": "code",
   "execution_count": 2,
   "id": "36f9fcad",
   "metadata": {
    "execution": {
     "iopub.execute_input": "2023-11-05T16:37:54.173573Z",
     "iopub.status.busy": "2023-11-05T16:37:54.172952Z",
     "iopub.status.idle": "2023-11-05T16:37:54.578502Z",
     "shell.execute_reply": "2023-11-05T16:37:54.577289Z"
    },
    "papermill": {
     "duration": 0.433485,
     "end_time": "2023-11-05T16:37:54.581533",
     "exception": false,
     "start_time": "2023-11-05T16:37:54.148048",
     "status": "completed"
    },
    "tags": []
   },
   "outputs": [],
   "source": [
    "import pandas as pd\n",
    "\n",
    "data = pd.read_csv('/kaggle/input/car-data/cardata.csv');"
   ]
  },
  {
   "cell_type": "markdown",
   "id": "0f2b3a43",
   "metadata": {
    "papermill": {
     "duration": 0.021113,
     "end_time": "2023-11-05T16:37:54.624351",
     "exception": false,
     "start_time": "2023-11-05T16:37:54.603238",
     "status": "completed"
    },
    "tags": []
   },
   "source": [
    "1.  Display the first 5  rows of data set"
   ]
  },
  {
   "cell_type": "code",
   "execution_count": 3,
   "id": "b5e89031",
   "metadata": {
    "execution": {
     "iopub.execute_input": "2023-11-05T16:37:54.667779Z",
     "iopub.status.busy": "2023-11-05T16:37:54.667361Z",
     "iopub.status.idle": "2023-11-05T16:37:54.691504Z",
     "shell.execute_reply": "2023-11-05T16:37:54.690707Z"
    },
    "papermill": {
     "duration": 0.048513,
     "end_time": "2023-11-05T16:37:54.694037",
     "exception": false,
     "start_time": "2023-11-05T16:37:54.645524",
     "status": "completed"
    },
    "tags": []
   },
   "outputs": [
    {
     "data": {
      "text/html": [
       "<div>\n",
       "<style scoped>\n",
       "    .dataframe tbody tr th:only-of-type {\n",
       "        vertical-align: middle;\n",
       "    }\n",
       "\n",
       "    .dataframe tbody tr th {\n",
       "        vertical-align: top;\n",
       "    }\n",
       "\n",
       "    .dataframe thead th {\n",
       "        text-align: right;\n",
       "    }\n",
       "</style>\n",
       "<table border=\"1\" class=\"dataframe\">\n",
       "  <thead>\n",
       "    <tr style=\"text-align: right;\">\n",
       "      <th></th>\n",
       "      <th>Car_Name</th>\n",
       "      <th>Year</th>\n",
       "      <th>Selling_Price</th>\n",
       "      <th>Present_Price</th>\n",
       "      <th>Kms_Driven</th>\n",
       "      <th>Fuel_Type</th>\n",
       "      <th>Seller_Type</th>\n",
       "      <th>Transmission</th>\n",
       "      <th>Owner</th>\n",
       "    </tr>\n",
       "  </thead>\n",
       "  <tbody>\n",
       "    <tr>\n",
       "      <th>0</th>\n",
       "      <td>ritz</td>\n",
       "      <td>2014</td>\n",
       "      <td>3.35</td>\n",
       "      <td>5.59</td>\n",
       "      <td>27000</td>\n",
       "      <td>Petrol</td>\n",
       "      <td>Dealer</td>\n",
       "      <td>Manual</td>\n",
       "      <td>0</td>\n",
       "    </tr>\n",
       "    <tr>\n",
       "      <th>1</th>\n",
       "      <td>sx4</td>\n",
       "      <td>2013</td>\n",
       "      <td>4.75</td>\n",
       "      <td>9.54</td>\n",
       "      <td>43000</td>\n",
       "      <td>Diesel</td>\n",
       "      <td>Dealer</td>\n",
       "      <td>Manual</td>\n",
       "      <td>0</td>\n",
       "    </tr>\n",
       "    <tr>\n",
       "      <th>2</th>\n",
       "      <td>ciaz</td>\n",
       "      <td>2017</td>\n",
       "      <td>7.25</td>\n",
       "      <td>9.85</td>\n",
       "      <td>6900</td>\n",
       "      <td>Petrol</td>\n",
       "      <td>Dealer</td>\n",
       "      <td>Manual</td>\n",
       "      <td>0</td>\n",
       "    </tr>\n",
       "    <tr>\n",
       "      <th>3</th>\n",
       "      <td>wagon r</td>\n",
       "      <td>2011</td>\n",
       "      <td>2.85</td>\n",
       "      <td>4.15</td>\n",
       "      <td>5200</td>\n",
       "      <td>Petrol</td>\n",
       "      <td>Dealer</td>\n",
       "      <td>Manual</td>\n",
       "      <td>0</td>\n",
       "    </tr>\n",
       "    <tr>\n",
       "      <th>4</th>\n",
       "      <td>swift</td>\n",
       "      <td>2014</td>\n",
       "      <td>4.60</td>\n",
       "      <td>6.87</td>\n",
       "      <td>42450</td>\n",
       "      <td>Diesel</td>\n",
       "      <td>Dealer</td>\n",
       "      <td>Manual</td>\n",
       "      <td>0</td>\n",
       "    </tr>\n",
       "  </tbody>\n",
       "</table>\n",
       "</div>"
      ],
      "text/plain": [
       "  Car_Name  Year  Selling_Price  Present_Price  Kms_Driven Fuel_Type  \\\n",
       "0     ritz  2014           3.35           5.59       27000    Petrol   \n",
       "1      sx4  2013           4.75           9.54       43000    Diesel   \n",
       "2     ciaz  2017           7.25           9.85        6900    Petrol   \n",
       "3  wagon r  2011           2.85           4.15        5200    Petrol   \n",
       "4    swift  2014           4.60           6.87       42450    Diesel   \n",
       "\n",
       "  Seller_Type Transmission  Owner  \n",
       "0      Dealer       Manual      0  \n",
       "1      Dealer       Manual      0  \n",
       "2      Dealer       Manual      0  \n",
       "3      Dealer       Manual      0  \n",
       "4      Dealer       Manual      0  "
      ]
     },
     "execution_count": 3,
     "metadata": {},
     "output_type": "execute_result"
    }
   ],
   "source": [
    "data.head()"
   ]
  },
  {
   "cell_type": "markdown",
   "id": "01fb912f",
   "metadata": {
    "papermill": {
     "duration": 0.021394,
     "end_time": "2023-11-05T16:37:54.735862",
     "exception": false,
     "start_time": "2023-11-05T16:37:54.714468",
     "status": "completed"
    },
    "tags": []
   },
   "source": [
    "2. Display the last 5 rows of dataset"
   ]
  },
  {
   "cell_type": "code",
   "execution_count": 4,
   "id": "bb24eb25",
   "metadata": {
    "execution": {
     "iopub.execute_input": "2023-11-05T16:37:54.780544Z",
     "iopub.status.busy": "2023-11-05T16:37:54.779954Z",
     "iopub.status.idle": "2023-11-05T16:37:54.793691Z",
     "shell.execute_reply": "2023-11-05T16:37:54.792948Z"
    },
    "papermill": {
     "duration": 0.038238,
     "end_time": "2023-11-05T16:37:54.795838",
     "exception": false,
     "start_time": "2023-11-05T16:37:54.757600",
     "status": "completed"
    },
    "tags": []
   },
   "outputs": [
    {
     "data": {
      "text/html": [
       "<div>\n",
       "<style scoped>\n",
       "    .dataframe tbody tr th:only-of-type {\n",
       "        vertical-align: middle;\n",
       "    }\n",
       "\n",
       "    .dataframe tbody tr th {\n",
       "        vertical-align: top;\n",
       "    }\n",
       "\n",
       "    .dataframe thead th {\n",
       "        text-align: right;\n",
       "    }\n",
       "</style>\n",
       "<table border=\"1\" class=\"dataframe\">\n",
       "  <thead>\n",
       "    <tr style=\"text-align: right;\">\n",
       "      <th></th>\n",
       "      <th>Car_Name</th>\n",
       "      <th>Year</th>\n",
       "      <th>Selling_Price</th>\n",
       "      <th>Present_Price</th>\n",
       "      <th>Kms_Driven</th>\n",
       "      <th>Fuel_Type</th>\n",
       "      <th>Seller_Type</th>\n",
       "      <th>Transmission</th>\n",
       "      <th>Owner</th>\n",
       "    </tr>\n",
       "  </thead>\n",
       "  <tbody>\n",
       "    <tr>\n",
       "      <th>296</th>\n",
       "      <td>city</td>\n",
       "      <td>2016</td>\n",
       "      <td>9.50</td>\n",
       "      <td>11.6</td>\n",
       "      <td>33988</td>\n",
       "      <td>Diesel</td>\n",
       "      <td>Dealer</td>\n",
       "      <td>Manual</td>\n",
       "      <td>0</td>\n",
       "    </tr>\n",
       "    <tr>\n",
       "      <th>297</th>\n",
       "      <td>brio</td>\n",
       "      <td>2015</td>\n",
       "      <td>4.00</td>\n",
       "      <td>5.9</td>\n",
       "      <td>60000</td>\n",
       "      <td>Petrol</td>\n",
       "      <td>Dealer</td>\n",
       "      <td>Manual</td>\n",
       "      <td>0</td>\n",
       "    </tr>\n",
       "    <tr>\n",
       "      <th>298</th>\n",
       "      <td>city</td>\n",
       "      <td>2009</td>\n",
       "      <td>3.35</td>\n",
       "      <td>11.0</td>\n",
       "      <td>87934</td>\n",
       "      <td>Petrol</td>\n",
       "      <td>Dealer</td>\n",
       "      <td>Manual</td>\n",
       "      <td>0</td>\n",
       "    </tr>\n",
       "    <tr>\n",
       "      <th>299</th>\n",
       "      <td>city</td>\n",
       "      <td>2017</td>\n",
       "      <td>11.50</td>\n",
       "      <td>12.5</td>\n",
       "      <td>9000</td>\n",
       "      <td>Diesel</td>\n",
       "      <td>Dealer</td>\n",
       "      <td>Manual</td>\n",
       "      <td>0</td>\n",
       "    </tr>\n",
       "    <tr>\n",
       "      <th>300</th>\n",
       "      <td>brio</td>\n",
       "      <td>2016</td>\n",
       "      <td>5.30</td>\n",
       "      <td>5.9</td>\n",
       "      <td>5464</td>\n",
       "      <td>Petrol</td>\n",
       "      <td>Dealer</td>\n",
       "      <td>Manual</td>\n",
       "      <td>0</td>\n",
       "    </tr>\n",
       "  </tbody>\n",
       "</table>\n",
       "</div>"
      ],
      "text/plain": [
       "    Car_Name  Year  Selling_Price  Present_Price  Kms_Driven Fuel_Type  \\\n",
       "296     city  2016           9.50           11.6       33988    Diesel   \n",
       "297     brio  2015           4.00            5.9       60000    Petrol   \n",
       "298     city  2009           3.35           11.0       87934    Petrol   \n",
       "299     city  2017          11.50           12.5        9000    Diesel   \n",
       "300     brio  2016           5.30            5.9        5464    Petrol   \n",
       "\n",
       "    Seller_Type Transmission  Owner  \n",
       "296      Dealer       Manual      0  \n",
       "297      Dealer       Manual      0  \n",
       "298      Dealer       Manual      0  \n",
       "299      Dealer       Manual      0  \n",
       "300      Dealer       Manual      0  "
      ]
     },
     "execution_count": 4,
     "metadata": {},
     "output_type": "execute_result"
    }
   ],
   "source": [
    "data.tail()"
   ]
  },
  {
   "cell_type": "markdown",
   "id": "c624d159",
   "metadata": {
    "papermill": {
     "duration": 0.021162,
     "end_time": "2023-11-05T16:37:54.838517",
     "exception": false,
     "start_time": "2023-11-05T16:37:54.817355",
     "status": "completed"
    },
    "tags": []
   },
   "source": []
  },
  {
   "cell_type": "markdown",
   "id": "5d9d9077",
   "metadata": {
    "papermill": {
     "duration": 0.078668,
     "end_time": "2023-11-05T16:37:54.937953",
     "exception": false,
     "start_time": "2023-11-05T16:37:54.859285",
     "status": "completed"
    },
    "tags": []
   },
   "source": [
    "3. find the shape of our daraset ( number of rows and number of columns )"
   ]
  },
  {
   "cell_type": "code",
   "execution_count": 5,
   "id": "d97478d8",
   "metadata": {
    "execution": {
     "iopub.execute_input": "2023-11-05T16:37:54.982469Z",
     "iopub.status.busy": "2023-11-05T16:37:54.981852Z",
     "iopub.status.idle": "2023-11-05T16:37:54.987360Z",
     "shell.execute_reply": "2023-11-05T16:37:54.986594Z"
    },
    "papermill": {
     "duration": 0.029995,
     "end_time": "2023-11-05T16:37:54.989260",
     "exception": false,
     "start_time": "2023-11-05T16:37:54.959265",
     "status": "completed"
    },
    "tags": []
   },
   "outputs": [
    {
     "data": {
      "text/plain": [
       "(301, 9)"
      ]
     },
     "execution_count": 5,
     "metadata": {},
     "output_type": "execute_result"
    }
   ],
   "source": [
    "data.shape"
   ]
  },
  {
   "cell_type": "code",
   "execution_count": 6,
   "id": "75d430e4",
   "metadata": {
    "execution": {
     "iopub.execute_input": "2023-11-05T16:37:55.033699Z",
     "iopub.status.busy": "2023-11-05T16:37:55.033280Z",
     "iopub.status.idle": "2023-11-05T16:37:55.039744Z",
     "shell.execute_reply": "2023-11-05T16:37:55.038653Z"
    },
    "papermill": {
     "duration": 0.03195,
     "end_time": "2023-11-05T16:37:55.042005",
     "exception": false,
     "start_time": "2023-11-05T16:37:55.010055",
     "status": "completed"
    },
    "tags": []
   },
   "outputs": [
    {
     "name": "stdout",
     "output_type": "stream",
     "text": [
      "number of rows  301\n",
      "number of coloumns  9\n"
     ]
    }
   ],
   "source": [
    "print(\"number of rows \",data.shape[0])\n",
    "print(\"number of coloumns \",data.shape[1])"
   ]
  },
  {
   "cell_type": "markdown",
   "id": "416f33ef",
   "metadata": {
    "papermill": {
     "duration": 0.02211,
     "end_time": "2023-11-05T16:37:55.086383",
     "exception": false,
     "start_time": "2023-11-05T16:37:55.064273",
     "status": "completed"
    },
    "tags": []
   },
   "source": []
  },
  {
   "cell_type": "markdown",
   "id": "95c760c7",
   "metadata": {
    "papermill": {
     "duration": 0.022747,
     "end_time": "2023-11-05T16:37:55.130545",
     "exception": false,
     "start_time": "2023-11-05T16:37:55.107798",
     "status": "completed"
    },
    "tags": []
   },
   "source": [
    "4.  get information about the dataset like total number of rows total number of column data type of each collumn and memory requirement "
   ]
  },
  {
   "cell_type": "code",
   "execution_count": 7,
   "id": "c1374ab0",
   "metadata": {
    "execution": {
     "iopub.execute_input": "2023-11-05T16:37:55.175993Z",
     "iopub.status.busy": "2023-11-05T16:37:55.175231Z",
     "iopub.status.idle": "2023-11-05T16:37:55.203829Z",
     "shell.execute_reply": "2023-11-05T16:37:55.202457Z"
    },
    "papermill": {
     "duration": 0.054337,
     "end_time": "2023-11-05T16:37:55.206340",
     "exception": false,
     "start_time": "2023-11-05T16:37:55.152003",
     "status": "completed"
    },
    "tags": []
   },
   "outputs": [
    {
     "name": "stdout",
     "output_type": "stream",
     "text": [
      "<class 'pandas.core.frame.DataFrame'>\n",
      "RangeIndex: 301 entries, 0 to 300\n",
      "Data columns (total 9 columns):\n",
      " #   Column         Non-Null Count  Dtype  \n",
      "---  ------         --------------  -----  \n",
      " 0   Car_Name       301 non-null    object \n",
      " 1   Year           301 non-null    int64  \n",
      " 2   Selling_Price  301 non-null    float64\n",
      " 3   Present_Price  301 non-null    float64\n",
      " 4   Kms_Driven     301 non-null    int64  \n",
      " 5   Fuel_Type      301 non-null    object \n",
      " 6   Seller_Type    301 non-null    object \n",
      " 7   Transmission   301 non-null    object \n",
      " 8   Owner          301 non-null    int64  \n",
      "dtypes: float64(2), int64(3), object(4)\n",
      "memory usage: 21.3+ KB\n"
     ]
    }
   ],
   "source": [
    "data.info()"
   ]
  },
  {
   "cell_type": "markdown",
   "id": "c790f24f",
   "metadata": {
    "papermill": {
     "duration": 0.022067,
     "end_time": "2023-11-05T16:37:55.250838",
     "exception": false,
     "start_time": "2023-11-05T16:37:55.228771",
     "status": "completed"
    },
    "tags": []
   },
   "source": []
  },
  {
   "cell_type": "markdown",
   "id": "39e79970",
   "metadata": {
    "papermill": {
     "duration": 0.021448,
     "end_time": "2023-11-05T16:37:55.294271",
     "exception": false,
     "start_time": "2023-11-05T16:37:55.272823",
     "status": "completed"
    },
    "tags": []
   },
   "source": [
    "5. Check the null values in dataset"
   ]
  },
  {
   "cell_type": "code",
   "execution_count": 8,
   "id": "fa77eddc",
   "metadata": {
    "execution": {
     "iopub.execute_input": "2023-11-05T16:37:55.339990Z",
     "iopub.status.busy": "2023-11-05T16:37:55.339647Z",
     "iopub.status.idle": "2023-11-05T16:37:55.347867Z",
     "shell.execute_reply": "2023-11-05T16:37:55.346788Z"
    },
    "papermill": {
     "duration": 0.034065,
     "end_time": "2023-11-05T16:37:55.350284",
     "exception": false,
     "start_time": "2023-11-05T16:37:55.316219",
     "status": "completed"
    },
    "tags": []
   },
   "outputs": [
    {
     "data": {
      "text/plain": [
       "Car_Name         0\n",
       "Year             0\n",
       "Selling_Price    0\n",
       "Present_Price    0\n",
       "Kms_Driven       0\n",
       "Fuel_Type        0\n",
       "Seller_Type      0\n",
       "Transmission     0\n",
       "Owner            0\n",
       "dtype: int64"
      ]
     },
     "execution_count": 8,
     "metadata": {},
     "output_type": "execute_result"
    }
   ],
   "source": [
    "data.isnull().sum()"
   ]
  },
  {
   "cell_type": "markdown",
   "id": "2565177a",
   "metadata": {
    "papermill": {
     "duration": 0.02187,
     "end_time": "2023-11-05T16:37:55.394590",
     "exception": false,
     "start_time": "2023-11-05T16:37:55.372720",
     "status": "completed"
    },
    "tags": []
   },
   "source": []
  },
  {
   "cell_type": "markdown",
   "id": "3022aa6b",
   "metadata": {
    "papermill": {
     "duration": 0.021534,
     "end_time": "2023-11-05T16:37:55.438443",
     "exception": false,
     "start_time": "2023-11-05T16:37:55.416909",
     "status": "completed"
    },
    "tags": []
   },
   "source": [
    "6. get overall statistic about the dataset"
   ]
  },
  {
   "cell_type": "code",
   "execution_count": 9,
   "id": "506e745f",
   "metadata": {
    "execution": {
     "iopub.execute_input": "2023-11-05T16:37:55.484646Z",
     "iopub.status.busy": "2023-11-05T16:37:55.483601Z",
     "iopub.status.idle": "2023-11-05T16:37:55.510474Z",
     "shell.execute_reply": "2023-11-05T16:37:55.509628Z"
    },
    "papermill": {
     "duration": 0.052575,
     "end_time": "2023-11-05T16:37:55.512648",
     "exception": false,
     "start_time": "2023-11-05T16:37:55.460073",
     "status": "completed"
    },
    "tags": []
   },
   "outputs": [
    {
     "data": {
      "text/html": [
       "<div>\n",
       "<style scoped>\n",
       "    .dataframe tbody tr th:only-of-type {\n",
       "        vertical-align: middle;\n",
       "    }\n",
       "\n",
       "    .dataframe tbody tr th {\n",
       "        vertical-align: top;\n",
       "    }\n",
       "\n",
       "    .dataframe thead th {\n",
       "        text-align: right;\n",
       "    }\n",
       "</style>\n",
       "<table border=\"1\" class=\"dataframe\">\n",
       "  <thead>\n",
       "    <tr style=\"text-align: right;\">\n",
       "      <th></th>\n",
       "      <th>Year</th>\n",
       "      <th>Selling_Price</th>\n",
       "      <th>Present_Price</th>\n",
       "      <th>Kms_Driven</th>\n",
       "      <th>Owner</th>\n",
       "    </tr>\n",
       "  </thead>\n",
       "  <tbody>\n",
       "    <tr>\n",
       "      <th>count</th>\n",
       "      <td>301.000000</td>\n",
       "      <td>301.000000</td>\n",
       "      <td>301.000000</td>\n",
       "      <td>301.000000</td>\n",
       "      <td>301.000000</td>\n",
       "    </tr>\n",
       "    <tr>\n",
       "      <th>mean</th>\n",
       "      <td>2013.627907</td>\n",
       "      <td>4.661296</td>\n",
       "      <td>7.628472</td>\n",
       "      <td>36947.205980</td>\n",
       "      <td>0.043189</td>\n",
       "    </tr>\n",
       "    <tr>\n",
       "      <th>std</th>\n",
       "      <td>2.891554</td>\n",
       "      <td>5.082812</td>\n",
       "      <td>8.644115</td>\n",
       "      <td>38886.883882</td>\n",
       "      <td>0.247915</td>\n",
       "    </tr>\n",
       "    <tr>\n",
       "      <th>min</th>\n",
       "      <td>2003.000000</td>\n",
       "      <td>0.100000</td>\n",
       "      <td>0.320000</td>\n",
       "      <td>500.000000</td>\n",
       "      <td>0.000000</td>\n",
       "    </tr>\n",
       "    <tr>\n",
       "      <th>25%</th>\n",
       "      <td>2012.000000</td>\n",
       "      <td>0.900000</td>\n",
       "      <td>1.200000</td>\n",
       "      <td>15000.000000</td>\n",
       "      <td>0.000000</td>\n",
       "    </tr>\n",
       "    <tr>\n",
       "      <th>50%</th>\n",
       "      <td>2014.000000</td>\n",
       "      <td>3.600000</td>\n",
       "      <td>6.400000</td>\n",
       "      <td>32000.000000</td>\n",
       "      <td>0.000000</td>\n",
       "    </tr>\n",
       "    <tr>\n",
       "      <th>75%</th>\n",
       "      <td>2016.000000</td>\n",
       "      <td>6.000000</td>\n",
       "      <td>9.900000</td>\n",
       "      <td>48767.000000</td>\n",
       "      <td>0.000000</td>\n",
       "    </tr>\n",
       "    <tr>\n",
       "      <th>max</th>\n",
       "      <td>2018.000000</td>\n",
       "      <td>35.000000</td>\n",
       "      <td>92.600000</td>\n",
       "      <td>500000.000000</td>\n",
       "      <td>3.000000</td>\n",
       "    </tr>\n",
       "  </tbody>\n",
       "</table>\n",
       "</div>"
      ],
      "text/plain": [
       "              Year  Selling_Price  Present_Price     Kms_Driven       Owner\n",
       "count   301.000000     301.000000     301.000000     301.000000  301.000000\n",
       "mean   2013.627907       4.661296       7.628472   36947.205980    0.043189\n",
       "std       2.891554       5.082812       8.644115   38886.883882    0.247915\n",
       "min    2003.000000       0.100000       0.320000     500.000000    0.000000\n",
       "25%    2012.000000       0.900000       1.200000   15000.000000    0.000000\n",
       "50%    2014.000000       3.600000       6.400000   32000.000000    0.000000\n",
       "75%    2016.000000       6.000000       9.900000   48767.000000    0.000000\n",
       "max    2018.000000      35.000000      92.600000  500000.000000    3.000000"
      ]
     },
     "execution_count": 9,
     "metadata": {},
     "output_type": "execute_result"
    }
   ],
   "source": [
    "data.describe()"
   ]
  },
  {
   "cell_type": "markdown",
   "id": "68c20671",
   "metadata": {
    "papermill": {
     "duration": 0.022229,
     "end_time": "2023-11-05T16:37:55.557524",
     "exception": false,
     "start_time": "2023-11-05T16:37:55.535295",
     "status": "completed"
    },
    "tags": []
   },
   "source": [
    "7. Data preprocessing"
   ]
  },
  {
   "cell_type": "code",
   "execution_count": 10,
   "id": "7f602678",
   "metadata": {
    "execution": {
     "iopub.execute_input": "2023-11-05T16:37:55.604249Z",
     "iopub.status.busy": "2023-11-05T16:37:55.603683Z",
     "iopub.status.idle": "2023-11-05T16:37:55.615185Z",
     "shell.execute_reply": "2023-11-05T16:37:55.614466Z"
    },
    "papermill": {
     "duration": 0.037298,
     "end_time": "2023-11-05T16:37:55.617156",
     "exception": false,
     "start_time": "2023-11-05T16:37:55.579858",
     "status": "completed"
    },
    "tags": []
   },
   "outputs": [
    {
     "data": {
      "text/html": [
       "<div>\n",
       "<style scoped>\n",
       "    .dataframe tbody tr th:only-of-type {\n",
       "        vertical-align: middle;\n",
       "    }\n",
       "\n",
       "    .dataframe tbody tr th {\n",
       "        vertical-align: top;\n",
       "    }\n",
       "\n",
       "    .dataframe thead th {\n",
       "        text-align: right;\n",
       "    }\n",
       "</style>\n",
       "<table border=\"1\" class=\"dataframe\">\n",
       "  <thead>\n",
       "    <tr style=\"text-align: right;\">\n",
       "      <th></th>\n",
       "      <th>Car_Name</th>\n",
       "      <th>Year</th>\n",
       "      <th>Selling_Price</th>\n",
       "      <th>Present_Price</th>\n",
       "      <th>Kms_Driven</th>\n",
       "      <th>Fuel_Type</th>\n",
       "      <th>Seller_Type</th>\n",
       "      <th>Transmission</th>\n",
       "      <th>Owner</th>\n",
       "    </tr>\n",
       "  </thead>\n",
       "  <tbody>\n",
       "    <tr>\n",
       "      <th>0</th>\n",
       "      <td>ritz</td>\n",
       "      <td>2014</td>\n",
       "      <td>3.35</td>\n",
       "      <td>5.59</td>\n",
       "      <td>27000</td>\n",
       "      <td>Petrol</td>\n",
       "      <td>Dealer</td>\n",
       "      <td>Manual</td>\n",
       "      <td>0</td>\n",
       "    </tr>\n",
       "  </tbody>\n",
       "</table>\n",
       "</div>"
      ],
      "text/plain": [
       "  Car_Name  Year  Selling_Price  Present_Price  Kms_Driven Fuel_Type  \\\n",
       "0     ritz  2014           3.35           5.59       27000    Petrol   \n",
       "\n",
       "  Seller_Type Transmission  Owner  \n",
       "0      Dealer       Manual      0  "
      ]
     },
     "execution_count": 10,
     "metadata": {},
     "output_type": "execute_result"
    }
   ],
   "source": [
    "data.head(1)"
   ]
  },
  {
   "cell_type": "code",
   "execution_count": 11,
   "id": "5c127b56",
   "metadata": {
    "execution": {
     "iopub.execute_input": "2023-11-05T16:37:55.663817Z",
     "iopub.status.busy": "2023-11-05T16:37:55.663255Z",
     "iopub.status.idle": "2023-11-05T16:37:55.667045Z",
     "shell.execute_reply": "2023-11-05T16:37:55.666148Z"
    },
    "papermill": {
     "duration": 0.029694,
     "end_time": "2023-11-05T16:37:55.669202",
     "exception": false,
     "start_time": "2023-11-05T16:37:55.639508",
     "status": "completed"
    },
    "tags": []
   },
   "outputs": [],
   "source": [
    "import datetime"
   ]
  },
  {
   "cell_type": "code",
   "execution_count": 12,
   "id": "8f02ccb7",
   "metadata": {
    "execution": {
     "iopub.execute_input": "2023-11-05T16:37:55.716758Z",
     "iopub.status.busy": "2023-11-05T16:37:55.716341Z",
     "iopub.status.idle": "2023-11-05T16:37:55.720761Z",
     "shell.execute_reply": "2023-11-05T16:37:55.719705Z"
    },
    "papermill": {
     "duration": 0.030885,
     "end_time": "2023-11-05T16:37:55.723004",
     "exception": false,
     "start_time": "2023-11-05T16:37:55.692119",
     "status": "completed"
    },
    "tags": []
   },
   "outputs": [],
   "source": [
    "date_time = datetime.datetime.now()"
   ]
  },
  {
   "cell_type": "code",
   "execution_count": 13,
   "id": "89bf49c5",
   "metadata": {
    "execution": {
     "iopub.execute_input": "2023-11-05T16:37:55.770363Z",
     "iopub.status.busy": "2023-11-05T16:37:55.770010Z",
     "iopub.status.idle": "2023-11-05T16:37:55.775545Z",
     "shell.execute_reply": "2023-11-05T16:37:55.774401Z"
    },
    "papermill": {
     "duration": 0.031603,
     "end_time": "2023-11-05T16:37:55.777664",
     "exception": false,
     "start_time": "2023-11-05T16:37:55.746061",
     "status": "completed"
    },
    "tags": []
   },
   "outputs": [],
   "source": [
    "data['Age'] = date_time.year - data['Year']"
   ]
  },
  {
   "cell_type": "code",
   "execution_count": 14,
   "id": "c2c948e4",
   "metadata": {
    "execution": {
     "iopub.execute_input": "2023-11-05T16:37:55.824148Z",
     "iopub.status.busy": "2023-11-05T16:37:55.823814Z",
     "iopub.status.idle": "2023-11-05T16:37:55.839299Z",
     "shell.execute_reply": "2023-11-05T16:37:55.838319Z"
    },
    "papermill": {
     "duration": 0.040992,
     "end_time": "2023-11-05T16:37:55.841221",
     "exception": false,
     "start_time": "2023-11-05T16:37:55.800229",
     "status": "completed"
    },
    "tags": []
   },
   "outputs": [
    {
     "data": {
      "text/html": [
       "<div>\n",
       "<style scoped>\n",
       "    .dataframe tbody tr th:only-of-type {\n",
       "        vertical-align: middle;\n",
       "    }\n",
       "\n",
       "    .dataframe tbody tr th {\n",
       "        vertical-align: top;\n",
       "    }\n",
       "\n",
       "    .dataframe thead th {\n",
       "        text-align: right;\n",
       "    }\n",
       "</style>\n",
       "<table border=\"1\" class=\"dataframe\">\n",
       "  <thead>\n",
       "    <tr style=\"text-align: right;\">\n",
       "      <th></th>\n",
       "      <th>Car_Name</th>\n",
       "      <th>Year</th>\n",
       "      <th>Selling_Price</th>\n",
       "      <th>Present_Price</th>\n",
       "      <th>Kms_Driven</th>\n",
       "      <th>Fuel_Type</th>\n",
       "      <th>Seller_Type</th>\n",
       "      <th>Transmission</th>\n",
       "      <th>Owner</th>\n",
       "      <th>Age</th>\n",
       "    </tr>\n",
       "  </thead>\n",
       "  <tbody>\n",
       "    <tr>\n",
       "      <th>0</th>\n",
       "      <td>ritz</td>\n",
       "      <td>2014</td>\n",
       "      <td>3.35</td>\n",
       "      <td>5.59</td>\n",
       "      <td>27000</td>\n",
       "      <td>Petrol</td>\n",
       "      <td>Dealer</td>\n",
       "      <td>Manual</td>\n",
       "      <td>0</td>\n",
       "      <td>9</td>\n",
       "    </tr>\n",
       "    <tr>\n",
       "      <th>1</th>\n",
       "      <td>sx4</td>\n",
       "      <td>2013</td>\n",
       "      <td>4.75</td>\n",
       "      <td>9.54</td>\n",
       "      <td>43000</td>\n",
       "      <td>Diesel</td>\n",
       "      <td>Dealer</td>\n",
       "      <td>Manual</td>\n",
       "      <td>0</td>\n",
       "      <td>10</td>\n",
       "    </tr>\n",
       "    <tr>\n",
       "      <th>2</th>\n",
       "      <td>ciaz</td>\n",
       "      <td>2017</td>\n",
       "      <td>7.25</td>\n",
       "      <td>9.85</td>\n",
       "      <td>6900</td>\n",
       "      <td>Petrol</td>\n",
       "      <td>Dealer</td>\n",
       "      <td>Manual</td>\n",
       "      <td>0</td>\n",
       "      <td>6</td>\n",
       "    </tr>\n",
       "    <tr>\n",
       "      <th>3</th>\n",
       "      <td>wagon r</td>\n",
       "      <td>2011</td>\n",
       "      <td>2.85</td>\n",
       "      <td>4.15</td>\n",
       "      <td>5200</td>\n",
       "      <td>Petrol</td>\n",
       "      <td>Dealer</td>\n",
       "      <td>Manual</td>\n",
       "      <td>0</td>\n",
       "      <td>12</td>\n",
       "    </tr>\n",
       "    <tr>\n",
       "      <th>4</th>\n",
       "      <td>swift</td>\n",
       "      <td>2014</td>\n",
       "      <td>4.60</td>\n",
       "      <td>6.87</td>\n",
       "      <td>42450</td>\n",
       "      <td>Diesel</td>\n",
       "      <td>Dealer</td>\n",
       "      <td>Manual</td>\n",
       "      <td>0</td>\n",
       "      <td>9</td>\n",
       "    </tr>\n",
       "  </tbody>\n",
       "</table>\n",
       "</div>"
      ],
      "text/plain": [
       "  Car_Name  Year  Selling_Price  Present_Price  Kms_Driven Fuel_Type  \\\n",
       "0     ritz  2014           3.35           5.59       27000    Petrol   \n",
       "1      sx4  2013           4.75           9.54       43000    Diesel   \n",
       "2     ciaz  2017           7.25           9.85        6900    Petrol   \n",
       "3  wagon r  2011           2.85           4.15        5200    Petrol   \n",
       "4    swift  2014           4.60           6.87       42450    Diesel   \n",
       "\n",
       "  Seller_Type Transmission  Owner  Age  \n",
       "0      Dealer       Manual      0    9  \n",
       "1      Dealer       Manual      0   10  \n",
       "2      Dealer       Manual      0    6  \n",
       "3      Dealer       Manual      0   12  \n",
       "4      Dealer       Manual      0    9  "
      ]
     },
     "execution_count": 14,
     "metadata": {},
     "output_type": "execute_result"
    }
   ],
   "source": [
    "data.head()"
   ]
  },
  {
   "cell_type": "code",
   "execution_count": 15,
   "id": "fb3bf7e4",
   "metadata": {
    "execution": {
     "iopub.execute_input": "2023-11-05T16:37:55.887478Z",
     "iopub.status.busy": "2023-11-05T16:37:55.886837Z",
     "iopub.status.idle": "2023-11-05T16:37:55.896361Z",
     "shell.execute_reply": "2023-11-05T16:37:55.895456Z"
    },
    "papermill": {
     "duration": 0.035581,
     "end_time": "2023-11-05T16:37:55.898822",
     "exception": false,
     "start_time": "2023-11-05T16:37:55.863241",
     "status": "completed"
    },
    "tags": []
   },
   "outputs": [],
   "source": [
    "data.drop('Year' , axis = 1 , inplace = True)"
   ]
  },
  {
   "cell_type": "code",
   "execution_count": 16,
   "id": "efc813b0",
   "metadata": {
    "execution": {
     "iopub.execute_input": "2023-11-05T16:37:55.946107Z",
     "iopub.status.busy": "2023-11-05T16:37:55.945730Z",
     "iopub.status.idle": "2023-11-05T16:37:55.961244Z",
     "shell.execute_reply": "2023-11-05T16:37:55.959905Z"
    },
    "papermill": {
     "duration": 0.042515,
     "end_time": "2023-11-05T16:37:55.963665",
     "exception": false,
     "start_time": "2023-11-05T16:37:55.921150",
     "status": "completed"
    },
    "tags": []
   },
   "outputs": [
    {
     "data": {
      "text/html": [
       "<div>\n",
       "<style scoped>\n",
       "    .dataframe tbody tr th:only-of-type {\n",
       "        vertical-align: middle;\n",
       "    }\n",
       "\n",
       "    .dataframe tbody tr th {\n",
       "        vertical-align: top;\n",
       "    }\n",
       "\n",
       "    .dataframe thead th {\n",
       "        text-align: right;\n",
       "    }\n",
       "</style>\n",
       "<table border=\"1\" class=\"dataframe\">\n",
       "  <thead>\n",
       "    <tr style=\"text-align: right;\">\n",
       "      <th></th>\n",
       "      <th>Car_Name</th>\n",
       "      <th>Selling_Price</th>\n",
       "      <th>Present_Price</th>\n",
       "      <th>Kms_Driven</th>\n",
       "      <th>Fuel_Type</th>\n",
       "      <th>Seller_Type</th>\n",
       "      <th>Transmission</th>\n",
       "      <th>Owner</th>\n",
       "      <th>Age</th>\n",
       "    </tr>\n",
       "  </thead>\n",
       "  <tbody>\n",
       "    <tr>\n",
       "      <th>0</th>\n",
       "      <td>ritz</td>\n",
       "      <td>3.35</td>\n",
       "      <td>5.59</td>\n",
       "      <td>27000</td>\n",
       "      <td>Petrol</td>\n",
       "      <td>Dealer</td>\n",
       "      <td>Manual</td>\n",
       "      <td>0</td>\n",
       "      <td>9</td>\n",
       "    </tr>\n",
       "    <tr>\n",
       "      <th>1</th>\n",
       "      <td>sx4</td>\n",
       "      <td>4.75</td>\n",
       "      <td>9.54</td>\n",
       "      <td>43000</td>\n",
       "      <td>Diesel</td>\n",
       "      <td>Dealer</td>\n",
       "      <td>Manual</td>\n",
       "      <td>0</td>\n",
       "      <td>10</td>\n",
       "    </tr>\n",
       "    <tr>\n",
       "      <th>2</th>\n",
       "      <td>ciaz</td>\n",
       "      <td>7.25</td>\n",
       "      <td>9.85</td>\n",
       "      <td>6900</td>\n",
       "      <td>Petrol</td>\n",
       "      <td>Dealer</td>\n",
       "      <td>Manual</td>\n",
       "      <td>0</td>\n",
       "      <td>6</td>\n",
       "    </tr>\n",
       "    <tr>\n",
       "      <th>3</th>\n",
       "      <td>wagon r</td>\n",
       "      <td>2.85</td>\n",
       "      <td>4.15</td>\n",
       "      <td>5200</td>\n",
       "      <td>Petrol</td>\n",
       "      <td>Dealer</td>\n",
       "      <td>Manual</td>\n",
       "      <td>0</td>\n",
       "      <td>12</td>\n",
       "    </tr>\n",
       "    <tr>\n",
       "      <th>4</th>\n",
       "      <td>swift</td>\n",
       "      <td>4.60</td>\n",
       "      <td>6.87</td>\n",
       "      <td>42450</td>\n",
       "      <td>Diesel</td>\n",
       "      <td>Dealer</td>\n",
       "      <td>Manual</td>\n",
       "      <td>0</td>\n",
       "      <td>9</td>\n",
       "    </tr>\n",
       "  </tbody>\n",
       "</table>\n",
       "</div>"
      ],
      "text/plain": [
       "  Car_Name  Selling_Price  Present_Price  Kms_Driven Fuel_Type Seller_Type  \\\n",
       "0     ritz           3.35           5.59       27000    Petrol      Dealer   \n",
       "1      sx4           4.75           9.54       43000    Diesel      Dealer   \n",
       "2     ciaz           7.25           9.85        6900    Petrol      Dealer   \n",
       "3  wagon r           2.85           4.15        5200    Petrol      Dealer   \n",
       "4    swift           4.60           6.87       42450    Diesel      Dealer   \n",
       "\n",
       "  Transmission  Owner  Age  \n",
       "0       Manual      0    9  \n",
       "1       Manual      0   10  \n",
       "2       Manual      0    6  \n",
       "3       Manual      0   12  \n",
       "4       Manual      0    9  "
      ]
     },
     "execution_count": 16,
     "metadata": {},
     "output_type": "execute_result"
    }
   ],
   "source": [
    "data.head()"
   ]
  },
  {
   "cell_type": "markdown",
   "id": "6442a2e7",
   "metadata": {
    "papermill": {
     "duration": 0.023126,
     "end_time": "2023-11-05T16:37:56.010868",
     "exception": false,
     "start_time": "2023-11-05T16:37:55.987742",
     "status": "completed"
    },
    "tags": []
   },
   "source": []
  },
  {
   "cell_type": "markdown",
   "id": "7965faed",
   "metadata": {
    "papermill": {
     "duration": 0.023522,
     "end_time": "2023-11-05T16:37:56.057861",
     "exception": false,
     "start_time": "2023-11-05T16:37:56.034339",
     "status": "completed"
    },
    "tags": []
   },
   "source": [
    " outlier remover"
   ]
  },
  {
   "cell_type": "code",
   "execution_count": 17,
   "id": "0347808c",
   "metadata": {
    "execution": {
     "iopub.execute_input": "2023-11-05T16:37:56.107054Z",
     "iopub.status.busy": "2023-11-05T16:37:56.106040Z",
     "iopub.status.idle": "2023-11-05T16:37:57.620933Z",
     "shell.execute_reply": "2023-11-05T16:37:57.619800Z"
    },
    "papermill": {
     "duration": 1.542234,
     "end_time": "2023-11-05T16:37:57.623727",
     "exception": false,
     "start_time": "2023-11-05T16:37:56.081493",
     "status": "completed"
    },
    "tags": []
   },
   "outputs": [],
   "source": [
    "import seaborn as sns"
   ]
  },
  {
   "cell_type": "code",
   "execution_count": 18,
   "id": "5c5e94ca",
   "metadata": {
    "execution": {
     "iopub.execute_input": "2023-11-05T16:37:57.672311Z",
     "iopub.status.busy": "2023-11-05T16:37:57.671889Z",
     "iopub.status.idle": "2023-11-05T16:37:57.927577Z",
     "shell.execute_reply": "2023-11-05T16:37:57.926799Z"
    },
    "papermill": {
     "duration": 0.282442,
     "end_time": "2023-11-05T16:37:57.929514",
     "exception": false,
     "start_time": "2023-11-05T16:37:57.647072",
     "status": "completed"
    },
    "tags": []
   },
   "outputs": [
    {
     "data": {
      "text/plain": [
       "<Axes: >"
      ]
     },
     "execution_count": 18,
     "metadata": {},
     "output_type": "execute_result"
    },
    {
     "data": {
      "image/png": "[encoded data removed]",
      "text/plain": [
       "<Figure size 640x480 with 1 Axes>"
      ]
     },
     "metadata": {},
     "output_type": "display_data"
    }
   ],
   "source": [
    "sns.boxplot(data['Selling_Price'])"
   ]
  },
  {
   "cell_type": "code",
   "execution_count": 19,
   "id": "b6c436d9",
   "metadata": {
    "execution": {
     "iopub.execute_input": "2023-11-05T16:37:57.979117Z",
     "iopub.status.busy": "2023-11-05T16:37:57.978406Z",
     "iopub.status.idle": "2023-11-05T16:37:57.988430Z",
     "shell.execute_reply": "2023-11-05T16:37:57.987467Z"
    },
    "papermill": {
     "duration": 0.037311,
     "end_time": "2023-11-05T16:37:57.990661",
     "exception": false,
     "start_time": "2023-11-05T16:37:57.953350",
     "status": "completed"
    },
    "tags": []
   },
   "outputs": [
    {
     "data": {
      "text/plain": [
       "[35.0,\n",
       " 33.0,\n",
       " 23.5,\n",
       " 23.0,\n",
       " 23.0,\n",
       " 23.0,\n",
       " 20.75,\n",
       " 19.99,\n",
       " 19.75,\n",
       " 18.75,\n",
       " 18.0,\n",
       " 17.0,\n",
       " 16.0,\n",
       " 14.9,\n",
       " 14.73,\n",
       " 14.5,\n",
       " 14.25,\n",
       " 12.9,\n",
       " 12.5,\n",
       " 11.75,\n",
       " 11.5,\n",
       " 11.45,\n",
       " 11.25,\n",
       " 11.25,\n",
       " 11.25,\n",
       " 10.9,\n",
       " 10.25,\n",
       " 10.11,\n",
       " 9.7,\n",
       " 9.65,\n",
       " 9.5,\n",
       " 9.25,\n",
       " 9.25,\n",
       " 9.25,\n",
       " 9.15,\n",
       " 9.1,\n",
       " 8.99,\n",
       " 8.75,\n",
       " 8.65,\n",
       " 8.55,\n",
       " 8.5,\n",
       " 8.4,\n",
       " 8.4,\n",
       " 8.35,\n",
       " 8.25,\n",
       " 8.25,\n",
       " 7.9,\n",
       " 7.75,\n",
       " 7.75,\n",
       " 7.75,\n",
       " 7.5,\n",
       " 7.5,\n",
       " 7.5,\n",
       " 7.45,\n",
       " 7.45,\n",
       " 7.45,\n",
       " 7.4,\n",
       " 7.25,\n",
       " 7.25,\n",
       " 7.2,\n",
       " 7.05,\n",
       " 6.95,\n",
       " 6.85,\n",
       " 6.75,\n",
       " 6.7,\n",
       " 6.6,\n",
       " 6.5,\n",
       " 6.5,\n",
       " 6.45,\n",
       " 6.4,\n",
       " 6.25,\n",
       " 6.25,\n",
       " 6.15,\n",
       " 6.1,\n",
       " 6.0,\n",
       " 6.0,\n",
       " 6.0,\n",
       " 6.0,\n",
       " 5.95,\n",
       " 5.95,\n",
       " 5.9,\n",
       " 5.85,\n",
       " 5.85,\n",
       " 5.8,\n",
       " 5.75,\n",
       " 5.75,\n",
       " 5.65,\n",
       " 5.5,\n",
       " 5.5,\n",
       " 5.5,\n",
       " 5.5,\n",
       " 5.5,\n",
       " 5.4,\n",
       " 5.4,\n",
       " 5.35,\n",
       " 5.3,\n",
       " 5.3,\n",
       " 5.25,\n",
       " 5.25,\n",
       " 5.25,\n",
       " 5.25,\n",
       " 5.25,\n",
       " 5.25,\n",
       " 5.25,\n",
       " 5.2,\n",
       " 5.15,\n",
       " 5.11,\n",
       " 5.0,\n",
       " 4.95,\n",
       " 4.95,\n",
       " 4.9,\n",
       " 4.9,\n",
       " 4.85,\n",
       " 4.8,\n",
       " 4.8,\n",
       " 4.75,\n",
       " 4.75,\n",
       " 4.75,\n",
       " 4.75,\n",
       " 4.75,\n",
       " 4.75,\n",
       " 4.65,\n",
       " 4.6,\n",
       " 4.5,\n",
       " 4.5,\n",
       " 4.5,\n",
       " 4.5,\n",
       " 4.5,\n",
       " 4.5,\n",
       " 4.5,\n",
       " 4.4,\n",
       " 4.4,\n",
       " 4.4,\n",
       " 4.35,\n",
       " 4.15,\n",
       " 4.1,\n",
       " 4.1,\n",
       " 4.0,\n",
       " 4.0,\n",
       " 4.0,\n",
       " 4.0,\n",
       " 4.0,\n",
       " 3.95,\n",
       " 3.95,\n",
       " 3.9,\n",
       " 3.9,\n",
       " 3.8,\n",
       " 3.75,\n",
       " 3.75,\n",
       " 3.65,\n",
       " 3.6,\n",
       " 3.51,\n",
       " 3.5,\n",
       " 3.5,\n",
       " 3.49,\n",
       " 3.45,\n",
       " 3.35,\n",
       " 3.35,\n",
       " 3.25,\n",
       " 3.25,\n",
       " 3.25,\n",
       " 3.15,\n",
       " 3.1,\n",
       " 3.1,\n",
       " 3.1,\n",
       " 3.1,\n",
       " 3.0,\n",
       " 3.0,\n",
       " 3.0,\n",
       " 3.0,\n",
       " 2.95,\n",
       " 2.95,\n",
       " 2.9,\n",
       " 2.9,\n",
       " 2.9,\n",
       " 2.85,\n",
       " 2.85,\n",
       " 2.85,\n",
       " 2.75,\n",
       " 2.75,\n",
       " 2.7,\n",
       " 2.65,\n",
       " 2.65,\n",
       " 2.65,\n",
       " 2.55,\n",
       " 2.55,\n",
       " 2.5,\n",
       " 2.5,\n",
       " 2.35,\n",
       " 2.25,\n",
       " 2.25,\n",
       " 2.25,\n",
       " 2.1,\n",
       " 2.0,\n",
       " 1.95,\n",
       " 1.95,\n",
       " 1.75,\n",
       " 1.7,\n",
       " 1.65,\n",
       " 1.5,\n",
       " 1.45,\n",
       " 1.35,\n",
       " 1.35,\n",
       " 1.35,\n",
       " 1.25,\n",
       " 1.25,\n",
       " 1.2,\n",
       " 1.2,\n",
       " 1.2,\n",
       " 1.15,\n",
       " 1.15,\n",
       " 1.15,\n",
       " 1.15,\n",
       " 1.11,\n",
       " 1.1,\n",
       " 1.1,\n",
       " 1.1,\n",
       " 1.05,\n",
       " 1.05,\n",
       " 1.05,\n",
       " 1.05,\n",
       " 1.05,\n",
       " 1.0,\n",
       " 0.95,\n",
       " 0.9,\n",
       " 0.9,\n",
       " 0.8,\n",
       " 0.78,\n",
       " 0.75,\n",
       " 0.75,\n",
       " 0.75,\n",
       " 0.75,\n",
       " 0.72,\n",
       " 0.65,\n",
       " 0.65,\n",
       " 0.65,\n",
       " 0.65,\n",
       " 0.6,\n",
       " 0.6,\n",
       " 0.6,\n",
       " 0.6,\n",
       " 0.6,\n",
       " 0.6,\n",
       " 0.6,\n",
       " 0.6,\n",
       " 0.55,\n",
       " 0.55,\n",
       " 0.52,\n",
       " 0.51,\n",
       " 0.5,\n",
       " 0.5,\n",
       " 0.5,\n",
       " 0.5,\n",
       " 0.5,\n",
       " 0.48,\n",
       " 0.48,\n",
       " 0.48,\n",
       " 0.48,\n",
       " 0.45,\n",
       " 0.45,\n",
       " 0.45,\n",
       " 0.45,\n",
       " 0.45,\n",
       " 0.45,\n",
       " 0.45,\n",
       " 0.45,\n",
       " 0.42,\n",
       " 0.42,\n",
       " 0.4,\n",
       " 0.4,\n",
       " 0.4,\n",
       " 0.4,\n",
       " 0.4,\n",
       " 0.38,\n",
       " 0.38,\n",
       " 0.35,\n",
       " 0.35,\n",
       " 0.35,\n",
       " 0.35,\n",
       " 0.31,\n",
       " 0.3,\n",
       " 0.3,\n",
       " 0.3,\n",
       " 0.27,\n",
       " 0.25,\n",
       " 0.25,\n",
       " 0.25,\n",
       " 0.25,\n",
       " 0.25,\n",
       " 0.2,\n",
       " 0.2,\n",
       " 0.2,\n",
       " 0.2,\n",
       " 0.2,\n",
       " 0.2,\n",
       " 0.18,\n",
       " 0.17,\n",
       " 0.16,\n",
       " 0.15,\n",
       " 0.12,\n",
       " 0.1]"
      ]
     },
     "execution_count": 19,
     "metadata": {},
     "output_type": "execute_result"
    }
   ],
   "source": [
    "sorted(data['Selling_Price'],reverse = True)"
   ]
  },
  {
   "cell_type": "code",
   "execution_count": 20,
   "id": "5e28c825",
   "metadata": {
    "execution": {
     "iopub.execute_input": "2023-11-05T16:37:58.041631Z",
     "iopub.status.busy": "2023-11-05T16:37:58.041201Z",
     "iopub.status.idle": "2023-11-05T16:37:58.048656Z",
     "shell.execute_reply": "2023-11-05T16:37:58.047540Z"
    },
    "papermill": {
     "duration": 0.035943,
     "end_time": "2023-11-05T16:37:58.050960",
     "exception": false,
     "start_time": "2023-11-05T16:37:58.015017",
     "status": "completed"
    },
    "tags": []
   },
   "outputs": [],
   "source": [
    "data= data[~(data['Selling_Price']>=33.0) & (data['Selling_Price']<=35.0)]"
   ]
  },
  {
   "cell_type": "code",
   "execution_count": 21,
   "id": "6c4d9c43",
   "metadata": {
    "execution": {
     "iopub.execute_input": "2023-11-05T16:37:58.102257Z",
     "iopub.status.busy": "2023-11-05T16:37:58.101843Z",
     "iopub.status.idle": "2023-11-05T16:37:58.107578Z",
     "shell.execute_reply": "2023-11-05T16:37:58.106787Z"
    },
    "papermill": {
     "duration": 0.033795,
     "end_time": "2023-11-05T16:37:58.109617",
     "exception": false,
     "start_time": "2023-11-05T16:37:58.075822",
     "status": "completed"
    },
    "tags": []
   },
   "outputs": [
    {
     "data": {
      "text/plain": [
       "(299, 9)"
      ]
     },
     "execution_count": 21,
     "metadata": {},
     "output_type": "execute_result"
    }
   ],
   "source": [
    "data.shape"
   ]
  },
  {
   "cell_type": "markdown",
   "id": "2b9348fd",
   "metadata": {
    "papermill": {
     "duration": 0.026856,
     "end_time": "2023-11-05T16:37:58.161231",
     "exception": false,
     "start_time": "2023-11-05T16:37:58.134375",
     "status": "completed"
    },
    "tags": []
   },
   "source": []
  },
  {
   "cell_type": "markdown",
   "id": "6f0e076c",
   "metadata": {
    "papermill": {
     "duration": 0.024664,
     "end_time": "2023-11-05T16:37:58.210305",
     "exception": false,
     "start_time": "2023-11-05T16:37:58.185641",
     "status": "completed"
    },
    "tags": []
   },
   "source": [
    "Encoding the categorical columns"
   ]
  },
  {
   "cell_type": "code",
   "execution_count": 22,
   "id": "980521de",
   "metadata": {
    "execution": {
     "iopub.execute_input": "2023-11-05T16:37:58.260368Z",
     "iopub.status.busy": "2023-11-05T16:37:58.260031Z",
     "iopub.status.idle": "2023-11-05T16:37:58.274336Z",
     "shell.execute_reply": "2023-11-05T16:37:58.273354Z"
    },
    "papermill": {
     "duration": 0.041585,
     "end_time": "2023-11-05T16:37:58.276343",
     "exception": false,
     "start_time": "2023-11-05T16:37:58.234758",
     "status": "completed"
    },
    "tags": []
   },
   "outputs": [
    {
     "data": {
      "text/html": [
       "<div>\n",
       "<style scoped>\n",
       "    .dataframe tbody tr th:only-of-type {\n",
       "        vertical-align: middle;\n",
       "    }\n",
       "\n",
       "    .dataframe tbody tr th {\n",
       "        vertical-align: top;\n",
       "    }\n",
       "\n",
       "    .dataframe thead th {\n",
       "        text-align: right;\n",
       "    }\n",
       "</style>\n",
       "<table border=\"1\" class=\"dataframe\">\n",
       "  <thead>\n",
       "    <tr style=\"text-align: right;\">\n",
       "      <th></th>\n",
       "      <th>Car_Name</th>\n",
       "      <th>Selling_Price</th>\n",
       "      <th>Present_Price</th>\n",
       "      <th>Kms_Driven</th>\n",
       "      <th>Fuel_Type</th>\n",
       "      <th>Seller_Type</th>\n",
       "      <th>Transmission</th>\n",
       "      <th>Owner</th>\n",
       "      <th>Age</th>\n",
       "    </tr>\n",
       "  </thead>\n",
       "  <tbody>\n",
       "    <tr>\n",
       "      <th>0</th>\n",
       "      <td>ritz</td>\n",
       "      <td>3.35</td>\n",
       "      <td>5.59</td>\n",
       "      <td>27000</td>\n",
       "      <td>Petrol</td>\n",
       "      <td>Dealer</td>\n",
       "      <td>Manual</td>\n",
       "      <td>0</td>\n",
       "      <td>9</td>\n",
       "    </tr>\n",
       "  </tbody>\n",
       "</table>\n",
       "</div>"
      ],
      "text/plain": [
       "  Car_Name  Selling_Price  Present_Price  Kms_Driven Fuel_Type Seller_Type  \\\n",
       "0     ritz           3.35           5.59       27000    Petrol      Dealer   \n",
       "\n",
       "  Transmission  Owner  Age  \n",
       "0       Manual      0    9  "
      ]
     },
     "execution_count": 22,
     "metadata": {},
     "output_type": "execute_result"
    }
   ],
   "source": [
    "data.head(1)"
   ]
  },
  {
   "cell_type": "code",
   "execution_count": 23,
   "id": "c57441a1",
   "metadata": {
    "execution": {
     "iopub.execute_input": "2023-11-05T16:37:58.326992Z",
     "iopub.status.busy": "2023-11-05T16:37:58.326041Z",
     "iopub.status.idle": "2023-11-05T16:37:58.333323Z",
     "shell.execute_reply": "2023-11-05T16:37:58.332297Z"
    },
    "papermill": {
     "duration": 0.034912,
     "end_time": "2023-11-05T16:37:58.335492",
     "exception": false,
     "start_time": "2023-11-05T16:37:58.300580",
     "status": "completed"
    },
    "tags": []
   },
   "outputs": [
    {
     "data": {
      "text/plain": [
       "array(['Petrol', 'Diesel', 'CNG'], dtype=object)"
      ]
     },
     "execution_count": 23,
     "metadata": {},
     "output_type": "execute_result"
    }
   ],
   "source": [
    "data['Fuel_Type'].unique()"
   ]
  },
  {
   "cell_type": "code",
   "execution_count": 24,
   "id": "28805618",
   "metadata": {
    "execution": {
     "iopub.execute_input": "2023-11-05T16:37:58.385524Z",
     "iopub.status.busy": "2023-11-05T16:37:58.385134Z",
     "iopub.status.idle": "2023-11-05T16:37:58.391889Z",
     "shell.execute_reply": "2023-11-05T16:37:58.390713Z"
    },
    "papermill": {
     "duration": 0.034468,
     "end_time": "2023-11-05T16:37:58.394113",
     "exception": false,
     "start_time": "2023-11-05T16:37:58.359645",
     "status": "completed"
    },
    "tags": []
   },
   "outputs": [],
   "source": [
    "data['Fuel_Type'] = data['Fuel_Type'].map({'Petrol':0,'Diesel':1,'CNG':2})"
   ]
  },
  {
   "cell_type": "code",
   "execution_count": 25,
   "id": "b8bf27a4",
   "metadata": {
    "execution": {
     "iopub.execute_input": "2023-11-05T16:37:58.444628Z",
     "iopub.status.busy": "2023-11-05T16:37:58.444229Z",
     "iopub.status.idle": "2023-11-05T16:37:58.452716Z",
     "shell.execute_reply": "2023-11-05T16:37:58.451947Z"
    },
    "papermill": {
     "duration": 0.036145,
     "end_time": "2023-11-05T16:37:58.454711",
     "exception": false,
     "start_time": "2023-11-05T16:37:58.418566",
     "status": "completed"
    },
    "tags": []
   },
   "outputs": [
    {
     "data": {
      "text/plain": [
       "array([0, 1, 2])"
      ]
     },
     "execution_count": 25,
     "metadata": {},
     "output_type": "execute_result"
    }
   ],
   "source": [
    "data['Fuel_Type'].unique()"
   ]
  },
  {
   "cell_type": "code",
   "execution_count": 26,
   "id": "a87d983f",
   "metadata": {
    "execution": {
     "iopub.execute_input": "2023-11-05T16:37:58.506221Z",
     "iopub.status.busy": "2023-11-05T16:37:58.505230Z",
     "iopub.status.idle": "2023-11-05T16:37:58.511935Z",
     "shell.execute_reply": "2023-11-05T16:37:58.511175Z"
    },
    "papermill": {
     "duration": 0.035185,
     "end_time": "2023-11-05T16:37:58.513901",
     "exception": false,
     "start_time": "2023-11-05T16:37:58.478716",
     "status": "completed"
    },
    "tags": []
   },
   "outputs": [
    {
     "data": {
      "text/plain": [
       "array(['Dealer', 'Individual'], dtype=object)"
      ]
     },
     "execution_count": 26,
     "metadata": {},
     "output_type": "execute_result"
    }
   ],
   "source": [
    "data['Seller_Type'].unique()"
   ]
  },
  {
   "cell_type": "code",
   "execution_count": 27,
   "id": "a6ed8ea5",
   "metadata": {
    "execution": {
     "iopub.execute_input": "2023-11-05T16:37:58.564576Z",
     "iopub.status.busy": "2023-11-05T16:37:58.563981Z",
     "iopub.status.idle": "2023-11-05T16:37:58.569247Z",
     "shell.execute_reply": "2023-11-05T16:37:58.568558Z"
    },
    "papermill": {
     "duration": 0.033314,
     "end_time": "2023-11-05T16:37:58.571453",
     "exception": false,
     "start_time": "2023-11-05T16:37:58.538139",
     "status": "completed"
    },
    "tags": []
   },
   "outputs": [],
   "source": [
    "data['Seller_Type'] = data['Seller_Type'].map({'Dealer':0,'Individual':1})"
   ]
  },
  {
   "cell_type": "code",
   "execution_count": 28,
   "id": "6ef43e58",
   "metadata": {
    "execution": {
     "iopub.execute_input": "2023-11-05T16:37:58.622131Z",
     "iopub.status.busy": "2023-11-05T16:37:58.621742Z",
     "iopub.status.idle": "2023-11-05T16:37:58.628529Z",
     "shell.execute_reply": "2023-11-05T16:37:58.627491Z"
    },
    "papermill": {
     "duration": 0.034886,
     "end_time": "2023-11-05T16:37:58.630918",
     "exception": false,
     "start_time": "2023-11-05T16:37:58.596032",
     "status": "completed"
    },
    "tags": []
   },
   "outputs": [
    {
     "data": {
      "text/plain": [
       "array([0, 1])"
      ]
     },
     "execution_count": 28,
     "metadata": {},
     "output_type": "execute_result"
    }
   ],
   "source": [
    "data['Seller_Type'].unique()"
   ]
  },
  {
   "cell_type": "code",
   "execution_count": 29,
   "id": "0131ce4f",
   "metadata": {
    "execution": {
     "iopub.execute_input": "2023-11-05T16:37:58.682136Z",
     "iopub.status.busy": "2023-11-05T16:37:58.681745Z",
     "iopub.status.idle": "2023-11-05T16:37:58.688133Z",
     "shell.execute_reply": "2023-11-05T16:37:58.687400Z"
    },
    "papermill": {
     "duration": 0.034652,
     "end_time": "2023-11-05T16:37:58.690223",
     "exception": false,
     "start_time": "2023-11-05T16:37:58.655571",
     "status": "completed"
    },
    "tags": []
   },
   "outputs": [
    {
     "data": {
      "text/plain": [
       "array(['Manual', 'Automatic'], dtype=object)"
      ]
     },
     "execution_count": 29,
     "metadata": {},
     "output_type": "execute_result"
    }
   ],
   "source": [
    "data['Transmission'].unique()"
   ]
  },
  {
   "cell_type": "code",
   "execution_count": 30,
   "id": "85af4c5c",
   "metadata": {
    "execution": {
     "iopub.execute_input": "2023-11-05T16:37:58.742559Z",
     "iopub.status.busy": "2023-11-05T16:37:58.741736Z",
     "iopub.status.idle": "2023-11-05T16:37:58.748233Z",
     "shell.execute_reply": "2023-11-05T16:37:58.747160Z"
    },
    "papermill": {
     "duration": 0.035353,
     "end_time": "2023-11-05T16:37:58.750379",
     "exception": false,
     "start_time": "2023-11-05T16:37:58.715026",
     "status": "completed"
    },
    "tags": []
   },
   "outputs": [],
   "source": [
    "data['Transmission'] = data['Transmission'].map({'Manual':0,'Automatic':1})"
   ]
  },
  {
   "cell_type": "code",
   "execution_count": 31,
   "id": "750902b3",
   "metadata": {
    "execution": {
     "iopub.execute_input": "2023-11-05T16:37:58.801990Z",
     "iopub.status.busy": "2023-11-05T16:37:58.801610Z",
     "iopub.status.idle": "2023-11-05T16:37:58.808791Z",
     "shell.execute_reply": "2023-11-05T16:37:58.807883Z"
    },
    "papermill": {
     "duration": 0.035748,
     "end_time": "2023-11-05T16:37:58.810931",
     "exception": false,
     "start_time": "2023-11-05T16:37:58.775183",
     "status": "completed"
    },
    "tags": []
   },
   "outputs": [
    {
     "data": {
      "text/plain": [
       "array([0, 1])"
      ]
     },
     "execution_count": 31,
     "metadata": {},
     "output_type": "execute_result"
    }
   ],
   "source": [
    "data['Transmission'].unique()"
   ]
  },
  {
   "cell_type": "code",
   "execution_count": 32,
   "id": "70b25cd0",
   "metadata": {
    "execution": {
     "iopub.execute_input": "2023-11-05T16:37:58.862427Z",
     "iopub.status.busy": "2023-11-05T16:37:58.862029Z",
     "iopub.status.idle": "2023-11-05T16:37:58.876352Z",
     "shell.execute_reply": "2023-11-05T16:37:58.875252Z"
    },
    "papermill": {
     "duration": 0.042779,
     "end_time": "2023-11-05T16:37:58.878491",
     "exception": false,
     "start_time": "2023-11-05T16:37:58.835712",
     "status": "completed"
    },
    "tags": []
   },
   "outputs": [
    {
     "data": {
      "text/html": [
       "<div>\n",
       "<style scoped>\n",
       "    .dataframe tbody tr th:only-of-type {\n",
       "        vertical-align: middle;\n",
       "    }\n",
       "\n",
       "    .dataframe tbody tr th {\n",
       "        vertical-align: top;\n",
       "    }\n",
       "\n",
       "    .dataframe thead th {\n",
       "        text-align: right;\n",
       "    }\n",
       "</style>\n",
       "<table border=\"1\" class=\"dataframe\">\n",
       "  <thead>\n",
       "    <tr style=\"text-align: right;\">\n",
       "      <th></th>\n",
       "      <th>Car_Name</th>\n",
       "      <th>Selling_Price</th>\n",
       "      <th>Present_Price</th>\n",
       "      <th>Kms_Driven</th>\n",
       "      <th>Fuel_Type</th>\n",
       "      <th>Seller_Type</th>\n",
       "      <th>Transmission</th>\n",
       "      <th>Owner</th>\n",
       "      <th>Age</th>\n",
       "    </tr>\n",
       "  </thead>\n",
       "  <tbody>\n",
       "    <tr>\n",
       "      <th>0</th>\n",
       "      <td>ritz</td>\n",
       "      <td>3.35</td>\n",
       "      <td>5.59</td>\n",
       "      <td>27000</td>\n",
       "      <td>0</td>\n",
       "      <td>0</td>\n",
       "      <td>0</td>\n",
       "      <td>0</td>\n",
       "      <td>9</td>\n",
       "    </tr>\n",
       "    <tr>\n",
       "      <th>1</th>\n",
       "      <td>sx4</td>\n",
       "      <td>4.75</td>\n",
       "      <td>9.54</td>\n",
       "      <td>43000</td>\n",
       "      <td>1</td>\n",
       "      <td>0</td>\n",
       "      <td>0</td>\n",
       "      <td>0</td>\n",
       "      <td>10</td>\n",
       "    </tr>\n",
       "    <tr>\n",
       "      <th>2</th>\n",
       "      <td>ciaz</td>\n",
       "      <td>7.25</td>\n",
       "      <td>9.85</td>\n",
       "      <td>6900</td>\n",
       "      <td>0</td>\n",
       "      <td>0</td>\n",
       "      <td>0</td>\n",
       "      <td>0</td>\n",
       "      <td>6</td>\n",
       "    </tr>\n",
       "    <tr>\n",
       "      <th>3</th>\n",
       "      <td>wagon r</td>\n",
       "      <td>2.85</td>\n",
       "      <td>4.15</td>\n",
       "      <td>5200</td>\n",
       "      <td>0</td>\n",
       "      <td>0</td>\n",
       "      <td>0</td>\n",
       "      <td>0</td>\n",
       "      <td>12</td>\n",
       "    </tr>\n",
       "    <tr>\n",
       "      <th>4</th>\n",
       "      <td>swift</td>\n",
       "      <td>4.60</td>\n",
       "      <td>6.87</td>\n",
       "      <td>42450</td>\n",
       "      <td>1</td>\n",
       "      <td>0</td>\n",
       "      <td>0</td>\n",
       "      <td>0</td>\n",
       "      <td>9</td>\n",
       "    </tr>\n",
       "  </tbody>\n",
       "</table>\n",
       "</div>"
      ],
      "text/plain": [
       "  Car_Name  Selling_Price  Present_Price  Kms_Driven  Fuel_Type  Seller_Type  \\\n",
       "0     ritz           3.35           5.59       27000          0            0   \n",
       "1      sx4           4.75           9.54       43000          1            0   \n",
       "2     ciaz           7.25           9.85        6900          0            0   \n",
       "3  wagon r           2.85           4.15        5200          0            0   \n",
       "4    swift           4.60           6.87       42450          1            0   \n",
       "\n",
       "   Transmission  Owner  Age  \n",
       "0             0      0    9  \n",
       "1             0      0   10  \n",
       "2             0      0    6  \n",
       "3             0      0   12  \n",
       "4             0      0    9  "
      ]
     },
     "execution_count": 32,
     "metadata": {},
     "output_type": "execute_result"
    }
   ],
   "source": [
    "data.head()"
   ]
  },
  {
   "cell_type": "markdown",
   "id": "bd78fd05",
   "metadata": {
    "papermill": {
     "duration": 0.025356,
     "end_time": "2023-11-05T16:37:58.929160",
     "exception": false,
     "start_time": "2023-11-05T16:37:58.903804",
     "status": "completed"
    },
    "tags": []
   },
   "source": []
  },
  {
   "cell_type": "markdown",
   "id": "eedfc0c6",
   "metadata": {
    "papermill": {
     "duration": 0.024479,
     "end_time": "2023-11-05T16:37:58.979239",
     "exception": false,
     "start_time": "2023-11-05T16:37:58.954760",
     "status": "completed"
    },
    "tags": []
   },
   "source": [
    "8. store feature matrix in x and response(target) in vectore y "
   ]
  },
  {
   "cell_type": "code",
   "execution_count": 33,
   "id": "5c886d06",
   "metadata": {
    "execution": {
     "iopub.execute_input": "2023-11-05T16:37:59.032342Z",
     "iopub.status.busy": "2023-11-05T16:37:59.031256Z",
     "iopub.status.idle": "2023-11-05T16:37:59.038298Z",
     "shell.execute_reply": "2023-11-05T16:37:59.037392Z"
    },
    "papermill": {
     "duration": 0.036247,
     "end_time": "2023-11-05T16:37:59.040696",
     "exception": false,
     "start_time": "2023-11-05T16:37:59.004449",
     "status": "completed"
    },
    "tags": []
   },
   "outputs": [],
   "source": [
    "x = data.drop(['Car_Name','Selling_Price'],axis = 1)\n",
    "y = data[\"Selling_Price\"]"
   ]
  },
  {
   "cell_type": "code",
   "execution_count": 34,
   "id": "3c89eedd",
   "metadata": {
    "execution": {
     "iopub.execute_input": "2023-11-05T16:37:59.094883Z",
     "iopub.status.busy": "2023-11-05T16:37:59.094514Z",
     "iopub.status.idle": "2023-11-05T16:37:59.102932Z",
     "shell.execute_reply": "2023-11-05T16:37:59.101915Z"
    },
    "papermill": {
     "duration": 0.037763,
     "end_time": "2023-11-05T16:37:59.105001",
     "exception": false,
     "start_time": "2023-11-05T16:37:59.067238",
     "status": "completed"
    },
    "tags": []
   },
   "outputs": [
    {
     "data": {
      "text/plain": [
       "0       3.35\n",
       "1       4.75\n",
       "2       7.25\n",
       "3       2.85\n",
       "4       4.60\n",
       "       ...  \n",
       "296     9.50\n",
       "297     4.00\n",
       "298     3.35\n",
       "299    11.50\n",
       "300     5.30\n",
       "Name: Selling_Price, Length: 299, dtype: float64"
      ]
     },
     "execution_count": 34,
     "metadata": {},
     "output_type": "execute_result"
    }
   ],
   "source": [
    "y"
   ]
  },
  {
   "cell_type": "markdown",
   "id": "693f7e12",
   "metadata": {
    "papermill": {
     "duration": 0.02671,
     "end_time": "2023-11-05T16:37:59.157604",
     "exception": false,
     "start_time": "2023-11-05T16:37:59.130894",
     "status": "completed"
    },
    "tags": []
   },
   "source": [
    "9. splitting the dataset into traing or test dataset"
   ]
  },
  {
   "cell_type": "code",
   "execution_count": 35,
   "id": "5d3c048c",
   "metadata": {
    "execution": {
     "iopub.execute_input": "2023-11-05T16:37:59.211526Z",
     "iopub.status.busy": "2023-11-05T16:37:59.211094Z",
     "iopub.status.idle": "2023-11-05T16:37:59.488275Z",
     "shell.execute_reply": "2023-11-05T16:37:59.487132Z"
    },
    "papermill": {
     "duration": 0.307558,
     "end_time": "2023-11-05T16:37:59.491035",
     "exception": false,
     "start_time": "2023-11-05T16:37:59.183477",
     "status": "completed"
    },
    "tags": []
   },
   "outputs": [],
   "source": [
    "from sklearn.model_selection import train_test_split"
   ]
  },
  {
   "cell_type": "code",
   "execution_count": 36,
   "id": "445a9f59",
   "metadata": {
    "execution": {
     "iopub.execute_input": "2023-11-05T16:37:59.545785Z",
     "iopub.status.busy": "2023-11-05T16:37:59.545336Z",
     "iopub.status.idle": "2023-11-05T16:37:59.553994Z",
     "shell.execute_reply": "2023-11-05T16:37:59.552783Z"
    },
    "papermill": {
     "duration": 0.038232,
     "end_time": "2023-11-05T16:37:59.556128",
     "exception": false,
     "start_time": "2023-11-05T16:37:59.517896",
     "status": "completed"
    },
    "tags": []
   },
   "outputs": [],
   "source": [
    "x_train,x_test,y_train,y_test = train_test_split(x,y,test_size=0.20,random_state=42)"
   ]
  },
  {
   "cell_type": "markdown",
   "id": "3bde41a6",
   "metadata": {
    "papermill": {
     "duration": 0.025963,
     "end_time": "2023-11-05T16:37:59.607772",
     "exception": false,
     "start_time": "2023-11-05T16:37:59.581809",
     "status": "completed"
    },
    "tags": []
   },
   "source": [
    "10. import the models "
   ]
  },
  {
   "cell_type": "code",
   "execution_count": 37,
   "id": "ed7bfa70",
   "metadata": {
    "execution": {
     "iopub.execute_input": "2023-11-05T16:37:59.660531Z",
     "iopub.status.busy": "2023-11-05T16:37:59.660091Z",
     "iopub.status.idle": "2023-11-05T16:38:00.201441Z",
     "shell.execute_reply": "2023-11-05T16:38:00.199911Z"
    },
    "papermill": {
     "duration": 0.571546,
     "end_time": "2023-11-05T16:38:00.205110",
     "exception": false,
     "start_time": "2023-11-05T16:37:59.633564",
     "status": "completed"
    },
    "tags": []
   },
   "outputs": [],
   "source": [
    "from sklearn.linear_model import LinearRegression\n",
    "from sklearn.ensemble import RandomForestRegressor\n",
    "from sklearn.ensemble import GradientBoostingRegressor\n",
    "from xgboost import XGBRegressor"
   ]
  },
  {
   "cell_type": "markdown",
   "id": "17549e5d",
   "metadata": {
    "papermill": {
     "duration": 0.030104,
     "end_time": "2023-11-05T16:38:00.267162",
     "exception": false,
     "start_time": "2023-11-05T16:38:00.237058",
     "status": "completed"
    },
    "tags": []
   },
   "source": []
  },
  {
   "cell_type": "markdown",
   "id": "0e78da15",
   "metadata": {
    "papermill": {
     "duration": 0.025186,
     "end_time": "2023-11-05T16:38:00.318866",
     "exception": false,
     "start_time": "2023-11-05T16:38:00.293680",
     "status": "completed"
    },
    "tags": []
   },
   "source": [
    "11. model traing"
   ]
  },
  {
   "cell_type": "code",
   "execution_count": 38,
   "id": "a6c0b4fa",
   "metadata": {
    "execution": {
     "iopub.execute_input": "2023-11-05T16:38:00.372184Z",
     "iopub.status.busy": "2023-11-05T16:38:00.371787Z",
     "iopub.status.idle": "2023-11-05T16:38:00.893405Z",
     "shell.execute_reply": "2023-11-05T16:38:00.892218Z"
    },
    "papermill": {
     "duration": 0.551624,
     "end_time": "2023-11-05T16:38:00.896215",
     "exception": false,
     "start_time": "2023-11-05T16:38:00.344591",
     "status": "completed"
    },
    "tags": []
   },
   "outputs": [
    {
     "data": {
      "text/html": [
       "<style>#sk-container-id-1 {color: black;background-color: white;}#sk-container-id-1 pre{padding: 0;}#sk-container-id-1 div.sk-toggleable {background-color: white;}#sk-container-id-1 label.sk-toggleable__label {cursor: pointer;display: block;width: 100%;margin-bottom: 0;padding: 0.3em;box-sizing: border-box;text-align: center;}#sk-container-id-1 label.sk-toggleable__label-arrow:before {content: \"▸\";float: left;margin-right: 0.25em;color: #696969;}#sk-container-id-1 label.sk-toggleable__label-arrow:hover:before {color: black;}#sk-container-id-1 div.sk-estimator:hover label.sk-toggleable__label-arrow:before {color: black;}#sk-container-id-1 div.sk-toggleable__content {max-height: 0;max-width: 0;overflow: hidden;text-align: left;background-color: #f0f8ff;}#sk-container-id-1 div.sk-toggleable__content pre {margin: 0.2em;color: black;border-radius: 0.25em;background-color: #f0f8ff;}#sk-container-id-1 input.sk-toggleable__control:checked~div.sk-toggleable__content {max-height: 200px;max-width: 100%;overflow: auto;}#sk-container-id-1 input.sk-toggleable__control:checked~label.sk-toggleable__label-arrow:before {content: \"▾\";}#sk-container-id-1 div.sk-estimator input.sk-toggleable__control:checked~label.sk-toggleable__label {background-color: #d4ebff;}#sk-container-id-1 div.sk-label input.sk-toggleable__control:checked~label.sk-toggleable__label {background-color: #d4ebff;}#sk-container-id-1 input.sk-hidden--visually {border: 0;clip: rect(1px 1px 1px 1px);clip: rect(1px, 1px, 1px, 1px);height: 1px;margin: -1px;overflow: hidden;padding: 0;position: absolute;width: 1px;}#sk-container-id-1 div.sk-estimator {font-family: monospace;background-color: #f0f8ff;border: 1px dotted black;border-radius: 0.25em;box-sizing: border-box;margin-bottom: 0.5em;}#sk-container-id-1 div.sk-estimator:hover {background-color: #d4ebff;}#sk-container-id-1 div.sk-parallel-item::after {content: \"\";width: 100%;border-bottom: 1px solid gray;flex-grow: 1;}#sk-container-id-1 div.sk-label:hover label.sk-toggleable__label {background-color: #d4ebff;}#sk-container-id-1 div.sk-serial::before {content: \"\";position: absolute;border-left: 1px solid gray;box-sizing: border-box;top: 0;bottom: 0;left: 50%;z-index: 0;}#sk-container-id-1 div.sk-serial {display: flex;flex-direction: column;align-items: center;background-color: white;padding-right: 0.2em;padding-left: 0.2em;position: relative;}#sk-container-id-1 div.sk-item {position: relative;z-index: 1;}#sk-container-id-1 div.sk-parallel {display: flex;align-items: stretch;justify-content: center;background-color: white;position: relative;}#sk-container-id-1 div.sk-item::before, #sk-container-id-1 div.sk-parallel-item::before {content: \"\";position: absolute;border-left: 1px solid gray;box-sizing: border-box;top: 0;bottom: 0;left: 50%;z-index: -1;}#sk-container-id-1 div.sk-parallel-item {display: flex;flex-direction: column;z-index: 1;position: relative;background-color: white;}#sk-container-id-1 div.sk-parallel-item:first-child::after {align-self: flex-end;width: 50%;}#sk-container-id-1 div.sk-parallel-item:last-child::after {align-self: flex-start;width: 50%;}#sk-container-id-1 div.sk-parallel-item:only-child::after {width: 0;}#sk-container-id-1 div.sk-dashed-wrapped {border: 1px dashed gray;margin: 0 0.4em 0.5em 0.4em;box-sizing: border-box;padding-bottom: 0.4em;background-color: white;}#sk-container-id-1 div.sk-label label {font-family: monospace;font-weight: bold;display: inline-block;line-height: 1.2em;}#sk-container-id-1 div.sk-label-container {text-align: center;}#sk-container-id-1 div.sk-container {/* jupyter's `normalize.less` sets `[hidden] { display: none; }` but bootstrap.min.css set `[hidden] { display: none !important; }` so we also need the `!important` here to be able to override the default hidden behavior on the sphinx rendered scikit-learn.org. See: https://github.com/scikit-learn/scikit-learn/issues/21755 */display: inline-block !important;position: relative;}#sk-container-id-1 div.sk-text-repr-fallback {display: none;}</style><div id=\"sk-container-id-1\" class=\"sk-top-container\"><div class=\"sk-text-repr-fallback\"><pre>XGBRegressor(base_score=None, booster=None, callbacks=None,\n",
       "             colsample_bylevel=None, colsample_bynode=None,\n",
       "             colsample_bytree=None, early_stopping_rounds=None,\n",
       "             enable_categorical=False, eval_metric=None, feature_types=None,\n",
       "             gamma=None, gpu_id=None, grow_policy=None, importance_type=None,\n",
       "             interaction_constraints=None, learning_rate=None, max_bin=None,\n",
       "             max_cat_threshold=None, max_cat_to_onehot=None,\n",
       "             max_delta_step=None, max_depth=None, max_leaves=None,\n",
       "             min_child_weight=None, missing=nan, monotone_constraints=None,\n",
       "             n_estimators=100, n_jobs=None, num_parallel_tree=None,\n",
       "             predictor=None, random_state=None, ...)</pre><b>In a Jupyter environment, please rerun this cell to show the HTML representation or trust the notebook. <br />On GitHub, the HTML representation is unable to render, please try loading this page with nbviewer.org.</b></div><div class=\"sk-container\" hidden><div class=\"sk-item\"><div class=\"sk-estimator sk-toggleable\"><input class=\"sk-toggleable__control sk-hidden--visually\" id=\"sk-estimator-id-1\" type=\"checkbox\" checked><label for=\"sk-estimator-id-1\" class=\"sk-toggleable__label sk-toggleable__label-arrow\">XGBRegressor</label><div class=\"sk-toggleable__content\"><pre>XGBRegressor(base_score=None, booster=None, callbacks=None,\n",
       "             colsample_bylevel=None, colsample_bynode=None,\n",
       "             colsample_bytree=None, early_stopping_rounds=None,\n",
       "             enable_categorical=False, eval_metric=None, feature_types=None,\n",
       "             gamma=None, gpu_id=None, grow_policy=None, importance_type=None,\n",
       "             interaction_constraints=None, learning_rate=None, max_bin=None,\n",
       "             max_cat_threshold=None, max_cat_to_onehot=None,\n",
       "             max_delta_step=None, max_depth=None, max_leaves=None,\n",
       "             min_child_weight=None, missing=nan, monotone_constraints=None,\n",
       "             n_estimators=100, n_jobs=None, num_parallel_tree=None,\n",
       "             predictor=None, random_state=None, ...)</pre></div></div></div></div></div>"
      ],
      "text/plain": [
       "XGBRegressor(base_score=None, booster=None, callbacks=None,\n",
       "             colsample_bylevel=None, colsample_bynode=None,\n",
       "             colsample_bytree=None, early_stopping_rounds=None,\n",
       "             enable_categorical=False, eval_metric=None, feature_types=None,\n",
       "             gamma=None, gpu_id=None, grow_policy=None, importance_type=None,\n",
       "             interaction_constraints=None, learning_rate=None, max_bin=None,\n",
       "             max_cat_threshold=None, max_cat_to_onehot=None,\n",
       "             max_delta_step=None, max_depth=None, max_leaves=None,\n",
       "             min_child_weight=None, missing=nan, monotone_constraints=None,\n",
       "             n_estimators=100, n_jobs=None, num_parallel_tree=None,\n",
       "             predictor=None, random_state=None, ...)"
      ]
     },
     "execution_count": 38,
     "metadata": {},
     "output_type": "execute_result"
    }
   ],
   "source": [
    "lr = LinearRegression()\n",
    "lr.fit(x_train,y_train)\n",
    "\n",
    "rf =  RandomForestRegressor()\n",
    "rf.fit(x_train,y_train)\n",
    "\n",
    "xgb =  GradientBoostingRegressor()\n",
    "xgb.fit(x_train,y_train)\n",
    "\n",
    "xg = XGBRegressor()\n",
    "xg.fit(x_train,y_train)"
   ]
  },
  {
   "cell_type": "markdown",
   "id": "43bf4b57",
   "metadata": {
    "papermill": {
     "duration": 0.026015,
     "end_time": "2023-11-05T16:38:00.950167",
     "exception": false,
     "start_time": "2023-11-05T16:38:00.924152",
     "status": "completed"
    },
    "tags": []
   },
   "source": []
  },
  {
   "cell_type": "markdown",
   "id": "0a505b23",
   "metadata": {
    "papermill": {
     "duration": 0.025428,
     "end_time": "2023-11-05T16:38:01.002035",
     "exception": false,
     "start_time": "2023-11-05T16:38:00.976607",
     "status": "completed"
    },
    "tags": []
   },
   "source": [
    "12. predication on  test data"
   ]
  },
  {
   "cell_type": "code",
   "execution_count": 39,
   "id": "a226f5a2",
   "metadata": {
    "execution": {
     "iopub.execute_input": "2023-11-05T16:38:01.057458Z",
     "iopub.status.busy": "2023-11-05T16:38:01.057058Z",
     "iopub.status.idle": "2023-11-05T16:38:01.081356Z",
     "shell.execute_reply": "2023-11-05T16:38:01.080483Z"
    },
    "papermill": {
     "duration": 0.055414,
     "end_time": "2023-11-05T16:38:01.084310",
     "exception": false,
     "start_time": "2023-11-05T16:38:01.028896",
     "status": "completed"
    },
    "tags": []
   },
   "outputs": [],
   "source": [
    "y_pred1 = lr.predict(x_test)\n",
    "y_pred2 = rf.predict(x_test)\n",
    "y_pred3 = xgb.predict(x_test)\n",
    "y_pred4 = xg.predict(x_test)"
   ]
  },
  {
   "cell_type": "markdown",
   "id": "05d9bb68",
   "metadata": {
    "papermill": {
     "duration": 0.027009,
     "end_time": "2023-11-05T16:38:01.140725",
     "exception": false,
     "start_time": "2023-11-05T16:38:01.113716",
     "status": "completed"
    },
    "tags": []
   },
   "source": []
  },
  {
   "cell_type": "markdown",
   "id": "1b82df3a",
   "metadata": {
    "papermill": {
     "duration": 0.026673,
     "end_time": "2023-11-05T16:38:01.195522",
     "exception": false,
     "start_time": "2023-11-05T16:38:01.168849",
     "status": "completed"
    },
    "tags": []
   },
   "source": [
    "13. Evaluating the algorithm"
   ]
  },
  {
   "cell_type": "code",
   "execution_count": 40,
   "id": "6bd61f07",
   "metadata": {
    "execution": {
     "iopub.execute_input": "2023-11-05T16:38:01.251278Z",
     "iopub.status.busy": "2023-11-05T16:38:01.250846Z",
     "iopub.status.idle": "2023-11-05T16:38:01.255467Z",
     "shell.execute_reply": "2023-11-05T16:38:01.254431Z"
    },
    "papermill": {
     "duration": 0.034813,
     "end_time": "2023-11-05T16:38:01.257657",
     "exception": false,
     "start_time": "2023-11-05T16:38:01.222844",
     "status": "completed"
    },
    "tags": []
   },
   "outputs": [],
   "source": [
    "from sklearn import metrics"
   ]
  },
  {
   "cell_type": "code",
   "execution_count": 41,
   "id": "74281bc0",
   "metadata": {
    "execution": {
     "iopub.execute_input": "2023-11-05T16:38:01.311031Z",
     "iopub.status.busy": "2023-11-05T16:38:01.310543Z",
     "iopub.status.idle": "2023-11-05T16:38:01.318470Z",
     "shell.execute_reply": "2023-11-05T16:38:01.317297Z"
    },
    "papermill": {
     "duration": 0.037389,
     "end_time": "2023-11-05T16:38:01.320723",
     "exception": false,
     "start_time": "2023-11-05T16:38:01.283334",
     "status": "completed"
    },
    "tags": []
   },
   "outputs": [],
   "source": [
    "score1 = metrics.r2_score(y_test,y_pred1)\n",
    "score2 = metrics.r2_score(y_test,y_pred2)\n",
    "score3 = metrics.r2_score(y_test,y_pred3)\n",
    "score4 = metrics.r2_score(y_test,y_pred4)"
   ]
  },
  {
   "cell_type": "code",
   "execution_count": 42,
   "id": "a9f52f42",
   "metadata": {
    "execution": {
     "iopub.execute_input": "2023-11-05T16:38:01.374090Z",
     "iopub.status.busy": "2023-11-05T16:38:01.373642Z",
     "iopub.status.idle": "2023-11-05T16:38:01.379350Z",
     "shell.execute_reply": "2023-11-05T16:38:01.378253Z"
    },
    "papermill": {
     "duration": 0.034897,
     "end_time": "2023-11-05T16:38:01.381541",
     "exception": false,
     "start_time": "2023-11-05T16:38:01.346644",
     "status": "completed"
    },
    "tags": []
   },
   "outputs": [
    {
     "name": "stdout",
     "output_type": "stream",
     "text": [
      "0.6790884983129405 0.7495457397169557 0.8963125455677116 0.8864839405756888\n"
     ]
    }
   ],
   "source": [
    "print(score1,score2,score3,score4)"
   ]
  },
  {
   "cell_type": "code",
   "execution_count": 43,
   "id": "280aa1ac",
   "metadata": {
    "execution": {
     "iopub.execute_input": "2023-11-05T16:38:01.437213Z",
     "iopub.status.busy": "2023-11-05T16:38:01.436824Z",
     "iopub.status.idle": "2023-11-05T16:38:01.442567Z",
     "shell.execute_reply": "2023-11-05T16:38:01.441470Z"
    },
    "papermill": {
     "duration": 0.036136,
     "end_time": "2023-11-05T16:38:01.444744",
     "exception": false,
     "start_time": "2023-11-05T16:38:01.408608",
     "status": "completed"
    },
    "tags": []
   },
   "outputs": [],
   "source": [
    "final_data = pd.DataFrame({'Models': ['LR','RF','GBR','XG'],\"R2_SCORE\":[score1,score2,score3,score4]})"
   ]
  },
  {
   "cell_type": "code",
   "execution_count": 44,
   "id": "5356e07d",
   "metadata": {
    "execution": {
     "iopub.execute_input": "2023-11-05T16:38:01.499741Z",
     "iopub.status.busy": "2023-11-05T16:38:01.499299Z",
     "iopub.status.idle": "2023-11-05T16:38:01.508659Z",
     "shell.execute_reply": "2023-11-05T16:38:01.507790Z"
    },
    "papermill": {
     "duration": 0.039552,
     "end_time": "2023-11-05T16:38:01.510616",
     "exception": false,
     "start_time": "2023-11-05T16:38:01.471064",
     "status": "completed"
    },
    "tags": []
   },
   "outputs": [
    {
     "data": {
      "text/html": [
       "<div>\n",
       "<style scoped>\n",
       "    .dataframe tbody tr th:only-of-type {\n",
       "        vertical-align: middle;\n",
       "    }\n",
       "\n",
       "    .dataframe tbody tr th {\n",
       "        vertical-align: top;\n",
       "    }\n",
       "\n",
       "    .dataframe thead th {\n",
       "        text-align: right;\n",
       "    }\n",
       "</style>\n",
       "<table border=\"1\" class=\"dataframe\">\n",
       "  <thead>\n",
       "    <tr style=\"text-align: right;\">\n",
       "      <th></th>\n",
       "      <th>Models</th>\n",
       "      <th>R2_SCORE</th>\n",
       "    </tr>\n",
       "  </thead>\n",
       "  <tbody>\n",
       "    <tr>\n",
       "      <th>0</th>\n",
       "      <td>LR</td>\n",
       "      <td>0.679088</td>\n",
       "    </tr>\n",
       "    <tr>\n",
       "      <th>1</th>\n",
       "      <td>RF</td>\n",
       "      <td>0.749546</td>\n",
       "    </tr>\n",
       "    <tr>\n",
       "      <th>2</th>\n",
       "      <td>GBR</td>\n",
       "      <td>0.896313</td>\n",
       "    </tr>\n",
       "    <tr>\n",
       "      <th>3</th>\n",
       "      <td>XG</td>\n",
       "      <td>0.886484</td>\n",
       "    </tr>\n",
       "  </tbody>\n",
       "</table>\n",
       "</div>"
      ],
      "text/plain": [
       "  Models  R2_SCORE\n",
       "0     LR  0.679088\n",
       "1     RF  0.749546\n",
       "2    GBR  0.896313\n",
       "3     XG  0.886484"
      ]
     },
     "execution_count": 44,
     "metadata": {},
     "output_type": "execute_result"
    }
   ],
   "source": [
    "final_data"
   ]
  },
  {
   "cell_type": "code",
   "execution_count": 45,
   "id": "1be6e6ba",
   "metadata": {
    "execution": {
     "iopub.execute_input": "2023-11-05T16:38:01.566196Z",
     "iopub.status.busy": "2023-11-05T16:38:01.565775Z",
     "iopub.status.idle": "2023-11-05T16:38:01.810720Z",
     "shell.execute_reply": "2023-11-05T16:38:01.809535Z"
    },
    "papermill": {
     "duration": 0.275232,
     "end_time": "2023-11-05T16:38:01.813083",
     "exception": false,
     "start_time": "2023-11-05T16:38:01.537851",
     "status": "completed"
    },
    "tags": []
   },
   "outputs": [
    {
     "data": {
      "text/plain": [
       "<Axes: xlabel='Models', ylabel='R2_SCORE'>"
      ]
     },
     "execution_count": 45,
     "metadata": {},
     "output_type": "execute_result"
    },
    {
     "data": {
      "image/png": "[encoded data removed]",
      "text/plain": [
       "<Figure size 640x480 with 1 Axes>"
      ]
     },
     "metadata": {},
     "output_type": "display_data"
    }
   ],
   "source": [
    "import seaborn as sns\n",
    "sns.barplot(x=final_data['Models'],y=final_data['R2_SCORE'])"
   ]
  },
  {
   "cell_type": "markdown",
   "id": "dad83b9f",
   "metadata": {
    "papermill": {
     "duration": 0.026843,
     "end_time": "2023-11-05T16:38:01.865912",
     "exception": false,
     "start_time": "2023-11-05T16:38:01.839069",
     "status": "completed"
    },
    "tags": []
   },
   "source": []
  },
  {
   "cell_type": "markdown",
   "id": "69815f81",
   "metadata": {
    "papermill": {
     "duration": 0.027122,
     "end_time": "2023-11-05T16:38:01.920095",
     "exception": false,
     "start_time": "2023-11-05T16:38:01.892973",
     "status": "completed"
    },
    "tags": []
   },
   "source": [
    "14. save the model"
   ]
  },
  {
   "cell_type": "code",
   "execution_count": 46,
   "id": "221c2c0d",
   "metadata": {
    "execution": {
     "iopub.execute_input": "2023-11-05T16:38:01.976395Z",
     "iopub.status.busy": "2023-11-05T16:38:01.976003Z",
     "iopub.status.idle": "2023-11-05T16:38:02.066371Z",
     "shell.execute_reply": "2023-11-05T16:38:02.065489Z"
    },
    "papermill": {
     "duration": 0.122065,
     "end_time": "2023-11-05T16:38:02.069310",
     "exception": false,
     "start_time": "2023-11-05T16:38:01.947245",
     "status": "completed"
    },
    "tags": []
   },
   "outputs": [],
   "source": [
    "xg = XGBRegressor()\n",
    "xg_final = xg.fit(x,y)"
   ]
  },
  {
   "cell_type": "code",
   "execution_count": 47,
   "id": "4b79161e",
   "metadata": {
    "execution": {
     "iopub.execute_input": "2023-11-05T16:38:02.128108Z",
     "iopub.status.busy": "2023-11-05T16:38:02.127717Z",
     "iopub.status.idle": "2023-11-05T16:38:02.132287Z",
     "shell.execute_reply": "2023-11-05T16:38:02.131465Z"
    },
    "papermill": {
     "duration": 0.035592,
     "end_time": "2023-11-05T16:38:02.134352",
     "exception": false,
     "start_time": "2023-11-05T16:38:02.098760",
     "status": "completed"
    },
    "tags": []
   },
   "outputs": [],
   "source": [
    "import joblib"
   ]
  },
  {
   "cell_type": "code",
   "execution_count": 48,
   "id": "35b03d68",
   "metadata": {
    "execution": {
     "iopub.execute_input": "2023-11-05T16:38:02.191835Z",
     "iopub.status.busy": "2023-11-05T16:38:02.191399Z",
     "iopub.status.idle": "2023-11-05T16:38:02.216495Z",
     "shell.execute_reply": "2023-11-05T16:38:02.205506Z"
    },
    "papermill": {
     "duration": 0.056117,
     "end_time": "2023-11-05T16:38:02.218947",
     "exception": false,
     "start_time": "2023-11-05T16:38:02.162830",
     "status": "completed"
    },
    "tags": []
   },
   "outputs": [
    {
     "data": {
      "text/plain": [
       "['car_price_predictor']"
      ]
     },
     "execution_count": 48,
     "metadata": {},
     "output_type": "execute_result"
    }
   ],
   "source": [
    "joblib.dump(xg_final,'car_price_predictor')"
   ]
  },
  {
   "cell_type": "code",
   "execution_count": 49,
   "id": "8a1c324d",
   "metadata": {
    "execution": {
     "iopub.execute_input": "2023-11-05T16:38:02.275653Z",
     "iopub.status.busy": "2023-11-05T16:38:02.274947Z",
     "iopub.status.idle": "2023-11-05T16:38:02.292353Z",
     "shell.execute_reply": "2023-11-05T16:38:02.291436Z"
    },
    "papermill": {
     "duration": 0.048071,
     "end_time": "2023-11-05T16:38:02.294839",
     "exception": false,
     "start_time": "2023-11-05T16:38:02.246768",
     "status": "completed"
    },
    "tags": []
   },
   "outputs": [],
   "source": [
    "model = joblib.load('car_price_predictor')"
   ]
  },
  {
   "cell_type": "markdown",
   "id": "ee0309b6",
   "metadata": {
    "papermill": {
     "duration": 0.026616,
     "end_time": "2023-11-05T16:38:02.349618",
     "exception": false,
     "start_time": "2023-11-05T16:38:02.323002",
     "status": "completed"
    },
    "tags": []
   },
   "source": []
  },
  {
   "cell_type": "markdown",
   "id": "6bf65028",
   "metadata": {
    "papermill": {
     "duration": 0.026742,
     "end_time": "2023-11-05T16:38:02.402867",
     "exception": false,
     "start_time": "2023-11-05T16:38:02.376125",
     "status": "completed"
    },
    "tags": []
   },
   "source": [
    "15. predicat on new data"
   ]
  },
  {
   "cell_type": "code",
   "execution_count": 50,
   "id": "657cc695",
   "metadata": {
    "execution": {
     "iopub.execute_input": "2023-11-05T16:38:02.456885Z",
     "iopub.status.busy": "2023-11-05T16:38:02.456506Z",
     "iopub.status.idle": "2023-11-05T16:38:02.463468Z",
     "shell.execute_reply": "2023-11-05T16:38:02.462231Z"
    },
    "papermill": {
     "duration": 0.036807,
     "end_time": "2023-11-05T16:38:02.465625",
     "exception": false,
     "start_time": "2023-11-05T16:38:02.428818",
     "status": "completed"
    },
    "tags": []
   },
   "outputs": [],
   "source": [
    "import pandas as pd\n",
    "\n",
    "data_new = pd.DataFrame({\n",
    "    'Present_Price':5.59,\n",
    "    'Kms_Driven':27000,\n",
    "    'Fuel_Type':0,\n",
    "    'Seller_Type':0,\n",
    "    'Transmission':0,\n",
    "    'Owner':0,\n",
    "    'Age':8\n",
    "},index=[0])"
   ]
  },
  {
   "cell_type": "code",
   "execution_count": 51,
   "id": "1c490980",
   "metadata": {
    "execution": {
     "iopub.execute_input": "2023-11-05T16:38:02.520452Z",
     "iopub.status.busy": "2023-11-05T16:38:02.520011Z",
     "iopub.status.idle": "2023-11-05T16:38:02.540352Z",
     "shell.execute_reply": "2023-11-05T16:38:02.539358Z"
    },
    "papermill": {
     "duration": 0.050944,
     "end_time": "2023-11-05T16:38:02.542816",
     "exception": false,
     "start_time": "2023-11-05T16:38:02.491872",
     "status": "completed"
    },
    "tags": []
   },
   "outputs": [
    {
     "data": {
      "text/plain": [
       "array([3.7360353], dtype=float32)"
      ]
     },
     "execution_count": 51,
     "metadata": {},
     "output_type": "execute_result"
    }
   ],
   "source": [
    "model.predict(data_new)"
   ]
  },
  {
   "cell_type": "code",
   "execution_count": null,
   "id": "3146c6bb",
   "metadata": {
    "papermill": {
     "duration": 0.027282,
     "end_time": "2023-11-05T16:38:02.597634",
     "exception": false,
     "start_time": "2023-11-05T16:38:02.570352",
     "status": "completed"
    },
    "tags": []
   },
   "outputs": [],
   "source": []
  }
 ],
 "metadata": {
  "kernelspec": {
   "display_name": "Python 3",
   "language": "python",
   "name": "python3"
  },
  "language_info": {
   "codemirror_mode": {
    "name": "ipython",
    "version": 3
   },
   "file_extension": ".py",
   "mimetype": "text/x-python",
   "name": "python",
   "nbconvert_exporter": "python",
   "pygments_lexer": "ipython3",
   "version": "3.10.12"
  },
  "papermill": {
   "default_parameters": {},
   "duration": 12.628992,
   "end_time": "2023-11-05T16:38:03.244565",
   "environment_variables": {},
   "exception": null,
   "input_path": "__notebook__.ipynb",
   "output_path": "__notebook__.ipynb",
   "parameters": {},
   "start_time": "2023-11-05T16:37:50.615573",
   "version": "2.4.0"
  }
 },
 "nbformat": 4,
 "nbformat_minor": 5
}
