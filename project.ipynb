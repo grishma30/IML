{
 "cells": [
  {
   "cell_type": "code",
   "execution_count": 1,
   "id": "38bc00f7",
   "metadata": {
    "_cell_guid": "b1076dfc-b9ad-4769-8c92-a6c4dae69d19",
    "_uuid": "8f2839f25d086af736a60e9eeb907d3b93b6e0e5",
    "execution": {
     "iopub.execute_input": "2023-11-04T16:25:16.467053Z",
     "iopub.status.busy": "2023-11-04T16:25:16.466297Z",
     "iopub.status.idle": "2023-11-04T16:25:16.477445Z",
     "shell.execute_reply": "2023-11-04T16:25:16.476680Z"
    },
    "papermill": {
     "duration": 0.036088,
     "end_time": "2023-11-04T16:25:16.479603",
     "exception": false,
     "start_time": "2023-11-04T16:25:16.443515",
     "status": "completed"
    },
    "tags": []
   },
   "outputs": [],
   "source": [
    "import warnings\n",
    "warnings.filterwarnings(\"ignore\")"
   ]
  },
  {
   "cell_type": "code",
   "execution_count": 2,
   "id": "5ba72b0e",
   "metadata": {
    "execution": {
     "iopub.execute_input": "2023-11-04T16:25:16.523791Z",
     "iopub.status.busy": "2023-11-04T16:25:16.523052Z",
     "iopub.status.idle": "2023-11-04T16:25:16.950498Z",
     "shell.execute_reply": "2023-11-04T16:25:16.949293Z"
    },
    "papermill": {
     "duration": 0.452657,
     "end_time": "2023-11-04T16:25:16.953424",
     "exception": false,
     "start_time": "2023-11-04T16:25:16.500767",
     "status": "completed"
    },
    "tags": []
   },
   "outputs": [],
   "source": [
    "import pandas as pd\n",
    "\n",
    "data = pd.read_csv('/kaggle/input/car-data/cardata.csv');"
   ]
  },
  {
   "cell_type": "markdown",
   "id": "ffcd00e5",
   "metadata": {
    "papermill": {
     "duration": 0.021149,
     "end_time": "2023-11-04T16:25:16.996063",
     "exception": false,
     "start_time": "2023-11-04T16:25:16.974914",
     "status": "completed"
    },
    "tags": []
   },
   "source": [
    "1.  Display the first 5  rows of data set"
   ]
  },
  {
   "cell_type": "code",
   "execution_count": 3,
   "id": "422299e3",
   "metadata": {
    "execution": {
     "iopub.execute_input": "2023-11-04T16:25:17.040427Z",
     "iopub.status.busy": "2023-11-04T16:25:17.039823Z",
     "iopub.status.idle": "2023-11-04T16:25:17.065832Z",
     "shell.execute_reply": "2023-11-04T16:25:17.064609Z"
    },
    "papermill": {
     "duration": 0.051223,
     "end_time": "2023-11-04T16:25:17.068605",
     "exception": false,
     "start_time": "2023-11-04T16:25:17.017382",
     "status": "completed"
    },
    "tags": []
   },
   "outputs": [
    {
     "data": {
      "text/html": [
       "<div>\n",
       "<style scoped>\n",
       "    .dataframe tbody tr th:only-of-type {\n",
       "        vertical-align: middle;\n",
       "    }\n",
       "\n",
       "    .dataframe tbody tr th {\n",
       "        vertical-align: top;\n",
       "    }\n",
       "\n",
       "    .dataframe thead th {\n",
       "        text-align: right;\n",
       "    }\n",
       "</style>\n",
       "<table border=\"1\" class=\"dataframe\">\n",
       "  <thead>\n",
       "    <tr style=\"text-align: right;\">\n",
       "      <th></th>\n",
       "      <th>Car_Name</th>\n",
       "      <th>Year</th>\n",
       "      <th>Selling_Price</th>\n",
       "      <th>Present_Price</th>\n",
       "      <th>Kms_Driven</th>\n",
       "      <th>Fuel_Type</th>\n",
       "      <th>Seller_Type</th>\n",
       "      <th>Transmission</th>\n",
       "      <th>Owner</th>\n",
       "    </tr>\n",
       "  </thead>\n",
       "  <tbody>\n",
       "    <tr>\n",
       "      <th>0</th>\n",
       "      <td>ritz</td>\n",
       "      <td>2014</td>\n",
       "      <td>3.35</td>\n",
       "      <td>5.59</td>\n",
       "      <td>27000</td>\n",
       "      <td>Petrol</td>\n",
       "      <td>Dealer</td>\n",
       "      <td>Manual</td>\n",
       "      <td>0</td>\n",
       "    </tr>\n",
       "    <tr>\n",
       "      <th>1</th>\n",
       "      <td>sx4</td>\n",
       "      <td>2013</td>\n",
       "      <td>4.75</td>\n",
       "      <td>9.54</td>\n",
       "      <td>43000</td>\n",
       "      <td>Diesel</td>\n",
       "      <td>Dealer</td>\n",
       "      <td>Manual</td>\n",
       "      <td>0</td>\n",
       "    </tr>\n",
       "    <tr>\n",
       "      <th>2</th>\n",
       "      <td>ciaz</td>\n",
       "      <td>2017</td>\n",
       "      <td>7.25</td>\n",
       "      <td>9.85</td>\n",
       "      <td>6900</td>\n",
       "      <td>Petrol</td>\n",
       "      <td>Dealer</td>\n",
       "      <td>Manual</td>\n",
       "      <td>0</td>\n",
       "    </tr>\n",
       "    <tr>\n",
       "      <th>3</th>\n",
       "      <td>wagon r</td>\n",
       "      <td>2011</td>\n",
       "      <td>2.85</td>\n",
       "      <td>4.15</td>\n",
       "      <td>5200</td>\n",
       "      <td>Petrol</td>\n",
       "      <td>Dealer</td>\n",
       "      <td>Manual</td>\n",
       "      <td>0</td>\n",
       "    </tr>\n",
       "    <tr>\n",
       "      <th>4</th>\n",
       "      <td>swift</td>\n",
       "      <td>2014</td>\n",
       "      <td>4.60</td>\n",
       "      <td>6.87</td>\n",
       "      <td>42450</td>\n",
       "      <td>Diesel</td>\n",
       "      <td>Dealer</td>\n",
       "      <td>Manual</td>\n",
       "      <td>0</td>\n",
       "    </tr>\n",
       "  </tbody>\n",
       "</table>\n",
       "</div>"
      ],
      "text/plain": [
       "  Car_Name  Year  Selling_Price  Present_Price  Kms_Driven Fuel_Type  \\\n",
       "0     ritz  2014           3.35           5.59       27000    Petrol   \n",
       "1      sx4  2013           4.75           9.54       43000    Diesel   \n",
       "2     ciaz  2017           7.25           9.85        6900    Petrol   \n",
       "3  wagon r  2011           2.85           4.15        5200    Petrol   \n",
       "4    swift  2014           4.60           6.87       42450    Diesel   \n",
       "\n",
       "  Seller_Type Transmission  Owner  \n",
       "0      Dealer       Manual      0  \n",
       "1      Dealer       Manual      0  \n",
       "2      Dealer       Manual      0  \n",
       "3      Dealer       Manual      0  \n",
       "4      Dealer       Manual      0  "
      ]
     },
     "execution_count": 3,
     "metadata": {},
     "output_type": "execute_result"
    }
   ],
   "source": [
    "data.head()"
   ]
  },
  {
   "cell_type": "markdown",
   "id": "cc4c999b",
   "metadata": {
    "papermill": {
     "duration": 0.021001,
     "end_time": "2023-11-04T16:25:17.110837",
     "exception": false,
     "start_time": "2023-11-04T16:25:17.089836",
     "status": "completed"
    },
    "tags": []
   },
   "source": [
    "2. Display the last 5 rows of dataset"
   ]
  },
  {
   "cell_type": "code",
   "execution_count": 4,
   "id": "9b41aae2",
   "metadata": {
    "execution": {
     "iopub.execute_input": "2023-11-04T16:25:17.155328Z",
     "iopub.status.busy": "2023-11-04T16:25:17.154953Z",
     "iopub.status.idle": "2023-11-04T16:25:17.169926Z",
     "shell.execute_reply": "2023-11-04T16:25:17.168994Z"
    },
    "papermill": {
     "duration": 0.039746,
     "end_time": "2023-11-04T16:25:17.171993",
     "exception": false,
     "start_time": "2023-11-04T16:25:17.132247",
     "status": "completed"
    },
    "tags": []
   },
   "outputs": [
    {
     "data": {
      "text/html": [
       "<div>\n",
       "<style scoped>\n",
       "    .dataframe tbody tr th:only-of-type {\n",
       "        vertical-align: middle;\n",
       "    }\n",
       "\n",
       "    .dataframe tbody tr th {\n",
       "        vertical-align: top;\n",
       "    }\n",
       "\n",
       "    .dataframe thead th {\n",
       "        text-align: right;\n",
       "    }\n",
       "</style>\n",
       "<table border=\"1\" class=\"dataframe\">\n",
       "  <thead>\n",
       "    <tr style=\"text-align: right;\">\n",
       "      <th></th>\n",
       "      <th>Car_Name</th>\n",
       "      <th>Year</th>\n",
       "      <th>Selling_Price</th>\n",
       "      <th>Present_Price</th>\n",
       "      <th>Kms_Driven</th>\n",
       "      <th>Fuel_Type</th>\n",
       "      <th>Seller_Type</th>\n",
       "      <th>Transmission</th>\n",
       "      <th>Owner</th>\n",
       "    </tr>\n",
       "  </thead>\n",
       "  <tbody>\n",
       "    <tr>\n",
       "      <th>296</th>\n",
       "      <td>city</td>\n",
       "      <td>2016</td>\n",
       "      <td>9.50</td>\n",
       "      <td>11.6</td>\n",
       "      <td>33988</td>\n",
       "      <td>Diesel</td>\n",
       "      <td>Dealer</td>\n",
       "      <td>Manual</td>\n",
       "      <td>0</td>\n",
       "    </tr>\n",
       "    <tr>\n",
       "      <th>297</th>\n",
       "      <td>brio</td>\n",
       "      <td>2015</td>\n",
       "      <td>4.00</td>\n",
       "      <td>5.9</td>\n",
       "      <td>60000</td>\n",
       "      <td>Petrol</td>\n",
       "      <td>Dealer</td>\n",
       "      <td>Manual</td>\n",
       "      <td>0</td>\n",
       "    </tr>\n",
       "    <tr>\n",
       "      <th>298</th>\n",
       "      <td>city</td>\n",
       "      <td>2009</td>\n",
       "      <td>3.35</td>\n",
       "      <td>11.0</td>\n",
       "      <td>87934</td>\n",
       "      <td>Petrol</td>\n",
       "      <td>Dealer</td>\n",
       "      <td>Manual</td>\n",
       "      <td>0</td>\n",
       "    </tr>\n",
       "    <tr>\n",
       "      <th>299</th>\n",
       "      <td>city</td>\n",
       "      <td>2017</td>\n",
       "      <td>11.50</td>\n",
       "      <td>12.5</td>\n",
       "      <td>9000</td>\n",
       "      <td>Diesel</td>\n",
       "      <td>Dealer</td>\n",
       "      <td>Manual</td>\n",
       "      <td>0</td>\n",
       "    </tr>\n",
       "    <tr>\n",
       "      <th>300</th>\n",
       "      <td>brio</td>\n",
       "      <td>2016</td>\n",
       "      <td>5.30</td>\n",
       "      <td>5.9</td>\n",
       "      <td>5464</td>\n",
       "      <td>Petrol</td>\n",
       "      <td>Dealer</td>\n",
       "      <td>Manual</td>\n",
       "      <td>0</td>\n",
       "    </tr>\n",
       "  </tbody>\n",
       "</table>\n",
       "</div>"
      ],
      "text/plain": [
       "    Car_Name  Year  Selling_Price  Present_Price  Kms_Driven Fuel_Type  \\\n",
       "296     city  2016           9.50           11.6       33988    Diesel   \n",
       "297     brio  2015           4.00            5.9       60000    Petrol   \n",
       "298     city  2009           3.35           11.0       87934    Petrol   \n",
       "299     city  2017          11.50           12.5        9000    Diesel   \n",
       "300     brio  2016           5.30            5.9        5464    Petrol   \n",
       "\n",
       "    Seller_Type Transmission  Owner  \n",
       "296      Dealer       Manual      0  \n",
       "297      Dealer       Manual      0  \n",
       "298      Dealer       Manual      0  \n",
       "299      Dealer       Manual      0  \n",
       "300      Dealer       Manual      0  "
      ]
     },
     "execution_count": 4,
     "metadata": {},
     "output_type": "execute_result"
    }
   ],
   "source": [
    "data.tail()"
   ]
  },
  {
   "cell_type": "markdown",
   "id": "599a961e",
   "metadata": {
    "papermill": {
     "duration": 0.021362,
     "end_time": "2023-11-04T16:25:17.214987",
     "exception": false,
     "start_time": "2023-11-04T16:25:17.193625",
     "status": "completed"
    },
    "tags": []
   },
   "source": []
  },
  {
   "cell_type": "markdown",
   "id": "71c14088",
   "metadata": {
    "papermill": {
     "duration": 0.02092,
     "end_time": "2023-11-04T16:25:17.257347",
     "exception": false,
     "start_time": "2023-11-04T16:25:17.236427",
     "status": "completed"
    },
    "tags": []
   },
   "source": [
    "3. find the shape of our daraset ( number of rows and number of columns )"
   ]
  },
  {
   "cell_type": "code",
   "execution_count": 5,
   "id": "0d0f2f77",
   "metadata": {
    "execution": {
     "iopub.execute_input": "2023-11-04T16:25:17.361168Z",
     "iopub.status.busy": "2023-11-04T16:25:17.360498Z",
     "iopub.status.idle": "2023-11-04T16:25:17.366672Z",
     "shell.execute_reply": "2023-11-04T16:25:17.365876Z"
    },
    "papermill": {
     "duration": 0.090086,
     "end_time": "2023-11-04T16:25:17.368783",
     "exception": false,
     "start_time": "2023-11-04T16:25:17.278697",
     "status": "completed"
    },
    "tags": []
   },
   "outputs": [
    {
     "data": {
      "text/plain": [
       "(301, 9)"
      ]
     },
     "execution_count": 5,
     "metadata": {},
     "output_type": "execute_result"
    }
   ],
   "source": [
    "data.shape"
   ]
  },
  {
   "cell_type": "code",
   "execution_count": 6,
   "id": "39079809",
   "metadata": {
    "execution": {
     "iopub.execute_input": "2023-11-04T16:25:17.414494Z",
     "iopub.status.busy": "2023-11-04T16:25:17.413523Z",
     "iopub.status.idle": "2023-11-04T16:25:17.420033Z",
     "shell.execute_reply": "2023-11-04T16:25:17.418799Z"
    },
    "papermill": {
     "duration": 0.031734,
     "end_time": "2023-11-04T16:25:17.422322",
     "exception": false,
     "start_time": "2023-11-04T16:25:17.390588",
     "status": "completed"
    },
    "tags": []
   },
   "outputs": [
    {
     "name": "stdout",
     "output_type": "stream",
     "text": [
      "number of rows  301\n",
      "number of coloumns  9\n"
     ]
    }
   ],
   "source": [
    "print(\"number of rows \",data.shape[0])\n",
    "print(\"number of coloumns \",data.shape[1])"
   ]
  },
  {
   "cell_type": "markdown",
   "id": "2bf99e76",
   "metadata": {
    "papermill": {
     "duration": 0.021538,
     "end_time": "2023-11-04T16:25:17.465606",
     "exception": false,
     "start_time": "2023-11-04T16:25:17.444068",
     "status": "completed"
    },
    "tags": []
   },
   "source": []
  },
  {
   "cell_type": "markdown",
   "id": "53d72eb1",
   "metadata": {
    "papermill": {
     "duration": 0.021531,
     "end_time": "2023-11-04T16:25:17.508944",
     "exception": false,
     "start_time": "2023-11-04T16:25:17.487413",
     "status": "completed"
    },
    "tags": []
   },
   "source": [
    "4.  get information about the dataset like total number of rows total number of column data type of each collumn and memory requirement "
   ]
  },
  {
   "cell_type": "code",
   "execution_count": 7,
   "id": "624d4166",
   "metadata": {
    "execution": {
     "iopub.execute_input": "2023-11-04T16:25:17.555355Z",
     "iopub.status.busy": "2023-11-04T16:25:17.554704Z",
     "iopub.status.idle": "2023-11-04T16:25:17.582898Z",
     "shell.execute_reply": "2023-11-04T16:25:17.581812Z"
    },
    "papermill": {
     "duration": 0.054071,
     "end_time": "2023-11-04T16:25:17.585356",
     "exception": false,
     "start_time": "2023-11-04T16:25:17.531285",
     "status": "completed"
    },
    "tags": []
   },
   "outputs": [
    {
     "name": "stdout",
     "output_type": "stream",
     "text": [
      "<class 'pandas.core.frame.DataFrame'>\n",
      "RangeIndex: 301 entries, 0 to 300\n",
      "Data columns (total 9 columns):\n",
      " #   Column         Non-Null Count  Dtype  \n",
      "---  ------         --------------  -----  \n",
      " 0   Car_Name       301 non-null    object \n",
      " 1   Year           301 non-null    int64  \n",
      " 2   Selling_Price  301 non-null    float64\n",
      " 3   Present_Price  301 non-null    float64\n",
      " 4   Kms_Driven     301 non-null    int64  \n",
      " 5   Fuel_Type      301 non-null    object \n",
      " 6   Seller_Type    301 non-null    object \n",
      " 7   Transmission   301 non-null    object \n",
      " 8   Owner          301 non-null    int64  \n",
      "dtypes: float64(2), int64(3), object(4)\n",
      "memory usage: 21.3+ KB\n"
     ]
    }
   ],
   "source": [
    "data.info()"
   ]
  },
  {
   "cell_type": "markdown",
   "id": "17dc50f4",
   "metadata": {
    "papermill": {
     "duration": 0.022287,
     "end_time": "2023-11-04T16:25:17.629461",
     "exception": false,
     "start_time": "2023-11-04T16:25:17.607174",
     "status": "completed"
    },
    "tags": []
   },
   "source": []
  },
  {
   "cell_type": "markdown",
   "id": "1b81c01d",
   "metadata": {
    "papermill": {
     "duration": 0.022189,
     "end_time": "2023-11-04T16:25:17.673436",
     "exception": false,
     "start_time": "2023-11-04T16:25:17.651247",
     "status": "completed"
    },
    "tags": []
   },
   "source": [
    "5. Check the null values in dataset"
   ]
  },
  {
   "cell_type": "code",
   "execution_count": 8,
   "id": "e93381e5",
   "metadata": {
    "execution": {
     "iopub.execute_input": "2023-11-04T16:25:17.719573Z",
     "iopub.status.busy": "2023-11-04T16:25:17.718846Z",
     "iopub.status.idle": "2023-11-04T16:25:17.727742Z",
     "shell.execute_reply": "2023-11-04T16:25:17.726594Z"
    },
    "papermill": {
     "duration": 0.034604,
     "end_time": "2023-11-04T16:25:17.729940",
     "exception": false,
     "start_time": "2023-11-04T16:25:17.695336",
     "status": "completed"
    },
    "tags": []
   },
   "outputs": [
    {
     "data": {
      "text/plain": [
       "Car_Name         0\n",
       "Year             0\n",
       "Selling_Price    0\n",
       "Present_Price    0\n",
       "Kms_Driven       0\n",
       "Fuel_Type        0\n",
       "Seller_Type      0\n",
       "Transmission     0\n",
       "Owner            0\n",
       "dtype: int64"
      ]
     },
     "execution_count": 8,
     "metadata": {},
     "output_type": "execute_result"
    }
   ],
   "source": [
    "data.isnull().sum()"
   ]
  },
  {
   "cell_type": "markdown",
   "id": "fc0c5815",
   "metadata": {
    "papermill": {
     "duration": 0.021835,
     "end_time": "2023-11-04T16:25:17.774159",
     "exception": false,
     "start_time": "2023-11-04T16:25:17.752324",
     "status": "completed"
    },
    "tags": []
   },
   "source": []
  },
  {
   "cell_type": "markdown",
   "id": "74dc5c62",
   "metadata": {
    "papermill": {
     "duration": 0.021749,
     "end_time": "2023-11-04T16:25:17.818013",
     "exception": false,
     "start_time": "2023-11-04T16:25:17.796264",
     "status": "completed"
    },
    "tags": []
   },
   "source": [
    "6. get overall statistic about the dataset"
   ]
  },
  {
   "cell_type": "code",
   "execution_count": 9,
   "id": "474d7023",
   "metadata": {
    "execution": {
     "iopub.execute_input": "2023-11-04T16:25:17.864920Z",
     "iopub.status.busy": "2023-11-04T16:25:17.864167Z",
     "iopub.status.idle": "2023-11-04T16:25:17.891076Z",
     "shell.execute_reply": "2023-11-04T16:25:17.889943Z"
    },
    "papermill": {
     "duration": 0.05295,
     "end_time": "2023-11-04T16:25:17.893436",
     "exception": false,
     "start_time": "2023-11-04T16:25:17.840486",
     "status": "completed"
    },
    "tags": []
   },
   "outputs": [
    {
     "data": {
      "text/html": [
       "<div>\n",
       "<style scoped>\n",
       "    .dataframe tbody tr th:only-of-type {\n",
       "        vertical-align: middle;\n",
       "    }\n",
       "\n",
       "    .dataframe tbody tr th {\n",
       "        vertical-align: top;\n",
       "    }\n",
       "\n",
       "    .dataframe thead th {\n",
       "        text-align: right;\n",
       "    }\n",
       "</style>\n",
       "<table border=\"1\" class=\"dataframe\">\n",
       "  <thead>\n",
       "    <tr style=\"text-align: right;\">\n",
       "      <th></th>\n",
       "      <th>Year</th>\n",
       "      <th>Selling_Price</th>\n",
       "      <th>Present_Price</th>\n",
       "      <th>Kms_Driven</th>\n",
       "      <th>Owner</th>\n",
       "    </tr>\n",
       "  </thead>\n",
       "  <tbody>\n",
       "    <tr>\n",
       "      <th>count</th>\n",
       "      <td>301.000000</td>\n",
       "      <td>301.000000</td>\n",
       "      <td>301.000000</td>\n",
       "      <td>301.000000</td>\n",
       "      <td>301.000000</td>\n",
       "    </tr>\n",
       "    <tr>\n",
       "      <th>mean</th>\n",
       "      <td>2013.627907</td>\n",
       "      <td>4.661296</td>\n",
       "      <td>7.628472</td>\n",
       "      <td>36947.205980</td>\n",
       "      <td>0.043189</td>\n",
       "    </tr>\n",
       "    <tr>\n",
       "      <th>std</th>\n",
       "      <td>2.891554</td>\n",
       "      <td>5.082812</td>\n",
       "      <td>8.644115</td>\n",
       "      <td>38886.883882</td>\n",
       "      <td>0.247915</td>\n",
       "    </tr>\n",
       "    <tr>\n",
       "      <th>min</th>\n",
       "      <td>2003.000000</td>\n",
       "      <td>0.100000</td>\n",
       "      <td>0.320000</td>\n",
       "      <td>500.000000</td>\n",
       "      <td>0.000000</td>\n",
       "    </tr>\n",
       "    <tr>\n",
       "      <th>25%</th>\n",
       "      <td>2012.000000</td>\n",
       "      <td>0.900000</td>\n",
       "      <td>1.200000</td>\n",
       "      <td>15000.000000</td>\n",
       "      <td>0.000000</td>\n",
       "    </tr>\n",
       "    <tr>\n",
       "      <th>50%</th>\n",
       "      <td>2014.000000</td>\n",
       "      <td>3.600000</td>\n",
       "      <td>6.400000</td>\n",
       "      <td>32000.000000</td>\n",
       "      <td>0.000000</td>\n",
       "    </tr>\n",
       "    <tr>\n",
       "      <th>75%</th>\n",
       "      <td>2016.000000</td>\n",
       "      <td>6.000000</td>\n",
       "      <td>9.900000</td>\n",
       "      <td>48767.000000</td>\n",
       "      <td>0.000000</td>\n",
       "    </tr>\n",
       "    <tr>\n",
       "      <th>max</th>\n",
       "      <td>2018.000000</td>\n",
       "      <td>35.000000</td>\n",
       "      <td>92.600000</td>\n",
       "      <td>500000.000000</td>\n",
       "      <td>3.000000</td>\n",
       "    </tr>\n",
       "  </tbody>\n",
       "</table>\n",
       "</div>"
      ],
      "text/plain": [
       "              Year  Selling_Price  Present_Price     Kms_Driven       Owner\n",
       "count   301.000000     301.000000     301.000000     301.000000  301.000000\n",
       "mean   2013.627907       4.661296       7.628472   36947.205980    0.043189\n",
       "std       2.891554       5.082812       8.644115   38886.883882    0.247915\n",
       "min    2003.000000       0.100000       0.320000     500.000000    0.000000\n",
       "25%    2012.000000       0.900000       1.200000   15000.000000    0.000000\n",
       "50%    2014.000000       3.600000       6.400000   32000.000000    0.000000\n",
       "75%    2016.000000       6.000000       9.900000   48767.000000    0.000000\n",
       "max    2018.000000      35.000000      92.600000  500000.000000    3.000000"
      ]
     },
     "execution_count": 9,
     "metadata": {},
     "output_type": "execute_result"
    }
   ],
   "source": [
    "data.describe()"
   ]
  },
  {
   "cell_type": "markdown",
   "id": "624000ba",
   "metadata": {
    "papermill": {
     "duration": 0.022123,
     "end_time": "2023-11-04T16:25:17.938088",
     "exception": false,
     "start_time": "2023-11-04T16:25:17.915965",
     "status": "completed"
    },
    "tags": []
   },
   "source": [
    "7. Data preprocessing"
   ]
  },
  {
   "cell_type": "code",
   "execution_count": 10,
   "id": "dacdf64c",
   "metadata": {
    "execution": {
     "iopub.execute_input": "2023-11-04T16:25:17.984038Z",
     "iopub.status.busy": "2023-11-04T16:25:17.983639Z",
     "iopub.status.idle": "2023-11-04T16:25:17.997198Z",
     "shell.execute_reply": "2023-11-04T16:25:17.996169Z"
    },
    "papermill": {
     "duration": 0.039061,
     "end_time": "2023-11-04T16:25:17.999378",
     "exception": false,
     "start_time": "2023-11-04T16:25:17.960317",
     "status": "completed"
    },
    "tags": []
   },
   "outputs": [
    {
     "data": {
      "text/html": [
       "<div>\n",
       "<style scoped>\n",
       "    .dataframe tbody tr th:only-of-type {\n",
       "        vertical-align: middle;\n",
       "    }\n",
       "\n",
       "    .dataframe tbody tr th {\n",
       "        vertical-align: top;\n",
       "    }\n",
       "\n",
       "    .dataframe thead th {\n",
       "        text-align: right;\n",
       "    }\n",
       "</style>\n",
       "<table border=\"1\" class=\"dataframe\">\n",
       "  <thead>\n",
       "    <tr style=\"text-align: right;\">\n",
       "      <th></th>\n",
       "      <th>Car_Name</th>\n",
       "      <th>Year</th>\n",
       "      <th>Selling_Price</th>\n",
       "      <th>Present_Price</th>\n",
       "      <th>Kms_Driven</th>\n",
       "      <th>Fuel_Type</th>\n",
       "      <th>Seller_Type</th>\n",
       "      <th>Transmission</th>\n",
       "      <th>Owner</th>\n",
       "    </tr>\n",
       "  </thead>\n",
       "  <tbody>\n",
       "    <tr>\n",
       "      <th>0</th>\n",
       "      <td>ritz</td>\n",
       "      <td>2014</td>\n",
       "      <td>3.35</td>\n",
       "      <td>5.59</td>\n",
       "      <td>27000</td>\n",
       "      <td>Petrol</td>\n",
       "      <td>Dealer</td>\n",
       "      <td>Manual</td>\n",
       "      <td>0</td>\n",
       "    </tr>\n",
       "  </tbody>\n",
       "</table>\n",
       "</div>"
      ],
      "text/plain": [
       "  Car_Name  Year  Selling_Price  Present_Price  Kms_Driven Fuel_Type  \\\n",
       "0     ritz  2014           3.35           5.59       27000    Petrol   \n",
       "\n",
       "  Seller_Type Transmission  Owner  \n",
       "0      Dealer       Manual      0  "
      ]
     },
     "execution_count": 10,
     "metadata": {},
     "output_type": "execute_result"
    }
   ],
   "source": [
    "data.head(1)"
   ]
  },
  {
   "cell_type": "code",
   "execution_count": 11,
   "id": "46c24aef",
   "metadata": {
    "execution": {
     "iopub.execute_input": "2023-11-04T16:25:18.047163Z",
     "iopub.status.busy": "2023-11-04T16:25:18.046218Z",
     "iopub.status.idle": "2023-11-04T16:25:18.050902Z",
     "shell.execute_reply": "2023-11-04T16:25:18.050117Z"
    },
    "papermill": {
     "duration": 0.030708,
     "end_time": "2023-11-04T16:25:18.052861",
     "exception": false,
     "start_time": "2023-11-04T16:25:18.022153",
     "status": "completed"
    },
    "tags": []
   },
   "outputs": [],
   "source": [
    "import datetime"
   ]
  },
  {
   "cell_type": "code",
   "execution_count": 12,
   "id": "d8b53afe",
   "metadata": {
    "execution": {
     "iopub.execute_input": "2023-11-04T16:25:18.100029Z",
     "iopub.status.busy": "2023-11-04T16:25:18.099647Z",
     "iopub.status.idle": "2023-11-04T16:25:18.104533Z",
     "shell.execute_reply": "2023-11-04T16:25:18.103455Z"
    },
    "papermill": {
     "duration": 0.031099,
     "end_time": "2023-11-04T16:25:18.106699",
     "exception": false,
     "start_time": "2023-11-04T16:25:18.075600",
     "status": "completed"
    },
    "tags": []
   },
   "outputs": [],
   "source": [
    "date_time = datetime.datetime.now()"
   ]
  },
  {
   "cell_type": "code",
   "execution_count": 13,
   "id": "1fc5f749",
   "metadata": {
    "execution": {
     "iopub.execute_input": "2023-11-04T16:25:18.153753Z",
     "iopub.status.busy": "2023-11-04T16:25:18.153328Z",
     "iopub.status.idle": "2023-11-04T16:25:18.159694Z",
     "shell.execute_reply": "2023-11-04T16:25:18.158590Z"
    },
    "papermill": {
     "duration": 0.032589,
     "end_time": "2023-11-04T16:25:18.162013",
     "exception": false,
     "start_time": "2023-11-04T16:25:18.129424",
     "status": "completed"
    },
    "tags": []
   },
   "outputs": [],
   "source": [
    "data['Age'] = date_time.year - data['Year']"
   ]
  },
  {
   "cell_type": "code",
   "execution_count": 14,
   "id": "9a63d564",
   "metadata": {
    "execution": {
     "iopub.execute_input": "2023-11-04T16:25:18.208996Z",
     "iopub.status.busy": "2023-11-04T16:25:18.208604Z",
     "iopub.status.idle": "2023-11-04T16:25:18.223829Z",
     "shell.execute_reply": "2023-11-04T16:25:18.223080Z"
    },
    "papermill": {
     "duration": 0.041243,
     "end_time": "2023-11-04T16:25:18.226076",
     "exception": false,
     "start_time": "2023-11-04T16:25:18.184833",
     "status": "completed"
    },
    "tags": []
   },
   "outputs": [
    {
     "data": {
      "text/html": [
       "<div>\n",
       "<style scoped>\n",
       "    .dataframe tbody tr th:only-of-type {\n",
       "        vertical-align: middle;\n",
       "    }\n",
       "\n",
       "    .dataframe tbody tr th {\n",
       "        vertical-align: top;\n",
       "    }\n",
       "\n",
       "    .dataframe thead th {\n",
       "        text-align: right;\n",
       "    }\n",
       "</style>\n",
       "<table border=\"1\" class=\"dataframe\">\n",
       "  <thead>\n",
       "    <tr style=\"text-align: right;\">\n",
       "      <th></th>\n",
       "      <th>Car_Name</th>\n",
       "      <th>Year</th>\n",
       "      <th>Selling_Price</th>\n",
       "      <th>Present_Price</th>\n",
       "      <th>Kms_Driven</th>\n",
       "      <th>Fuel_Type</th>\n",
       "      <th>Seller_Type</th>\n",
       "      <th>Transmission</th>\n",
       "      <th>Owner</th>\n",
       "      <th>Age</th>\n",
       "    </tr>\n",
       "  </thead>\n",
       "  <tbody>\n",
       "    <tr>\n",
       "      <th>0</th>\n",
       "      <td>ritz</td>\n",
       "      <td>2014</td>\n",
       "      <td>3.35</td>\n",
       "      <td>5.59</td>\n",
       "      <td>27000</td>\n",
       "      <td>Petrol</td>\n",
       "      <td>Dealer</td>\n",
       "      <td>Manual</td>\n",
       "      <td>0</td>\n",
       "      <td>9</td>\n",
       "    </tr>\n",
       "    <tr>\n",
       "      <th>1</th>\n",
       "      <td>sx4</td>\n",
       "      <td>2013</td>\n",
       "      <td>4.75</td>\n",
       "      <td>9.54</td>\n",
       "      <td>43000</td>\n",
       "      <td>Diesel</td>\n",
       "      <td>Dealer</td>\n",
       "      <td>Manual</td>\n",
       "      <td>0</td>\n",
       "      <td>10</td>\n",
       "    </tr>\n",
       "    <tr>\n",
       "      <th>2</th>\n",
       "      <td>ciaz</td>\n",
       "      <td>2017</td>\n",
       "      <td>7.25</td>\n",
       "      <td>9.85</td>\n",
       "      <td>6900</td>\n",
       "      <td>Petrol</td>\n",
       "      <td>Dealer</td>\n",
       "      <td>Manual</td>\n",
       "      <td>0</td>\n",
       "      <td>6</td>\n",
       "    </tr>\n",
       "    <tr>\n",
       "      <th>3</th>\n",
       "      <td>wagon r</td>\n",
       "      <td>2011</td>\n",
       "      <td>2.85</td>\n",
       "      <td>4.15</td>\n",
       "      <td>5200</td>\n",
       "      <td>Petrol</td>\n",
       "      <td>Dealer</td>\n",
       "      <td>Manual</td>\n",
       "      <td>0</td>\n",
       "      <td>12</td>\n",
       "    </tr>\n",
       "    <tr>\n",
       "      <th>4</th>\n",
       "      <td>swift</td>\n",
       "      <td>2014</td>\n",
       "      <td>4.60</td>\n",
       "      <td>6.87</td>\n",
       "      <td>42450</td>\n",
       "      <td>Diesel</td>\n",
       "      <td>Dealer</td>\n",
       "      <td>Manual</td>\n",
       "      <td>0</td>\n",
       "      <td>9</td>\n",
       "    </tr>\n",
       "  </tbody>\n",
       "</table>\n",
       "</div>"
      ],
      "text/plain": [
       "  Car_Name  Year  Selling_Price  Present_Price  Kms_Driven Fuel_Type  \\\n",
       "0     ritz  2014           3.35           5.59       27000    Petrol   \n",
       "1      sx4  2013           4.75           9.54       43000    Diesel   \n",
       "2     ciaz  2017           7.25           9.85        6900    Petrol   \n",
       "3  wagon r  2011           2.85           4.15        5200    Petrol   \n",
       "4    swift  2014           4.60           6.87       42450    Diesel   \n",
       "\n",
       "  Seller_Type Transmission  Owner  Age  \n",
       "0      Dealer       Manual      0    9  \n",
       "1      Dealer       Manual      0   10  \n",
       "2      Dealer       Manual      0    6  \n",
       "3      Dealer       Manual      0   12  \n",
       "4      Dealer       Manual      0    9  "
      ]
     },
     "execution_count": 14,
     "metadata": {},
     "output_type": "execute_result"
    }
   ],
   "source": [
    "data.head()"
   ]
  },
  {
   "cell_type": "code",
   "execution_count": 15,
   "id": "5fc734fa",
   "metadata": {
    "execution": {
     "iopub.execute_input": "2023-11-04T16:25:18.273932Z",
     "iopub.status.busy": "2023-11-04T16:25:18.273569Z",
     "iopub.status.idle": "2023-11-04T16:25:18.283863Z",
     "shell.execute_reply": "2023-11-04T16:25:18.282813Z"
    },
    "papermill": {
     "duration": 0.036798,
     "end_time": "2023-11-04T16:25:18.286123",
     "exception": false,
     "start_time": "2023-11-04T16:25:18.249325",
     "status": "completed"
    },
    "tags": []
   },
   "outputs": [],
   "source": [
    "data.drop('Year' , axis = 1 , inplace = True)"
   ]
  },
  {
   "cell_type": "code",
   "execution_count": 16,
   "id": "3383c21c",
   "metadata": {
    "execution": {
     "iopub.execute_input": "2023-11-04T16:25:18.334193Z",
     "iopub.status.busy": "2023-11-04T16:25:18.333801Z",
     "iopub.status.idle": "2023-11-04T16:25:18.348977Z",
     "shell.execute_reply": "2023-11-04T16:25:18.348112Z"
    },
    "papermill": {
     "duration": 0.04178,
     "end_time": "2023-11-04T16:25:18.351257",
     "exception": false,
     "start_time": "2023-11-04T16:25:18.309477",
     "status": "completed"
    },
    "tags": []
   },
   "outputs": [
    {
     "data": {
      "text/html": [
       "<div>\n",
       "<style scoped>\n",
       "    .dataframe tbody tr th:only-of-type {\n",
       "        vertical-align: middle;\n",
       "    }\n",
       "\n",
       "    .dataframe tbody tr th {\n",
       "        vertical-align: top;\n",
       "    }\n",
       "\n",
       "    .dataframe thead th {\n",
       "        text-align: right;\n",
       "    }\n",
       "</style>\n",
       "<table border=\"1\" class=\"dataframe\">\n",
       "  <thead>\n",
       "    <tr style=\"text-align: right;\">\n",
       "      <th></th>\n",
       "      <th>Car_Name</th>\n",
       "      <th>Selling_Price</th>\n",
       "      <th>Present_Price</th>\n",
       "      <th>Kms_Driven</th>\n",
       "      <th>Fuel_Type</th>\n",
       "      <th>Seller_Type</th>\n",
       "      <th>Transmission</th>\n",
       "      <th>Owner</th>\n",
       "      <th>Age</th>\n",
       "    </tr>\n",
       "  </thead>\n",
       "  <tbody>\n",
       "    <tr>\n",
       "      <th>0</th>\n",
       "      <td>ritz</td>\n",
       "      <td>3.35</td>\n",
       "      <td>5.59</td>\n",
       "      <td>27000</td>\n",
       "      <td>Petrol</td>\n",
       "      <td>Dealer</td>\n",
       "      <td>Manual</td>\n",
       "      <td>0</td>\n",
       "      <td>9</td>\n",
       "    </tr>\n",
       "    <tr>\n",
       "      <th>1</th>\n",
       "      <td>sx4</td>\n",
       "      <td>4.75</td>\n",
       "      <td>9.54</td>\n",
       "      <td>43000</td>\n",
       "      <td>Diesel</td>\n",
       "      <td>Dealer</td>\n",
       "      <td>Manual</td>\n",
       "      <td>0</td>\n",
       "      <td>10</td>\n",
       "    </tr>\n",
       "    <tr>\n",
       "      <th>2</th>\n",
       "      <td>ciaz</td>\n",
       "      <td>7.25</td>\n",
       "      <td>9.85</td>\n",
       "      <td>6900</td>\n",
       "      <td>Petrol</td>\n",
       "      <td>Dealer</td>\n",
       "      <td>Manual</td>\n",
       "      <td>0</td>\n",
       "      <td>6</td>\n",
       "    </tr>\n",
       "    <tr>\n",
       "      <th>3</th>\n",
       "      <td>wagon r</td>\n",
       "      <td>2.85</td>\n",
       "      <td>4.15</td>\n",
       "      <td>5200</td>\n",
       "      <td>Petrol</td>\n",
       "      <td>Dealer</td>\n",
       "      <td>Manual</td>\n",
       "      <td>0</td>\n",
       "      <td>12</td>\n",
       "    </tr>\n",
       "    <tr>\n",
       "      <th>4</th>\n",
       "      <td>swift</td>\n",
       "      <td>4.60</td>\n",
       "      <td>6.87</td>\n",
       "      <td>42450</td>\n",
       "      <td>Diesel</td>\n",
       "      <td>Dealer</td>\n",
       "      <td>Manual</td>\n",
       "      <td>0</td>\n",
       "      <td>9</td>\n",
       "    </tr>\n",
       "  </tbody>\n",
       "</table>\n",
       "</div>"
      ],
      "text/plain": [
       "  Car_Name  Selling_Price  Present_Price  Kms_Driven Fuel_Type Seller_Type  \\\n",
       "0     ritz           3.35           5.59       27000    Petrol      Dealer   \n",
       "1      sx4           4.75           9.54       43000    Diesel      Dealer   \n",
       "2     ciaz           7.25           9.85        6900    Petrol      Dealer   \n",
       "3  wagon r           2.85           4.15        5200    Petrol      Dealer   \n",
       "4    swift           4.60           6.87       42450    Diesel      Dealer   \n",
       "\n",
       "  Transmission  Owner  Age  \n",
       "0       Manual      0    9  \n",
       "1       Manual      0   10  \n",
       "2       Manual      0    6  \n",
       "3       Manual      0   12  \n",
       "4       Manual      0    9  "
      ]
     },
     "execution_count": 16,
     "metadata": {},
     "output_type": "execute_result"
    }
   ],
   "source": [
    "data.head()"
   ]
  },
  {
   "cell_type": "markdown",
   "id": "1fa1cfc0",
   "metadata": {
    "papermill": {
     "duration": 0.022976,
     "end_time": "2023-11-04T16:25:18.398695",
     "exception": false,
     "start_time": "2023-11-04T16:25:18.375719",
     "status": "completed"
    },
    "tags": []
   },
   "source": []
  },
  {
   "cell_type": "markdown",
   "id": "c40f7cd1",
   "metadata": {
    "papermill": {
     "duration": 0.022812,
     "end_time": "2023-11-04T16:25:18.446445",
     "exception": false,
     "start_time": "2023-11-04T16:25:18.423633",
     "status": "completed"
    },
    "tags": []
   },
   "source": [
    " outlier remover"
   ]
  },
  {
   "cell_type": "code",
   "execution_count": 17,
   "id": "342f9fac",
   "metadata": {
    "execution": {
     "iopub.execute_input": "2023-11-04T16:25:18.495349Z",
     "iopub.status.busy": "2023-11-04T16:25:18.494968Z",
     "iopub.status.idle": "2023-11-04T16:25:20.077083Z",
     "shell.execute_reply": "2023-11-04T16:25:20.076199Z"
    },
    "papermill": {
     "duration": 1.609708,
     "end_time": "2023-11-04T16:25:20.079663",
     "exception": false,
     "start_time": "2023-11-04T16:25:18.469955",
     "status": "completed"
    },
    "tags": []
   },
   "outputs": [],
   "source": [
    "import seaborn as sns"
   ]
  },
  {
   "cell_type": "code",
   "execution_count": 18,
   "id": "82a7d2b4",
   "metadata": {
    "execution": {
     "iopub.execute_input": "2023-11-04T16:25:20.129464Z",
     "iopub.status.busy": "2023-11-04T16:25:20.128773Z",
     "iopub.status.idle": "2023-11-04T16:25:20.384168Z",
     "shell.execute_reply": "2023-11-04T16:25:20.383149Z"
    },
    "papermill": {
     "duration": 0.282803,
     "end_time": "2023-11-04T16:25:20.386688",
     "exception": false,
     "start_time": "2023-11-04T16:25:20.103885",
     "status": "completed"
    },
    "tags": []
   },
   "outputs": [
    {
     "data": {
      "text/plain": [
       "<Axes: >"
      ]
     },
     "execution_count": 18,
     "metadata": {},
     "output_type": "execute_result"
    },
    {
     "data": {
      "image/png": "[encoded data removed]",
      "text/plain": [
       "<Figure size 640x480 with 1 Axes>"
      ]
     },
     "metadata": {},
     "output_type": "display_data"
    }
   ],
   "source": [
    "sns.boxplot(data['Selling_Price'])"
   ]
  },
  {
   "cell_type": "code",
   "execution_count": 19,
   "id": "f1f7e2f9",
   "metadata": {
    "execution": {
     "iopub.execute_input": "2023-11-04T16:25:20.436121Z",
     "iopub.status.busy": "2023-11-04T16:25:20.435736Z",
     "iopub.status.idle": "2023-11-04T16:25:20.447478Z",
     "shell.execute_reply": "2023-11-04T16:25:20.446305Z"
    },
    "papermill": {
     "duration": 0.0392,
     "end_time": "2023-11-04T16:25:20.449803",
     "exception": false,
     "start_time": "2023-11-04T16:25:20.410603",
     "status": "completed"
    },
    "tags": []
   },
   "outputs": [
    {
     "data": {
      "text/plain": [
       "[35.0,\n",
       " 33.0,\n",
       " 23.5,\n",
       " 23.0,\n",
       " 23.0,\n",
       " 23.0,\n",
       " 20.75,\n",
       " 19.99,\n",
       " 19.75,\n",
       " 18.75,\n",
       " 18.0,\n",
       " 17.0,\n",
       " 16.0,\n",
       " 14.9,\n",
       " 14.73,\n",
       " 14.5,\n",
       " 14.25,\n",
       " 12.9,\n",
       " 12.5,\n",
       " 11.75,\n",
       " 11.5,\n",
       " 11.45,\n",
       " 11.25,\n",
       " 11.25,\n",
       " 11.25,\n",
       " 10.9,\n",
       " 10.25,\n",
       " 10.11,\n",
       " 9.7,\n",
       " 9.65,\n",
       " 9.5,\n",
       " 9.25,\n",
       " 9.25,\n",
       " 9.25,\n",
       " 9.15,\n",
       " 9.1,\n",
       " 8.99,\n",
       " 8.75,\n",
       " 8.65,\n",
       " 8.55,\n",
       " 8.5,\n",
       " 8.4,\n",
       " 8.4,\n",
       " 8.35,\n",
       " 8.25,\n",
       " 8.25,\n",
       " 7.9,\n",
       " 7.75,\n",
       " 7.75,\n",
       " 7.75,\n",
       " 7.5,\n",
       " 7.5,\n",
       " 7.5,\n",
       " 7.45,\n",
       " 7.45,\n",
       " 7.45,\n",
       " 7.4,\n",
       " 7.25,\n",
       " 7.25,\n",
       " 7.2,\n",
       " 7.05,\n",
       " 6.95,\n",
       " 6.85,\n",
       " 6.75,\n",
       " 6.7,\n",
       " 6.6,\n",
       " 6.5,\n",
       " 6.5,\n",
       " 6.45,\n",
       " 6.4,\n",
       " 6.25,\n",
       " 6.25,\n",
       " 6.15,\n",
       " 6.1,\n",
       " 6.0,\n",
       " 6.0,\n",
       " 6.0,\n",
       " 6.0,\n",
       " 5.95,\n",
       " 5.95,\n",
       " 5.9,\n",
       " 5.85,\n",
       " 5.85,\n",
       " 5.8,\n",
       " 5.75,\n",
       " 5.75,\n",
       " 5.65,\n",
       " 5.5,\n",
       " 5.5,\n",
       " 5.5,\n",
       " 5.5,\n",
       " 5.5,\n",
       " 5.4,\n",
       " 5.4,\n",
       " 5.35,\n",
       " 5.3,\n",
       " 5.3,\n",
       " 5.25,\n",
       " 5.25,\n",
       " 5.25,\n",
       " 5.25,\n",
       " 5.25,\n",
       " 5.25,\n",
       " 5.25,\n",
       " 5.2,\n",
       " 5.15,\n",
       " 5.11,\n",
       " 5.0,\n",
       " 4.95,\n",
       " 4.95,\n",
       " 4.9,\n",
       " 4.9,\n",
       " 4.85,\n",
       " 4.8,\n",
       " 4.8,\n",
       " 4.75,\n",
       " 4.75,\n",
       " 4.75,\n",
       " 4.75,\n",
       " 4.75,\n",
       " 4.75,\n",
       " 4.65,\n",
       " 4.6,\n",
       " 4.5,\n",
       " 4.5,\n",
       " 4.5,\n",
       " 4.5,\n",
       " 4.5,\n",
       " 4.5,\n",
       " 4.5,\n",
       " 4.4,\n",
       " 4.4,\n",
       " 4.4,\n",
       " 4.35,\n",
       " 4.15,\n",
       " 4.1,\n",
       " 4.1,\n",
       " 4.0,\n",
       " 4.0,\n",
       " 4.0,\n",
       " 4.0,\n",
       " 4.0,\n",
       " 3.95,\n",
       " 3.95,\n",
       " 3.9,\n",
       " 3.9,\n",
       " 3.8,\n",
       " 3.75,\n",
       " 3.75,\n",
       " 3.65,\n",
       " 3.6,\n",
       " 3.51,\n",
       " 3.5,\n",
       " 3.5,\n",
       " 3.49,\n",
       " 3.45,\n",
       " 3.35,\n",
       " 3.35,\n",
       " 3.25,\n",
       " 3.25,\n",
       " 3.25,\n",
       " 3.15,\n",
       " 3.1,\n",
       " 3.1,\n",
       " 3.1,\n",
       " 3.1,\n",
       " 3.0,\n",
       " 3.0,\n",
       " 3.0,\n",
       " 3.0,\n",
       " 2.95,\n",
       " 2.95,\n",
       " 2.9,\n",
       " 2.9,\n",
       " 2.9,\n",
       " 2.85,\n",
       " 2.85,\n",
       " 2.85,\n",
       " 2.75,\n",
       " 2.75,\n",
       " 2.7,\n",
       " 2.65,\n",
       " 2.65,\n",
       " 2.65,\n",
       " 2.55,\n",
       " 2.55,\n",
       " 2.5,\n",
       " 2.5,\n",
       " 2.35,\n",
       " 2.25,\n",
       " 2.25,\n",
       " 2.25,\n",
       " 2.1,\n",
       " 2.0,\n",
       " 1.95,\n",
       " 1.95,\n",
       " 1.75,\n",
       " 1.7,\n",
       " 1.65,\n",
       " 1.5,\n",
       " 1.45,\n",
       " 1.35,\n",
       " 1.35,\n",
       " 1.35,\n",
       " 1.25,\n",
       " 1.25,\n",
       " 1.2,\n",
       " 1.2,\n",
       " 1.2,\n",
       " 1.15,\n",
       " 1.15,\n",
       " 1.15,\n",
       " 1.15,\n",
       " 1.11,\n",
       " 1.1,\n",
       " 1.1,\n",
       " 1.1,\n",
       " 1.05,\n",
       " 1.05,\n",
       " 1.05,\n",
       " 1.05,\n",
       " 1.05,\n",
       " 1.0,\n",
       " 0.95,\n",
       " 0.9,\n",
       " 0.9,\n",
       " 0.8,\n",
       " 0.78,\n",
       " 0.75,\n",
       " 0.75,\n",
       " 0.75,\n",
       " 0.75,\n",
       " 0.72,\n",
       " 0.65,\n",
       " 0.65,\n",
       " 0.65,\n",
       " 0.65,\n",
       " 0.6,\n",
       " 0.6,\n",
       " 0.6,\n",
       " 0.6,\n",
       " 0.6,\n",
       " 0.6,\n",
       " 0.6,\n",
       " 0.6,\n",
       " 0.55,\n",
       " 0.55,\n",
       " 0.52,\n",
       " 0.51,\n",
       " 0.5,\n",
       " 0.5,\n",
       " 0.5,\n",
       " 0.5,\n",
       " 0.5,\n",
       " 0.48,\n",
       " 0.48,\n",
       " 0.48,\n",
       " 0.48,\n",
       " 0.45,\n",
       " 0.45,\n",
       " 0.45,\n",
       " 0.45,\n",
       " 0.45,\n",
       " 0.45,\n",
       " 0.45,\n",
       " 0.45,\n",
       " 0.42,\n",
       " 0.42,\n",
       " 0.4,\n",
       " 0.4,\n",
       " 0.4,\n",
       " 0.4,\n",
       " 0.4,\n",
       " 0.38,\n",
       " 0.38,\n",
       " 0.35,\n",
       " 0.35,\n",
       " 0.35,\n",
       " 0.35,\n",
       " 0.31,\n",
       " 0.3,\n",
       " 0.3,\n",
       " 0.3,\n",
       " 0.27,\n",
       " 0.25,\n",
       " 0.25,\n",
       " 0.25,\n",
       " 0.25,\n",
       " 0.25,\n",
       " 0.2,\n",
       " 0.2,\n",
       " 0.2,\n",
       " 0.2,\n",
       " 0.2,\n",
       " 0.2,\n",
       " 0.18,\n",
       " 0.17,\n",
       " 0.16,\n",
       " 0.15,\n",
       " 0.12,\n",
       " 0.1]"
      ]
     },
     "execution_count": 19,
     "metadata": {},
     "output_type": "execute_result"
    }
   ],
   "source": [
    "sorted(data['Selling_Price'],reverse = True)"
   ]
  },
  {
   "cell_type": "code",
   "execution_count": 20,
   "id": "f75c675b",
   "metadata": {
    "execution": {
     "iopub.execute_input": "2023-11-04T16:25:20.499973Z",
     "iopub.status.busy": "2023-11-04T16:25:20.499592Z",
     "iopub.status.idle": "2023-11-04T16:25:20.506073Z",
     "shell.execute_reply": "2023-11-04T16:25:20.505127Z"
    },
    "papermill": {
     "duration": 0.034231,
     "end_time": "2023-11-04T16:25:20.508243",
     "exception": false,
     "start_time": "2023-11-04T16:25:20.474012",
     "status": "completed"
    },
    "tags": []
   },
   "outputs": [],
   "source": [
    "data= data[~(data['Selling_Price']>=33.0) & (data['Selling_Price']<=35.0)]"
   ]
  },
  {
   "cell_type": "code",
   "execution_count": 21,
   "id": "b8bf339a",
   "metadata": {
    "execution": {
     "iopub.execute_input": "2023-11-04T16:25:20.560025Z",
     "iopub.status.busy": "2023-11-04T16:25:20.558624Z",
     "iopub.status.idle": "2023-11-04T16:25:20.566031Z",
     "shell.execute_reply": "2023-11-04T16:25:20.565166Z"
    },
    "papermill": {
     "duration": 0.035438,
     "end_time": "2023-11-04T16:25:20.568286",
     "exception": false,
     "start_time": "2023-11-04T16:25:20.532848",
     "status": "completed"
    },
    "tags": []
   },
   "outputs": [
    {
     "data": {
      "text/plain": [
       "(299, 9)"
      ]
     },
     "execution_count": 21,
     "metadata": {},
     "output_type": "execute_result"
    }
   ],
   "source": [
    "data.shape"
   ]
  },
  {
   "cell_type": "markdown",
   "id": "a9a4c1c3",
   "metadata": {
    "papermill": {
     "duration": 0.024628,
     "end_time": "2023-11-04T16:25:20.617918",
     "exception": false,
     "start_time": "2023-11-04T16:25:20.593290",
     "status": "completed"
    },
    "tags": []
   },
   "source": []
  },
  {
   "cell_type": "markdown",
   "id": "2c9c985b",
   "metadata": {
    "papermill": {
     "duration": 0.024894,
     "end_time": "2023-11-04T16:25:20.667083",
     "exception": false,
     "start_time": "2023-11-04T16:25:20.642189",
     "status": "completed"
    },
    "tags": []
   },
   "source": [
    "Encoding the categorical columns"
   ]
  },
  {
   "cell_type": "code",
   "execution_count": 22,
   "id": "09bc03d9",
   "metadata": {
    "execution": {
     "iopub.execute_input": "2023-11-04T16:25:20.718364Z",
     "iopub.status.busy": "2023-11-04T16:25:20.717539Z",
     "iopub.status.idle": "2023-11-04T16:25:20.732469Z",
     "shell.execute_reply": "2023-11-04T16:25:20.731280Z"
    },
    "papermill": {
     "duration": 0.0432,
     "end_time": "2023-11-04T16:25:20.734868",
     "exception": false,
     "start_time": "2023-11-04T16:25:20.691668",
     "status": "completed"
    },
    "tags": []
   },
   "outputs": [
    {
     "data": {
      "text/html": [
       "<div>\n",
       "<style scoped>\n",
       "    .dataframe tbody tr th:only-of-type {\n",
       "        vertical-align: middle;\n",
       "    }\n",
       "\n",
       "    .dataframe tbody tr th {\n",
       "        vertical-align: top;\n",
       "    }\n",
       "\n",
       "    .dataframe thead th {\n",
       "        text-align: right;\n",
       "    }\n",
       "</style>\n",
       "<table border=\"1\" class=\"dataframe\">\n",
       "  <thead>\n",
       "    <tr style=\"text-align: right;\">\n",
       "      <th></th>\n",
       "      <th>Car_Name</th>\n",
       "      <th>Selling_Price</th>\n",
       "      <th>Present_Price</th>\n",
       "      <th>Kms_Driven</th>\n",
       "      <th>Fuel_Type</th>\n",
       "      <th>Seller_Type</th>\n",
       "      <th>Transmission</th>\n",
       "      <th>Owner</th>\n",
       "      <th>Age</th>\n",
       "    </tr>\n",
       "  </thead>\n",
       "  <tbody>\n",
       "    <tr>\n",
       "      <th>0</th>\n",
       "      <td>ritz</td>\n",
       "      <td>3.35</td>\n",
       "      <td>5.59</td>\n",
       "      <td>27000</td>\n",
       "      <td>Petrol</td>\n",
       "      <td>Dealer</td>\n",
       "      <td>Manual</td>\n",
       "      <td>0</td>\n",
       "      <td>9</td>\n",
       "    </tr>\n",
       "  </tbody>\n",
       "</table>\n",
       "</div>"
      ],
      "text/plain": [
       "  Car_Name  Selling_Price  Present_Price  Kms_Driven Fuel_Type Seller_Type  \\\n",
       "0     ritz           3.35           5.59       27000    Petrol      Dealer   \n",
       "\n",
       "  Transmission  Owner  Age  \n",
       "0       Manual      0    9  "
      ]
     },
     "execution_count": 22,
     "metadata": {},
     "output_type": "execute_result"
    }
   ],
   "source": [
    "data.head(1)"
   ]
  },
  {
   "cell_type": "code",
   "execution_count": 23,
   "id": "bf6f654a",
   "metadata": {
    "execution": {
     "iopub.execute_input": "2023-11-04T16:25:20.786321Z",
     "iopub.status.busy": "2023-11-04T16:25:20.785943Z",
     "iopub.status.idle": "2023-11-04T16:25:20.793220Z",
     "shell.execute_reply": "2023-11-04T16:25:20.792095Z"
    },
    "papermill": {
     "duration": 0.035615,
     "end_time": "2023-11-04T16:25:20.795498",
     "exception": false,
     "start_time": "2023-11-04T16:25:20.759883",
     "status": "completed"
    },
    "tags": []
   },
   "outputs": [
    {
     "data": {
      "text/plain": [
       "array(['Petrol', 'Diesel', 'CNG'], dtype=object)"
      ]
     },
     "execution_count": 23,
     "metadata": {},
     "output_type": "execute_result"
    }
   ],
   "source": [
    "data['Fuel_Type'].unique()"
   ]
  },
  {
   "cell_type": "code",
   "execution_count": 24,
   "id": "e3dc67ef",
   "metadata": {
    "execution": {
     "iopub.execute_input": "2023-11-04T16:25:20.847297Z",
     "iopub.status.busy": "2023-11-04T16:25:20.846679Z",
     "iopub.status.idle": "2023-11-04T16:25:20.853173Z",
     "shell.execute_reply": "2023-11-04T16:25:20.852452Z"
    },
    "papermill": {
     "duration": 0.035021,
     "end_time": "2023-11-04T16:25:20.855316",
     "exception": false,
     "start_time": "2023-11-04T16:25:20.820295",
     "status": "completed"
    },
    "tags": []
   },
   "outputs": [],
   "source": [
    "data['Fuel_Type'] = data['Fuel_Type'].map({'Petrol':0,'Diesel':1,'CNG':2})"
   ]
  },
  {
   "cell_type": "code",
   "execution_count": 25,
   "id": "7bfeb04f",
   "metadata": {
    "execution": {
     "iopub.execute_input": "2023-11-04T16:25:20.906253Z",
     "iopub.status.busy": "2023-11-04T16:25:20.905607Z",
     "iopub.status.idle": "2023-11-04T16:25:20.914337Z",
     "shell.execute_reply": "2023-11-04T16:25:20.913291Z"
    },
    "papermill": {
     "duration": 0.036763,
     "end_time": "2023-11-04T16:25:20.916505",
     "exception": false,
     "start_time": "2023-11-04T16:25:20.879742",
     "status": "completed"
    },
    "tags": []
   },
   "outputs": [
    {
     "data": {
      "text/plain": [
       "array([0, 1, 2])"
      ]
     },
     "execution_count": 25,
     "metadata": {},
     "output_type": "execute_result"
    }
   ],
   "source": [
    "data['Fuel_Type'].unique()"
   ]
  },
  {
   "cell_type": "code",
   "execution_count": 26,
   "id": "8159200f",
   "metadata": {
    "execution": {
     "iopub.execute_input": "2023-11-04T16:25:20.968463Z",
     "iopub.status.busy": "2023-11-04T16:25:20.968024Z",
     "iopub.status.idle": "2023-11-04T16:25:20.975111Z",
     "shell.execute_reply": "2023-11-04T16:25:20.974068Z"
    },
    "papermill": {
     "duration": 0.035619,
     "end_time": "2023-11-04T16:25:20.977321",
     "exception": false,
     "start_time": "2023-11-04T16:25:20.941702",
     "status": "completed"
    },
    "tags": []
   },
   "outputs": [
    {
     "data": {
      "text/plain": [
       "array(['Dealer', 'Individual'], dtype=object)"
      ]
     },
     "execution_count": 26,
     "metadata": {},
     "output_type": "execute_result"
    }
   ],
   "source": [
    "data['Seller_Type'].unique()"
   ]
  },
  {
   "cell_type": "code",
   "execution_count": 27,
   "id": "3cf519f1",
   "metadata": {
    "execution": {
     "iopub.execute_input": "2023-11-04T16:25:21.029801Z",
     "iopub.status.busy": "2023-11-04T16:25:21.029362Z",
     "iopub.status.idle": "2023-11-04T16:25:21.036277Z",
     "shell.execute_reply": "2023-11-04T16:25:21.035430Z"
    },
    "papermill": {
     "duration": 0.035709,
     "end_time": "2023-11-04T16:25:21.038525",
     "exception": false,
     "start_time": "2023-11-04T16:25:21.002816",
     "status": "completed"
    },
    "tags": []
   },
   "outputs": [],
   "source": [
    "data['Seller_Type'] = data['Seller_Type'].map({'Dealer':0,'Individual':1})"
   ]
  },
  {
   "cell_type": "code",
   "execution_count": 28,
   "id": "7b47af5e",
   "metadata": {
    "execution": {
     "iopub.execute_input": "2023-11-04T16:25:21.090577Z",
     "iopub.status.busy": "2023-11-04T16:25:21.089448Z",
     "iopub.status.idle": "2023-11-04T16:25:21.096136Z",
     "shell.execute_reply": "2023-11-04T16:25:21.095367Z"
    },
    "papermill": {
     "duration": 0.034776,
     "end_time": "2023-11-04T16:25:21.098242",
     "exception": false,
     "start_time": "2023-11-04T16:25:21.063466",
     "status": "completed"
    },
    "tags": []
   },
   "outputs": [
    {
     "data": {
      "text/plain": [
       "array([0, 1])"
      ]
     },
     "execution_count": 28,
     "metadata": {},
     "output_type": "execute_result"
    }
   ],
   "source": [
    "data['Seller_Type'].unique()"
   ]
  },
  {
   "cell_type": "code",
   "execution_count": 29,
   "id": "11bd6d6b",
   "metadata": {
    "execution": {
     "iopub.execute_input": "2023-11-04T16:25:21.151137Z",
     "iopub.status.busy": "2023-11-04T16:25:21.149869Z",
     "iopub.status.idle": "2023-11-04T16:25:21.158315Z",
     "shell.execute_reply": "2023-11-04T16:25:21.157143Z"
    },
    "papermill": {
     "duration": 0.036986,
     "end_time": "2023-11-04T16:25:21.160628",
     "exception": false,
     "start_time": "2023-11-04T16:25:21.123642",
     "status": "completed"
    },
    "tags": []
   },
   "outputs": [
    {
     "data": {
      "text/plain": [
       "array(['Manual', 'Automatic'], dtype=object)"
      ]
     },
     "execution_count": 29,
     "metadata": {},
     "output_type": "execute_result"
    }
   ],
   "source": [
    "data['Transmission'].unique()"
   ]
  },
  {
   "cell_type": "code",
   "execution_count": 30,
   "id": "7cd7ad6f",
   "metadata": {
    "execution": {
     "iopub.execute_input": "2023-11-04T16:25:21.213550Z",
     "iopub.status.busy": "2023-11-04T16:25:21.212789Z",
     "iopub.status.idle": "2023-11-04T16:25:21.219183Z",
     "shell.execute_reply": "2023-11-04T16:25:21.218449Z"
    },
    "papermill": {
     "duration": 0.035316,
     "end_time": "2023-11-04T16:25:21.221354",
     "exception": false,
     "start_time": "2023-11-04T16:25:21.186038",
     "status": "completed"
    },
    "tags": []
   },
   "outputs": [],
   "source": [
    "data['Transmission'] = data['Transmission'].map({'Manual':0,'Automatic':1})"
   ]
  },
  {
   "cell_type": "code",
   "execution_count": 31,
   "id": "fb1f6f77",
   "metadata": {
    "execution": {
     "iopub.execute_input": "2023-11-04T16:25:21.273896Z",
     "iopub.status.busy": "2023-11-04T16:25:21.273479Z",
     "iopub.status.idle": "2023-11-04T16:25:21.280565Z",
     "shell.execute_reply": "2023-11-04T16:25:21.279472Z"
    },
    "papermill": {
     "duration": 0.035967,
     "end_time": "2023-11-04T16:25:21.282863",
     "exception": false,
     "start_time": "2023-11-04T16:25:21.246896",
     "status": "completed"
    },
    "tags": []
   },
   "outputs": [
    {
     "data": {
      "text/plain": [
       "array([0, 1])"
      ]
     },
     "execution_count": 31,
     "metadata": {},
     "output_type": "execute_result"
    }
   ],
   "source": [
    "data['Transmission'].unique()"
   ]
  },
  {
   "cell_type": "code",
   "execution_count": 32,
   "id": "bc541893",
   "metadata": {
    "execution": {
     "iopub.execute_input": "2023-11-04T16:25:21.335886Z",
     "iopub.status.busy": "2023-11-04T16:25:21.335109Z",
     "iopub.status.idle": "2023-11-04T16:25:21.349909Z",
     "shell.execute_reply": "2023-11-04T16:25:21.348789Z"
    },
    "papermill": {
     "duration": 0.04397,
     "end_time": "2023-11-04T16:25:21.352126",
     "exception": false,
     "start_time": "2023-11-04T16:25:21.308156",
     "status": "completed"
    },
    "tags": []
   },
   "outputs": [
    {
     "data": {
      "text/html": [
       "<div>\n",
       "<style scoped>\n",
       "    .dataframe tbody tr th:only-of-type {\n",
       "        vertical-align: middle;\n",
       "    }\n",
       "\n",
       "    .dataframe tbody tr th {\n",
       "        vertical-align: top;\n",
       "    }\n",
       "\n",
       "    .dataframe thead th {\n",
       "        text-align: right;\n",
       "    }\n",
       "</style>\n",
       "<table border=\"1\" class=\"dataframe\">\n",
       "  <thead>\n",
       "    <tr style=\"text-align: right;\">\n",
       "      <th></th>\n",
       "      <th>Car_Name</th>\n",
       "      <th>Selling_Price</th>\n",
       "      <th>Present_Price</th>\n",
       "      <th>Kms_Driven</th>\n",
       "      <th>Fuel_Type</th>\n",
       "      <th>Seller_Type</th>\n",
       "      <th>Transmission</th>\n",
       "      <th>Owner</th>\n",
       "      <th>Age</th>\n",
       "    </tr>\n",
       "  </thead>\n",
       "  <tbody>\n",
       "    <tr>\n",
       "      <th>0</th>\n",
       "      <td>ritz</td>\n",
       "      <td>3.35</td>\n",
       "      <td>5.59</td>\n",
       "      <td>27000</td>\n",
       "      <td>0</td>\n",
       "      <td>0</td>\n",
       "      <td>0</td>\n",
       "      <td>0</td>\n",
       "      <td>9</td>\n",
       "    </tr>\n",
       "    <tr>\n",
       "      <th>1</th>\n",
       "      <td>sx4</td>\n",
       "      <td>4.75</td>\n",
       "      <td>9.54</td>\n",
       "      <td>43000</td>\n",
       "      <td>1</td>\n",
       "      <td>0</td>\n",
       "      <td>0</td>\n",
       "      <td>0</td>\n",
       "      <td>10</td>\n",
       "    </tr>\n",
       "    <tr>\n",
       "      <th>2</th>\n",
       "      <td>ciaz</td>\n",
       "      <td>7.25</td>\n",
       "      <td>9.85</td>\n",
       "      <td>6900</td>\n",
       "      <td>0</td>\n",
       "      <td>0</td>\n",
       "      <td>0</td>\n",
       "      <td>0</td>\n",
       "      <td>6</td>\n",
       "    </tr>\n",
       "    <tr>\n",
       "      <th>3</th>\n",
       "      <td>wagon r</td>\n",
       "      <td>2.85</td>\n",
       "      <td>4.15</td>\n",
       "      <td>5200</td>\n",
       "      <td>0</td>\n",
       "      <td>0</td>\n",
       "      <td>0</td>\n",
       "      <td>0</td>\n",
       "      <td>12</td>\n",
       "    </tr>\n",
       "    <tr>\n",
       "      <th>4</th>\n",
       "      <td>swift</td>\n",
       "      <td>4.60</td>\n",
       "      <td>6.87</td>\n",
       "      <td>42450</td>\n",
       "      <td>1</td>\n",
       "      <td>0</td>\n",
       "      <td>0</td>\n",
       "      <td>0</td>\n",
       "      <td>9</td>\n",
       "    </tr>\n",
       "  </tbody>\n",
       "</table>\n",
       "</div>"
      ],
      "text/plain": [
       "  Car_Name  Selling_Price  Present_Price  Kms_Driven  Fuel_Type  Seller_Type  \\\n",
       "0     ritz           3.35           5.59       27000          0            0   \n",
       "1      sx4           4.75           9.54       43000          1            0   \n",
       "2     ciaz           7.25           9.85        6900          0            0   \n",
       "3  wagon r           2.85           4.15        5200          0            0   \n",
       "4    swift           4.60           6.87       42450          1            0   \n",
       "\n",
       "   Transmission  Owner  Age  \n",
       "0             0      0    9  \n",
       "1             0      0   10  \n",
       "2             0      0    6  \n",
       "3             0      0   12  \n",
       "4             0      0    9  "
      ]
     },
     "execution_count": 32,
     "metadata": {},
     "output_type": "execute_result"
    }
   ],
   "source": [
    "data.head()"
   ]
  },
  {
   "cell_type": "markdown",
   "id": "9df16bfc",
   "metadata": {
    "papermill": {
     "duration": 0.025457,
     "end_time": "2023-11-04T16:25:21.404009",
     "exception": false,
     "start_time": "2023-11-04T16:25:21.378552",
     "status": "completed"
    },
    "tags": []
   },
   "source": []
  },
  {
   "cell_type": "markdown",
   "id": "df7d5875",
   "metadata": {
    "papermill": {
     "duration": 0.025589,
     "end_time": "2023-11-04T16:25:21.455564",
     "exception": false,
     "start_time": "2023-11-04T16:25:21.429975",
     "status": "completed"
    },
    "tags": []
   },
   "source": [
    "8. store feature matrix in x and response(target) in vectore y "
   ]
  },
  {
   "cell_type": "code",
   "execution_count": 33,
   "id": "0d507fc0",
   "metadata": {
    "execution": {
     "iopub.execute_input": "2023-11-04T16:25:21.512921Z",
     "iopub.status.busy": "2023-11-04T16:25:21.512566Z",
     "iopub.status.idle": "2023-11-04T16:25:21.518798Z",
     "shell.execute_reply": "2023-11-04T16:25:21.517934Z"
    },
    "papermill": {
     "duration": 0.037755,
     "end_time": "2023-11-04T16:25:21.520848",
     "exception": false,
     "start_time": "2023-11-04T16:25:21.483093",
     "status": "completed"
    },
    "tags": []
   },
   "outputs": [],
   "source": [
    "x = data.drop(['Car_Name','Selling_Price'],axis = 1)\n",
    "y = data[\"Selling_Price\"]"
   ]
  },
  {
   "cell_type": "code",
   "execution_count": 34,
   "id": "89a58357",
   "metadata": {
    "execution": {
     "iopub.execute_input": "2023-11-04T16:25:21.578479Z",
     "iopub.status.busy": "2023-11-04T16:25:21.577612Z",
     "iopub.status.idle": "2023-11-04T16:25:21.587151Z",
     "shell.execute_reply": "2023-11-04T16:25:21.586296Z"
    },
    "papermill": {
     "duration": 0.041319,
     "end_time": "2023-11-04T16:25:21.589949",
     "exception": false,
     "start_time": "2023-11-04T16:25:21.548630",
     "status": "completed"
    },
    "tags": []
   },
   "outputs": [
    {
     "data": {
      "text/plain": [
       "0       3.35\n",
       "1       4.75\n",
       "2       7.25\n",
       "3       2.85\n",
       "4       4.60\n",
       "       ...  \n",
       "296     9.50\n",
       "297     4.00\n",
       "298     3.35\n",
       "299    11.50\n",
       "300     5.30\n",
       "Name: Selling_Price, Length: 299, dtype: float64"
      ]
     },
     "execution_count": 34,
     "metadata": {},
     "output_type": "execute_result"
    }
   ],
   "source": [
    "y"
   ]
  },
  {
   "cell_type": "markdown",
   "id": "8ccf8943",
   "metadata": {
    "papermill": {
     "duration": 0.025526,
     "end_time": "2023-11-04T16:25:21.642802",
     "exception": false,
     "start_time": "2023-11-04T16:25:21.617276",
     "status": "completed"
    },
    "tags": []
   },
   "source": [
    "9. splitting the dataset into traing or test dataset"
   ]
  },
  {
   "cell_type": "code",
   "execution_count": 35,
   "id": "90305d61",
   "metadata": {
    "execution": {
     "iopub.execute_input": "2023-11-04T16:25:21.702235Z",
     "iopub.status.busy": "2023-11-04T16:25:21.701176Z",
     "iopub.status.idle": "2023-11-04T16:25:21.981601Z",
     "shell.execute_reply": "2023-11-04T16:25:21.980181Z"
    },
    "papermill": {
     "duration": 0.316007,
     "end_time": "2023-11-04T16:25:21.984641",
     "exception": false,
     "start_time": "2023-11-04T16:25:21.668634",
     "status": "completed"
    },
    "tags": []
   },
   "outputs": [],
   "source": [
    "from sklearn.model_selection import train_test_split"
   ]
  },
  {
   "cell_type": "code",
   "execution_count": 36,
   "id": "c0b5d85a",
   "metadata": {
    "execution": {
     "iopub.execute_input": "2023-11-04T16:25:22.042431Z",
     "iopub.status.busy": "2023-11-04T16:25:22.042033Z",
     "iopub.status.idle": "2023-11-04T16:25:22.049170Z",
     "shell.execute_reply": "2023-11-04T16:25:22.048331Z"
    },
    "papermill": {
     "duration": 0.03879,
     "end_time": "2023-11-04T16:25:22.051351",
     "exception": false,
     "start_time": "2023-11-04T16:25:22.012561",
     "status": "completed"
    },
    "tags": []
   },
   "outputs": [],
   "source": [
    "x_train,x_test,y_train,y_test = train_test_split(x,y,test_size=0.20,random_state=42)"
   ]
  },
  {
   "cell_type": "markdown",
   "id": "35009b40",
   "metadata": {
    "papermill": {
     "duration": 0.025501,
     "end_time": "2023-11-04T16:25:22.102935",
     "exception": false,
     "start_time": "2023-11-04T16:25:22.077434",
     "status": "completed"
    },
    "tags": []
   },
   "source": [
    "10. import the models "
   ]
  },
  {
   "cell_type": "code",
   "execution_count": 37,
   "id": "083c359b",
   "metadata": {
    "execution": {
     "iopub.execute_input": "2023-11-04T16:25:22.156685Z",
     "iopub.status.busy": "2023-11-04T16:25:22.156268Z",
     "iopub.status.idle": "2023-11-04T16:25:22.724356Z",
     "shell.execute_reply": "2023-11-04T16:25:22.723320Z"
    },
    "papermill": {
     "duration": 0.598292,
     "end_time": "2023-11-04T16:25:22.727070",
     "exception": false,
     "start_time": "2023-11-04T16:25:22.128778",
     "status": "completed"
    },
    "tags": []
   },
   "outputs": [],
   "source": [
    "from sklearn.linear_model import LinearRegression\n",
    "from sklearn.ensemble import RandomForestRegressor\n",
    "from sklearn.ensemble import GradientBoostingRegressor\n",
    "from xgboost import XGBRegressor"
   ]
  },
  {
   "cell_type": "markdown",
   "id": "5087e27d",
   "metadata": {
    "papermill": {
     "duration": 0.025449,
     "end_time": "2023-11-04T16:25:22.778584",
     "exception": false,
     "start_time": "2023-11-04T16:25:22.753135",
     "status": "completed"
    },
    "tags": []
   },
   "source": []
  },
  {
   "cell_type": "markdown",
   "id": "ad03f64a",
   "metadata": {
    "papermill": {
     "duration": 0.025303,
     "end_time": "2023-11-04T16:25:22.829481",
     "exception": false,
     "start_time": "2023-11-04T16:25:22.804178",
     "status": "completed"
    },
    "tags": []
   },
   "source": [
    "11. model traing"
   ]
  },
  {
   "cell_type": "code",
   "execution_count": 38,
   "id": "3ca6457a",
   "metadata": {
    "execution": {
     "iopub.execute_input": "2023-11-04T16:25:22.882878Z",
     "iopub.status.busy": "2023-11-04T16:25:22.882460Z",
     "iopub.status.idle": "2023-11-04T16:25:24.309306Z",
     "shell.execute_reply": "2023-11-04T16:25:24.308414Z"
    },
    "papermill": {
     "duration": 1.45643,
     "end_time": "2023-11-04T16:25:24.311678",
     "exception": false,
     "start_time": "2023-11-04T16:25:22.855248",
     "status": "completed"
    },
    "tags": []
   },
   "outputs": [
    {
     "data": {
      "text/html": [
       "<style>#sk-container-id-1 {color: black;background-color: white;}#sk-container-id-1 pre{padding: 0;}#sk-container-id-1 div.sk-toggleable {background-color: white;}#sk-container-id-1 label.sk-toggleable__label {cursor: pointer;display: block;width: 100%;margin-bottom: 0;padding: 0.3em;box-sizing: border-box;text-align: center;}#sk-container-id-1 label.sk-toggleable__label-arrow:before {content: \"▸\";float: left;margin-right: 0.25em;color: #696969;}#sk-container-id-1 label.sk-toggleable__label-arrow:hover:before {color: black;}#sk-container-id-1 div.sk-estimator:hover label.sk-toggleable__label-arrow:before {color: black;}#sk-container-id-1 div.sk-toggleable__content {max-height: 0;max-width: 0;overflow: hidden;text-align: left;background-color: #f0f8ff;}#sk-container-id-1 div.sk-toggleable__content pre {margin: 0.2em;color: black;border-radius: 0.25em;background-color: #f0f8ff;}#sk-container-id-1 input.sk-toggleable__control:checked~div.sk-toggleable__content {max-height: 200px;max-width: 100%;overflow: auto;}#sk-container-id-1 input.sk-toggleable__control:checked~label.sk-toggleable__label-arrow:before {content: \"▾\";}#sk-container-id-1 div.sk-estimator input.sk-toggleable__control:checked~label.sk-toggleable__label {background-color: #d4ebff;}#sk-container-id-1 div.sk-label input.sk-toggleable__control:checked~label.sk-toggleable__label {background-color: #d4ebff;}#sk-container-id-1 input.sk-hidden--visually {border: 0;clip: rect(1px 1px 1px 1px);clip: rect(1px, 1px, 1px, 1px);height: 1px;margin: -1px;overflow: hidden;padding: 0;position: absolute;width: 1px;}#sk-container-id-1 div.sk-estimator {font-family: monospace;background-color: #f0f8ff;border: 1px dotted black;border-radius: 0.25em;box-sizing: border-box;margin-bottom: 0.5em;}#sk-container-id-1 div.sk-estimator:hover {background-color: #d4ebff;}#sk-container-id-1 div.sk-parallel-item::after {content: \"\";width: 100%;border-bottom: 1px solid gray;flex-grow: 1;}#sk-container-id-1 div.sk-label:hover label.sk-toggleable__label {background-color: #d4ebff;}#sk-container-id-1 div.sk-serial::before {content: \"\";position: absolute;border-left: 1px solid gray;box-sizing: border-box;top: 0;bottom: 0;left: 50%;z-index: 0;}#sk-container-id-1 div.sk-serial {display: flex;flex-direction: column;align-items: center;background-color: white;padding-right: 0.2em;padding-left: 0.2em;position: relative;}#sk-container-id-1 div.sk-item {position: relative;z-index: 1;}#sk-container-id-1 div.sk-parallel {display: flex;align-items: stretch;justify-content: center;background-color: white;position: relative;}#sk-container-id-1 div.sk-item::before, #sk-container-id-1 div.sk-parallel-item::before {content: \"\";position: absolute;border-left: 1px solid gray;box-sizing: border-box;top: 0;bottom: 0;left: 50%;z-index: -1;}#sk-container-id-1 div.sk-parallel-item {display: flex;flex-direction: column;z-index: 1;position: relative;background-color: white;}#sk-container-id-1 div.sk-parallel-item:first-child::after {align-self: flex-end;width: 50%;}#sk-container-id-1 div.sk-parallel-item:last-child::after {align-self: flex-start;width: 50%;}#sk-container-id-1 div.sk-parallel-item:only-child::after {width: 0;}#sk-container-id-1 div.sk-dashed-wrapped {border: 1px dashed gray;margin: 0 0.4em 0.5em 0.4em;box-sizing: border-box;padding-bottom: 0.4em;background-color: white;}#sk-container-id-1 div.sk-label label {font-family: monospace;font-weight: bold;display: inline-block;line-height: 1.2em;}#sk-container-id-1 div.sk-label-container {text-align: center;}#sk-container-id-1 div.sk-container {/* jupyter's `normalize.less` sets `[hidden] { display: none; }` but bootstrap.min.css set `[hidden] { display: none !important; }` so we also need the `!important` here to be able to override the default hidden behavior on the sphinx rendered scikit-learn.org. See: https://github.com/scikit-learn/scikit-learn/issues/21755 */display: inline-block !important;position: relative;}#sk-container-id-1 div.sk-text-repr-fallback {display: none;}</style><div id=\"sk-container-id-1\" class=\"sk-top-container\"><div class=\"sk-text-repr-fallback\"><pre>XGBRegressor(base_score=None, booster=None, callbacks=None,\n",
       "             colsample_bylevel=None, colsample_bynode=None,\n",
       "             colsample_bytree=None, early_stopping_rounds=None,\n",
       "             enable_categorical=False, eval_metric=None, feature_types=None,\n",
       "             gamma=None, gpu_id=None, grow_policy=None, importance_type=None,\n",
       "             interaction_constraints=None, learning_rate=None, max_bin=None,\n",
       "             max_cat_threshold=None, max_cat_to_onehot=None,\n",
       "             max_delta_step=None, max_depth=None, max_leaves=None,\n",
       "             min_child_weight=None, missing=nan, monotone_constraints=None,\n",
       "             n_estimators=100, n_jobs=None, num_parallel_tree=None,\n",
       "             predictor=None, random_state=None, ...)</pre><b>In a Jupyter environment, please rerun this cell to show the HTML representation or trust the notebook. <br />On GitHub, the HTML representation is unable to render, please try loading this page with nbviewer.org.</b></div><div class=\"sk-container\" hidden><div class=\"sk-item\"><div class=\"sk-estimator sk-toggleable\"><input class=\"sk-toggleable__control sk-hidden--visually\" id=\"sk-estimator-id-1\" type=\"checkbox\" checked><label for=\"sk-estimator-id-1\" class=\"sk-toggleable__label sk-toggleable__label-arrow\">XGBRegressor</label><div class=\"sk-toggleable__content\"><pre>XGBRegressor(base_score=None, booster=None, callbacks=None,\n",
       "             colsample_bylevel=None, colsample_bynode=None,\n",
       "             colsample_bytree=None, early_stopping_rounds=None,\n",
       "             enable_categorical=False, eval_metric=None, feature_types=None,\n",
       "             gamma=None, gpu_id=None, grow_policy=None, importance_type=None,\n",
       "             interaction_constraints=None, learning_rate=None, max_bin=None,\n",
       "             max_cat_threshold=None, max_cat_to_onehot=None,\n",
       "             max_delta_step=None, max_depth=None, max_leaves=None,\n",
       "             min_child_weight=None, missing=nan, monotone_constraints=None,\n",
       "             n_estimators=100, n_jobs=None, num_parallel_tree=None,\n",
       "             predictor=None, random_state=None, ...)</pre></div></div></div></div></div>"
      ],
      "text/plain": [
       "XGBRegressor(base_score=None, booster=None, callbacks=None,\n",
       "             colsample_bylevel=None, colsample_bynode=None,\n",
       "             colsample_bytree=None, early_stopping_rounds=None,\n",
       "             enable_categorical=False, eval_metric=None, feature_types=None,\n",
       "             gamma=None, gpu_id=None, grow_policy=None, importance_type=None,\n",
       "             interaction_constraints=None, learning_rate=None, max_bin=None,\n",
       "             max_cat_threshold=None, max_cat_to_onehot=None,\n",
       "             max_delta_step=None, max_depth=None, max_leaves=None,\n",
       "             min_child_weight=None, missing=nan, monotone_constraints=None,\n",
       "             n_estimators=100, n_jobs=None, num_parallel_tree=None,\n",
       "             predictor=None, random_state=None, ...)"
      ]
     },
     "execution_count": 38,
     "metadata": {},
     "output_type": "execute_result"
    }
   ],
   "source": [
    "lr = LinearRegression()\n",
    "lr.fit(x_train,y_train)\n",
    "\n",
    "rf =  RandomForestRegressor()\n",
    "rf.fit(x_train,y_train)\n",
    "\n",
    "xgb =  GradientBoostingRegressor()\n",
    "xgb.fit(x_train,y_train)\n",
    "\n",
    "xg = XGBRegressor()\n",
    "xg.fit(x_train,y_train)"
   ]
  },
  {
   "cell_type": "markdown",
   "id": "fec28a1e",
   "metadata": {
    "papermill": {
     "duration": 0.025673,
     "end_time": "2023-11-04T16:25:24.363992",
     "exception": false,
     "start_time": "2023-11-04T16:25:24.338319",
     "status": "completed"
    },
    "tags": []
   },
   "source": []
  },
  {
   "cell_type": "markdown",
   "id": "5fc4eaf6",
   "metadata": {
    "papermill": {
     "duration": 0.02585,
     "end_time": "2023-11-04T16:25:24.416965",
     "exception": false,
     "start_time": "2023-11-04T16:25:24.391115",
     "status": "completed"
    },
    "tags": []
   },
   "source": [
    "12. predication on  test data"
   ]
  },
  {
   "cell_type": "code",
   "execution_count": 39,
   "id": "2e24472a",
   "metadata": {
    "execution": {
     "iopub.execute_input": "2023-11-04T16:25:24.471828Z",
     "iopub.status.busy": "2023-11-04T16:25:24.471180Z",
     "iopub.status.idle": "2023-11-04T16:25:24.491635Z",
     "shell.execute_reply": "2023-11-04T16:25:24.490628Z"
    },
    "papermill": {
     "duration": 0.051552,
     "end_time": "2023-11-04T16:25:24.494717",
     "exception": false,
     "start_time": "2023-11-04T16:25:24.443165",
     "status": "completed"
    },
    "tags": []
   },
   "outputs": [],
   "source": [
    "y_pred1 = lr.predict(x_test)\n",
    "y_pred2 = rf.predict(x_test)\n",
    "y_pred3 = xgb.predict(x_test)\n",
    "y_pred4 = xg.predict(x_test)"
   ]
  },
  {
   "cell_type": "markdown",
   "id": "3c187ce8",
   "metadata": {
    "papermill": {
     "duration": 0.026179,
     "end_time": "2023-11-04T16:25:24.549237",
     "exception": false,
     "start_time": "2023-11-04T16:25:24.523058",
     "status": "completed"
    },
    "tags": []
   },
   "source": []
  },
  {
   "cell_type": "markdown",
   "id": "9750f103",
   "metadata": {
    "papermill": {
     "duration": 0.0268,
     "end_time": "2023-11-04T16:25:24.602471",
     "exception": false,
     "start_time": "2023-11-04T16:25:24.575671",
     "status": "completed"
    },
    "tags": []
   },
   "source": [
    "13. Evaluating the algorithm"
   ]
  },
  {
   "cell_type": "code",
   "execution_count": 40,
   "id": "b678dfef",
   "metadata": {
    "execution": {
     "iopub.execute_input": "2023-11-04T16:25:24.656530Z",
     "iopub.status.busy": "2023-11-04T16:25:24.656138Z",
     "iopub.status.idle": "2023-11-04T16:25:24.661102Z",
     "shell.execute_reply": "2023-11-04T16:25:24.659935Z"
    },
    "papermill": {
     "duration": 0.035034,
     "end_time": "2023-11-04T16:25:24.663484",
     "exception": false,
     "start_time": "2023-11-04T16:25:24.628450",
     "status": "completed"
    },
    "tags": []
   },
   "outputs": [],
   "source": [
    "from sklearn import metrics"
   ]
  },
  {
   "cell_type": "code",
   "execution_count": 41,
   "id": "0c85daa6",
   "metadata": {
    "execution": {
     "iopub.execute_input": "2023-11-04T16:25:24.718968Z",
     "iopub.status.busy": "2023-11-04T16:25:24.718299Z",
     "iopub.status.idle": "2023-11-04T16:25:24.726052Z",
     "shell.execute_reply": "2023-11-04T16:25:24.725259Z"
    },
    "papermill": {
     "duration": 0.037722,
     "end_time": "2023-11-04T16:25:24.728169",
     "exception": false,
     "start_time": "2023-11-04T16:25:24.690447",
     "status": "completed"
    },
    "tags": []
   },
   "outputs": [],
   "source": [
    "score1 = metrics.r2_score(y_test,y_pred1)\n",
    "score2 = metrics.r2_score(y_test,y_pred2)\n",
    "score3 = metrics.r2_score(y_test,y_pred3)\n",
    "score4 = metrics.r2_score(y_test,y_pred4)"
   ]
  },
  {
   "cell_type": "code",
   "execution_count": 42,
   "id": "f4fcde55",
   "metadata": {
    "execution": {
     "iopub.execute_input": "2023-11-04T16:25:24.783670Z",
     "iopub.status.busy": "2023-11-04T16:25:24.783242Z",
     "iopub.status.idle": "2023-11-04T16:25:24.788189Z",
     "shell.execute_reply": "2023-11-04T16:25:24.787315Z"
    },
    "papermill": {
     "duration": 0.036449,
     "end_time": "2023-11-04T16:25:24.791318",
     "exception": false,
     "start_time": "2023-11-04T16:25:24.754869",
     "status": "completed"
    },
    "tags": []
   },
   "outputs": [
    {
     "name": "stdout",
     "output_type": "stream",
     "text": [
      "0.6790884983129405 0.7057974984370623 0.8964614605921518 0.8864839405756888\n"
     ]
    }
   ],
   "source": [
    "print(score1,score2,score3,score4)"
   ]
  },
  {
   "cell_type": "code",
   "execution_count": 43,
   "id": "0e01230e",
   "metadata": {
    "execution": {
     "iopub.execute_input": "2023-11-04T16:25:24.846657Z",
     "iopub.status.busy": "2023-11-04T16:25:24.845920Z",
     "iopub.status.idle": "2023-11-04T16:25:24.851122Z",
     "shell.execute_reply": "2023-11-04T16:25:24.850319Z"
    },
    "papermill": {
     "duration": 0.035081,
     "end_time": "2023-11-04T16:25:24.853183",
     "exception": false,
     "start_time": "2023-11-04T16:25:24.818102",
     "status": "completed"
    },
    "tags": []
   },
   "outputs": [],
   "source": [
    "final_data = pd.DataFrame({'Models': ['LR','RF','GBR','XG'],\"R2_SCORE\":[score1,score2,score3,score4]})"
   ]
  },
  {
   "cell_type": "code",
   "execution_count": 44,
   "id": "b038d316",
   "metadata": {
    "execution": {
     "iopub.execute_input": "2023-11-04T16:25:24.908029Z",
     "iopub.status.busy": "2023-11-04T16:25:24.907628Z",
     "iopub.status.idle": "2023-11-04T16:25:24.917805Z",
     "shell.execute_reply": "2023-11-04T16:25:24.916743Z"
    },
    "papermill": {
     "duration": 0.040968,
     "end_time": "2023-11-04T16:25:24.920567",
     "exception": false,
     "start_time": "2023-11-04T16:25:24.879599",
     "status": "completed"
    },
    "tags": []
   },
   "outputs": [
    {
     "data": {
      "text/html": [
       "<div>\n",
       "<style scoped>\n",
       "    .dataframe tbody tr th:only-of-type {\n",
       "        vertical-align: middle;\n",
       "    }\n",
       "\n",
       "    .dataframe tbody tr th {\n",
       "        vertical-align: top;\n",
       "    }\n",
       "\n",
       "    .dataframe thead th {\n",
       "        text-align: right;\n",
       "    }\n",
       "</style>\n",
       "<table border=\"1\" class=\"dataframe\">\n",
       "  <thead>\n",
       "    <tr style=\"text-align: right;\">\n",
       "      <th></th>\n",
       "      <th>Models</th>\n",
       "      <th>R2_SCORE</th>\n",
       "    </tr>\n",
       "  </thead>\n",
       "  <tbody>\n",
       "    <tr>\n",
       "      <th>0</th>\n",
       "      <td>LR</td>\n",
       "      <td>0.679088</td>\n",
       "    </tr>\n",
       "    <tr>\n",
       "      <th>1</th>\n",
       "      <td>RF</td>\n",
       "      <td>0.705797</td>\n",
       "    </tr>\n",
       "    <tr>\n",
       "      <th>2</th>\n",
       "      <td>GBR</td>\n",
       "      <td>0.896461</td>\n",
       "    </tr>\n",
       "    <tr>\n",
       "      <th>3</th>\n",
       "      <td>XG</td>\n",
       "      <td>0.886484</td>\n",
       "    </tr>\n",
       "  </tbody>\n",
       "</table>\n",
       "</div>"
      ],
      "text/plain": [
       "  Models  R2_SCORE\n",
       "0     LR  0.679088\n",
       "1     RF  0.705797\n",
       "2    GBR  0.896461\n",
       "3     XG  0.886484"
      ]
     },
     "execution_count": 44,
     "metadata": {},
     "output_type": "execute_result"
    }
   ],
   "source": [
    "final_data"
   ]
  },
  {
   "cell_type": "code",
   "execution_count": 45,
   "id": "e290f4d9",
   "metadata": {
    "execution": {
     "iopub.execute_input": "2023-11-04T16:25:24.976436Z",
     "iopub.status.busy": "2023-11-04T16:25:24.976025Z",
     "iopub.status.idle": "2023-11-04T16:25:24.981095Z",
     "shell.execute_reply": "2023-11-04T16:25:24.979995Z"
    },
    "papermill": {
     "duration": 0.036142,
     "end_time": "2023-11-04T16:25:24.983655",
     "exception": false,
     "start_time": "2023-11-04T16:25:24.947513",
     "status": "completed"
    },
    "tags": []
   },
   "outputs": [],
   "source": [
    "import seaborn as sns\n",
    "#sns.barplot(final_data['Models'],final_data['R2_SCORE'])"
   ]
  },
  {
   "cell_type": "markdown",
   "id": "f34d8d7e",
   "metadata": {
    "papermill": {
     "duration": 0.027189,
     "end_time": "2023-11-04T16:25:25.037694",
     "exception": false,
     "start_time": "2023-11-04T16:25:25.010505",
     "status": "completed"
    },
    "tags": []
   },
   "source": []
  },
  {
   "cell_type": "markdown",
   "id": "468e1436",
   "metadata": {
    "papermill": {
     "duration": 0.026707,
     "end_time": "2023-11-04T16:25:25.090945",
     "exception": false,
     "start_time": "2023-11-04T16:25:25.064238",
     "status": "completed"
    },
    "tags": []
   },
   "source": [
    "14. save the model"
   ]
  },
  {
   "cell_type": "code",
   "execution_count": 46,
   "id": "54019e7b",
   "metadata": {
    "execution": {
     "iopub.execute_input": "2023-11-04T16:25:25.145957Z",
     "iopub.status.busy": "2023-11-04T16:25:25.145556Z",
     "iopub.status.idle": "2023-11-04T16:25:25.229856Z",
     "shell.execute_reply": "2023-11-04T16:25:25.228914Z"
    },
    "papermill": {
     "duration": 0.114917,
     "end_time": "2023-11-04T16:25:25.232423",
     "exception": false,
     "start_time": "2023-11-04T16:25:25.117506",
     "status": "completed"
    },
    "tags": []
   },
   "outputs": [],
   "source": [
    "xg = XGBRegressor()\n",
    "xg_final = xg.fit(x,y)"
   ]
  },
  {
   "cell_type": "code",
   "execution_count": 47,
   "id": "b3bb73dd",
   "metadata": {
    "execution": {
     "iopub.execute_input": "2023-11-04T16:25:25.291306Z",
     "iopub.status.busy": "2023-11-04T16:25:25.290237Z",
     "iopub.status.idle": "2023-11-04T16:25:25.295192Z",
     "shell.execute_reply": "2023-11-04T16:25:25.294335Z"
    },
    "papermill": {
     "duration": 0.035846,
     "end_time": "2023-11-04T16:25:25.297439",
     "exception": false,
     "start_time": "2023-11-04T16:25:25.261593",
     "status": "completed"
    },
    "tags": []
   },
   "outputs": [],
   "source": [
    "import joblib"
   ]
  },
  {
   "cell_type": "code",
   "execution_count": 48,
   "id": "87b1c867",
   "metadata": {
    "execution": {
     "iopub.execute_input": "2023-11-04T16:25:25.352857Z",
     "iopub.status.busy": "2023-11-04T16:25:25.352471Z",
     "iopub.status.idle": "2023-11-04T16:25:25.365222Z",
     "shell.execute_reply": "2023-11-04T16:25:25.364430Z"
    },
    "papermill": {
     "duration": 0.043018,
     "end_time": "2023-11-04T16:25:25.367309",
     "exception": false,
     "start_time": "2023-11-04T16:25:25.324291",
     "status": "completed"
    },
    "tags": []
   },
   "outputs": [
    {
     "data": {
      "text/plain": [
       "['car_price_predictor']"
      ]
     },
     "execution_count": 48,
     "metadata": {},
     "output_type": "execute_result"
    }
   ],
   "source": [
    "joblib.dump(xg_final,'car_price_predictor')"
   ]
  },
  {
   "cell_type": "code",
   "execution_count": 49,
   "id": "1e1f1a7e",
   "metadata": {
    "execution": {
     "iopub.execute_input": "2023-11-04T16:25:25.424175Z",
     "iopub.status.busy": "2023-11-04T16:25:25.423762Z",
     "iopub.status.idle": "2023-11-04T16:25:25.435133Z",
     "shell.execute_reply": "2023-11-04T16:25:25.434292Z"
    },
    "papermill": {
     "duration": 0.041801,
     "end_time": "2023-11-04T16:25:25.437453",
     "exception": false,
     "start_time": "2023-11-04T16:25:25.395652",
     "status": "completed"
    },
    "tags": []
   },
   "outputs": [],
   "source": [
    "model = joblib.load('car_price_predictor')"
   ]
  },
  {
   "cell_type": "markdown",
   "id": "09ef691d",
   "metadata": {
    "papermill": {
     "duration": 0.026433,
     "end_time": "2023-11-04T16:25:25.494650",
     "exception": false,
     "start_time": "2023-11-04T16:25:25.468217",
     "status": "completed"
    },
    "tags": []
   },
   "source": []
  },
  {
   "cell_type": "markdown",
   "id": "98ea086d",
   "metadata": {
    "papermill": {
     "duration": 0.026271,
     "end_time": "2023-11-04T16:25:25.547926",
     "exception": false,
     "start_time": "2023-11-04T16:25:25.521655",
     "status": "completed"
    },
    "tags": []
   },
   "source": [
    "15. predicat on new data"
   ]
  },
  {
   "cell_type": "code",
   "execution_count": 50,
   "id": "415170d7",
   "metadata": {
    "execution": {
     "iopub.execute_input": "2023-11-04T16:25:25.605424Z",
     "iopub.status.busy": "2023-11-04T16:25:25.604721Z",
     "iopub.status.idle": "2023-11-04T16:25:25.611239Z",
     "shell.execute_reply": "2023-11-04T16:25:25.610179Z"
    },
    "papermill": {
     "duration": 0.039108,
     "end_time": "2023-11-04T16:25:25.613620",
     "exception": false,
     "start_time": "2023-11-04T16:25:25.574512",
     "status": "completed"
    },
    "tags": []
   },
   "outputs": [],
   "source": [
    "import pandas as pd\n",
    "\n",
    "data_new = pd.DataFrame({\n",
    "    'Present_Price':5.59,\n",
    "    'Kms_Driven':27000,\n",
    "    'Fuel_Type':0,\n",
    "    'Seller_Type':0,\n",
    "    'Transmission':0,\n",
    "    'Owner':0,\n",
    "    'Age':8\n",
    "},index=[0])"
   ]
  },
  {
   "cell_type": "code",
   "execution_count": 51,
   "id": "06c74281",
   "metadata": {
    "execution": {
     "iopub.execute_input": "2023-11-04T16:25:25.668948Z",
     "iopub.status.busy": "2023-11-04T16:25:25.668544Z",
     "iopub.status.idle": "2023-11-04T16:25:25.695864Z",
     "shell.execute_reply": "2023-11-04T16:25:25.694845Z"
    },
    "papermill": {
     "duration": 0.05832,
     "end_time": "2023-11-04T16:25:25.698543",
     "exception": false,
     "start_time": "2023-11-04T16:25:25.640223",
     "status": "completed"
    },
    "tags": []
   },
   "outputs": [
    {
     "data": {
      "text/plain": [
       "array([3.7360353], dtype=float32)"
      ]
     },
     "execution_count": 51,
     "metadata": {},
     "output_type": "execute_result"
    }
   ],
   "source": [
    "model.predict(data_new)"
   ]
  },
  {
   "cell_type": "code",
   "execution_count": null,
   "id": "55dca00e",
   "metadata": {
    "papermill": {
     "duration": 0.026953,
     "end_time": "2023-11-04T16:25:25.753534",
     "exception": false,
     "start_time": "2023-11-04T16:25:25.726581",
     "status": "completed"
    },
    "tags": []
   },
   "outputs": [],
   "source": []
  }
 ],
 "metadata": {
  "kernelspec": {
   "display_name": "Python 3",
   "language": "python",
   "name": "python3"
  },
  "language_info": {
   "codemirror_mode": {
    "name": "ipython",
    "version": 3
   },
   "file_extension": ".py",
   "mimetype": "text/x-python",
   "name": "python",
   "nbconvert_exporter": "python",
   "pygments_lexer": "ipython3",
   "version": "3.10.12"
  },
  "papermill": {
   "default_parameters": {},
   "duration": 13.490589,
   "end_time": "2023-11-04T16:25:26.401271",
   "environment_variables": {},
   "exception": null,
   "input_path": "__notebook__.ipynb",
   "output_path": "__notebook__.ipynb",
   "parameters": {},
   "start_time": "2023-11-04T16:25:12.910682",
   "version": "2.4.0"
  }
 },
 "nbformat": 4,
 "nbformat_minor": 5
}
