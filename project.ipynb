{
 "cells": [
  {
   "cell_type": "markdown",
   "id": "17f6cc45",
   "metadata": {
    "_cell_guid": "b1076dfc-b9ad-4769-8c92-a6c4dae69d19",
    "_uuid": "8f2839f25d086af736a60e9eeb907d3b93b6e0e5",
    "execution": {
     "iopub.execute_input": "2023-11-05T14:07:43.933394Z",
     "iopub.status.busy": "2023-11-05T14:07:43.932942Z",
     "iopub.status.idle": "2023-11-05T14:07:43.970169Z",
     "shell.execute_reply": "2023-11-05T14:07:43.969096Z",
     "shell.execute_reply.started": "2023-11-05T14:07:43.933355Z"
    },
    "papermill": {
     "duration": 0.015405,
     "end_time": "2023-11-06T07:09:55.375217",
     "exception": false,
     "start_time": "2023-11-06T07:09:55.359812",
     "status": "completed"
    },
    "tags": []
   },
   "source": [
    "# **CAR PRICE PREDICATION**\n",
    "\n",
    "This dataset contains information about used cars.\n",
    "This data can be used for a lot of purposes such as price prediction to exemplify the use of linear regression in Machine Learning.\n",
    "The columns in the given dataset are as follows:\n",
    "\n",
    "1.name\n",
    "2.year\n",
    "3.selling_price\n",
    "4.km_driven\n",
    "5.fuel\n",
    "6.seller_type\n",
    "7.transmission\n",
    "8.Owner\n",
    "\n",
    "\n"
   ]
  },
  {
   "cell_type": "code",
   "execution_count": 1,
   "id": "8ba0e48a",
   "metadata": {
    "execution": {
     "iopub.execute_input": "2023-11-06T07:09:55.409121Z",
     "iopub.status.busy": "2023-11-06T07:09:55.408259Z",
     "iopub.status.idle": "2023-11-06T07:09:55.418776Z",
     "shell.execute_reply": "2023-11-06T07:09:55.417897Z"
    },
    "papermill": {
     "duration": 0.031352,
     "end_time": "2023-11-06T07:09:55.421672",
     "exception": false,
     "start_time": "2023-11-06T07:09:55.390320",
     "status": "completed"
    },
    "tags": []
   },
   "outputs": [],
   "source": [
    "import warnings\n",
    "\n",
    "warnings.filterwarnings(\"ignore\")"
   ]
  },
  {
   "cell_type": "code",
   "execution_count": 2,
   "id": "508dad86",
   "metadata": {
    "execution": {
     "iopub.execute_input": "2023-11-06T07:09:55.455422Z",
     "iopub.status.busy": "2023-11-06T07:09:55.454630Z",
     "iopub.status.idle": "2023-11-06T07:09:55.858308Z",
     "shell.execute_reply": "2023-11-06T07:09:55.856900Z"
    },
    "papermill": {
     "duration": 0.423453,
     "end_time": "2023-11-06T07:09:55.861009",
     "exception": false,
     "start_time": "2023-11-06T07:09:55.437556",
     "status": "completed"
    },
    "tags": []
   },
   "outputs": [],
   "source": [
    "import pandas as pd\n",
    "\n",
    "data = pd.read_csv('/kaggle/input/car-data/cardata.csv');"
   ]
  },
  {
   "cell_type": "markdown",
   "id": "89985bae",
   "metadata": {
    "papermill": {
     "duration": 0.014748,
     "end_time": "2023-11-06T07:09:55.891404",
     "exception": false,
     "start_time": "2023-11-06T07:09:55.876656",
     "status": "completed"
    },
    "tags": []
   },
   "source": [
    "1.  Display the first 5  rows of data set"
   ]
  },
  {
   "cell_type": "code",
   "execution_count": 3,
   "id": "9b367807",
   "metadata": {
    "execution": {
     "iopub.execute_input": "2023-11-06T07:09:55.922785Z",
     "iopub.status.busy": "2023-11-06T07:09:55.922430Z",
     "iopub.status.idle": "2023-11-06T07:09:55.948329Z",
     "shell.execute_reply": "2023-11-06T07:09:55.947236Z"
    },
    "papermill": {
     "duration": 0.044429,
     "end_time": "2023-11-06T07:09:55.950714",
     "exception": false,
     "start_time": "2023-11-06T07:09:55.906285",
     "status": "completed"
    },
    "tags": []
   },
   "outputs": [
    {
     "data": {
      "text/html": [
       "<div>\n",
       "<style scoped>\n",
       "    .dataframe tbody tr th:only-of-type {\n",
       "        vertical-align: middle;\n",
       "    }\n",
       "\n",
       "    .dataframe tbody tr th {\n",
       "        vertical-align: top;\n",
       "    }\n",
       "\n",
       "    .dataframe thead th {\n",
       "        text-align: right;\n",
       "    }\n",
       "</style>\n",
       "<table border=\"1\" class=\"dataframe\">\n",
       "  <thead>\n",
       "    <tr style=\"text-align: right;\">\n",
       "      <th></th>\n",
       "      <th>Car_Name</th>\n",
       "      <th>Year</th>\n",
       "      <th>Selling_Price</th>\n",
       "      <th>Present_Price</th>\n",
       "      <th>Kms_Driven</th>\n",
       "      <th>Fuel_Type</th>\n",
       "      <th>Seller_Type</th>\n",
       "      <th>Transmission</th>\n",
       "      <th>Owner</th>\n",
       "    </tr>\n",
       "  </thead>\n",
       "  <tbody>\n",
       "    <tr>\n",
       "      <th>0</th>\n",
       "      <td>ritz</td>\n",
       "      <td>2014</td>\n",
       "      <td>3.35</td>\n",
       "      <td>5.59</td>\n",
       "      <td>27000</td>\n",
       "      <td>Petrol</td>\n",
       "      <td>Dealer</td>\n",
       "      <td>Manual</td>\n",
       "      <td>0</td>\n",
       "    </tr>\n",
       "    <tr>\n",
       "      <th>1</th>\n",
       "      <td>sx4</td>\n",
       "      <td>2013</td>\n",
       "      <td>4.75</td>\n",
       "      <td>9.54</td>\n",
       "      <td>43000</td>\n",
       "      <td>Diesel</td>\n",
       "      <td>Dealer</td>\n",
       "      <td>Manual</td>\n",
       "      <td>0</td>\n",
       "    </tr>\n",
       "    <tr>\n",
       "      <th>2</th>\n",
       "      <td>ciaz</td>\n",
       "      <td>2017</td>\n",
       "      <td>7.25</td>\n",
       "      <td>9.85</td>\n",
       "      <td>6900</td>\n",
       "      <td>Petrol</td>\n",
       "      <td>Dealer</td>\n",
       "      <td>Manual</td>\n",
       "      <td>0</td>\n",
       "    </tr>\n",
       "    <tr>\n",
       "      <th>3</th>\n",
       "      <td>wagon r</td>\n",
       "      <td>2011</td>\n",
       "      <td>2.85</td>\n",
       "      <td>4.15</td>\n",
       "      <td>5200</td>\n",
       "      <td>Petrol</td>\n",
       "      <td>Dealer</td>\n",
       "      <td>Manual</td>\n",
       "      <td>0</td>\n",
       "    </tr>\n",
       "    <tr>\n",
       "      <th>4</th>\n",
       "      <td>swift</td>\n",
       "      <td>2014</td>\n",
       "      <td>4.60</td>\n",
       "      <td>6.87</td>\n",
       "      <td>42450</td>\n",
       "      <td>Diesel</td>\n",
       "      <td>Dealer</td>\n",
       "      <td>Manual</td>\n",
       "      <td>0</td>\n",
       "    </tr>\n",
       "  </tbody>\n",
       "</table>\n",
       "</div>"
      ],
      "text/plain": [
       "  Car_Name  Year  Selling_Price  Present_Price  Kms_Driven Fuel_Type  \\\n",
       "0     ritz  2014           3.35           5.59       27000    Petrol   \n",
       "1      sx4  2013           4.75           9.54       43000    Diesel   \n",
       "2     ciaz  2017           7.25           9.85        6900    Petrol   \n",
       "3  wagon r  2011           2.85           4.15        5200    Petrol   \n",
       "4    swift  2014           4.60           6.87       42450    Diesel   \n",
       "\n",
       "  Seller_Type Transmission  Owner  \n",
       "0      Dealer       Manual      0  \n",
       "1      Dealer       Manual      0  \n",
       "2      Dealer       Manual      0  \n",
       "3      Dealer       Manual      0  \n",
       "4      Dealer       Manual      0  "
      ]
     },
     "execution_count": 3,
     "metadata": {},
     "output_type": "execute_result"
    }
   ],
   "source": [
    "data.head()"
   ]
  },
  {
   "cell_type": "markdown",
   "id": "774a1108",
   "metadata": {
    "papermill": {
     "duration": 0.014718,
     "end_time": "2023-11-06T07:09:55.980623",
     "exception": false,
     "start_time": "2023-11-06T07:09:55.965905",
     "status": "completed"
    },
    "tags": []
   },
   "source": [
    "2. Display the last 5 rows of dataset"
   ]
  },
  {
   "cell_type": "code",
   "execution_count": 4,
   "id": "953fbfec",
   "metadata": {
    "execution": {
     "iopub.execute_input": "2023-11-06T07:09:56.012921Z",
     "iopub.status.busy": "2023-11-06T07:09:56.012174Z",
     "iopub.status.idle": "2023-11-06T07:09:56.026546Z",
     "shell.execute_reply": "2023-11-06T07:09:56.025340Z"
    },
    "papermill": {
     "duration": 0.033153,
     "end_time": "2023-11-06T07:09:56.028855",
     "exception": false,
     "start_time": "2023-11-06T07:09:55.995702",
     "status": "completed"
    },
    "tags": []
   },
   "outputs": [
    {
     "data": {
      "text/html": [
       "<div>\n",
       "<style scoped>\n",
       "    .dataframe tbody tr th:only-of-type {\n",
       "        vertical-align: middle;\n",
       "    }\n",
       "\n",
       "    .dataframe tbody tr th {\n",
       "        vertical-align: top;\n",
       "    }\n",
       "\n",
       "    .dataframe thead th {\n",
       "        text-align: right;\n",
       "    }\n",
       "</style>\n",
       "<table border=\"1\" class=\"dataframe\">\n",
       "  <thead>\n",
       "    <tr style=\"text-align: right;\">\n",
       "      <th></th>\n",
       "      <th>Car_Name</th>\n",
       "      <th>Year</th>\n",
       "      <th>Selling_Price</th>\n",
       "      <th>Present_Price</th>\n",
       "      <th>Kms_Driven</th>\n",
       "      <th>Fuel_Type</th>\n",
       "      <th>Seller_Type</th>\n",
       "      <th>Transmission</th>\n",
       "      <th>Owner</th>\n",
       "    </tr>\n",
       "  </thead>\n",
       "  <tbody>\n",
       "    <tr>\n",
       "      <th>296</th>\n",
       "      <td>city</td>\n",
       "      <td>2016</td>\n",
       "      <td>9.50</td>\n",
       "      <td>11.6</td>\n",
       "      <td>33988</td>\n",
       "      <td>Diesel</td>\n",
       "      <td>Dealer</td>\n",
       "      <td>Manual</td>\n",
       "      <td>0</td>\n",
       "    </tr>\n",
       "    <tr>\n",
       "      <th>297</th>\n",
       "      <td>brio</td>\n",
       "      <td>2015</td>\n",
       "      <td>4.00</td>\n",
       "      <td>5.9</td>\n",
       "      <td>60000</td>\n",
       "      <td>Petrol</td>\n",
       "      <td>Dealer</td>\n",
       "      <td>Manual</td>\n",
       "      <td>0</td>\n",
       "    </tr>\n",
       "    <tr>\n",
       "      <th>298</th>\n",
       "      <td>city</td>\n",
       "      <td>2009</td>\n",
       "      <td>3.35</td>\n",
       "      <td>11.0</td>\n",
       "      <td>87934</td>\n",
       "      <td>Petrol</td>\n",
       "      <td>Dealer</td>\n",
       "      <td>Manual</td>\n",
       "      <td>0</td>\n",
       "    </tr>\n",
       "    <tr>\n",
       "      <th>299</th>\n",
       "      <td>city</td>\n",
       "      <td>2017</td>\n",
       "      <td>11.50</td>\n",
       "      <td>12.5</td>\n",
       "      <td>9000</td>\n",
       "      <td>Diesel</td>\n",
       "      <td>Dealer</td>\n",
       "      <td>Manual</td>\n",
       "      <td>0</td>\n",
       "    </tr>\n",
       "    <tr>\n",
       "      <th>300</th>\n",
       "      <td>brio</td>\n",
       "      <td>2016</td>\n",
       "      <td>5.30</td>\n",
       "      <td>5.9</td>\n",
       "      <td>5464</td>\n",
       "      <td>Petrol</td>\n",
       "      <td>Dealer</td>\n",
       "      <td>Manual</td>\n",
       "      <td>0</td>\n",
       "    </tr>\n",
       "  </tbody>\n",
       "</table>\n",
       "</div>"
      ],
      "text/plain": [
       "    Car_Name  Year  Selling_Price  Present_Price  Kms_Driven Fuel_Type  \\\n",
       "296     city  2016           9.50           11.6       33988    Diesel   \n",
       "297     brio  2015           4.00            5.9       60000    Petrol   \n",
       "298     city  2009           3.35           11.0       87934    Petrol   \n",
       "299     city  2017          11.50           12.5        9000    Diesel   \n",
       "300     brio  2016           5.30            5.9        5464    Petrol   \n",
       "\n",
       "    Seller_Type Transmission  Owner  \n",
       "296      Dealer       Manual      0  \n",
       "297      Dealer       Manual      0  \n",
       "298      Dealer       Manual      0  \n",
       "299      Dealer       Manual      0  \n",
       "300      Dealer       Manual      0  "
      ]
     },
     "execution_count": 4,
     "metadata": {},
     "output_type": "execute_result"
    }
   ],
   "source": [
    "data.tail()"
   ]
  },
  {
   "cell_type": "markdown",
   "id": "0553feab",
   "metadata": {
    "papermill": {
     "duration": 0.01506,
     "end_time": "2023-11-06T07:09:56.059415",
     "exception": false,
     "start_time": "2023-11-06T07:09:56.044355",
     "status": "completed"
    },
    "tags": []
   },
   "source": []
  },
  {
   "cell_type": "markdown",
   "id": "5003c857",
   "metadata": {
    "papermill": {
     "duration": 0.077055,
     "end_time": "2023-11-06T07:09:56.152475",
     "exception": false,
     "start_time": "2023-11-06T07:09:56.075420",
     "status": "completed"
    },
    "tags": []
   },
   "source": [
    "3. find the shape of our daraset ( number of rows and number of columns )"
   ]
  },
  {
   "cell_type": "code",
   "execution_count": 5,
   "id": "2c423b5f",
   "metadata": {
    "execution": {
     "iopub.execute_input": "2023-11-06T07:09:56.185935Z",
     "iopub.status.busy": "2023-11-06T07:09:56.185550Z",
     "iopub.status.idle": "2023-11-06T07:09:56.191995Z",
     "shell.execute_reply": "2023-11-06T07:09:56.190946Z"
    },
    "papermill": {
     "duration": 0.025503,
     "end_time": "2023-11-06T07:09:56.194158",
     "exception": false,
     "start_time": "2023-11-06T07:09:56.168655",
     "status": "completed"
    },
    "tags": []
   },
   "outputs": [
    {
     "data": {
      "text/plain": [
       "(301, 9)"
      ]
     },
     "execution_count": 5,
     "metadata": {},
     "output_type": "execute_result"
    }
   ],
   "source": [
    "data.shape"
   ]
  },
  {
   "cell_type": "code",
   "execution_count": 6,
   "id": "9d7cea89",
   "metadata": {
    "execution": {
     "iopub.execute_input": "2023-11-06T07:09:56.227197Z",
     "iopub.status.busy": "2023-11-06T07:09:56.226635Z",
     "iopub.status.idle": "2023-11-06T07:09:56.232490Z",
     "shell.execute_reply": "2023-11-06T07:09:56.231416Z"
    },
    "papermill": {
     "duration": 0.026145,
     "end_time": "2023-11-06T07:09:56.235846",
     "exception": false,
     "start_time": "2023-11-06T07:09:56.209701",
     "status": "completed"
    },
    "tags": []
   },
   "outputs": [
    {
     "name": "stdout",
     "output_type": "stream",
     "text": [
      "number of rows  301\n",
      "number of coloumns  9\n"
     ]
    }
   ],
   "source": [
    "print(\"number of rows \",data.shape[0])\n",
    "print(\"number of coloumns \",data.shape[1])"
   ]
  },
  {
   "cell_type": "markdown",
   "id": "7e351b7e",
   "metadata": {
    "papermill": {
     "duration": 0.015497,
     "end_time": "2023-11-06T07:09:56.267064",
     "exception": false,
     "start_time": "2023-11-06T07:09:56.251567",
     "status": "completed"
    },
    "tags": []
   },
   "source": []
  },
  {
   "cell_type": "markdown",
   "id": "f8518663",
   "metadata": {
    "papermill": {
     "duration": 0.015394,
     "end_time": "2023-11-06T07:09:56.298154",
     "exception": false,
     "start_time": "2023-11-06T07:09:56.282760",
     "status": "completed"
    },
    "tags": []
   },
   "source": [
    "4.  get information about the dataset like total number of rows total number of column data type of each collumn and memory requirement "
   ]
  },
  {
   "cell_type": "code",
   "execution_count": 7,
   "id": "2016ccc4",
   "metadata": {
    "execution": {
     "iopub.execute_input": "2023-11-06T07:09:56.330990Z",
     "iopub.status.busy": "2023-11-06T07:09:56.330627Z",
     "iopub.status.idle": "2023-11-06T07:09:56.358536Z",
     "shell.execute_reply": "2023-11-06T07:09:56.357423Z"
    },
    "papermill": {
     "duration": 0.047477,
     "end_time": "2023-11-06T07:09:56.361295",
     "exception": false,
     "start_time": "2023-11-06T07:09:56.313818",
     "status": "completed"
    },
    "tags": []
   },
   "outputs": [
    {
     "name": "stdout",
     "output_type": "stream",
     "text": [
      "<class 'pandas.core.frame.DataFrame'>\n",
      "RangeIndex: 301 entries, 0 to 300\n",
      "Data columns (total 9 columns):\n",
      " #   Column         Non-Null Count  Dtype  \n",
      "---  ------         --------------  -----  \n",
      " 0   Car_Name       301 non-null    object \n",
      " 1   Year           301 non-null    int64  \n",
      " 2   Selling_Price  301 non-null    float64\n",
      " 3   Present_Price  301 non-null    float64\n",
      " 4   Kms_Driven     301 non-null    int64  \n",
      " 5   Fuel_Type      301 non-null    object \n",
      " 6   Seller_Type    301 non-null    object \n",
      " 7   Transmission   301 non-null    object \n",
      " 8   Owner          301 non-null    int64  \n",
      "dtypes: float64(2), int64(3), object(4)\n",
      "memory usage: 21.3+ KB\n"
     ]
    }
   ],
   "source": [
    "data.info()"
   ]
  },
  {
   "cell_type": "markdown",
   "id": "ef5b074c",
   "metadata": {
    "papermill": {
     "duration": 0.016708,
     "end_time": "2023-11-06T07:09:56.394240",
     "exception": false,
     "start_time": "2023-11-06T07:09:56.377532",
     "status": "completed"
    },
    "tags": []
   },
   "source": []
  },
  {
   "cell_type": "markdown",
   "id": "87f2c399",
   "metadata": {
    "papermill": {
     "duration": 0.015878,
     "end_time": "2023-11-06T07:09:56.426733",
     "exception": false,
     "start_time": "2023-11-06T07:09:56.410855",
     "status": "completed"
    },
    "tags": []
   },
   "source": [
    "5. Check the null values in dataset"
   ]
  },
  {
   "cell_type": "code",
   "execution_count": 8,
   "id": "7f9c91cb",
   "metadata": {
    "execution": {
     "iopub.execute_input": "2023-11-06T07:09:56.460689Z",
     "iopub.status.busy": "2023-11-06T07:09:56.460307Z",
     "iopub.status.idle": "2023-11-06T07:09:56.468779Z",
     "shell.execute_reply": "2023-11-06T07:09:56.467632Z"
    },
    "papermill": {
     "duration": 0.028302,
     "end_time": "2023-11-06T07:09:56.471029",
     "exception": false,
     "start_time": "2023-11-06T07:09:56.442727",
     "status": "completed"
    },
    "tags": []
   },
   "outputs": [
    {
     "data": {
      "text/plain": [
       "Car_Name         0\n",
       "Year             0\n",
       "Selling_Price    0\n",
       "Present_Price    0\n",
       "Kms_Driven       0\n",
       "Fuel_Type        0\n",
       "Seller_Type      0\n",
       "Transmission     0\n",
       "Owner            0\n",
       "dtype: int64"
      ]
     },
     "execution_count": 8,
     "metadata": {},
     "output_type": "execute_result"
    }
   ],
   "source": [
    "data.isnull().sum()"
   ]
  },
  {
   "cell_type": "markdown",
   "id": "f0243630",
   "metadata": {
    "papermill": {
     "duration": 0.015627,
     "end_time": "2023-11-06T07:09:56.503023",
     "exception": false,
     "start_time": "2023-11-06T07:09:56.487396",
     "status": "completed"
    },
    "tags": []
   },
   "source": []
  },
  {
   "cell_type": "markdown",
   "id": "12e27725",
   "metadata": {
    "papermill": {
     "duration": 0.015505,
     "end_time": "2023-11-06T07:09:56.534277",
     "exception": false,
     "start_time": "2023-11-06T07:09:56.518772",
     "status": "completed"
    },
    "tags": []
   },
   "source": [
    "6. get overall statistic about the dataset"
   ]
  },
  {
   "cell_type": "code",
   "execution_count": 9,
   "id": "18e25317",
   "metadata": {
    "execution": {
     "iopub.execute_input": "2023-11-06T07:09:56.567643Z",
     "iopub.status.busy": "2023-11-06T07:09:56.567275Z",
     "iopub.status.idle": "2023-11-06T07:09:56.594804Z",
     "shell.execute_reply": "2023-11-06T07:09:56.593733Z"
    },
    "papermill": {
     "duration": 0.047184,
     "end_time": "2023-11-06T07:09:56.597332",
     "exception": false,
     "start_time": "2023-11-06T07:09:56.550148",
     "status": "completed"
    },
    "tags": []
   },
   "outputs": [
    {
     "data": {
      "text/html": [
       "<div>\n",
       "<style scoped>\n",
       "    .dataframe tbody tr th:only-of-type {\n",
       "        vertical-align: middle;\n",
       "    }\n",
       "\n",
       "    .dataframe tbody tr th {\n",
       "        vertical-align: top;\n",
       "    }\n",
       "\n",
       "    .dataframe thead th {\n",
       "        text-align: right;\n",
       "    }\n",
       "</style>\n",
       "<table border=\"1\" class=\"dataframe\">\n",
       "  <thead>\n",
       "    <tr style=\"text-align: right;\">\n",
       "      <th></th>\n",
       "      <th>Year</th>\n",
       "      <th>Selling_Price</th>\n",
       "      <th>Present_Price</th>\n",
       "      <th>Kms_Driven</th>\n",
       "      <th>Owner</th>\n",
       "    </tr>\n",
       "  </thead>\n",
       "  <tbody>\n",
       "    <tr>\n",
       "      <th>count</th>\n",
       "      <td>301.000000</td>\n",
       "      <td>301.000000</td>\n",
       "      <td>301.000000</td>\n",
       "      <td>301.000000</td>\n",
       "      <td>301.000000</td>\n",
       "    </tr>\n",
       "    <tr>\n",
       "      <th>mean</th>\n",
       "      <td>2013.627907</td>\n",
       "      <td>4.661296</td>\n",
       "      <td>7.628472</td>\n",
       "      <td>36947.205980</td>\n",
       "      <td>0.043189</td>\n",
       "    </tr>\n",
       "    <tr>\n",
       "      <th>std</th>\n",
       "      <td>2.891554</td>\n",
       "      <td>5.082812</td>\n",
       "      <td>8.644115</td>\n",
       "      <td>38886.883882</td>\n",
       "      <td>0.247915</td>\n",
       "    </tr>\n",
       "    <tr>\n",
       "      <th>min</th>\n",
       "      <td>2003.000000</td>\n",
       "      <td>0.100000</td>\n",
       "      <td>0.320000</td>\n",
       "      <td>500.000000</td>\n",
       "      <td>0.000000</td>\n",
       "    </tr>\n",
       "    <tr>\n",
       "      <th>25%</th>\n",
       "      <td>2012.000000</td>\n",
       "      <td>0.900000</td>\n",
       "      <td>1.200000</td>\n",
       "      <td>15000.000000</td>\n",
       "      <td>0.000000</td>\n",
       "    </tr>\n",
       "    <tr>\n",
       "      <th>50%</th>\n",
       "      <td>2014.000000</td>\n",
       "      <td>3.600000</td>\n",
       "      <td>6.400000</td>\n",
       "      <td>32000.000000</td>\n",
       "      <td>0.000000</td>\n",
       "    </tr>\n",
       "    <tr>\n",
       "      <th>75%</th>\n",
       "      <td>2016.000000</td>\n",
       "      <td>6.000000</td>\n",
       "      <td>9.900000</td>\n",
       "      <td>48767.000000</td>\n",
       "      <td>0.000000</td>\n",
       "    </tr>\n",
       "    <tr>\n",
       "      <th>max</th>\n",
       "      <td>2018.000000</td>\n",
       "      <td>35.000000</td>\n",
       "      <td>92.600000</td>\n",
       "      <td>500000.000000</td>\n",
       "      <td>3.000000</td>\n",
       "    </tr>\n",
       "  </tbody>\n",
       "</table>\n",
       "</div>"
      ],
      "text/plain": [
       "              Year  Selling_Price  Present_Price     Kms_Driven       Owner\n",
       "count   301.000000     301.000000     301.000000     301.000000  301.000000\n",
       "mean   2013.627907       4.661296       7.628472   36947.205980    0.043189\n",
       "std       2.891554       5.082812       8.644115   38886.883882    0.247915\n",
       "min    2003.000000       0.100000       0.320000     500.000000    0.000000\n",
       "25%    2012.000000       0.900000       1.200000   15000.000000    0.000000\n",
       "50%    2014.000000       3.600000       6.400000   32000.000000    0.000000\n",
       "75%    2016.000000       6.000000       9.900000   48767.000000    0.000000\n",
       "max    2018.000000      35.000000      92.600000  500000.000000    3.000000"
      ]
     },
     "execution_count": 9,
     "metadata": {},
     "output_type": "execute_result"
    }
   ],
   "source": [
    "data.describe()"
   ]
  },
  {
   "cell_type": "markdown",
   "id": "72315eb4",
   "metadata": {
    "papermill": {
     "duration": 0.016553,
     "end_time": "2023-11-06T07:09:56.631121",
     "exception": false,
     "start_time": "2023-11-06T07:09:56.614568",
     "status": "completed"
    },
    "tags": []
   },
   "source": [
    "7. Data preprocessing"
   ]
  },
  {
   "cell_type": "code",
   "execution_count": 10,
   "id": "6ce0e4d1",
   "metadata": {
    "execution": {
     "iopub.execute_input": "2023-11-06T07:09:56.667635Z",
     "iopub.status.busy": "2023-11-06T07:09:56.667233Z",
     "iopub.status.idle": "2023-11-06T07:09:56.680870Z",
     "shell.execute_reply": "2023-11-06T07:09:56.679780Z"
    },
    "papermill": {
     "duration": 0.035251,
     "end_time": "2023-11-06T07:09:56.683148",
     "exception": false,
     "start_time": "2023-11-06T07:09:56.647897",
     "status": "completed"
    },
    "tags": []
   },
   "outputs": [
    {
     "data": {
      "text/html": [
       "<div>\n",
       "<style scoped>\n",
       "    .dataframe tbody tr th:only-of-type {\n",
       "        vertical-align: middle;\n",
       "    }\n",
       "\n",
       "    .dataframe tbody tr th {\n",
       "        vertical-align: top;\n",
       "    }\n",
       "\n",
       "    .dataframe thead th {\n",
       "        text-align: right;\n",
       "    }\n",
       "</style>\n",
       "<table border=\"1\" class=\"dataframe\">\n",
       "  <thead>\n",
       "    <tr style=\"text-align: right;\">\n",
       "      <th></th>\n",
       "      <th>Car_Name</th>\n",
       "      <th>Year</th>\n",
       "      <th>Selling_Price</th>\n",
       "      <th>Present_Price</th>\n",
       "      <th>Kms_Driven</th>\n",
       "      <th>Fuel_Type</th>\n",
       "      <th>Seller_Type</th>\n",
       "      <th>Transmission</th>\n",
       "      <th>Owner</th>\n",
       "    </tr>\n",
       "  </thead>\n",
       "  <tbody>\n",
       "    <tr>\n",
       "      <th>0</th>\n",
       "      <td>ritz</td>\n",
       "      <td>2014</td>\n",
       "      <td>3.35</td>\n",
       "      <td>5.59</td>\n",
       "      <td>27000</td>\n",
       "      <td>Petrol</td>\n",
       "      <td>Dealer</td>\n",
       "      <td>Manual</td>\n",
       "      <td>0</td>\n",
       "    </tr>\n",
       "  </tbody>\n",
       "</table>\n",
       "</div>"
      ],
      "text/plain": [
       "  Car_Name  Year  Selling_Price  Present_Price  Kms_Driven Fuel_Type  \\\n",
       "0     ritz  2014           3.35           5.59       27000    Petrol   \n",
       "\n",
       "  Seller_Type Transmission  Owner  \n",
       "0      Dealer       Manual      0  "
      ]
     },
     "execution_count": 10,
     "metadata": {},
     "output_type": "execute_result"
    }
   ],
   "source": [
    "data.head(1)"
   ]
  },
  {
   "cell_type": "code",
   "execution_count": 11,
   "id": "5ae639de",
   "metadata": {
    "execution": {
     "iopub.execute_input": "2023-11-06T07:09:56.718670Z",
     "iopub.status.busy": "2023-11-06T07:09:56.718296Z",
     "iopub.status.idle": "2023-11-06T07:09:56.722876Z",
     "shell.execute_reply": "2023-11-06T07:09:56.721737Z"
    },
    "papermill": {
     "duration": 0.024933,
     "end_time": "2023-11-06T07:09:56.725076",
     "exception": false,
     "start_time": "2023-11-06T07:09:56.700143",
     "status": "completed"
    },
    "tags": []
   },
   "outputs": [],
   "source": [
    "import datetime"
   ]
  },
  {
   "cell_type": "code",
   "execution_count": 12,
   "id": "8990c9be",
   "metadata": {
    "execution": {
     "iopub.execute_input": "2023-11-06T07:09:56.759509Z",
     "iopub.status.busy": "2023-11-06T07:09:56.759127Z",
     "iopub.status.idle": "2023-11-06T07:09:56.763905Z",
     "shell.execute_reply": "2023-11-06T07:09:56.762769Z"
    },
    "papermill": {
     "duration": 0.02494,
     "end_time": "2023-11-06T07:09:56.766458",
     "exception": false,
     "start_time": "2023-11-06T07:09:56.741518",
     "status": "completed"
    },
    "tags": []
   },
   "outputs": [],
   "source": [
    "date_time = datetime.datetime.now()"
   ]
  },
  {
   "cell_type": "code",
   "execution_count": 13,
   "id": "377192e7",
   "metadata": {
    "execution": {
     "iopub.execute_input": "2023-11-06T07:09:56.801807Z",
     "iopub.status.busy": "2023-11-06T07:09:56.801448Z",
     "iopub.status.idle": "2023-11-06T07:09:56.807576Z",
     "shell.execute_reply": "2023-11-06T07:09:56.806475Z"
    },
    "papermill": {
     "duration": 0.026153,
     "end_time": "2023-11-06T07:09:56.809864",
     "exception": false,
     "start_time": "2023-11-06T07:09:56.783711",
     "status": "completed"
    },
    "tags": []
   },
   "outputs": [],
   "source": [
    "data['Age'] = date_time.year - data['Year']"
   ]
  },
  {
   "cell_type": "code",
   "execution_count": 14,
   "id": "ade052e1",
   "metadata": {
    "execution": {
     "iopub.execute_input": "2023-11-06T07:09:56.844934Z",
     "iopub.status.busy": "2023-11-06T07:09:56.844551Z",
     "iopub.status.idle": "2023-11-06T07:09:56.858845Z",
     "shell.execute_reply": "2023-11-06T07:09:56.858042Z"
    },
    "papermill": {
     "duration": 0.034105,
     "end_time": "2023-11-06T07:09:56.861050",
     "exception": false,
     "start_time": "2023-11-06T07:09:56.826945",
     "status": "completed"
    },
    "tags": []
   },
   "outputs": [
    {
     "data": {
      "text/html": [
       "<div>\n",
       "<style scoped>\n",
       "    .dataframe tbody tr th:only-of-type {\n",
       "        vertical-align: middle;\n",
       "    }\n",
       "\n",
       "    .dataframe tbody tr th {\n",
       "        vertical-align: top;\n",
       "    }\n",
       "\n",
       "    .dataframe thead th {\n",
       "        text-align: right;\n",
       "    }\n",
       "</style>\n",
       "<table border=\"1\" class=\"dataframe\">\n",
       "  <thead>\n",
       "    <tr style=\"text-align: right;\">\n",
       "      <th></th>\n",
       "      <th>Car_Name</th>\n",
       "      <th>Year</th>\n",
       "      <th>Selling_Price</th>\n",
       "      <th>Present_Price</th>\n",
       "      <th>Kms_Driven</th>\n",
       "      <th>Fuel_Type</th>\n",
       "      <th>Seller_Type</th>\n",
       "      <th>Transmission</th>\n",
       "      <th>Owner</th>\n",
       "      <th>Age</th>\n",
       "    </tr>\n",
       "  </thead>\n",
       "  <tbody>\n",
       "    <tr>\n",
       "      <th>0</th>\n",
       "      <td>ritz</td>\n",
       "      <td>2014</td>\n",
       "      <td>3.35</td>\n",
       "      <td>5.59</td>\n",
       "      <td>27000</td>\n",
       "      <td>Petrol</td>\n",
       "      <td>Dealer</td>\n",
       "      <td>Manual</td>\n",
       "      <td>0</td>\n",
       "      <td>9</td>\n",
       "    </tr>\n",
       "    <tr>\n",
       "      <th>1</th>\n",
       "      <td>sx4</td>\n",
       "      <td>2013</td>\n",
       "      <td>4.75</td>\n",
       "      <td>9.54</td>\n",
       "      <td>43000</td>\n",
       "      <td>Diesel</td>\n",
       "      <td>Dealer</td>\n",
       "      <td>Manual</td>\n",
       "      <td>0</td>\n",
       "      <td>10</td>\n",
       "    </tr>\n",
       "    <tr>\n",
       "      <th>2</th>\n",
       "      <td>ciaz</td>\n",
       "      <td>2017</td>\n",
       "      <td>7.25</td>\n",
       "      <td>9.85</td>\n",
       "      <td>6900</td>\n",
       "      <td>Petrol</td>\n",
       "      <td>Dealer</td>\n",
       "      <td>Manual</td>\n",
       "      <td>0</td>\n",
       "      <td>6</td>\n",
       "    </tr>\n",
       "    <tr>\n",
       "      <th>3</th>\n",
       "      <td>wagon r</td>\n",
       "      <td>2011</td>\n",
       "      <td>2.85</td>\n",
       "      <td>4.15</td>\n",
       "      <td>5200</td>\n",
       "      <td>Petrol</td>\n",
       "      <td>Dealer</td>\n",
       "      <td>Manual</td>\n",
       "      <td>0</td>\n",
       "      <td>12</td>\n",
       "    </tr>\n",
       "    <tr>\n",
       "      <th>4</th>\n",
       "      <td>swift</td>\n",
       "      <td>2014</td>\n",
       "      <td>4.60</td>\n",
       "      <td>6.87</td>\n",
       "      <td>42450</td>\n",
       "      <td>Diesel</td>\n",
       "      <td>Dealer</td>\n",
       "      <td>Manual</td>\n",
       "      <td>0</td>\n",
       "      <td>9</td>\n",
       "    </tr>\n",
       "  </tbody>\n",
       "</table>\n",
       "</div>"
      ],
      "text/plain": [
       "  Car_Name  Year  Selling_Price  Present_Price  Kms_Driven Fuel_Type  \\\n",
       "0     ritz  2014           3.35           5.59       27000    Petrol   \n",
       "1      sx4  2013           4.75           9.54       43000    Diesel   \n",
       "2     ciaz  2017           7.25           9.85        6900    Petrol   \n",
       "3  wagon r  2011           2.85           4.15        5200    Petrol   \n",
       "4    swift  2014           4.60           6.87       42450    Diesel   \n",
       "\n",
       "  Seller_Type Transmission  Owner  Age  \n",
       "0      Dealer       Manual      0    9  \n",
       "1      Dealer       Manual      0   10  \n",
       "2      Dealer       Manual      0    6  \n",
       "3      Dealer       Manual      0   12  \n",
       "4      Dealer       Manual      0    9  "
      ]
     },
     "execution_count": 14,
     "metadata": {},
     "output_type": "execute_result"
    }
   ],
   "source": [
    "data.head()"
   ]
  },
  {
   "cell_type": "code",
   "execution_count": 15,
   "id": "667bfa17",
   "metadata": {
    "execution": {
     "iopub.execute_input": "2023-11-06T07:09:56.896445Z",
     "iopub.status.busy": "2023-11-06T07:09:56.896052Z",
     "iopub.status.idle": "2023-11-06T07:09:56.906409Z",
     "shell.execute_reply": "2023-11-06T07:09:56.905043Z"
    },
    "papermill": {
     "duration": 0.030679,
     "end_time": "2023-11-06T07:09:56.908798",
     "exception": false,
     "start_time": "2023-11-06T07:09:56.878119",
     "status": "completed"
    },
    "tags": []
   },
   "outputs": [],
   "source": [
    "data.drop('Year' , axis = 1 , inplace = True)"
   ]
  },
  {
   "cell_type": "code",
   "execution_count": 16,
   "id": "f73d30a4",
   "metadata": {
    "execution": {
     "iopub.execute_input": "2023-11-06T07:09:56.943488Z",
     "iopub.status.busy": "2023-11-06T07:09:56.943123Z",
     "iopub.status.idle": "2023-11-06T07:09:56.958779Z",
     "shell.execute_reply": "2023-11-06T07:09:56.957586Z"
    },
    "papermill": {
     "duration": 0.035734,
     "end_time": "2023-11-06T07:09:56.961166",
     "exception": false,
     "start_time": "2023-11-06T07:09:56.925432",
     "status": "completed"
    },
    "tags": []
   },
   "outputs": [
    {
     "data": {
      "text/html": [
       "<div>\n",
       "<style scoped>\n",
       "    .dataframe tbody tr th:only-of-type {\n",
       "        vertical-align: middle;\n",
       "    }\n",
       "\n",
       "    .dataframe tbody tr th {\n",
       "        vertical-align: top;\n",
       "    }\n",
       "\n",
       "    .dataframe thead th {\n",
       "        text-align: right;\n",
       "    }\n",
       "</style>\n",
       "<table border=\"1\" class=\"dataframe\">\n",
       "  <thead>\n",
       "    <tr style=\"text-align: right;\">\n",
       "      <th></th>\n",
       "      <th>Car_Name</th>\n",
       "      <th>Selling_Price</th>\n",
       "      <th>Present_Price</th>\n",
       "      <th>Kms_Driven</th>\n",
       "      <th>Fuel_Type</th>\n",
       "      <th>Seller_Type</th>\n",
       "      <th>Transmission</th>\n",
       "      <th>Owner</th>\n",
       "      <th>Age</th>\n",
       "    </tr>\n",
       "  </thead>\n",
       "  <tbody>\n",
       "    <tr>\n",
       "      <th>0</th>\n",
       "      <td>ritz</td>\n",
       "      <td>3.35</td>\n",
       "      <td>5.59</td>\n",
       "      <td>27000</td>\n",
       "      <td>Petrol</td>\n",
       "      <td>Dealer</td>\n",
       "      <td>Manual</td>\n",
       "      <td>0</td>\n",
       "      <td>9</td>\n",
       "    </tr>\n",
       "    <tr>\n",
       "      <th>1</th>\n",
       "      <td>sx4</td>\n",
       "      <td>4.75</td>\n",
       "      <td>9.54</td>\n",
       "      <td>43000</td>\n",
       "      <td>Diesel</td>\n",
       "      <td>Dealer</td>\n",
       "      <td>Manual</td>\n",
       "      <td>0</td>\n",
       "      <td>10</td>\n",
       "    </tr>\n",
       "    <tr>\n",
       "      <th>2</th>\n",
       "      <td>ciaz</td>\n",
       "      <td>7.25</td>\n",
       "      <td>9.85</td>\n",
       "      <td>6900</td>\n",
       "      <td>Petrol</td>\n",
       "      <td>Dealer</td>\n",
       "      <td>Manual</td>\n",
       "      <td>0</td>\n",
       "      <td>6</td>\n",
       "    </tr>\n",
       "    <tr>\n",
       "      <th>3</th>\n",
       "      <td>wagon r</td>\n",
       "      <td>2.85</td>\n",
       "      <td>4.15</td>\n",
       "      <td>5200</td>\n",
       "      <td>Petrol</td>\n",
       "      <td>Dealer</td>\n",
       "      <td>Manual</td>\n",
       "      <td>0</td>\n",
       "      <td>12</td>\n",
       "    </tr>\n",
       "    <tr>\n",
       "      <th>4</th>\n",
       "      <td>swift</td>\n",
       "      <td>4.60</td>\n",
       "      <td>6.87</td>\n",
       "      <td>42450</td>\n",
       "      <td>Diesel</td>\n",
       "      <td>Dealer</td>\n",
       "      <td>Manual</td>\n",
       "      <td>0</td>\n",
       "      <td>9</td>\n",
       "    </tr>\n",
       "  </tbody>\n",
       "</table>\n",
       "</div>"
      ],
      "text/plain": [
       "  Car_Name  Selling_Price  Present_Price  Kms_Driven Fuel_Type Seller_Type  \\\n",
       "0     ritz           3.35           5.59       27000    Petrol      Dealer   \n",
       "1      sx4           4.75           9.54       43000    Diesel      Dealer   \n",
       "2     ciaz           7.25           9.85        6900    Petrol      Dealer   \n",
       "3  wagon r           2.85           4.15        5200    Petrol      Dealer   \n",
       "4    swift           4.60           6.87       42450    Diesel      Dealer   \n",
       "\n",
       "  Transmission  Owner  Age  \n",
       "0       Manual      0    9  \n",
       "1       Manual      0   10  \n",
       "2       Manual      0    6  \n",
       "3       Manual      0   12  \n",
       "4       Manual      0    9  "
      ]
     },
     "execution_count": 16,
     "metadata": {},
     "output_type": "execute_result"
    }
   ],
   "source": [
    "data.head()"
   ]
  },
  {
   "cell_type": "markdown",
   "id": "9806d8aa",
   "metadata": {
    "papermill": {
     "duration": 0.016434,
     "end_time": "2023-11-06T07:09:56.995375",
     "exception": false,
     "start_time": "2023-11-06T07:09:56.978941",
     "status": "completed"
    },
    "tags": []
   },
   "source": []
  },
  {
   "cell_type": "markdown",
   "id": "504a0381",
   "metadata": {
    "papermill": {
     "duration": 0.016314,
     "end_time": "2023-11-06T07:09:57.029090",
     "exception": false,
     "start_time": "2023-11-06T07:09:57.012776",
     "status": "completed"
    },
    "tags": []
   },
   "source": [
    " outlier remover"
   ]
  },
  {
   "cell_type": "code",
   "execution_count": 17,
   "id": "309c7579",
   "metadata": {
    "execution": {
     "iopub.execute_input": "2023-11-06T07:09:57.064640Z",
     "iopub.status.busy": "2023-11-06T07:09:57.063434Z",
     "iopub.status.idle": "2023-11-06T07:09:58.560987Z",
     "shell.execute_reply": "2023-11-06T07:09:58.559800Z"
    },
    "papermill": {
     "duration": 1.518078,
     "end_time": "2023-11-06T07:09:58.563712",
     "exception": false,
     "start_time": "2023-11-06T07:09:57.045634",
     "status": "completed"
    },
    "tags": []
   },
   "outputs": [],
   "source": [
    "import seaborn as sns\n",
    "import matplotlib.pyplot as plt"
   ]
  },
  {
   "cell_type": "code",
   "execution_count": 18,
   "id": "596cd64a",
   "metadata": {
    "execution": {
     "iopub.execute_input": "2023-11-06T07:09:58.599251Z",
     "iopub.status.busy": "2023-11-06T07:09:58.598765Z",
     "iopub.status.idle": "2023-11-06T07:09:58.832903Z",
     "shell.execute_reply": "2023-11-06T07:09:58.831739Z"
    },
    "papermill": {
     "duration": 0.254512,
     "end_time": "2023-11-06T07:09:58.835305",
     "exception": false,
     "start_time": "2023-11-06T07:09:58.580793",
     "status": "completed"
    },
    "tags": []
   },
   "outputs": [
    {
     "name": "stdout",
     "output_type": "stream",
     "text": [
      "(301, 9)\n"
     ]
    },
    {
     "data": {
      "text/plain": [
       "<Axes: >"
      ]
     },
     "execution_count": 18,
     "metadata": {},
     "output_type": "execute_result"
    },
    {
     "data": {
      "image/png": "[encoded data removed]",
      "text/plain": [
       "<Figure size 640x480 with 1 Axes>"
      ]
     },
     "metadata": {},
     "output_type": "display_data"
    }
   ],
   "source": [
    "print(data.shape)\n",
    "sns.boxplot(data['Selling_Price'])\n"
   ]
  },
  {
   "cell_type": "code",
   "execution_count": 19,
   "id": "9be39c7b",
   "metadata": {
    "execution": {
     "iopub.execute_input": "2023-11-06T07:09:58.872883Z",
     "iopub.status.busy": "2023-11-06T07:09:58.871851Z",
     "iopub.status.idle": "2023-11-06T07:09:58.883124Z",
     "shell.execute_reply": "2023-11-06T07:09:58.881507Z"
    },
    "papermill": {
     "duration": 0.033151,
     "end_time": "2023-11-06T07:09:58.885667",
     "exception": false,
     "start_time": "2023-11-06T07:09:58.852516",
     "status": "completed"
    },
    "tags": []
   },
   "outputs": [
    {
     "data": {
      "text/plain": [
       "[35.0,\n",
       " 33.0,\n",
       " 23.5,\n",
       " 23.0,\n",
       " 23.0,\n",
       " 23.0,\n",
       " 20.75,\n",
       " 19.99,\n",
       " 19.75,\n",
       " 18.75,\n",
       " 18.0,\n",
       " 17.0,\n",
       " 16.0,\n",
       " 14.9,\n",
       " 14.73,\n",
       " 14.5,\n",
       " 14.25,\n",
       " 12.9,\n",
       " 12.5,\n",
       " 11.75,\n",
       " 11.5,\n",
       " 11.45,\n",
       " 11.25,\n",
       " 11.25,\n",
       " 11.25,\n",
       " 10.9,\n",
       " 10.25,\n",
       " 10.11,\n",
       " 9.7,\n",
       " 9.65,\n",
       " 9.5,\n",
       " 9.25,\n",
       " 9.25,\n",
       " 9.25,\n",
       " 9.15,\n",
       " 9.1,\n",
       " 8.99,\n",
       " 8.75,\n",
       " 8.65,\n",
       " 8.55,\n",
       " 8.5,\n",
       " 8.4,\n",
       " 8.4,\n",
       " 8.35,\n",
       " 8.25,\n",
       " 8.25,\n",
       " 7.9,\n",
       " 7.75,\n",
       " 7.75,\n",
       " 7.75,\n",
       " 7.5,\n",
       " 7.5,\n",
       " 7.5,\n",
       " 7.45,\n",
       " 7.45,\n",
       " 7.45,\n",
       " 7.4,\n",
       " 7.25,\n",
       " 7.25,\n",
       " 7.2,\n",
       " 7.05,\n",
       " 6.95,\n",
       " 6.85,\n",
       " 6.75,\n",
       " 6.7,\n",
       " 6.6,\n",
       " 6.5,\n",
       " 6.5,\n",
       " 6.45,\n",
       " 6.4,\n",
       " 6.25,\n",
       " 6.25,\n",
       " 6.15,\n",
       " 6.1,\n",
       " 6.0,\n",
       " 6.0,\n",
       " 6.0,\n",
       " 6.0,\n",
       " 5.95,\n",
       " 5.95,\n",
       " 5.9,\n",
       " 5.85,\n",
       " 5.85,\n",
       " 5.8,\n",
       " 5.75,\n",
       " 5.75,\n",
       " 5.65,\n",
       " 5.5,\n",
       " 5.5,\n",
       " 5.5,\n",
       " 5.5,\n",
       " 5.5,\n",
       " 5.4,\n",
       " 5.4,\n",
       " 5.35,\n",
       " 5.3,\n",
       " 5.3,\n",
       " 5.25,\n",
       " 5.25,\n",
       " 5.25,\n",
       " 5.25,\n",
       " 5.25,\n",
       " 5.25,\n",
       " 5.25,\n",
       " 5.2,\n",
       " 5.15,\n",
       " 5.11,\n",
       " 5.0,\n",
       " 4.95,\n",
       " 4.95,\n",
       " 4.9,\n",
       " 4.9,\n",
       " 4.85,\n",
       " 4.8,\n",
       " 4.8,\n",
       " 4.75,\n",
       " 4.75,\n",
       " 4.75,\n",
       " 4.75,\n",
       " 4.75,\n",
       " 4.75,\n",
       " 4.65,\n",
       " 4.6,\n",
       " 4.5,\n",
       " 4.5,\n",
       " 4.5,\n",
       " 4.5,\n",
       " 4.5,\n",
       " 4.5,\n",
       " 4.5,\n",
       " 4.4,\n",
       " 4.4,\n",
       " 4.4,\n",
       " 4.35,\n",
       " 4.15,\n",
       " 4.1,\n",
       " 4.1,\n",
       " 4.0,\n",
       " 4.0,\n",
       " 4.0,\n",
       " 4.0,\n",
       " 4.0,\n",
       " 3.95,\n",
       " 3.95,\n",
       " 3.9,\n",
       " 3.9,\n",
       " 3.8,\n",
       " 3.75,\n",
       " 3.75,\n",
       " 3.65,\n",
       " 3.6,\n",
       " 3.51,\n",
       " 3.5,\n",
       " 3.5,\n",
       " 3.49,\n",
       " 3.45,\n",
       " 3.35,\n",
       " 3.35,\n",
       " 3.25,\n",
       " 3.25,\n",
       " 3.25,\n",
       " 3.15,\n",
       " 3.1,\n",
       " 3.1,\n",
       " 3.1,\n",
       " 3.1,\n",
       " 3.0,\n",
       " 3.0,\n",
       " 3.0,\n",
       " 3.0,\n",
       " 2.95,\n",
       " 2.95,\n",
       " 2.9,\n",
       " 2.9,\n",
       " 2.9,\n",
       " 2.85,\n",
       " 2.85,\n",
       " 2.85,\n",
       " 2.75,\n",
       " 2.75,\n",
       " 2.7,\n",
       " 2.65,\n",
       " 2.65,\n",
       " 2.65,\n",
       " 2.55,\n",
       " 2.55,\n",
       " 2.5,\n",
       " 2.5,\n",
       " 2.35,\n",
       " 2.25,\n",
       " 2.25,\n",
       " 2.25,\n",
       " 2.1,\n",
       " 2.0,\n",
       " 1.95,\n",
       " 1.95,\n",
       " 1.75,\n",
       " 1.7,\n",
       " 1.65,\n",
       " 1.5,\n",
       " 1.45,\n",
       " 1.35,\n",
       " 1.35,\n",
       " 1.35,\n",
       " 1.25,\n",
       " 1.25,\n",
       " 1.2,\n",
       " 1.2,\n",
       " 1.2,\n",
       " 1.15,\n",
       " 1.15,\n",
       " 1.15,\n",
       " 1.15,\n",
       " 1.11,\n",
       " 1.1,\n",
       " 1.1,\n",
       " 1.1,\n",
       " 1.05,\n",
       " 1.05,\n",
       " 1.05,\n",
       " 1.05,\n",
       " 1.05,\n",
       " 1.0,\n",
       " 0.95,\n",
       " 0.9,\n",
       " 0.9,\n",
       " 0.8,\n",
       " 0.78,\n",
       " 0.75,\n",
       " 0.75,\n",
       " 0.75,\n",
       " 0.75,\n",
       " 0.72,\n",
       " 0.65,\n",
       " 0.65,\n",
       " 0.65,\n",
       " 0.65,\n",
       " 0.6,\n",
       " 0.6,\n",
       " 0.6,\n",
       " 0.6,\n",
       " 0.6,\n",
       " 0.6,\n",
       " 0.6,\n",
       " 0.6,\n",
       " 0.55,\n",
       " 0.55,\n",
       " 0.52,\n",
       " 0.51,\n",
       " 0.5,\n",
       " 0.5,\n",
       " 0.5,\n",
       " 0.5,\n",
       " 0.5,\n",
       " 0.48,\n",
       " 0.48,\n",
       " 0.48,\n",
       " 0.48,\n",
       " 0.45,\n",
       " 0.45,\n",
       " 0.45,\n",
       " 0.45,\n",
       " 0.45,\n",
       " 0.45,\n",
       " 0.45,\n",
       " 0.45,\n",
       " 0.42,\n",
       " 0.42,\n",
       " 0.4,\n",
       " 0.4,\n",
       " 0.4,\n",
       " 0.4,\n",
       " 0.4,\n",
       " 0.38,\n",
       " 0.38,\n",
       " 0.35,\n",
       " 0.35,\n",
       " 0.35,\n",
       " 0.35,\n",
       " 0.31,\n",
       " 0.3,\n",
       " 0.3,\n",
       " 0.3,\n",
       " 0.27,\n",
       " 0.25,\n",
       " 0.25,\n",
       " 0.25,\n",
       " 0.25,\n",
       " 0.25,\n",
       " 0.2,\n",
       " 0.2,\n",
       " 0.2,\n",
       " 0.2,\n",
       " 0.2,\n",
       " 0.2,\n",
       " 0.18,\n",
       " 0.17,\n",
       " 0.16,\n",
       " 0.15,\n",
       " 0.12,\n",
       " 0.1]"
      ]
     },
     "execution_count": 19,
     "metadata": {},
     "output_type": "execute_result"
    }
   ],
   "source": [
    "sorted(data['Selling_Price'],reverse = True)"
   ]
  },
  {
   "cell_type": "code",
   "execution_count": 20,
   "id": "385d1c94",
   "metadata": {
    "execution": {
     "iopub.execute_input": "2023-11-06T07:09:58.924304Z",
     "iopub.status.busy": "2023-11-06T07:09:58.923614Z",
     "iopub.status.idle": "2023-11-06T07:09:58.930089Z",
     "shell.execute_reply": "2023-11-06T07:09:58.929197Z"
    },
    "papermill": {
     "duration": 0.027681,
     "end_time": "2023-11-06T07:09:58.932345",
     "exception": false,
     "start_time": "2023-11-06T07:09:58.904664",
     "status": "completed"
    },
    "tags": []
   },
   "outputs": [],
   "source": [
    "data= data[~(data['Selling_Price']>=33.0) & (data['Selling_Price']<=35.0)]"
   ]
  },
  {
   "cell_type": "code",
   "execution_count": 21,
   "id": "c343e250",
   "metadata": {
    "execution": {
     "iopub.execute_input": "2023-11-06T07:09:58.969824Z",
     "iopub.status.busy": "2023-11-06T07:09:58.968750Z",
     "iopub.status.idle": "2023-11-06T07:09:58.975357Z",
     "shell.execute_reply": "2023-11-06T07:09:58.974476Z"
    },
    "papermill": {
     "duration": 0.027402,
     "end_time": "2023-11-06T07:09:58.977334",
     "exception": false,
     "start_time": "2023-11-06T07:09:58.949932",
     "status": "completed"
    },
    "tags": []
   },
   "outputs": [
    {
     "data": {
      "text/plain": [
       "(299, 9)"
      ]
     },
     "execution_count": 21,
     "metadata": {},
     "output_type": "execute_result"
    }
   ],
   "source": [
    "data.shape"
   ]
  },
  {
   "cell_type": "code",
   "execution_count": null,
   "id": "37d7039d",
   "metadata": {
    "papermill": {
     "duration": 0.017555,
     "end_time": "2023-11-06T07:09:59.013463",
     "exception": false,
     "start_time": "2023-11-06T07:09:58.995908",
     "status": "completed"
    },
    "tags": []
   },
   "outputs": [],
   "source": []
  },
  {
   "cell_type": "markdown",
   "id": "bb783a4f",
   "metadata": {
    "papermill": {
     "duration": 0.01783,
     "end_time": "2023-11-06T07:09:59.048723",
     "exception": false,
     "start_time": "2023-11-06T07:09:59.030893",
     "status": "completed"
    },
    "tags": []
   },
   "source": []
  },
  {
   "cell_type": "markdown",
   "id": "049e2386",
   "metadata": {
    "papermill": {
     "duration": 0.017414,
     "end_time": "2023-11-06T07:09:59.083561",
     "exception": false,
     "start_time": "2023-11-06T07:09:59.066147",
     "status": "completed"
    },
    "tags": []
   },
   "source": [
    "Encoding the categorical columns"
   ]
  },
  {
   "cell_type": "code",
   "execution_count": 22,
   "id": "7c110c89",
   "metadata": {
    "execution": {
     "iopub.execute_input": "2023-11-06T07:09:59.120686Z",
     "iopub.status.busy": "2023-11-06T07:09:59.120078Z",
     "iopub.status.idle": "2023-11-06T07:09:59.133246Z",
     "shell.execute_reply": "2023-11-06T07:09:59.132186Z"
    },
    "papermill": {
     "duration": 0.034324,
     "end_time": "2023-11-06T07:09:59.135581",
     "exception": false,
     "start_time": "2023-11-06T07:09:59.101257",
     "status": "completed"
    },
    "tags": []
   },
   "outputs": [
    {
     "data": {
      "text/html": [
       "<div>\n",
       "<style scoped>\n",
       "    .dataframe tbody tr th:only-of-type {\n",
       "        vertical-align: middle;\n",
       "    }\n",
       "\n",
       "    .dataframe tbody tr th {\n",
       "        vertical-align: top;\n",
       "    }\n",
       "\n",
       "    .dataframe thead th {\n",
       "        text-align: right;\n",
       "    }\n",
       "</style>\n",
       "<table border=\"1\" class=\"dataframe\">\n",
       "  <thead>\n",
       "    <tr style=\"text-align: right;\">\n",
       "      <th></th>\n",
       "      <th>Car_Name</th>\n",
       "      <th>Selling_Price</th>\n",
       "      <th>Present_Price</th>\n",
       "      <th>Kms_Driven</th>\n",
       "      <th>Fuel_Type</th>\n",
       "      <th>Seller_Type</th>\n",
       "      <th>Transmission</th>\n",
       "      <th>Owner</th>\n",
       "      <th>Age</th>\n",
       "    </tr>\n",
       "  </thead>\n",
       "  <tbody>\n",
       "    <tr>\n",
       "      <th>0</th>\n",
       "      <td>ritz</td>\n",
       "      <td>3.35</td>\n",
       "      <td>5.59</td>\n",
       "      <td>27000</td>\n",
       "      <td>Petrol</td>\n",
       "      <td>Dealer</td>\n",
       "      <td>Manual</td>\n",
       "      <td>0</td>\n",
       "      <td>9</td>\n",
       "    </tr>\n",
       "  </tbody>\n",
       "</table>\n",
       "</div>"
      ],
      "text/plain": [
       "  Car_Name  Selling_Price  Present_Price  Kms_Driven Fuel_Type Seller_Type  \\\n",
       "0     ritz           3.35           5.59       27000    Petrol      Dealer   \n",
       "\n",
       "  Transmission  Owner  Age  \n",
       "0       Manual      0    9  "
      ]
     },
     "execution_count": 22,
     "metadata": {},
     "output_type": "execute_result"
    }
   ],
   "source": [
    "data.head(1)"
   ]
  },
  {
   "cell_type": "code",
   "execution_count": 23,
   "id": "9567200b",
   "metadata": {
    "execution": {
     "iopub.execute_input": "2023-11-06T07:09:59.173674Z",
     "iopub.status.busy": "2023-11-06T07:09:59.173280Z",
     "iopub.status.idle": "2023-11-06T07:09:59.179927Z",
     "shell.execute_reply": "2023-11-06T07:09:59.179230Z"
    },
    "papermill": {
     "duration": 0.028027,
     "end_time": "2023-11-06T07:09:59.181813",
     "exception": false,
     "start_time": "2023-11-06T07:09:59.153786",
     "status": "completed"
    },
    "tags": []
   },
   "outputs": [
    {
     "data": {
      "text/plain": [
       "array(['Petrol', 'Diesel', 'CNG'], dtype=object)"
      ]
     },
     "execution_count": 23,
     "metadata": {},
     "output_type": "execute_result"
    }
   ],
   "source": [
    "data['Fuel_Type'].unique()"
   ]
  },
  {
   "cell_type": "code",
   "execution_count": 24,
   "id": "c35028f1",
   "metadata": {
    "execution": {
     "iopub.execute_input": "2023-11-06T07:09:59.220034Z",
     "iopub.status.busy": "2023-11-06T07:09:59.219320Z",
     "iopub.status.idle": "2023-11-06T07:09:59.225088Z",
     "shell.execute_reply": "2023-11-06T07:09:59.224201Z"
    },
    "papermill": {
     "duration": 0.027273,
     "end_time": "2023-11-06T07:09:59.227285",
     "exception": false,
     "start_time": "2023-11-06T07:09:59.200012",
     "status": "completed"
    },
    "tags": []
   },
   "outputs": [],
   "source": [
    "data['Fuel_Type'] = data['Fuel_Type'].map({'Petrol':0,'Diesel':1,'CNG':2})"
   ]
  },
  {
   "cell_type": "code",
   "execution_count": 25,
   "id": "f44ee8dc",
   "metadata": {
    "execution": {
     "iopub.execute_input": "2023-11-06T07:09:59.266395Z",
     "iopub.status.busy": "2023-11-06T07:09:59.266001Z",
     "iopub.status.idle": "2023-11-06T07:09:59.274377Z",
     "shell.execute_reply": "2023-11-06T07:09:59.273349Z"
    },
    "papermill": {
     "duration": 0.030684,
     "end_time": "2023-11-06T07:09:59.276802",
     "exception": false,
     "start_time": "2023-11-06T07:09:59.246118",
     "status": "completed"
    },
    "tags": []
   },
   "outputs": [
    {
     "data": {
      "text/plain": [
       "array([0, 1, 2])"
      ]
     },
     "execution_count": 25,
     "metadata": {},
     "output_type": "execute_result"
    }
   ],
   "source": [
    "data['Fuel_Type'].unique()"
   ]
  },
  {
   "cell_type": "code",
   "execution_count": 26,
   "id": "fd9f9d0a",
   "metadata": {
    "execution": {
     "iopub.execute_input": "2023-11-06T07:09:59.315081Z",
     "iopub.status.busy": "2023-11-06T07:09:59.314672Z",
     "iopub.status.idle": "2023-11-06T07:09:59.321485Z",
     "shell.execute_reply": "2023-11-06T07:09:59.320416Z"
    },
    "papermill": {
     "duration": 0.029005,
     "end_time": "2023-11-06T07:09:59.323794",
     "exception": false,
     "start_time": "2023-11-06T07:09:59.294789",
     "status": "completed"
    },
    "tags": []
   },
   "outputs": [
    {
     "data": {
      "text/plain": [
       "array(['Dealer', 'Individual'], dtype=object)"
      ]
     },
     "execution_count": 26,
     "metadata": {},
     "output_type": "execute_result"
    }
   ],
   "source": [
    "data['Seller_Type'].unique()"
   ]
  },
  {
   "cell_type": "code",
   "execution_count": 27,
   "id": "afd0a21b",
   "metadata": {
    "execution": {
     "iopub.execute_input": "2023-11-06T07:09:59.364471Z",
     "iopub.status.busy": "2023-11-06T07:09:59.364106Z",
     "iopub.status.idle": "2023-11-06T07:09:59.370731Z",
     "shell.execute_reply": "2023-11-06T07:09:59.369630Z"
    },
    "papermill": {
     "duration": 0.030539,
     "end_time": "2023-11-06T07:09:59.372880",
     "exception": false,
     "start_time": "2023-11-06T07:09:59.342341",
     "status": "completed"
    },
    "tags": []
   },
   "outputs": [],
   "source": [
    "data['Seller_Type'] = data['Seller_Type'].map({'Dealer':0,'Individual':1})"
   ]
  },
  {
   "cell_type": "code",
   "execution_count": 28,
   "id": "824c1449",
   "metadata": {
    "execution": {
     "iopub.execute_input": "2023-11-06T07:09:59.412630Z",
     "iopub.status.busy": "2023-11-06T07:09:59.411827Z",
     "iopub.status.idle": "2023-11-06T07:09:59.419356Z",
     "shell.execute_reply": "2023-11-06T07:09:59.418285Z"
    },
    "papermill": {
     "duration": 0.029479,
     "end_time": "2023-11-06T07:09:59.421660",
     "exception": false,
     "start_time": "2023-11-06T07:09:59.392181",
     "status": "completed"
    },
    "tags": []
   },
   "outputs": [
    {
     "data": {
      "text/plain": [
       "array([0, 1])"
      ]
     },
     "execution_count": 28,
     "metadata": {},
     "output_type": "execute_result"
    }
   ],
   "source": [
    "data['Seller_Type'].unique()"
   ]
  },
  {
   "cell_type": "code",
   "execution_count": 29,
   "id": "38b74503",
   "metadata": {
    "execution": {
     "iopub.execute_input": "2023-11-06T07:09:59.460684Z",
     "iopub.status.busy": "2023-11-06T07:09:59.460023Z",
     "iopub.status.idle": "2023-11-06T07:09:59.466401Z",
     "shell.execute_reply": "2023-11-06T07:09:59.465304Z"
    },
    "papermill": {
     "duration": 0.028319,
     "end_time": "2023-11-06T07:09:59.468663",
     "exception": false,
     "start_time": "2023-11-06T07:09:59.440344",
     "status": "completed"
    },
    "tags": []
   },
   "outputs": [
    {
     "data": {
      "text/plain": [
       "array(['Manual', 'Automatic'], dtype=object)"
      ]
     },
     "execution_count": 29,
     "metadata": {},
     "output_type": "execute_result"
    }
   ],
   "source": [
    "data['Transmission'].unique()"
   ]
  },
  {
   "cell_type": "code",
   "execution_count": 30,
   "id": "813a8848",
   "metadata": {
    "execution": {
     "iopub.execute_input": "2023-11-06T07:09:59.510071Z",
     "iopub.status.busy": "2023-11-06T07:09:59.509285Z",
     "iopub.status.idle": "2023-11-06T07:09:59.515612Z",
     "shell.execute_reply": "2023-11-06T07:09:59.514515Z"
    },
    "papermill": {
     "duration": 0.03102,
     "end_time": "2023-11-06T07:09:59.518267",
     "exception": false,
     "start_time": "2023-11-06T07:09:59.487247",
     "status": "completed"
    },
    "tags": []
   },
   "outputs": [],
   "source": [
    "data['Transmission'] = data['Transmission'].map({'Manual':0,'Automatic':1})"
   ]
  },
  {
   "cell_type": "code",
   "execution_count": 31,
   "id": "ba61d880",
   "metadata": {
    "execution": {
     "iopub.execute_input": "2023-11-06T07:09:59.557310Z",
     "iopub.status.busy": "2023-11-06T07:09:59.556893Z",
     "iopub.status.idle": "2023-11-06T07:09:59.564600Z",
     "shell.execute_reply": "2023-11-06T07:09:59.563526Z"
    },
    "papermill": {
     "duration": 0.029805,
     "end_time": "2023-11-06T07:09:59.566835",
     "exception": false,
     "start_time": "2023-11-06T07:09:59.537030",
     "status": "completed"
    },
    "tags": []
   },
   "outputs": [
    {
     "data": {
      "text/plain": [
       "array([0, 1])"
      ]
     },
     "execution_count": 31,
     "metadata": {},
     "output_type": "execute_result"
    }
   ],
   "source": [
    "data['Transmission'].unique()"
   ]
  },
  {
   "cell_type": "code",
   "execution_count": 32,
   "id": "3ad58981",
   "metadata": {
    "execution": {
     "iopub.execute_input": "2023-11-06T07:09:59.606037Z",
     "iopub.status.busy": "2023-11-06T07:09:59.604878Z",
     "iopub.status.idle": "2023-11-06T07:09:59.618137Z",
     "shell.execute_reply": "2023-11-06T07:09:59.617204Z"
    },
    "papermill": {
     "duration": 0.035092,
     "end_time": "2023-11-06T07:09:59.620349",
     "exception": false,
     "start_time": "2023-11-06T07:09:59.585257",
     "status": "completed"
    },
    "tags": []
   },
   "outputs": [
    {
     "data": {
      "text/html": [
       "<div>\n",
       "<style scoped>\n",
       "    .dataframe tbody tr th:only-of-type {\n",
       "        vertical-align: middle;\n",
       "    }\n",
       "\n",
       "    .dataframe tbody tr th {\n",
       "        vertical-align: top;\n",
       "    }\n",
       "\n",
       "    .dataframe thead th {\n",
       "        text-align: right;\n",
       "    }\n",
       "</style>\n",
       "<table border=\"1\" class=\"dataframe\">\n",
       "  <thead>\n",
       "    <tr style=\"text-align: right;\">\n",
       "      <th></th>\n",
       "      <th>Car_Name</th>\n",
       "      <th>Selling_Price</th>\n",
       "      <th>Present_Price</th>\n",
       "      <th>Kms_Driven</th>\n",
       "      <th>Fuel_Type</th>\n",
       "      <th>Seller_Type</th>\n",
       "      <th>Transmission</th>\n",
       "      <th>Owner</th>\n",
       "      <th>Age</th>\n",
       "    </tr>\n",
       "  </thead>\n",
       "  <tbody>\n",
       "    <tr>\n",
       "      <th>0</th>\n",
       "      <td>ritz</td>\n",
       "      <td>3.35</td>\n",
       "      <td>5.59</td>\n",
       "      <td>27000</td>\n",
       "      <td>0</td>\n",
       "      <td>0</td>\n",
       "      <td>0</td>\n",
       "      <td>0</td>\n",
       "      <td>9</td>\n",
       "    </tr>\n",
       "    <tr>\n",
       "      <th>1</th>\n",
       "      <td>sx4</td>\n",
       "      <td>4.75</td>\n",
       "      <td>9.54</td>\n",
       "      <td>43000</td>\n",
       "      <td>1</td>\n",
       "      <td>0</td>\n",
       "      <td>0</td>\n",
       "      <td>0</td>\n",
       "      <td>10</td>\n",
       "    </tr>\n",
       "    <tr>\n",
       "      <th>2</th>\n",
       "      <td>ciaz</td>\n",
       "      <td>7.25</td>\n",
       "      <td>9.85</td>\n",
       "      <td>6900</td>\n",
       "      <td>0</td>\n",
       "      <td>0</td>\n",
       "      <td>0</td>\n",
       "      <td>0</td>\n",
       "      <td>6</td>\n",
       "    </tr>\n",
       "    <tr>\n",
       "      <th>3</th>\n",
       "      <td>wagon r</td>\n",
       "      <td>2.85</td>\n",
       "      <td>4.15</td>\n",
       "      <td>5200</td>\n",
       "      <td>0</td>\n",
       "      <td>0</td>\n",
       "      <td>0</td>\n",
       "      <td>0</td>\n",
       "      <td>12</td>\n",
       "    </tr>\n",
       "    <tr>\n",
       "      <th>4</th>\n",
       "      <td>swift</td>\n",
       "      <td>4.60</td>\n",
       "      <td>6.87</td>\n",
       "      <td>42450</td>\n",
       "      <td>1</td>\n",
       "      <td>0</td>\n",
       "      <td>0</td>\n",
       "      <td>0</td>\n",
       "      <td>9</td>\n",
       "    </tr>\n",
       "  </tbody>\n",
       "</table>\n",
       "</div>"
      ],
      "text/plain": [
       "  Car_Name  Selling_Price  Present_Price  Kms_Driven  Fuel_Type  Seller_Type  \\\n",
       "0     ritz           3.35           5.59       27000          0            0   \n",
       "1      sx4           4.75           9.54       43000          1            0   \n",
       "2     ciaz           7.25           9.85        6900          0            0   \n",
       "3  wagon r           2.85           4.15        5200          0            0   \n",
       "4    swift           4.60           6.87       42450          1            0   \n",
       "\n",
       "   Transmission  Owner  Age  \n",
       "0             0      0    9  \n",
       "1             0      0   10  \n",
       "2             0      0    6  \n",
       "3             0      0   12  \n",
       "4             0      0    9  "
      ]
     },
     "execution_count": 32,
     "metadata": {},
     "output_type": "execute_result"
    }
   ],
   "source": [
    "data.head()"
   ]
  },
  {
   "cell_type": "markdown",
   "id": "18252796",
   "metadata": {
    "papermill": {
     "duration": 0.018811,
     "end_time": "2023-11-06T07:09:59.657859",
     "exception": false,
     "start_time": "2023-11-06T07:09:59.639048",
     "status": "completed"
    },
    "tags": []
   },
   "source": []
  },
  {
   "cell_type": "markdown",
   "id": "6aaf0292",
   "metadata": {
    "papermill": {
     "duration": 0.018473,
     "end_time": "2023-11-06T07:09:59.696535",
     "exception": false,
     "start_time": "2023-11-06T07:09:59.678062",
     "status": "completed"
    },
    "tags": []
   },
   "source": [
    "8. store feature matrix in x and response(target) in vectore y "
   ]
  },
  {
   "cell_type": "code",
   "execution_count": 33,
   "id": "b1c9df02",
   "metadata": {
    "execution": {
     "iopub.execute_input": "2023-11-06T07:09:59.737153Z",
     "iopub.status.busy": "2023-11-06T07:09:59.736066Z",
     "iopub.status.idle": "2023-11-06T07:09:59.742401Z",
     "shell.execute_reply": "2023-11-06T07:09:59.741513Z"
    },
    "papermill": {
     "duration": 0.028399,
     "end_time": "2023-11-06T07:09:59.744565",
     "exception": false,
     "start_time": "2023-11-06T07:09:59.716166",
     "status": "completed"
    },
    "tags": []
   },
   "outputs": [],
   "source": [
    "x = data.drop(['Car_Name','Selling_Price'],axis = 1)\n",
    "y = data[\"Selling_Price\"]"
   ]
  },
  {
   "cell_type": "code",
   "execution_count": 34,
   "id": "7e1f50f1",
   "metadata": {
    "execution": {
     "iopub.execute_input": "2023-11-06T07:09:59.783824Z",
     "iopub.status.busy": "2023-11-06T07:09:59.783122Z",
     "iopub.status.idle": "2023-11-06T07:09:59.790486Z",
     "shell.execute_reply": "2023-11-06T07:09:59.789693Z"
    },
    "papermill": {
     "duration": 0.029301,
     "end_time": "2023-11-06T07:09:59.792529",
     "exception": false,
     "start_time": "2023-11-06T07:09:59.763228",
     "status": "completed"
    },
    "tags": []
   },
   "outputs": [
    {
     "data": {
      "text/plain": [
       "0       3.35\n",
       "1       4.75\n",
       "2       7.25\n",
       "3       2.85\n",
       "4       4.60\n",
       "       ...  \n",
       "296     9.50\n",
       "297     4.00\n",
       "298     3.35\n",
       "299    11.50\n",
       "300     5.30\n",
       "Name: Selling_Price, Length: 299, dtype: float64"
      ]
     },
     "execution_count": 34,
     "metadata": {},
     "output_type": "execute_result"
    }
   ],
   "source": [
    "y"
   ]
  },
  {
   "cell_type": "markdown",
   "id": "a9a74135",
   "metadata": {
    "papermill": {
     "duration": 0.018407,
     "end_time": "2023-11-06T07:09:59.829909",
     "exception": false,
     "start_time": "2023-11-06T07:09:59.811502",
     "status": "completed"
    },
    "tags": []
   },
   "source": [
    "9. splitting the dataset into traing or test dataset"
   ]
  },
  {
   "cell_type": "code",
   "execution_count": 35,
   "id": "8ff52397",
   "metadata": {
    "execution": {
     "iopub.execute_input": "2023-11-06T07:09:59.869179Z",
     "iopub.status.busy": "2023-11-06T07:09:59.868771Z",
     "iopub.status.idle": "2023-11-06T07:10:00.169423Z",
     "shell.execute_reply": "2023-11-06T07:10:00.168057Z"
    },
    "papermill": {
     "duration": 0.323808,
     "end_time": "2023-11-06T07:10:00.172261",
     "exception": false,
     "start_time": "2023-11-06T07:09:59.848453",
     "status": "completed"
    },
    "tags": []
   },
   "outputs": [],
   "source": [
    "from sklearn.model_selection import train_test_split"
   ]
  },
  {
   "cell_type": "code",
   "execution_count": 36,
   "id": "41c10a00",
   "metadata": {
    "execution": {
     "iopub.execute_input": "2023-11-06T07:10:00.213659Z",
     "iopub.status.busy": "2023-11-06T07:10:00.213276Z",
     "iopub.status.idle": "2023-11-06T07:10:00.221523Z",
     "shell.execute_reply": "2023-11-06T07:10:00.220057Z"
    },
    "papermill": {
     "duration": 0.032613,
     "end_time": "2023-11-06T07:10:00.224402",
     "exception": false,
     "start_time": "2023-11-06T07:10:00.191789",
     "status": "completed"
    },
    "tags": []
   },
   "outputs": [],
   "source": [
    "x_train,x_test,y_train,y_test = train_test_split(x,y,test_size=0.20,random_state=42)"
   ]
  },
  {
   "cell_type": "markdown",
   "id": "c87b3002",
   "metadata": {
    "papermill": {
     "duration": 0.020722,
     "end_time": "2023-11-06T07:10:00.265159",
     "exception": false,
     "start_time": "2023-11-06T07:10:00.244437",
     "status": "completed"
    },
    "tags": []
   },
   "source": [
    "10. import the models "
   ]
  },
  {
   "cell_type": "code",
   "execution_count": 37,
   "id": "74eee4a3",
   "metadata": {
    "execution": {
     "iopub.execute_input": "2023-11-06T07:10:00.304848Z",
     "iopub.status.busy": "2023-11-06T07:10:00.304370Z",
     "iopub.status.idle": "2023-11-06T07:10:00.976123Z",
     "shell.execute_reply": "2023-11-06T07:10:00.974876Z"
    },
    "papermill": {
     "duration": 0.694939,
     "end_time": "2023-11-06T07:10:00.978879",
     "exception": false,
     "start_time": "2023-11-06T07:10:00.283940",
     "status": "completed"
    },
    "tags": []
   },
   "outputs": [],
   "source": [
    "from sklearn.linear_model import LinearRegression\n",
    "from sklearn.ensemble import RandomForestRegressor\n",
    "from sklearn.ensemble import GradientBoostingRegressor\n",
    "from xgboost import XGBRegressor"
   ]
  },
  {
   "cell_type": "markdown",
   "id": "855af47e",
   "metadata": {
    "papermill": {
     "duration": 0.018836,
     "end_time": "2023-11-06T07:10:01.017704",
     "exception": false,
     "start_time": "2023-11-06T07:10:00.998868",
     "status": "completed"
    },
    "tags": []
   },
   "source": []
  },
  {
   "cell_type": "markdown",
   "id": "df56c294",
   "metadata": {
    "papermill": {
     "duration": 0.018394,
     "end_time": "2023-11-06T07:10:01.055535",
     "exception": false,
     "start_time": "2023-11-06T07:10:01.037141",
     "status": "completed"
    },
    "tags": []
   },
   "source": [
    "11. model traing"
   ]
  },
  {
   "cell_type": "code",
   "execution_count": 38,
   "id": "9d3ac5c7",
   "metadata": {
    "execution": {
     "iopub.execute_input": "2023-11-06T07:10:01.096380Z",
     "iopub.status.busy": "2023-11-06T07:10:01.095153Z",
     "iopub.status.idle": "2023-11-06T07:10:01.508890Z",
     "shell.execute_reply": "2023-11-06T07:10:01.507733Z"
    },
    "papermill": {
     "duration": 0.437138,
     "end_time": "2023-11-06T07:10:01.512152",
     "exception": false,
     "start_time": "2023-11-06T07:10:01.075014",
     "status": "completed"
    },
    "tags": []
   },
   "outputs": [
    {
     "data": {
      "text/html": [
       "<style>#sk-container-id-1 {color: black;background-color: white;}#sk-container-id-1 pre{padding: 0;}#sk-container-id-1 div.sk-toggleable {background-color: white;}#sk-container-id-1 label.sk-toggleable__label {cursor: pointer;display: block;width: 100%;margin-bottom: 0;padding: 0.3em;box-sizing: border-box;text-align: center;}#sk-container-id-1 label.sk-toggleable__label-arrow:before {content: \"▸\";float: left;margin-right: 0.25em;color: #696969;}#sk-container-id-1 label.sk-toggleable__label-arrow:hover:before {color: black;}#sk-container-id-1 div.sk-estimator:hover label.sk-toggleable__label-arrow:before {color: black;}#sk-container-id-1 div.sk-toggleable__content {max-height: 0;max-width: 0;overflow: hidden;text-align: left;background-color: #f0f8ff;}#sk-container-id-1 div.sk-toggleable__content pre {margin: 0.2em;color: black;border-radius: 0.25em;background-color: #f0f8ff;}#sk-container-id-1 input.sk-toggleable__control:checked~div.sk-toggleable__content {max-height: 200px;max-width: 100%;overflow: auto;}#sk-container-id-1 input.sk-toggleable__control:checked~label.sk-toggleable__label-arrow:before {content: \"▾\";}#sk-container-id-1 div.sk-estimator input.sk-toggleable__control:checked~label.sk-toggleable__label {background-color: #d4ebff;}#sk-container-id-1 div.sk-label input.sk-toggleable__control:checked~label.sk-toggleable__label {background-color: #d4ebff;}#sk-container-id-1 input.sk-hidden--visually {border: 0;clip: rect(1px 1px 1px 1px);clip: rect(1px, 1px, 1px, 1px);height: 1px;margin: -1px;overflow: hidden;padding: 0;position: absolute;width: 1px;}#sk-container-id-1 div.sk-estimator {font-family: monospace;background-color: #f0f8ff;border: 1px dotted black;border-radius: 0.25em;box-sizing: border-box;margin-bottom: 0.5em;}#sk-container-id-1 div.sk-estimator:hover {background-color: #d4ebff;}#sk-container-id-1 div.sk-parallel-item::after {content: \"\";width: 100%;border-bottom: 1px solid gray;flex-grow: 1;}#sk-container-id-1 div.sk-label:hover label.sk-toggleable__label {background-color: #d4ebff;}#sk-container-id-1 div.sk-serial::before {content: \"\";position: absolute;border-left: 1px solid gray;box-sizing: border-box;top: 0;bottom: 0;left: 50%;z-index: 0;}#sk-container-id-1 div.sk-serial {display: flex;flex-direction: column;align-items: center;background-color: white;padding-right: 0.2em;padding-left: 0.2em;position: relative;}#sk-container-id-1 div.sk-item {position: relative;z-index: 1;}#sk-container-id-1 div.sk-parallel {display: flex;align-items: stretch;justify-content: center;background-color: white;position: relative;}#sk-container-id-1 div.sk-item::before, #sk-container-id-1 div.sk-parallel-item::before {content: \"\";position: absolute;border-left: 1px solid gray;box-sizing: border-box;top: 0;bottom: 0;left: 50%;z-index: -1;}#sk-container-id-1 div.sk-parallel-item {display: flex;flex-direction: column;z-index: 1;position: relative;background-color: white;}#sk-container-id-1 div.sk-parallel-item:first-child::after {align-self: flex-end;width: 50%;}#sk-container-id-1 div.sk-parallel-item:last-child::after {align-self: flex-start;width: 50%;}#sk-container-id-1 div.sk-parallel-item:only-child::after {width: 0;}#sk-container-id-1 div.sk-dashed-wrapped {border: 1px dashed gray;margin: 0 0.4em 0.5em 0.4em;box-sizing: border-box;padding-bottom: 0.4em;background-color: white;}#sk-container-id-1 div.sk-label label {font-family: monospace;font-weight: bold;display: inline-block;line-height: 1.2em;}#sk-container-id-1 div.sk-label-container {text-align: center;}#sk-container-id-1 div.sk-container {/* jupyter's `normalize.less` sets `[hidden] { display: none; }` but bootstrap.min.css set `[hidden] { display: none !important; }` so we also need the `!important` here to be able to override the default hidden behavior on the sphinx rendered scikit-learn.org. See: https://github.com/scikit-learn/scikit-learn/issues/21755 */display: inline-block !important;position: relative;}#sk-container-id-1 div.sk-text-repr-fallback {display: none;}</style><div id=\"sk-container-id-1\" class=\"sk-top-container\"><div class=\"sk-text-repr-fallback\"><pre>XGBRegressor(base_score=None, booster=None, callbacks=None,\n",
       "             colsample_bylevel=None, colsample_bynode=None,\n",
       "             colsample_bytree=None, early_stopping_rounds=None,\n",
       "             enable_categorical=False, eval_metric=None, feature_types=None,\n",
       "             gamma=None, gpu_id=None, grow_policy=None, importance_type=None,\n",
       "             interaction_constraints=None, learning_rate=None, max_bin=None,\n",
       "             max_cat_threshold=None, max_cat_to_onehot=None,\n",
       "             max_delta_step=None, max_depth=None, max_leaves=None,\n",
       "             min_child_weight=None, missing=nan, monotone_constraints=None,\n",
       "             n_estimators=100, n_jobs=None, num_parallel_tree=None,\n",
       "             predictor=None, random_state=None, ...)</pre><b>In a Jupyter environment, please rerun this cell to show the HTML representation or trust the notebook. <br />On GitHub, the HTML representation is unable to render, please try loading this page with nbviewer.org.</b></div><div class=\"sk-container\" hidden><div class=\"sk-item\"><div class=\"sk-estimator sk-toggleable\"><input class=\"sk-toggleable__control sk-hidden--visually\" id=\"sk-estimator-id-1\" type=\"checkbox\" checked><label for=\"sk-estimator-id-1\" class=\"sk-toggleable__label sk-toggleable__label-arrow\">XGBRegressor</label><div class=\"sk-toggleable__content\"><pre>XGBRegressor(base_score=None, booster=None, callbacks=None,\n",
       "             colsample_bylevel=None, colsample_bynode=None,\n",
       "             colsample_bytree=None, early_stopping_rounds=None,\n",
       "             enable_categorical=False, eval_metric=None, feature_types=None,\n",
       "             gamma=None, gpu_id=None, grow_policy=None, importance_type=None,\n",
       "             interaction_constraints=None, learning_rate=None, max_bin=None,\n",
       "             max_cat_threshold=None, max_cat_to_onehot=None,\n",
       "             max_delta_step=None, max_depth=None, max_leaves=None,\n",
       "             min_child_weight=None, missing=nan, monotone_constraints=None,\n",
       "             n_estimators=100, n_jobs=None, num_parallel_tree=None,\n",
       "             predictor=None, random_state=None, ...)</pre></div></div></div></div></div>"
      ],
      "text/plain": [
       "XGBRegressor(base_score=None, booster=None, callbacks=None,\n",
       "             colsample_bylevel=None, colsample_bynode=None,\n",
       "             colsample_bytree=None, early_stopping_rounds=None,\n",
       "             enable_categorical=False, eval_metric=None, feature_types=None,\n",
       "             gamma=None, gpu_id=None, grow_policy=None, importance_type=None,\n",
       "             interaction_constraints=None, learning_rate=None, max_bin=None,\n",
       "             max_cat_threshold=None, max_cat_to_onehot=None,\n",
       "             max_delta_step=None, max_depth=None, max_leaves=None,\n",
       "             min_child_weight=None, missing=nan, monotone_constraints=None,\n",
       "             n_estimators=100, n_jobs=None, num_parallel_tree=None,\n",
       "             predictor=None, random_state=None, ...)"
      ]
     },
     "execution_count": 38,
     "metadata": {},
     "output_type": "execute_result"
    }
   ],
   "source": [
    "lr = LinearRegression()\n",
    "lr.fit(x_train,y_train)\n",
    "\n",
    "rf =  RandomForestRegressor()\n",
    "rf.fit(x_train,y_train)\n",
    "\n",
    "xgb =  GradientBoostingRegressor()\n",
    "xgb.fit(x_train,y_train)\n",
    "\n",
    "xg = XGBRegressor()\n",
    "xg.fit(x_train,y_train)"
   ]
  },
  {
   "cell_type": "markdown",
   "id": "7471b20b",
   "metadata": {
    "papermill": {
     "duration": 0.020932,
     "end_time": "2023-11-06T07:10:01.553525",
     "exception": false,
     "start_time": "2023-11-06T07:10:01.532593",
     "status": "completed"
    },
    "tags": []
   },
   "source": []
  },
  {
   "cell_type": "markdown",
   "id": "adddd0e6",
   "metadata": {
    "papermill": {
     "duration": 0.018981,
     "end_time": "2023-11-06T07:10:01.592707",
     "exception": false,
     "start_time": "2023-11-06T07:10:01.573726",
     "status": "completed"
    },
    "tags": []
   },
   "source": [
    "12. predication on  test data"
   ]
  },
  {
   "cell_type": "code",
   "execution_count": 39,
   "id": "5e558474",
   "metadata": {
    "execution": {
     "iopub.execute_input": "2023-11-06T07:10:01.632732Z",
     "iopub.status.busy": "2023-11-06T07:10:01.632367Z",
     "iopub.status.idle": "2023-11-06T07:10:01.652909Z",
     "shell.execute_reply": "2023-11-06T07:10:01.651976Z"
    },
    "papermill": {
     "duration": 0.044216,
     "end_time": "2023-11-06T07:10:01.656062",
     "exception": false,
     "start_time": "2023-11-06T07:10:01.611846",
     "status": "completed"
    },
    "tags": []
   },
   "outputs": [],
   "source": [
    "y_pred1 = lr.predict(x_test)\n",
    "y_pred2 = rf.predict(x_test)\n",
    "y_pred3 = xgb.predict(x_test)\n",
    "y_pred4 = xg.predict(x_test)"
   ]
  },
  {
   "cell_type": "markdown",
   "id": "6b88475a",
   "metadata": {
    "papermill": {
     "duration": 0.019737,
     "end_time": "2023-11-06T07:10:01.697939",
     "exception": false,
     "start_time": "2023-11-06T07:10:01.678202",
     "status": "completed"
    },
    "tags": []
   },
   "source": []
  },
  {
   "cell_type": "markdown",
   "id": "01924432",
   "metadata": {
    "papermill": {
     "duration": 0.019762,
     "end_time": "2023-11-06T07:10:01.736975",
     "exception": false,
     "start_time": "2023-11-06T07:10:01.717213",
     "status": "completed"
    },
    "tags": []
   },
   "source": [
    "13. Evaluating the algorithm"
   ]
  },
  {
   "cell_type": "code",
   "execution_count": 40,
   "id": "2243b915",
   "metadata": {
    "execution": {
     "iopub.execute_input": "2023-11-06T07:10:01.778438Z",
     "iopub.status.busy": "2023-11-06T07:10:01.778079Z",
     "iopub.status.idle": "2023-11-06T07:10:01.782782Z",
     "shell.execute_reply": "2023-11-06T07:10:01.781576Z"
    },
    "papermill": {
     "duration": 0.027863,
     "end_time": "2023-11-06T07:10:01.785292",
     "exception": false,
     "start_time": "2023-11-06T07:10:01.757429",
     "status": "completed"
    },
    "tags": []
   },
   "outputs": [],
   "source": [
    "from sklearn import metrics"
   ]
  },
  {
   "cell_type": "code",
   "execution_count": 41,
   "id": "d8a6fd5e",
   "metadata": {
    "execution": {
     "iopub.execute_input": "2023-11-06T07:10:01.830373Z",
     "iopub.status.busy": "2023-11-06T07:10:01.828441Z",
     "iopub.status.idle": "2023-11-06T07:10:01.838644Z",
     "shell.execute_reply": "2023-11-06T07:10:01.837662Z"
    },
    "papermill": {
     "duration": 0.033454,
     "end_time": "2023-11-06T07:10:01.841100",
     "exception": false,
     "start_time": "2023-11-06T07:10:01.807646",
     "status": "completed"
    },
    "tags": []
   },
   "outputs": [],
   "source": [
    "#Accuracy\n",
    "\n",
    "score1 = metrics.r2_score(y_test,y_pred1)*100\n",
    "score2 = metrics.r2_score(y_test,y_pred2)*100\n",
    "score3 = metrics.r2_score(y_test,y_pred3)*100\n",
    "score4 = metrics.r2_score(y_test,y_pred4)*100\n"
   ]
  },
  {
   "cell_type": "code",
   "execution_count": 42,
   "id": "825a548e",
   "metadata": {
    "execution": {
     "iopub.execute_input": "2023-11-06T07:10:01.885168Z",
     "iopub.status.busy": "2023-11-06T07:10:01.884352Z",
     "iopub.status.idle": "2023-11-06T07:10:01.890431Z",
     "shell.execute_reply": "2023-11-06T07:10:01.889198Z"
    },
    "papermill": {
     "duration": 0.02956,
     "end_time": "2023-11-06T07:10:01.892808",
     "exception": false,
     "start_time": "2023-11-06T07:10:01.863248",
     "status": "completed"
    },
    "tags": []
   },
   "outputs": [
    {
     "name": "stdout",
     "output_type": "stream",
     "text": [
      "67.90884983129405 74.00022095984087 89.781436643737 88.64839405756888\n"
     ]
    }
   ],
   "source": [
    "print(score1,score2,score3,score4)"
   ]
  },
  {
   "cell_type": "code",
   "execution_count": 43,
   "id": "74b03763",
   "metadata": {
    "execution": {
     "iopub.execute_input": "2023-11-06T07:10:01.934078Z",
     "iopub.status.busy": "2023-11-06T07:10:01.933686Z",
     "iopub.status.idle": "2023-11-06T07:10:01.938713Z",
     "shell.execute_reply": "2023-11-06T07:10:01.937910Z"
    },
    "papermill": {
     "duration": 0.028417,
     "end_time": "2023-11-06T07:10:01.940868",
     "exception": false,
     "start_time": "2023-11-06T07:10:01.912451",
     "status": "completed"
    },
    "tags": []
   },
   "outputs": [],
   "source": [
    "final_data = pd.DataFrame({'Models': ['LR','RF','GBR','XG'],\"R2_SCORE\":[score1,score2,score3,score4]})"
   ]
  },
  {
   "cell_type": "code",
   "execution_count": 44,
   "id": "02ba7e53",
   "metadata": {
    "execution": {
     "iopub.execute_input": "2023-11-06T07:10:01.983971Z",
     "iopub.status.busy": "2023-11-06T07:10:01.983583Z",
     "iopub.status.idle": "2023-11-06T07:10:01.992550Z",
     "shell.execute_reply": "2023-11-06T07:10:01.991785Z"
    },
    "papermill": {
     "duration": 0.032438,
     "end_time": "2023-11-06T07:10:01.994562",
     "exception": false,
     "start_time": "2023-11-06T07:10:01.962124",
     "status": "completed"
    },
    "tags": []
   },
   "outputs": [
    {
     "data": {
      "text/html": [
       "<div>\n",
       "<style scoped>\n",
       "    .dataframe tbody tr th:only-of-type {\n",
       "        vertical-align: middle;\n",
       "    }\n",
       "\n",
       "    .dataframe tbody tr th {\n",
       "        vertical-align: top;\n",
       "    }\n",
       "\n",
       "    .dataframe thead th {\n",
       "        text-align: right;\n",
       "    }\n",
       "</style>\n",
       "<table border=\"1\" class=\"dataframe\">\n",
       "  <thead>\n",
       "    <tr style=\"text-align: right;\">\n",
       "      <th></th>\n",
       "      <th>Models</th>\n",
       "      <th>R2_SCORE</th>\n",
       "    </tr>\n",
       "  </thead>\n",
       "  <tbody>\n",
       "    <tr>\n",
       "      <th>0</th>\n",
       "      <td>LR</td>\n",
       "      <td>67.908850</td>\n",
       "    </tr>\n",
       "    <tr>\n",
       "      <th>1</th>\n",
       "      <td>RF</td>\n",
       "      <td>74.000221</td>\n",
       "    </tr>\n",
       "    <tr>\n",
       "      <th>2</th>\n",
       "      <td>GBR</td>\n",
       "      <td>89.781437</td>\n",
       "    </tr>\n",
       "    <tr>\n",
       "      <th>3</th>\n",
       "      <td>XG</td>\n",
       "      <td>88.648394</td>\n",
       "    </tr>\n",
       "  </tbody>\n",
       "</table>\n",
       "</div>"
      ],
      "text/plain": [
       "  Models   R2_SCORE\n",
       "0     LR  67.908850\n",
       "1     RF  74.000221\n",
       "2    GBR  89.781437\n",
       "3     XG  88.648394"
      ]
     },
     "execution_count": 44,
     "metadata": {},
     "output_type": "execute_result"
    }
   ],
   "source": [
    "final_data"
   ]
  },
  {
   "cell_type": "code",
   "execution_count": 45,
   "id": "1dc5e02b",
   "metadata": {
    "execution": {
     "iopub.execute_input": "2023-11-06T07:10:02.036728Z",
     "iopub.status.busy": "2023-11-06T07:10:02.036078Z",
     "iopub.status.idle": "2023-11-06T07:10:02.251470Z",
     "shell.execute_reply": "2023-11-06T07:10:02.250273Z"
    },
    "papermill": {
     "duration": 0.239343,
     "end_time": "2023-11-06T07:10:02.253939",
     "exception": false,
     "start_time": "2023-11-06T07:10:02.014596",
     "status": "completed"
    },
    "tags": []
   },
   "outputs": [
    {
     "data": {
      "text/plain": [
       "<Axes: xlabel='Models', ylabel='R2_SCORE'>"
      ]
     },
     "execution_count": 45,
     "metadata": {},
     "output_type": "execute_result"
    },
    {
     "data": {
      "image/png": "[encoded data removed]",
      "text/plain": [
       "<Figure size 640x480 with 1 Axes>"
      ]
     },
     "metadata": {},
     "output_type": "display_data"
    }
   ],
   "source": [
    "import seaborn as sns\n",
    "sns.barplot(x=final_data['Models'],y=final_data['R2_SCORE'])"
   ]
  },
  {
   "cell_type": "markdown",
   "id": "249d1e02",
   "metadata": {
    "papermill": {
     "duration": 0.022402,
     "end_time": "2023-11-06T07:10:02.297009",
     "exception": false,
     "start_time": "2023-11-06T07:10:02.274607",
     "status": "completed"
    },
    "tags": []
   },
   "source": []
  },
  {
   "cell_type": "markdown",
   "id": "fb2f8319",
   "metadata": {
    "papermill": {
     "duration": 0.019908,
     "end_time": "2023-11-06T07:10:02.338196",
     "exception": false,
     "start_time": "2023-11-06T07:10:02.318288",
     "status": "completed"
    },
    "tags": []
   },
   "source": [
    "14. save the model"
   ]
  },
  {
   "cell_type": "code",
   "execution_count": 46,
   "id": "536dddc2",
   "metadata": {
    "execution": {
     "iopub.execute_input": "2023-11-06T07:10:02.381275Z",
     "iopub.status.busy": "2023-11-06T07:10:02.380118Z",
     "iopub.status.idle": "2023-11-06T07:10:02.462904Z",
     "shell.execute_reply": "2023-11-06T07:10:02.462032Z"
    },
    "papermill": {
     "duration": 0.107201,
     "end_time": "2023-11-06T07:10:02.465369",
     "exception": false,
     "start_time": "2023-11-06T07:10:02.358168",
     "status": "completed"
    },
    "tags": []
   },
   "outputs": [],
   "source": [
    "xg = XGBRegressor()\n",
    "xg_final = xg.fit(x,y)"
   ]
  },
  {
   "cell_type": "code",
   "execution_count": 47,
   "id": "d143f01b",
   "metadata": {
    "execution": {
     "iopub.execute_input": "2023-11-06T07:10:02.508226Z",
     "iopub.status.busy": "2023-11-06T07:10:02.507185Z",
     "iopub.status.idle": "2023-11-06T07:10:02.511976Z",
     "shell.execute_reply": "2023-11-06T07:10:02.511225Z"
    },
    "papermill": {
     "duration": 0.028295,
     "end_time": "2023-11-06T07:10:02.514176",
     "exception": false,
     "start_time": "2023-11-06T07:10:02.485881",
     "status": "completed"
    },
    "tags": []
   },
   "outputs": [],
   "source": [
    "import joblib"
   ]
  },
  {
   "cell_type": "code",
   "execution_count": 48,
   "id": "5fd57e91",
   "metadata": {
    "execution": {
     "iopub.execute_input": "2023-11-06T07:10:02.556999Z",
     "iopub.status.busy": "2023-11-06T07:10:02.556602Z",
     "iopub.status.idle": "2023-11-06T07:10:02.571314Z",
     "shell.execute_reply": "2023-11-06T07:10:02.570324Z"
    },
    "papermill": {
     "duration": 0.03902,
     "end_time": "2023-11-06T07:10:02.573539",
     "exception": false,
     "start_time": "2023-11-06T07:10:02.534519",
     "status": "completed"
    },
    "tags": []
   },
   "outputs": [
    {
     "data": {
      "text/plain": [
       "['car_price_predictor']"
      ]
     },
     "execution_count": 48,
     "metadata": {},
     "output_type": "execute_result"
    }
   ],
   "source": [
    "joblib.dump(xg_final,'car_price_predictor')"
   ]
  },
  {
   "cell_type": "code",
   "execution_count": 49,
   "id": "748ddb46",
   "metadata": {
    "execution": {
     "iopub.execute_input": "2023-11-06T07:10:02.616891Z",
     "iopub.status.busy": "2023-11-06T07:10:02.616159Z",
     "iopub.status.idle": "2023-11-06T07:10:02.627999Z",
     "shell.execute_reply": "2023-11-06T07:10:02.627097Z"
    },
    "papermill": {
     "duration": 0.03627,
     "end_time": "2023-11-06T07:10:02.630459",
     "exception": false,
     "start_time": "2023-11-06T07:10:02.594189",
     "status": "completed"
    },
    "tags": []
   },
   "outputs": [],
   "source": [
    "model = joblib.load('car_price_predictor')"
   ]
  },
  {
   "cell_type": "markdown",
   "id": "feae20f8",
   "metadata": {
    "papermill": {
     "duration": 0.019874,
     "end_time": "2023-11-06T07:10:02.670551",
     "exception": false,
     "start_time": "2023-11-06T07:10:02.650677",
     "status": "completed"
    },
    "tags": []
   },
   "source": []
  },
  {
   "cell_type": "markdown",
   "id": "4f7e1d19",
   "metadata": {
    "papermill": {
     "duration": 0.020853,
     "end_time": "2023-11-06T07:10:02.712788",
     "exception": false,
     "start_time": "2023-11-06T07:10:02.691935",
     "status": "completed"
    },
    "tags": []
   },
   "source": [
    "15. predicat on new data"
   ]
  },
  {
   "cell_type": "code",
   "execution_count": 50,
   "id": "46045fd9",
   "metadata": {
    "execution": {
     "iopub.execute_input": "2023-11-06T07:10:02.759185Z",
     "iopub.status.busy": "2023-11-06T07:10:02.758457Z",
     "iopub.status.idle": "2023-11-06T07:10:02.764552Z",
     "shell.execute_reply": "2023-11-06T07:10:02.763660Z"
    },
    "papermill": {
     "duration": 0.033685,
     "end_time": "2023-11-06T07:10:02.766844",
     "exception": false,
     "start_time": "2023-11-06T07:10:02.733159",
     "status": "completed"
    },
    "tags": []
   },
   "outputs": [],
   "source": [
    "import pandas as pd\n",
    "\n",
    "data_new = pd.DataFrame({\n",
    "    'Present_Price':5.59,\n",
    "    'Kms_Driven':27000,\n",
    "    'Fuel_Type':0,\n",
    "    'Seller_Type':0,\n",
    "    'Transmission':0,\n",
    "    'Owner':0,\n",
    "    'Age':8\n",
    "},index=[0])"
   ]
  },
  {
   "cell_type": "code",
   "execution_count": 51,
   "id": "1bdd3466",
   "metadata": {
    "execution": {
     "iopub.execute_input": "2023-11-06T07:10:02.809908Z",
     "iopub.status.busy": "2023-11-06T07:10:02.809273Z",
     "iopub.status.idle": "2023-11-06T07:10:02.826804Z",
     "shell.execute_reply": "2023-11-06T07:10:02.824938Z"
    },
    "papermill": {
     "duration": 0.042505,
     "end_time": "2023-11-06T07:10:02.830244",
     "exception": false,
     "start_time": "2023-11-06T07:10:02.787739",
     "status": "completed"
    },
    "tags": []
   },
   "outputs": [
    {
     "data": {
      "text/plain": [
       "array([3.7360353], dtype=float32)"
      ]
     },
     "execution_count": 51,
     "metadata": {},
     "output_type": "execute_result"
    }
   ],
   "source": [
    "model.predict(data_new)"
   ]
  },
  {
   "cell_type": "code",
   "execution_count": null,
   "id": "7f51873a",
   "metadata": {
    "papermill": {
     "duration": 0.020958,
     "end_time": "2023-11-06T07:10:02.873540",
     "exception": false,
     "start_time": "2023-11-06T07:10:02.852582",
     "status": "completed"
    },
    "tags": []
   },
   "outputs": [],
   "source": []
  }
 ],
 "metadata": {
  "kernelspec": {
   "display_name": "Python 3",
   "language": "python",
   "name": "python3"
  },
  "language_info": {
   "codemirror_mode": {
    "name": "ipython",
    "version": 3
   },
   "file_extension": ".py",
   "mimetype": "text/x-python",
   "name": "python",
   "nbconvert_exporter": "python",
   "pygments_lexer": "ipython3",
   "version": "3.10.12"
  },
  "papermill": {
   "default_parameters": {},
   "duration": 11.574988,
   "end_time": "2023-11-06T07:10:03.515521",
   "environment_variables": {},
   "exception": null,
   "input_path": "__notebook__.ipynb",
   "output_path": "__notebook__.ipynb",
   "parameters": {},
   "start_time": "2023-11-06T07:09:51.940533",
   "version": "2.4.0"
  }
 },
 "nbformat": 4,
 "nbformat_minor": 5
}
