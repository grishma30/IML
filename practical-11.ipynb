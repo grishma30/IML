{
 "cells": [
  {
   "cell_type": "code",
   "execution_count": 1,
   "id": "b97cec83",
   "metadata": {
    "execution": {
     "iopub.execute_input": "2023-11-08T06:09:27.953354Z",
     "iopub.status.busy": "2023-11-08T06:09:27.952925Z",
     "iopub.status.idle": "2023-11-08T06:09:28.404842Z",
     "shell.execute_reply": "2023-11-08T06:09:28.403870Z"
    },
    "papermill": {
     "duration": 0.459069,
     "end_time": "2023-11-08T06:09:28.407815",
     "exception": false,
     "start_time": "2023-11-08T06:09:27.948746",
     "status": "completed"
    },
    "tags": []
   },
   "outputs": [
    {
     "name": "stdout",
     "output_type": "stream",
     "text": [
      "\\Total Rows are :  418\n",
      "\n",
      "Columns with NaN values:\n",
      "Index(['Age', 'Fare', 'Cabin'], dtype='object')\n",
      "\n",
      "DataFrame after dropping rows with NaN:87\n"
     ]
    }
   ],
   "source": [
    "#216270307051\n",
    "#grishma jethva m.\n",
    "\n",
    "\n",
    "import pandas as pd\n",
    "\n",
    "# Create a sample DataFrame with missing values (NaN)\n",
    "data=pd.read_csv('/kaggle/input/test-file/tested.csv')\n",
    "df = pd.DataFrame(data)\n",
    "\n",
    "df_filtered = df.dropna(axis=1, how='any')\n",
    "\n",
    "# Find rows and columns with NaN values\n",
    "rows_with_nan = df[df.isna().any(axis=1)]\n",
    "columns_with_nan = df.columns[df.isna().any()]\n",
    "\n",
    "print(\"\\Total Rows are : \",len(df_filtered))\n",
    "\n",
    "print(\"\\nColumns with NaN values:\")\n",
    "print(columns_with_nan)\n",
    "\n",
    "df_no_na_rows = df.dropna(axis=0, how='any')\n",
    "\n",
    "print(f\"\\nDataFrame after dropping rows with NaN:{len(df_no_na_rows)}\")\n"
   ]
  },
  {
   "cell_type": "code",
   "execution_count": null,
   "id": "49616309",
   "metadata": {
    "_cell_guid": "b1076dfc-b9ad-4769-8c92-a6c4dae69d19",
    "_uuid": "8f2839f25d086af736a60e9eeb907d3b93b6e0e5",
    "papermill": {
     "duration": 0.004006,
     "end_time": "2023-11-08T06:09:28.415624",
     "exception": false,
     "start_time": "2023-11-08T06:09:28.411618",
     "status": "completed"
    },
    "tags": []
   },
   "outputs": [],
   "source": []
  }
 ],
 "metadata": {
  "kernelspec": {
   "display_name": "Python 3",
   "language": "python",
   "name": "python3"
  },
  "language_info": {
   "codemirror_mode": {
    "name": "ipython",
    "version": 3
   },
   "file_extension": ".py",
   "mimetype": "text/x-python",
   "name": "python",
   "nbconvert_exporter": "python",
   "pygments_lexer": "ipython3",
   "version": "3.10.12"
  },
  "papermill": {
   "default_parameters": {},
   "duration": 4.150955,
   "end_time": "2023-11-08T06:09:28.943973",
   "environment_variables": {},
   "exception": null,
   "input_path": "__notebook__.ipynb",
   "output_path": "__notebook__.ipynb",
   "parameters": {},
   "start_time": "2023-11-08T06:09:24.793018",
   "version": "2.4.0"
  }
 },
 "nbformat": 4,
 "nbformat_minor": 5
}
