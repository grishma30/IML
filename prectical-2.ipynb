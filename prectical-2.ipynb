{
 "cells": [
  {
   "cell_type": "code",
   "execution_count": 1,
   "id": "eeab89c8",
   "metadata": {
    "_cell_guid": "b1076dfc-b9ad-4769-8c92-a6c4dae69d19",
    "_uuid": "8f2839f25d086af736a60e9eeb907d3b93b6e0e5",
    "execution": {
     "iopub.execute_input": "2023-09-05T09:42:52.766489Z",
     "iopub.status.busy": "2023-09-05T09:42:52.766062Z",
     "iopub.status.idle": "2023-09-05T09:42:52.782344Z",
     "shell.execute_reply": "2023-09-05T09:42:52.781183Z"
    },
    "papermill": {
     "duration": 0.024935,
     "end_time": "2023-09-05T09:42:52.785173",
     "exception": false,
     "start_time": "2023-09-05T09:42:52.760238",
     "status": "completed"
    },
    "tags": []
   },
   "outputs": [
    {
     "name": "stdout",
     "output_type": "stream",
     "text": [
      "Lis: [1, 2, 3, 4, 5]\n",
      "array: [1 2 3 4 5]\n"
     ]
    }
   ],
   "source": [
    "#Write a NumPy program to implement following operation\n",
    "#to convert a list of numeric values into a one-dimensional NumPy array\n",
    "#Grishma m. Jethva\n",
    "#216270307051\n",
    "\n",
    "import numpy as np \n",
    "a=[1,2,3,4,5] #create a list\n",
    "print(\"Lis:\",a)\n",
    "b=np.array(a)\n",
    "print(\"array:\",b)"
   ]
  },
  {
   "cell_type": "code",
   "execution_count": null,
   "id": "9bb9e41e",
   "metadata": {
    "papermill": {
     "duration": 0.003394,
     "end_time": "2023-09-05T09:42:52.792526",
     "exception": false,
     "start_time": "2023-09-05T09:42:52.789132",
     "status": "completed"
    },
    "tags": []
   },
   "outputs": [],
   "source": []
  }
 ],
 "kernelspec": {
  "display_name": "Python 3",
  "language": "python",
  "name": "python3"
 },
 "language_info": {
  "codemirror_mode": {
   "name": "ipython",
   "version": 3
  },
  "file_extension": ".py",
  "mimetype": "text/x-python",
  "name": "python",
  "nbconvert_exporter": "python",
  "pygments_lexer": "ipython3",
  "version": "3.6.4"
 },
 "metadata": {
  "kernelspec": {
   "display_name": "Python 3",
   "language": "python",
   "name": "python3"
  },
  "language_info": {
   "codemirror_mode": {
    "name": "ipython",
    "version": 3
   },
   "file_extension": ".py",
   "mimetype": "text/x-python",
   "name": "python",
   "nbconvert_exporter": "python",
   "pygments_lexer": "ipython3",
   "version": "3.10.12"
  },
  "papermill": {
   "default_parameters": {},
   "duration": 4.331067,
   "end_time": "2023-09-05T09:42:53.217778",
   "environment_variables": {},
   "exception": null,
   "input_path": "__notebook__.ipynb",
   "output_path": "__notebook__.ipynb",
   "parameters": {},
   "start_time": "2023-09-05T09:42:48.886711",
   "version": "2.4.0"
  }
 },
 "nbformat": 4,
 "nbformat_minor": 5
}
