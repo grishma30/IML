{
 "cells": [
  {
   "cell_type": "code",
   "execution_count": 1,
   "id": "bf89d190",
   "metadata": {
    "_cell_guid": "b1076dfc-b9ad-4769-8c92-a6c4dae69d19",
    "_uuid": "8f2839f25d086af736a60e9eeb907d3b93b6e0e5",
    "execution": {
     "iopub.execute_input": "2023-09-05T10:24:48.891690Z",
     "iopub.status.busy": "2023-09-05T10:24:48.891303Z",
     "iopub.status.idle": "2023-09-05T10:24:48.906676Z",
     "shell.execute_reply": "2023-09-05T10:24:48.905426Z"
    },
    "papermill": {
     "duration": 0.024217,
     "end_time": "2023-09-05T10:24:48.909027",
     "exception": false,
     "start_time": "2023-09-05T10:24:48.884810",
     "status": "completed"
    },
    "tags": []
   },
   "outputs": [
    {
     "name": "stdout",
     "output_type": "stream",
     "text": [
      "Lis: [1, 2, 3, 4, 5]\n",
      "array: [1 2 3 4 5]\n"
     ]
    }
   ],
   "source": [
    "#Write a NumPy program to implement following operation\n",
    "#to convert a list of numeric values into a one-dimensional NumPy array\n",
    "#Grishma m. Jethva\n",
    "#216270307051\n",
    "\n",
    "import numpy as np \n",
    "a=[1,2,3,4,5] #create a list\n",
    "print(\"Lis:\",a)\n",
    "b=np.array(a)\n",
    "print(\"array:\",b)"
   ]
  },
  {
   "cell_type": "code",
   "execution_count": null,
   "id": "d6add086",
   "metadata": {
    "papermill": {
     "duration": 0.003683,
     "end_time": "2023-09-05T10:24:48.917022",
     "exception": false,
     "start_time": "2023-09-05T10:24:48.913339",
     "status": "completed"
    },
    "tags": []
   },
   "outputs": [],
   "source": []
  },
  {
   "cell_type": "code",
   "execution_count": 2,
   "id": "12f923e4",
   "metadata": {
    "execution": {
     "iopub.execute_input": "2023-09-05T10:24:48.927026Z",
     "iopub.status.busy": "2023-09-05T10:24:48.926216Z",
     "iopub.status.idle": "2023-09-05T10:24:48.932453Z",
     "shell.execute_reply": "2023-09-05T10:24:48.931274Z"
    },
    "papermill": {
     "duration": 0.013868,
     "end_time": "2023-09-05T10:24:48.934678",
     "exception": false,
     "start_time": "2023-09-05T10:24:48.920810",
     "status": "completed"
    },
    "tags": []
   },
   "outputs": [
    {
     "name": "stdout",
     "output_type": "stream",
     "text": [
      "[[ 2  3  4]\n",
      " [ 5  6  7]\n",
      " [ 8  9 10]]\n"
     ]
    }
   ],
   "source": [
    "#to create a 3x3 matrix with values ranging from 2 to 10\n",
    "#Grishma m. Jethva\n",
    "#216270307051\n",
    "\n",
    "import numpy as np\n",
    "a= np.arange(2,11).reshape(3,3)\n",
    "\n",
    "print(a)"
   ]
  },
  {
   "cell_type": "code",
   "execution_count": null,
   "id": "31bad252",
   "metadata": {
    "papermill": {
     "duration": 0.003947,
     "end_time": "2023-09-05T10:24:48.942787",
     "exception": false,
     "start_time": "2023-09-05T10:24:48.938840",
     "status": "completed"
    },
    "tags": []
   },
   "outputs": [],
   "source": []
  }
 ],
 "kernelspec": {
  "display_name": "Python 3",
  "language": "python",
  "name": "python3"
 },
 "language_info": {
  "codemirror_mode": {
   "name": "ipython",
   "version": 3
  },
  "file_extension": ".py",
  "mimetype": "text/x-python",
  "name": "python",
  "nbconvert_exporter": "python",
  "pygments_lexer": "ipython3",
  "version": "3.6.4"
 },
 "metadata": {
  "kernelspec": {
   "display_name": "Python 3",
   "language": "python",
   "name": "python3"
  },
  "language_info": {
   "codemirror_mode": {
    "name": "ipython",
    "version": 3
   },
   "file_extension": ".py",
   "mimetype": "text/x-python",
   "name": "python",
   "nbconvert_exporter": "python",
   "pygments_lexer": "ipython3",
   "version": "3.10.12"
  },
  "papermill": {
   "default_parameters": {},
   "duration": 4.143907,
   "end_time": "2023-09-05T10:24:49.368238",
   "environment_variables": {},
   "exception": null,
   "input_path": "__notebook__.ipynb",
   "output_path": "__notebook__.ipynb",
   "parameters": {},
   "start_time": "2023-09-05T10:24:45.224331",
   "version": "2.4.0"
  }
 },
 "nbformat": 4,
 "nbformat_minor": 5
}
